{
 "cells": [
  {
   "cell_type": "code",
   "execution_count": null,
   "metadata": {},
   "outputs": [],
   "source": [
    "import pandas as pd\n",
    "import geopandas as gpd\n",
    "import numpy as np\n",
    "from shapely.geometry import Point\n",
    "from matplotlib import pyplot as plt\n",
    "import matplotlib.gridspec as gridspec\n",
    "from random import choice\n",
    "pd.options.mode.chained_assignment = None \n",
    "import pickle"
   ]
  },
  {
   "cell_type": "code",
   "execution_count": null,
   "metadata": {},
   "outputs": [],
   "source": [
    "import os, sys\n",
    "sys.path.append(os.path.join(os.path.expanduser('~'), 'Documents/Insert-Generic-Name-Here/'))\n",
    "# sys.path\n",
    "\n",
    "from lonelyboy.geospatial import plots as gsplt\n",
    "from lonelyboy.geospatial import preprocessing as gspp\n",
    "from lonelyboy.timeseries import lbtimeseries as tspp\n",
    "# from lonelyboy.geospatial import group_patterns as gsgp\n",
    "\n",
    "\n",
    "# from IPython.core.interactiveshell import InteractiveShell\n",
    "# InteractiveShell.ast_node_interactivity = \"all\"\n",
    "import PyQt5\n",
    "import matplotlib.pyplot as plt\n",
    "from matplotlib import style;  style.use('ggplot')\n",
    "get_ipython().magic('matplotlib qt')\n",
    "# get_ipython().magic('matplotlib inline')"
   ]
  },
  {
   "cell_type": "code",
   "execution_count": null,
   "metadata": {},
   "outputs": [],
   "source": [
    "PLT_FIG_WIDTH = 10.487\n",
    "PLT_FIG_HEIGHT = PLT_FIG_WIDTH / 1.618"
   ]
  },
  {
   "cell_type": "code",
   "execution_count": null,
   "metadata": {},
   "outputs": [],
   "source": [
    "ports = pd.read_pickle('./data/pkl/ports_raw.pkl')\n",
    "traj  = pd.read_csv('./data/csv/nari_dynamic_test.csv')\n",
    "# traj  = pd.read_csv('./data/csv/nari_dynamic.csv')\n",
    "\n",
    "traj  = gspp.gdf_from_df(traj, crs={'init':'epsg:4326'})\n",
    "ports = gspp.create_port_bounds(ports, epsg=2154, port_radius=2000)"
   ]
  },
  {
   "cell_type": "code",
   "execution_count": null,
   "metadata": {},
   "outputs": [],
   "source": [
    "gsplt.map_plot(traj, color=['steelblue'], title='Testing Trajectories', fontsize=10)"
   ]
  },
  {
   "cell_type": "markdown",
   "metadata": {},
   "source": [
    "## Section 2: Distribution over Port Popularity"
   ]
  },
  {
   "cell_type": "code",
   "execution_count": null,
   "metadata": {},
   "outputs": [],
   "source": [
    "port_popularity = pd.DataFrame([], columns=['port_id', '#arrivals_departures'])"
   ]
  },
  {
   "cell_type": "code",
   "execution_count": null,
   "metadata": {},
   "outputs": [],
   "source": [
    "%%time\n",
    "sindex = traj.sindex\n",
    "\n",
    "port_popularity = pd.DataFrame([], columns=['port_id', '#arrivals_departures'])\n",
    "# find the points that intersect with each subpolygon and add them to points_within_geometry\n",
    "for (port_id, poly) in zip(ports.gid, ports.geom):\n",
    "    # find approximate matches with r-tree, then precise matches from those approximate ones\n",
    "    possible_matches_index = list(sindex.intersection(poly.bounds))\n",
    "    possible_matches = traj.iloc[possible_matches_index]\n",
    "    precise_matches  = possible_matches[possible_matches.intersects(poly)]\n",
    "    port_popularity  = port_popularity.append(pd.DataFrame([[port_id, len(precise_matches)]], columns=['port_id', '#arrivals_departures']))\n",
    "    \n",
    "port_popularity.reset_index(inplace=True, drop=True)"
   ]
  },
  {
   "cell_type": "markdown",
   "metadata": {},
   "source": [
    "* ### Reading CSVs"
   ]
  },
  {
   "cell_type": "code",
   "execution_count": null,
   "metadata": {},
   "outputs": [],
   "source": [
    "data_folder = './data/csv/stats/port_popularity_report'\n",
    "for cnt, file in enumerate(os.listdir(data_folder)):\n",
    "    tmp = pd.read_csv(os.path.join(data_folder, file))\n",
    "    if cnt==0:\n",
    "        port_popularity = tmp\n",
    "    else: \n",
    "        port_popularity['#arrivals_departures'] = port_popularity['#arrivals_departures'] + tmp['#arrivals_departures']"
   ]
  },
  {
   "cell_type": "code",
   "execution_count": null,
   "metadata": {},
   "outputs": [],
   "source": [
    "port_popularity.to_csv('./data/csv/stats/port_popularity_report.csv', index=False, header=True)"
   ]
  },
  {
   "cell_type": "code",
   "execution_count": null,
   "metadata": {},
   "outputs": [],
   "source": [
    "port_popularity = pd.read_csv('./data/csv/stats/port_popularity_report.csv')"
   ]
  },
  {
   "cell_type": "code",
   "execution_count": null,
   "metadata": {},
   "outputs": [],
   "source": [
    "port_popularity_merged = pd.merge(ports, port_popularity, how='inner', left_on='gid', right_on='port_id')\n",
    "port_popularity_merged.head()"
   ]
  },
  {
   "cell_type": "code",
   "execution_count": null,
   "metadata": {},
   "outputs": [],
   "source": [
    "port_popularity_merged.sort_values(['#arrivals_departures'], ascending=False)"
   ]
  },
  {
   "cell_type": "code",
   "execution_count": null,
   "metadata": {},
   "outputs": [],
   "source": [
    "import matplotlib\n",
    "from sklearn.preprocessing import MinMaxScaler\n",
    "\n",
    "# scaler = MinMaxScaler(feature_range=(0,1))\n",
    "# port_popularity_merged['cmap'] = scaler.fit_transform(port_popularity.values[:,1].reshape(-1,1))\n",
    "\n",
    "port_popularity_merged['cmap'] = port_popularity_merged['#arrivals_departures'].apply(np.log10).replace(-np.inf, 0)\n",
    "gsplt.map_plot(port_popularity_merged, figsize=(PLT_FIG_WIDTH, PLT_FIG_HEIGHT), column='cmap', color=[None], cmap='viridis', title='Port Popularity', fontsize=10, legend=True)\n",
    "plt.axis('off')\n",
    "plt.show()\n",
    "# gsplt.map_plot(port_popularity_merged, column='#arrivals_departures', color=[None], cmap='viridis', title='Port Popularity', fontsize=10, legend=True)"
   ]
  },
  {
   "cell_type": "markdown",
   "metadata": {},
   "source": [
    "## Section 3: Distribution of AIS Activity\n",
    "  * ### Outside Port"
   ]
  },
  {
   "cell_type": "code",
   "execution_count": null,
   "metadata": {},
   "outputs": [],
   "source": [
    "def vessel_ais_activity(vessel, ports, port_epsg=2154, port_radius=2000, temporal_threshold=12):                                               \n",
    "    port_bounds = gspp.create_port_bounds(ports, epsg=port_epsg, port_radius=port_radius)\n",
    "    port_segmented_trajectories = gspp.segment_trajectories_v2(vessel, port_bounds)\n",
    "    temporal_segmented_trajectories = gspp.__temporal_segment(port_segmented_trajectories, temporal_threshold=temporal_threshold)\n",
    "    vessel_fn = pd.concat(temporal_segmented_trajectories, ignore_index=True)\n",
    "    vessel_fn.sort_values('ts', inplace=True)\n",
    "    vessel_fn.drop(['index'], axis=1, inplace=True)\n",
    "    return vessel_fn"
   ]
  },
  {
   "cell_type": "code",
   "execution_count": null,
   "metadata": {},
   "outputs": [],
   "source": [
    "traj_seg = traj.groupby('mmsi', group_keys=False).apply(vessel_ais_activity, ports)\n",
    "traj_seg.sort_values('ts', inplace=True)"
   ]
  },
  {
   "cell_type": "code",
   "execution_count": null,
   "metadata": {},
   "outputs": [],
   "source": [
    "gsplt.map_plot(traj_seg, color=[None], column='traj_id', cmap='tab20',  title='Testing Trajectories Segments', fontsize=10, legend=True)"
   ]
  },
  {
   "cell_type": "code",
   "execution_count": null,
   "metadata": {
    "scrolled": true
   },
   "outputs": [],
   "source": [
    "ais_activity_outside_port = traj_seg.groupby(['mmsi', 'traj_id_12h_gap', pd.to_datetime(traj_seg.ts, unit='s').dt.date], group_keys=False).apply(lambda df: df.ts.diff().sum()/3600).to_frame().reset_index()\n",
    "ais_activity_outside_port.columns = ['mmsi', 'traj_id_temporal_gap','date', '#hrs']\n",
    "ais_activity_outside_port = ais_activity_outside_port.groupby(['mmsi', 'date'], group_keys=False).apply(lambda df: df['#hrs'].sum()).to_frame().reset_index()\n",
    "ais_activity_outside_port.columns = ['mmsi', 'date', '#hrs']\n",
    "ais_activity_outside_port"
   ]
  },
  {
   "cell_type": "markdown",
   "metadata": {},
   "source": [
    "  * ### Within Port"
   ]
  },
  {
   "cell_type": "code",
   "execution_count": null,
   "metadata": {},
   "outputs": [],
   "source": [
    "ais_activity_within_port = pd.DataFrame([], columns=['mmsi', 'date', '#hrs'])\n",
    "\n",
    "for groupby_cols, mmsi_traj in traj_seg.groupby(['mmsi', pd.to_datetime(traj_seg.ts, unit='s').dt.date]):\n",
    "    breaking_points = mmsi_traj.loc[mmsi_traj.traj_id.diff() == 1].index.tolist()\n",
    "#     print ('Vessel: ', groupby_cols[0])\n",
    "#     print ('Breaking Points:\\n', breaking_points)\n",
    "    if (len(breaking_points) == 0):\n",
    "        ais_activity_within_port = ais_activity_within_port.append(pd.DataFrame([[groupby_cols[0], groupby_cols[1], 0]], columns=['mmsi', 'date', '#hrs']))\n",
    "        continue\n",
    "        \n",
    "    hrs = np.around(np.sum([mmsi_traj.loc[bp-1:bp,:].ts.diff().values[1] for bp in breaking_points])/3600, 3)\n",
    "    ais_activity_within_port = ais_activity_within_port.append(pd.DataFrame([[groupby_cols[0], groupby_cols[1], hrs]], columns=['mmsi', 'date', '#hrs']))\n",
    "\n",
    "ais_activity_within_port.reset_index(drop=True, inplace=True)"
   ]
  },
  {
   "cell_type": "code",
   "execution_count": null,
   "metadata": {
    "scrolled": true
   },
   "outputs": [],
   "source": [
    "ais_activity_within_port"
   ]
  },
  {
   "cell_type": "code",
   "execution_count": null,
   "metadata": {},
   "outputs": [],
   "source": []
  },
  {
   "cell_type": "markdown",
   "metadata": {},
   "source": [
    "# To Use on the Script"
   ]
  },
  {
   "cell_type": "code",
   "execution_count": null,
   "metadata": {
    "scrolled": true
   },
   "outputs": [],
   "source": [
    "for mmsi, ves_traj in traj.groupby('mmsi', group_keys=False):\n",
    "    ves_traj = vessel_activity_outside_port(ves_traj, ports)\n",
    "    ais_activity_outside_port = ves_traj.groupby(['mmsi', 'traj_id_12h_gap', pd.to_datetime(ves_traj.ts, unit='s').dt.date], group_keys=False).apply(lambda df: df.ts.diff().sum()/3600).to_frame().reset_index()\n",
    "    ais_activity_outside_port.columns = ['mmsi', 'traj_id_temporal_gap','date', '#hrs']\n",
    "    print(ais_activity_outside_port.head())"
   ]
  },
  {
   "cell_type": "code",
   "execution_count": null,
   "metadata": {
    "scrolled": true
   },
   "outputs": [],
   "source": [
    "# tmp = points_within_geometry.groupby(['mmsi', pd.to_datetime(points_within_geometry.ts, unit='s').dt.date], group_keys=False).apply(lambda df: df.ts.diff().sum()/3600).to_frame().reset_index()\n",
    "# tmp.columns = ['mmsi', 'date', '#hrs']\n",
    "# tmp\n",
    "\n",
    "# gsplt.map_plot(points_within_geometry, points_outside_geometry, color=['r','steelblue'], title='Points Outside/Inside Port Radius', fontsize=10)"
   ]
  },
  {
   "cell_type": "markdown",
   "metadata": {},
   "source": [
    "## Read CSVs And Make Plots"
   ]
  },
  {
   "cell_type": "code",
   "execution_count": null,
   "metadata": {},
   "outputs": [],
   "source": [
    "data_folder = './data/csv/stats/nari_dynamic_ais_activity_report/'\n",
    "\n",
    "nari_dynamic_ais_activity_report_outside_port = []\n",
    "nari_dynamic_ais_activity_report_within_port = []\n",
    "\n",
    "for cnt, file in enumerate(os.listdir(data_folder)):\n",
    "    tmp = pd.read_csv(os.path.join(data_folder, file))\n",
    "    if 'outside' in file: \n",
    "        print (f'\\'outside\\' in: {file}')\n",
    "        nari_dynamic_ais_activity_report_outside_port.append(tmp)\n",
    "    elif 'within' in file: \n",
    "        print (f'\\'within\\' in: {file}')\n",
    "        nari_dynamic_ais_activity_report_within_port.append(tmp)\n",
    "        \n",
    "nari_dynamic_ais_activity_report_outside_port = pd.concat(nari_dynamic_ais_activity_report_outside_port, ignore_index=True)\n",
    "nari_dynamic_ais_activity_report_within_port = pd.concat(nari_dynamic_ais_activity_report_within_port, ignore_index=True)\n",
    "\n",
    "nari_dynamic_ais_activity_report_outside_port.sort_values(['date'], inplace=True)\n",
    "nari_dynamic_ais_activity_report_within_port.sort_values(['date'], inplace=True)\n",
    "\n",
    "nari_dynamic_ais_activity_report_outside_port.reset_index(drop=True, inplace=True)\n",
    "nari_dynamic_ais_activity_report_within_port.reset_index(drop=True, inplace=True)"
   ]
  },
  {
   "cell_type": "code",
   "execution_count": null,
   "metadata": {},
   "outputs": [],
   "source": [
    "nari_dynamic_ais_activity_report_outside_port.to_csv('./data/csv/stats/nari_dynamic_ais_activity_report_outside_port.csv', index=False, header=True)\n",
    "nari_dynamic_ais_activity_report_within_port.to_csv('./data/csv/stats/nari_dynamic_ais_activity_report_within_port.csv', index=False, header=True)"
   ]
  },
  {
   "cell_type": "code",
   "execution_count": null,
   "metadata": {
    "scrolled": true
   },
   "outputs": [],
   "source": [
    "tmp = nari_dynamic_ais_activity_report_outside_port.merge(nari_dynamic_ais_activity_report_within_port, how='outer', left_on=['mmsi','date'], right_on = ['mmsi','date'], suffixes=('_outside_port', '_within_port'))\n",
    "tmp.to_csv('./data/csv/stats/nari_dynamic_ais_activity_report.csv', index=False, header=True)"
   ]
  },
  {
   "cell_type": "markdown",
   "metadata": {},
   "source": []
  },
  {
   "cell_type": "code",
   "execution_count": null,
   "metadata": {},
   "outputs": [],
   "source": [
    "tmp = pd.read_csv('./data/csv/stats/nari_dynamic_ais_activity_report.csv')"
   ]
  },
  {
   "cell_type": "code",
   "execution_count": null,
   "metadata": {},
   "outputs": [],
   "source": [
    "tmp.head()"
   ]
  },
  {
   "cell_type": "markdown",
   "metadata": {},
   "source": []
  },
  {
   "cell_type": "code",
   "execution_count": null,
   "metadata": {
    "scrolled": true
   },
   "outputs": [],
   "source": [
    "ais_activity_by_date = tmp.groupby([pd.to_datetime(tmp.date).dt.to_period('D')]).apply(lambda df: pd.DataFrame([[df['#hrs_outside_port'].sum(), df['#hrs_within_port'].sum()]])).reset_index().drop(['level_1'], axis=1)\n",
    "ais_activity_by_date.columns = ['date', '#Hours Outside Port', '#Hours Within Port']\n",
    "ais_activity_by_date.head()"
   ]
  },
  {
   "cell_type": "code",
   "execution_count": null,
   "metadata": {},
   "outputs": [],
   "source": [
    "ais_activity_by_date.plot.bar(cmap='tab20', x='date', figsize=(PLT_FIG_WIDTH, PLT_FIG_HEIGHT), width=0.95, rot=0)\n",
    "plt.show()"
   ]
  },
  {
   "cell_type": "markdown",
   "metadata": {},
   "source": []
  },
  {
   "cell_type": "code",
   "execution_count": null,
   "metadata": {
    "scrolled": true
   },
   "outputs": [],
   "source": [
    "avg_ais_activity_by_date = tmp.groupby([tmp.date]).apply(lambda df: pd.DataFrame([[df['#hrs_outside_port'].mean(), df['#hrs_within_port'].mean()]])).reset_index().drop(['level_1'], axis=1)\n",
    "avg_ais_activity_by_date.columns = ['date', 'Avg. #Hours Outside Port', 'Avg. #Hours Within Port']\n",
    "avg_ais_activity_by_date.head()"
   ]
  },
  {
   "cell_type": "code",
   "execution_count": null,
   "metadata": {
    "scrolled": true
   },
   "outputs": [],
   "source": [
    "ais_activity_by_mmsi = tmp.groupby(['mmsi', pd.to_datetime(tmp.date).dt.to_period('D')]).apply(lambda df: pd.DataFrame([[df['#hrs_outside_port'].sum(), df['#hrs_within_port'].sum(), 24-df['#hrs_outside_port'].sum()+df['#hrs_within_port'].sum()]])).reset_index().drop(['level_2'], axis=1)\n",
    "ais_activity_by_mmsi = ais_activity_by_mmsi.groupby(['mmsi']).apply(lambda df: pd.DataFrame([[df[0].sum(), df[1].sum(), df[2].sum()]])).reset_index().drop(['level_1'], axis=1)\n",
    "ais_activity_by_mmsi.columns = ['mmsi', '#Hours Outside Port', '#Hours Within Port', '#Hours AIS Device OFF']\n",
    "ais_activity_by_mmsi"
   ]
  },
  {
   "cell_type": "code",
   "execution_count": null,
   "metadata": {},
   "outputs": [],
   "source": [
    "df = pd.DataFrame({'#Hours': ais_activity_by_mmsi.iloc[:, 1:].sum().values}, \n",
    "             index=['Outside Port', 'Within Port', 'AIS Device OFF'])\n",
    "\n",
    "explode = (0.1, 0, 0)  \n",
    "ax = df.plot.pie(y='#Hours', \n",
    "                   figsize=(PLT_FIG_WIDTH, PLT_FIG_HEIGHT), \n",
    "                   explode=explode,\n",
    "                   startangle=90,\n",
    "                   autopct='%1.1f%%', \n",
    "                   pctdistance=0.84,\n",
    "                   cmap='tab20c',\n",
    "                   legend=False)\n",
    "ax.axis('equal')\n",
    "\n",
    "for text in ax.texts:\n",
    "    text.set_fontsize(15)\n",
    "    if ' ' in text.get_text():\n",
    "        text.set_color('grey')\n",
    "\n",
    "plt.ylabel('')"
   ]
  },
  {
   "cell_type": "code",
   "execution_count": null,
   "metadata": {},
   "outputs": [],
   "source": [
    "avg_ais_activity_by_vessel = tmp.groupby(['mmsi']).apply(lambda df: pd.DataFrame([[df['#hrs_outside_port'].mean(), df['#hrs_within_port'].mean()]])).reset_index().drop(['level_1'], axis=1)\n",
    "avg_ais_activity_by_vessel.columns = ['mmsi', '#Hours Outside Port', '#Hours Within Port'] \n",
    "avg_ais_activity_by_vessel.plot.bar(cmap='tab20', figsize=(PLT_FIG_WIDTH, PLT_FIG_HEIGHT), width=0.95, rot=0)"
   ]
  },
  {
   "cell_type": "code",
   "execution_count": null,
   "metadata": {},
   "outputs": [],
   "source": [
    "cumulative_ais_activity_by_week = tmp.groupby([pd.to_datetime(tmp.date).dt.to_period('W')]).apply(lambda df : pd.DataFrame([[df['#hrs_outside_port'].sum(), df['#hrs_within_port'].sum()]])).reset_index().drop(['level_1'], axis=1)\n",
    "cumulative_ais_activity_by_week.columns = ['week', '#Hours Outside Port', '#Hours Within Port'] \n",
    "cumulative_ais_activity_by_week.plot.bar(cmap='tab20', figsize=(PLT_FIG_WIDTH, PLT_FIG_HEIGHT), width=0.95, rot=0)"
   ]
  },
  {
   "cell_type": "code",
   "execution_count": null,
   "metadata": {},
   "outputs": [],
   "source": [
    "avg_ais_activity_by_week = tmp.groupby([pd.to_datetime(tmp.date).dt.to_period('W')]).apply(lambda df : pd.DataFrame([[df['#hrs_outside_port'].mean(), df['#hrs_within_port'].mean()]])).reset_index().drop(['level_1'], axis=1)\n",
    "avg_ais_activity_by_week.plot.bar(cmap='tab20', figsize=(PLT_FIG_WIDTH, PLT_FIG_HEIGHT), width=0.95, rot=0)"
   ]
  },
  {
   "cell_type": "code",
   "execution_count": null,
   "metadata": {},
   "outputs": [],
   "source": []
  }
 ],
 "metadata": {
  "kernelspec": {
   "display_name": "Python 3 (GIS)",
   "language": "python",
   "name": "gis"
  },
  "language_info": {
   "codemirror_mode": {
    "name": "ipython",
    "version": 3
   },
   "file_extension": ".py",
   "mimetype": "text/x-python",
   "name": "python",
   "nbconvert_exporter": "python",
   "pygments_lexer": "ipython3",
   "version": "3.7.2"
  }
 },
 "nbformat": 4,
 "nbformat_minor": 2
}
