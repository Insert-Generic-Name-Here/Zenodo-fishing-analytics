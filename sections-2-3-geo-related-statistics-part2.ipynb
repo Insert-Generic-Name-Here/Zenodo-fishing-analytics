{
 "cells": [
  {
   "cell_type": "code",
   "execution_count": null,
   "metadata": {},
   "outputs": [],
   "source": [
    "import pandas as pd\n",
    "import geopandas as gpd\n",
    "import numpy as np\n",
    "from shapely.geometry import Point\n",
    "from matplotlib import pyplot as plt\n",
    "import matplotlib.gridspec as gridspec\n",
    "from random import choice\n",
    "pd.options.mode.chained_assignment = None \n",
    "import pickle"
   ]
  },
  {
   "cell_type": "code",
   "execution_count": null,
   "metadata": {},
   "outputs": [],
   "source": [
    "import os, sys\n",
    "sys.path.append(os.path.join(os.path.expanduser('~'), 'Documents/Insert-Generic-Name-Here/'))\n",
    "# sys.path\n",
    "\n",
    "from lonelyboy.geospatial import plots as gsplt\n",
    "from lonelyboy.geospatial import preprocessing as gspp\n",
    "from lonelyboy.timeseries import lbtimeseries as tspp\n",
    "# from lonelyboy.geospatial import group_patterns as gsgp\n",
    "\n",
    "\n",
    "# from IPython.core.interactiveshell import InteractiveShell\n",
    "# InteractiveShell.ast_node_interactivity = \"all\"\n",
    "import PyQt5\n",
    "import matplotlib.pyplot as plt\n",
    "from matplotlib import style;  style.use('ggplot')\n",
    "get_ipython().magic('matplotlib qt')\n",
    "# get_ipython().magic('matplotlib inline')"
   ]
  },
  {
   "cell_type": "code",
   "execution_count": null,
   "metadata": {},
   "outputs": [],
   "source": [
    "PLT_FIG_WIDTH = 3.787\n",
    "PLT_FIG_HEIGHT = PLT_FIG_WIDTH / 1.618"
   ]
  },
  {
   "cell_type": "markdown",
   "metadata": {},
   "source": [
    "# Reading Data (Testing on Fisheries)"
   ]
  },
  {
   "cell_type": "code",
   "execution_count": null,
   "metadata": {},
   "outputs": [],
   "source": [
    "ports = pd.read_pickle('./data/pkl/ports_raw.pkl')\n",
    "fisheries = pd.read_csv('data/csv/fisheries_dynamic_real_points_v2.csv')\n",
    "\n",
    "fisheries = gspp.gdf_from_df(fisheries, crs={'init':'epsg:4326'})\n",
    "ports = gspp.create_port_bounds(ports, epsg=2154, port_radius=2000)"
   ]
  },
  {
   "cell_type": "code",
   "execution_count": null,
   "metadata": {},
   "outputs": [],
   "source": [
    "gsplt.map_plot(fisheries, color=['steelblue'], title='Testing Trajectories', fontsize=10)"
   ]
  },
  {
   "cell_type": "markdown",
   "metadata": {},
   "source": [
    "# [TESTING] Calculating AIS Activity "
   ]
  },
  {
   "cell_type": "code",
   "execution_count": null,
   "metadata": {},
   "outputs": [],
   "source": [
    "fisheries.drop(['index'], axis=1, inplace=True)"
   ]
  },
  {
   "cell_type": "code",
   "execution_count": null,
   "metadata": {},
   "outputs": [],
   "source": [
    "fisheries.head()"
   ]
  },
  {
   "cell_type": "markdown",
   "metadata": {},
   "source": [
    "* ## Outside Port"
   ]
  },
  {
   "cell_type": "code",
   "execution_count": null,
   "metadata": {
    "scrolled": true
   },
   "outputs": [],
   "source": [
    "ais_activity_outside_port = fisheries.groupby(['mmsi', pd.to_datetime(fisheries.ts, unit='s').dt.date, 'trip_id'], group_keys=False)\\\n",
    "                                        .apply(lambda df: df.ts.diff().sum()/3600).to_frame().reset_index()\n",
    "ais_activity_outside_port.columns = ['mmsi', 'date', 'trip_id', '#hrs']\n",
    "\n",
    "ais_activity_outside_port = ais_activity_outside_port.groupby(['mmsi', 'date'], group_keys=False).apply(lambda df: np.around(df['#hrs'].sum(), 3)).to_frame().reset_index()\n",
    "ais_activity_outside_port.columns = ['mmsi', 'date', '#hrs']\n",
    "\n",
    "ais_activity_outside_port"
   ]
  },
  {
   "cell_type": "markdown",
   "metadata": {},
   "source": [
    "* ## Within Port"
   ]
  },
  {
   "cell_type": "code",
   "execution_count": null,
   "metadata": {
    "scrolled": true
   },
   "outputs": [],
   "source": [
    "ais_activity_within_port = pd.DataFrame([], columns=['mmsi', '#hrs'])\n",
    "\n",
    "for (vesselId), df in fisheries.groupby(['mmsi']):\n",
    "    breaking_points = df.loc[df.traj_id.diff() == 1].index.tolist()\n",
    "    \n",
    "    if (len(breaking_points) == 0):\n",
    "        ais_activity_within_port = ais_activity_within_port.append(pd.DataFrame([[vesselId, 0]], columns=['mmsi', '#hrs']))\n",
    "        continue\n",
    "    \n",
    "    hrs = np.around(np.sum([df.loc[bp-1:bp,:].ts.diff().values[1] for bp in breaking_points])/3600, 3)\n",
    "    ais_activity_within_port = ais_activity_within_port.append(pd.DataFrame([[vesselId, hrs]], columns=['mmsi', '#hrs']))\n",
    "    \n",
    "ais_activity_within_port.reset_index(drop=True, inplace=True)\n",
    "ais_activity_within_port"
   ]
  },
  {
   "cell_type": "markdown",
   "metadata": {},
   "source": [
    "* ## Temporal Gap"
   ]
  },
  {
   "cell_type": "code",
   "execution_count": null,
   "metadata": {
    "scrolled": true
   },
   "outputs": [],
   "source": [
    "ais_activity_temporal_gap = pd.DataFrame([], columns=['mmsi', 'traj_id', '#hrs'])\n",
    "\n",
    "for (vesselId, trajId), df in fisheries.groupby(['mmsi', 'traj_id']):\n",
    "    breaking_points = df.loc[df.trip_id.diff() == 1].index.tolist()\n",
    "    \n",
    "    if (len(breaking_points) == 0):\n",
    "        ais_activity_temporal_gap = ais_activity_temporal_gap.append(pd.DataFrame([[vesselId, trajId, 0]], columns=['mmsi', 'traj_id', '#hrs']))\n",
    "        continue\n",
    "    \n",
    "    hrs = np.around(np.sum([df.loc[bp-1:bp,:].ts.diff().sum() for bp in breaking_points])/3600, 3)\n",
    "    ais_activity_temporal_gap = ais_activity_temporal_gap.append(pd.DataFrame([[vesselId, trajId, hrs]], columns=['mmsi', 'traj_id', '#hrs']))\n",
    "\n",
    "ais_activity_temporal_gap.reset_index(drop=True, inplace=True)\n",
    "ais_activity_temporal_gap = ais_activity_temporal_gap.groupby(['mmsi'], group_keys=False).apply(lambda df: np.around(df['#hrs'].sum(), 3)).to_frame().reset_index()\n",
    "ais_activity_temporal_gap.columns = ['mmsi', '#hrs']\n",
    "ais_activity_temporal_gap"
   ]
  },
  {
   "cell_type": "code",
   "execution_count": null,
   "metadata": {},
   "outputs": [],
   "source": []
  },
  {
   "cell_type": "markdown",
   "metadata": {},
   "source": [
    "# Reading and Joining CSVs"
   ]
  },
  {
   "cell_type": "code",
   "execution_count": null,
   "metadata": {},
   "outputs": [],
   "source": [
    "data_folder = './data/csv/stats/nari_dynamic_ais_activity_report_V2/'\n",
    "\n",
    "nari_dynamic_ais_activity_report_outside_port = []\n",
    "nari_dynamic_ais_activity_report_within_port = []\n",
    "nari_dynamic_ais_activity_report_temporal_gaps = []\n",
    "\n",
    "for cnt, file in enumerate(os.listdir(data_folder)):\n",
    "    tmp = pd.read_csv(os.path.join(data_folder, file))\n",
    "    if 'outside' in file: \n",
    "        print (f'\\'outside\\' in: {file}')\n",
    "        nari_dynamic_ais_activity_report_outside_port.append(tmp)\n",
    "    elif 'within' in file: \n",
    "        print (f'\\'within\\' in: {file}')\n",
    "        nari_dynamic_ais_activity_report_within_port.append(tmp)\n",
    "    elif 'temporal' in file: \n",
    "        print (f'\\'temporal\\' in: {file}')\n",
    "        nari_dynamic_ais_activity_report_temporal_gaps.append(tmp)\n",
    "        \n",
    "nari_dynamic_ais_activity_report_outside_port = pd.concat(nari_dynamic_ais_activity_report_outside_port, ignore_index=True)\n",
    "nari_dynamic_ais_activity_report_within_port = pd.concat(nari_dynamic_ais_activity_report_within_port, ignore_index=True)\n",
    "nari_dynamic_ais_activity_report_temporal_gaps = pd.concat(nari_dynamic_ais_activity_report_temporal_gaps, ignore_index=True)"
   ]
  },
  {
   "cell_type": "code",
   "execution_count": null,
   "metadata": {},
   "outputs": [],
   "source": [
    "nari_dynamic_ais_activity_report_outside_port.to_csv('./data/csv/stats/nari_dynamic_ais_activity_report_outside_port_v2.csv', index=False, header=True)\n",
    "nari_dynamic_ais_activity_report_within_port.to_csv('./data/csv/stats/nari_dynamic_ais_activity_report_within_port_v2.csv', index=False, header=True)\n",
    "nari_dynamic_ais_activity_report_temporal_gaps.to_csv('./data/csv/stats/nari_dynamic_ais_activity_report_temporal_gaps_v2.csv', index=False, header=True)"
   ]
  },
  {
   "cell_type": "markdown",
   "metadata": {},
   "source": [
    "# Making the Pie Chart"
   ]
  },
  {
   "cell_type": "code",
   "execution_count": null,
   "metadata": {},
   "outputs": [],
   "source": [
    "df = pd.DataFrame({'#Hours': [nari_dynamic_ais_activity_report_outside_port['#hrs'].sum(), nari_dynamic_ais_activity_report_within_port['#hrs'].sum(), nari_dynamic_ais_activity_report_temporal_gaps['#hrs'].sum()]},\n",
    "                 index=['Outside Port', 'Within Port', 'Unknown '])\n",
    "print (df)\n",
    "explode = (0.2, 0, 0)  \n",
    "ax = df.plot.pie(y='#Hours', \n",
    "                   figsize=(PLT_FIG_WIDTH, PLT_FIG_HEIGHT), \n",
    "                   explode=explode,\n",
    "                   startangle=0,\n",
    "                   autopct='%1.1f%%', \n",
    "                   pctdistance=0.80,\n",
    "                   cmap='tab20c',\n",
    "                   legend=False)\n",
    "ax.axis('equal')\n",
    "\n",
    "for text in ax.texts:\n",
    "    text.set_fontsize(8)\n",
    "    if ' ' in text.get_text():\n",
    "        text.set_color('grey')\n",
    "\n",
    "plt.ylabel('')\n",
    "plt.savefig('AIS_Activity_Pie_Chart_V2.pdf', dpi=300)"
   ]
  }
 ],
 "metadata": {
  "kernelspec": {
   "display_name": "Python 3 (GIS)",
   "language": "python",
   "name": "gis"
  },
  "language_info": {
   "codemirror_mode": {
    "name": "ipython",
    "version": 3
   },
   "file_extension": ".py",
   "mimetype": "text/x-python",
   "name": "python",
   "nbconvert_exporter": "python",
   "pygments_lexer": "ipython3",
   "version": "3.7.2"
  }
 },
 "nbformat": 4,
 "nbformat_minor": 2
}
