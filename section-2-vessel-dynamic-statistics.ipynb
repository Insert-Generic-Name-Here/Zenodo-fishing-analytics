{
 "cells": [
  {
   "cell_type": "code",
   "execution_count": 1,
   "metadata": {},
   "outputs": [],
   "source": [
    "import pandas as pd\n",
    "import geopandas as gpd\n",
    "import numpy as np\n",
    "from shapely.geometry import Point\n",
    "from matplotlib import pyplot as plt\n",
    "import matplotlib.gridspec as gridspec\n",
    "from random import choice\n",
    "pd.options.mode.chained_assignment = None \n",
    "import pickle"
   ]
  },
  {
   "cell_type": "code",
   "execution_count": 2,
   "metadata": {},
   "outputs": [],
   "source": [
    "import os, sys\n",
    "sys.path.append(os.path.join(os.path.expanduser('~'), 'Documents/Coding/Python/'))\n",
    "# sys.path\n",
    "\n",
    "from lonelyboy.geospatial import plots as gsplt\n",
    "from lonelyboy.geospatial import preprocessing as gspp\n",
    "from lonelyboy.timeseries import lbtimeseries as tspp\n",
    "# from lonelyboy.geospatial import group_patterns as gsgp\n",
    "\n",
    "\n",
    "# from IPython.core.interactiveshell import InteractiveShell\n",
    "# InteractiveShell.ast_node_interactivity = \"all\"\n",
    "import PyQt5\n",
    "import matplotlib.pyplot as plt\n",
    "from matplotlib import style\n",
    "\n",
    "style.use('ggplot')\n",
    "plt.rc('text', usetex=True)\n",
    "plt.rc('font', family='serif')\n",
    "\n",
    "get_ipython().magic('matplotlib qt')"
   ]
  },
  {
   "cell_type": "code",
   "execution_count": 3,
   "metadata": {},
   "outputs": [],
   "source": [
    "# PLT_FIG_WIDTH = 3.487\n",
    "PLT_FIG_WIDTH = 3.787\n",
    "# PLT_FIG_WIDTH = 3.974\n",
    "# PLT_FIG_WIDTH = 4.487\n",
    "PLT_FIG_HEIGHT = PLT_FIG_WIDTH / 1.618"
   ]
  },
  {
   "cell_type": "markdown",
   "metadata": {},
   "source": [
    "* ### Vessel-Dynamic Statistics I"
   ]
  },
  {
   "cell_type": "code",
   "execution_count": 4,
   "metadata": {},
   "outputs": [],
   "source": [
    "mean_records_per_day = pd.read_csv('./data/csv/stats/mean_records_per_day.csv')\n",
    "mmsis_no_of_records = pd.read_csv('./data/csv/stats/mmsis_no_of_records.csv')\n",
    "no_of_records_per_day = pd.read_csv('./data/csv/stats/no_of_records_per_day.csv')\n",
    "records_per_dayname = pd.read_csv('./data/csv/stats/records_per_dayname.csv')\n",
    "records_per_week = pd.read_csv('./data/csv/stats/records_per_week.csv')"
   ]
  },
  {
   "cell_type": "code",
   "execution_count": 11,
   "metadata": {},
   "outputs": [],
   "source": [
    "# out = pd.cut(mmsis_no_of_records['no_of_records'], [0, 2, 4, 8, 17, 35, 71, 142, 285, 570, 1141, 2282, 4565, 9130, 18260, 36520, 1168640]) \n",
    "out = pd.cut(mmsis_no_of_records['no_of_records'], [0, 2, 4, 8, 16, 32, 64, 128, 256, 512, 1024, 2048, 4096, 8192, 16384, 32768, 1168640]) \n",
    "\n",
    "\n",
    "ax = out.value_counts(sort=False).plot.bar(figsize=(PLT_FIG_WIDTH,PLT_FIG_HEIGHT), fontsize=8, width=0.75, cmap='tab20', rot=40)\n",
    "# ax.set_xticklabels([str(c).split(' ')[1].split(']')[0] for c in out.cat.categories])\n",
    "\n",
    "plt.ticklabel_format(style='sci', axis='y', scilimits=(0,0))\n",
    "plt.suptitle(r'\\textbf{\\#AIS signals per vessel at the entire period of study}', fontsize=8, y=1)\n",
    "plt.xlabel(r'\\textbf{\\#AIS signals}', fontsize=8)\n",
    "plt.ylabel(r'\\textbf{\\#vessels}', fontsize=8)\n",
    "\n",
    "# plt.savefig('Number of AIS signals at the entire period of study')\n",
    "# plt.savefig(os.path.join('.', 'experimental_figures', 'figs_final', 'AIS_Signals_per_vessel_entire_study_period.pdf'), dpi=300, bbox_inches='tight')\n",
    "plt.savefig(os.path.join('..', 'AIS_Signals_per_vessel_entire_study_period.pdf'), dpi=300, bbox_inches='tight')"
   ]
  },
  {
   "cell_type": "code",
   "execution_count": 12,
   "metadata": {},
   "outputs": [],
   "source": [
    "# out = pd.cut(mean_records_per_day['records_per_day'], [0, 2, 5, 10, 20, 40, 80, 160, 320, 640, 1280, 11000])\n",
    "out = pd.cut(mean_records_per_day['records_per_day'], [0, 2, 4, 8, 16, 32, 64, 128, 256, 512, 1024, 2048, 11000])\n",
    "\n",
    "\n",
    "ax = out.value_counts(sort=False).plot.bar(figsize=(PLT_FIG_WIDTH,PLT_FIG_HEIGHT), fontsize=8, width=0.75, cmap='tab20', rot=30)\n",
    "# ax.set_xticklabels([str(c).split(' ')[1].split(']')[0] for c in out.cat.categories])\n",
    "\n",
    "plt.ticklabel_format(style='sci', axis='y', scilimits=(0,0))\n",
    "plt.suptitle(r'\\textbf{\\#AIS signals per vessel at daily basis}', fontsize=8, y=1)\n",
    "plt.xlabel(r'\\textbf{\\#AIS signals}', fontsize=8)\n",
    "plt.ylabel(r'\\textbf{\\#vessels}', fontsize=8)\n",
    "\n",
    "# plt.savefig('Mean daily records per mmsi')\n",
    "# plt.savefig(os.path.join('.', 'experimental_figures', 'figs_final', 'AIS_Signals_per_Day.pdf'), dpi=300, bbox_inches='tight')\n",
    "plt.savefig(os.path.join('..', 'AIS_Signals_per_Day.pdf'), dpi=300, bbox_inches='tight')"
   ]
  },
  {
   "cell_type": "code",
   "execution_count": 14,
   "metadata": {
    "scrolled": true
   },
   "outputs": [],
   "source": [
    "cats = ['Monday', 'Tuesday', 'Wednesday', 'Thursday', 'Friday', 'Saturday', 'Sunday']\n",
    "no_of_records_per_day['day_name'] = pd.to_datetime(no_of_records_per_day.date).dt.weekday_name \n",
    "no_of_records_per_day['day_name'] = pd.Categorical(no_of_records_per_day['day_name'], categories=cats, ordered=True) \n",
    "no_of_records_per_day = no_of_records_per_day.sort_values('day_name')\n",
    "\n",
    "no_of_records_per_day.reset_index(inplace=True, drop=True)\n",
    "no_of_records_per_day.groupby('day_name').apply(sum).plot.bar(cmap='tab20', figsize=(PLT_FIG_WIDTH,PLT_FIG_HEIGHT), fontsize=8, width=0.75, legend=False, rot=30)\n",
    "\n",
    "plt.ticklabel_format(style='sci', axis='y', scilimits=(0,0))\n",
    "plt.suptitle(r'\\textbf{\\#records per weekday}', fontsize=8, y=1)\n",
    "plt.xlabel(r'\\textbf{}', fontsize=8)\n",
    "plt.ylabel(r'\\textbf{\\#records}', fontsize=8)\n",
    "\n",
    "plt.savefig(os.path.join('..', 'AIS_Signals_per_Weekday.pdf'), dpi=300, bbox_inches='tight')"
   ]
  },
  {
   "cell_type": "code",
   "execution_count": 15,
   "metadata": {},
   "outputs": [],
   "source": [
    "ax = records_per_week.plot.bar(cmap='tab20', figsize=(PLT_FIG_WIDTH,PLT_FIG_HEIGHT), fontsize=8, width=0.75, rot=60, legend=False)\n",
    "\n",
    "plt.ticklabel_format(style='sci', axis='y', scilimits=(0,0))\n",
    "plt.suptitle(r'\\textbf{\\#records per week}', fontsize=8, y=1)\n",
    "plt.xlabel(r'\\textbf{week number (start:01/10/2015, end:31/03/2016)}', fontsize=8)\n",
    "plt.ylabel(r'\\textbf{\\#records}', fontsize=8)\n",
    "\n",
    "# plt.savefig(os.path.join('.', 'experimental_figures', 'figs_final', 'AIS_Signals_per_Week.pdf'), dpi=300, bbox_inches='tight')\n",
    "plt.savefig(os.path.join('..', 'AIS_Signals_per_Week.pdf'), dpi=300, bbox_inches='tight')"
   ]
  },
  {
   "cell_type": "markdown",
   "metadata": {},
   "source": [
    "* ### Vessel-Dynamic Statistics II (Velocity, Acceleration, Bearing)"
   ]
  },
  {
   "cell_type": "code",
   "execution_count": 4,
   "metadata": {},
   "outputs": [
    {
     "name": "stdout",
     "output_type": "stream",
     "text": [
      "Wall time: 33.7 s\n"
     ]
    }
   ],
   "source": [
    "%%time\n",
    "ves_feat = []\n",
    "for i in range(6):\n",
    "    df = pd.read_csv(f'data/csv/nari_dynamic_vanilla_features/nari_dynamic_vanilla_features_{i}_no_smoothing.csv')\n",
    "    ves_feat.append(df[['mmsi', 'velocity', 'acceleration', 'bearing']])\n",
    "    \n",
    "ves_feat = pd.concat(ves_feat, ignore_index=True)"
   ]
  },
  {
   "cell_type": "code",
   "execution_count": 5,
   "metadata": {},
   "outputs": [],
   "source": [
    "out = pd.cut(ves_feat.velocity, [0, 10, 20, 30, 40, 50, 60, np.round(ves_feat.velocity.max())+1, np.round(ves_feat.velocity.max())+2])\n",
    "ax = out.value_counts(sort=False).plot.area(figsize=(PLT_FIG_WIDTH,PLT_FIG_HEIGHT), fontsize=8, cmap='tab20', rot=0)\n",
    "ax.set_xticklabels([int(c.left) for c in out.cat.categories])\n",
    "\n",
    "plt.suptitle(r'\\textbf{Vessel speed distribution}', fontsize=8, y=1)\n",
    "plt.xlabel(r'\\textbf{speed (knots)}', fontsize=8)\n",
    "plt.ylabel(r'\\textbf{\\#records}', fontsize=8)\n",
    "\n",
    "plt.savefig(os.path.join('..', 'Vessel_Velocity_Distribution_V2.pdf'), dpi=300, bbox_inches='tight')"
   ]
  },
  {
   "cell_type": "code",
   "execution_count": 15,
   "metadata": {},
   "outputs": [
    {
     "data": {
      "text/plain": [
       "array([304010909, 226338000], dtype=int64)"
      ]
     },
     "execution_count": 15,
     "metadata": {},
     "output_type": "execute_result"
    }
   ],
   "source": [
    "ves_feat.loc[ves_feat.velocity >= 999900].mmsi.unique()"
   ]
  },
  {
   "cell_type": "code",
   "execution_count": null,
   "metadata": {},
   "outputs": [],
   "source": []
  },
  {
   "cell_type": "code",
   "execution_count": 5,
   "metadata": {},
   "outputs": [],
   "source": [
    "window=150\n",
    "no_of_bins=[-94082, -3000, -1000, -10, -2, -0.5, -0.25, -0.1, -0.04, 0, 0.1, 0.25, 0.5, 2, 10, 1000, 3000, 94082] \n",
    "\n",
    "out = pd.cut(ves_feat.acceleration, no_of_bins)\n",
    "ax = out.value_counts(sort=False).plot.area(figsize=(PLT_FIG_WIDTH,PLT_FIG_HEIGHT), fontsize=8, cmap='tab20', rot=0)\n",
    "ax.set_xticklabels([-3000, -10, -0.5, -0.1, 0, 0.5, 10, 3000])\n",
    "\n",
    "plt.ticklabel_format(style='sci', axis='y', scilimits=(0,0))\n",
    "plt.suptitle(r'\\textbf{Vessel acceleration distribution}', fontsize=8)\n",
    "plt.xlabel(r'\\textbf{acceleration (knots/s)}', fontsize=8)\n",
    "plt.ylabel(r'\\textbf{\\#records}', fontsize=8)\n",
    "\n",
    "# plt.savefig(os.path.join('.', 'experimental_figures', 'figs_final', 'Vessel_Acceleration_Distribution.pdf'), dpi=300, bbox_inches='tight')\n",
    "plt.savefig(os.path.join('..', 'Vessel_Acceleration_Distribution.pdf'), dpi=300, bbox_inches='tight')"
   ]
  },
  {
   "cell_type": "code",
   "execution_count": 144,
   "metadata": {},
   "outputs": [
    {
     "data": {
      "text/plain": [
       "Text(26.091412709068422, 0.5, '\\\\textbf{\\\\#Records}')"
      ]
     },
     "execution_count": 144,
     "metadata": {},
     "output_type": "execute_result"
    }
   ],
   "source": [
    "# pd.cut(ves_feat.bearing, [0, 30, 60, 90, 120, 150, 180, 210, 240, 270, 300, 330, 360]).value_counts(sort=False).plot.area(figsize=(12,10), fontsize=14, cmap='tab20', title='Vessel Course Distribution', rot=15)\n",
    "out = pd.cut(ves_feat.bearing, [0, 30, 60, 90, 120, 150, 180, 210, 240, 270, 300, 330, 360], right=False).value_counts(sort=False)\n",
    "ax = out.plot.bar(figsize=(PLT_FIG_WIDTH,PLT_FIG_HEIGHT), fontsize=8, width=0.75, cmap='tab20', rot=30)\n",
    "# ax.set_xticklabels([c.left for c in out.cat.categories])\n",
    "\n",
    "plt.ticklabel_format(style='sci', axis='y', scilimits=(0,0))\n",
    "plt.suptitle(r'\\textbf{Vessel Course Distribution}', fontsize=8)\n",
    "plt.xlabel(r'\\textbf{Course over Ground (degrees)}', fontsize=8)\n",
    "plt.ylabel(r'\\textbf{\\#Records}', fontsize=8)\n",
    "\n",
    "# plt.savefig(os.path.join('..', 'Vessel_Course_Distribution_V2.pdf'), dpi=300, bbox_inches='tight')"
   ]
  },
  {
   "cell_type": "code",
   "execution_count": 14,
   "metadata": {
    "collapsed": true
   },
   "outputs": [
    {
     "data": {
      "text/plain": [
       "270.004525    3799\n",
       "89.995475     3791\n",
       "89.999954     2781\n",
       "270.000046    2566\n",
       "105.073339    2500\n",
       "89.999910     2481\n",
       "285.077142    2459\n",
       "284.735481    2355\n",
       "270.000090    2354\n",
       "104.731586    2345\n",
       "104.480300    2329\n",
       "284.484265    2305\n",
       "270.000054    2293\n",
       "283.847840    2284\n",
       "162.876270    2233\n",
       "103.843684    2216\n",
       "342.878995    2175\n",
       "89.999945     2093\n",
       "89.999965     2079\n",
       "270.000095    2074\n",
       "270.000055    2068\n",
       "104.109678    2028\n",
       "89.999905     2008\n",
       "284.113752    1996\n",
       "285.413149    1990\n",
       "89.999945     1958\n",
       "270.000035    1951\n",
       "105.409433    1924\n",
       "105.828023    1905\n",
       "285.831635    1897\n",
       "              ... \n",
       "144.092852       1\n",
       "268.703793       1\n",
       "315.022613       1\n",
       "11.514841        1\n",
       "193.372359       1\n",
       "64.366896        1\n",
       "219.911322       1\n",
       "196.075641       1\n",
       "180.092312       1\n",
       "19.139800        1\n",
       "332.870310       1\n",
       "119.033941       1\n",
       "58.952737        1\n",
       "2.464644         1\n",
       "186.037944       1\n",
       "100.804325       1\n",
       "170.223376       1\n",
       "358.533167       1\n",
       "184.196726       1\n",
       "199.329305       1\n",
       "346.814717       1\n",
       "357.211743       1\n",
       "104.673894       1\n",
       "81.893560        1\n",
       "136.021982       1\n",
       "335.838770       1\n",
       "17.105954        1\n",
       "253.320336       1\n",
       "137.081384       1\n",
       "131.879986       1\n",
       "Name: bearing, Length: 10004897, dtype: int64"
      ]
     },
     "execution_count": 14,
     "metadata": {},
     "output_type": "execute_result"
    }
   ],
   "source": [
    "ves_feat.bearing.loc[~ves_feat.bearing.isin([0.0, 180.0])].dropna().value_counts()"
   ]
  },
  {
   "cell_type": "code",
   "execution_count": 68,
   "metadata": {},
   "outputs": [],
   "source": [
    "import numpy as np\n",
    "import matplotlib.pyplot as plt\n",
    "import matplotlib\n",
    "\n",
    "PLT_FIG_WIDTH = 4\n",
    "PLT_FIG_HEIGHT = PLT_FIG_WIDTH / 1.618\n",
    "\n",
    "matplotlib.rcParams.update({'font.size': 8})\n",
    "\n",
    "bins_number = 24  # the [0, 360) interval will be subdivided into this number of equal bins\n",
    "degree_intervals = 15\n",
    "# ticks = [r'$0^o$', r'$30^o$', r'$60^o$', r'$90^o$', r'$120^o$', r'$150^o$', r'$180^o$', r'$210^o$', r'$240^o$', r'$270^o$', r'$300^o$', r'$330^o$'] #12 bins\n",
    "ticks = [r'${0}^o$'.format(degree_intervals*i) for i in range (bins_number)]\n",
    "# ticks = [r'${0}^o$'.format(15*i) for i in range (bins_number)]\n",
    "\n",
    "bins = np.linspace(0.0, 2 * np.pi, bins_number + 1)\n",
    "angles = np.radians(ves_feat.bearing.loc[~ves_feat.bearing.isin([0.0, 180.0])].dropna().values)\n",
    "n, bins, _ = plt.hist(angles, bins)\n",
    "\n",
    "\n",
    "fig = plt.figure(figsize=(PLT_FIG_WIDTH, PLT_FIG_HEIGHT))\n",
    "ax = plt.subplot(1, 1, 1, projection='polar')\n",
    "\n",
    "width = 2 * np.pi / bins_number - 0.02\n",
    "bars = ax.bar(bins[:bins_number], n, width=width, bottom=0.0, align='edge')\n",
    "\n",
    "for bar in bars:\n",
    "#     print(bar)\n",
    "    bar.set_facecolor(plt.cm.tab20(0))\n",
    "    bar.set_alpha(1.0)\n",
    "    \n",
    "plt.suptitle('Vessel course polar chart', fontsize=8, y=1.02)\n",
    "\n",
    "# lines, labels = plt.thetagrids(range(0, 360, 30), ticks, fontsize=8)\n",
    "lines, labels = plt.thetagrids(range(0, 360, degree_intervals), ticks, fontsize=8)\n",
    "\n",
    "plt.ticklabel_format(style='sci', axis='y', scilimits=(0,0))\n",
    "ax.yaxis.offsetText.set_visible(False)\n",
    "\n",
    "ax.tick_params(pad=0)\n",
    "ax.set_rlabel_position(140)\n",
    "# ax.set_rlabel_position(220)\n",
    "ax.set_theta_zero_location(\"N\")\n",
    "ax.set_theta_direction(-1)\n",
    "# ax.set_theta_offset(pi)\n",
    "\n",
    "# for idx, an in enumerate(bins[:-1]):\n",
    "#     try:\n",
    "# #         print(idx, np.degrees(an), bins[idx])\n",
    "# #         print (np.degrees(an))\n",
    "#         plt.text(an+np.radians(5.5), bars[idx].get_height()+100000, str(np.around(bars[idx].get_height()/10**6, 2)), size=8)\n",
    "#     except IndexError:\n",
    "#         continue\n",
    "# plt.yticks([])\n",
    "\n",
    "plt.legend([r'\\#records (x$10^6$)'], frameon=False, fancybox=False, shadow=False, loc='lower center', bbox_to_anchor=(0.5, -0.25))\n",
    "\n",
    "plt.show()\n",
    "plt.savefig(os.path.join('..', 'Vessel_Course_Distribution_V8.pdf'), dpi=300, bbox_inches='tight')"
   ]
  },
  {
   "cell_type": "markdown",
   "metadata": {},
   "source": [
    "## Some Simulations - Selecting the Best Image Dimensions for a LaTeX Document"
   ]
  },
  {
   "cell_type": "code",
   "execution_count": 15,
   "metadata": {},
   "outputs": [],
   "source": [
    "plt.rc('text', usetex=True)\n",
    "plt.rc('font', family='serif')"
   ]
  },
  {
   "cell_type": "code",
   "execution_count": 19,
   "metadata": {},
   "outputs": [
    {
     "name": "stdout",
     "output_type": "stream",
     "text": [
      "Figure 0: 3.0, 1.8541409147095178\n",
      "Figure 1: 3.487, 2.15512978986403\n",
      "Figure 2: 3.974, 2.4561186650185416\n",
      "Figure 3: 4.461, 2.7571075401730534\n",
      "Figure 4: 4.948, 3.058096415327565\n",
      "Figure 5: 5.4350000000000005, 3.359085290482077\n",
      "Figure 6: 5.922000000000001, 3.6600741656365887\n",
      "Figure 7: 6.409000000000001, 3.9610630407911005\n",
      "Figure 8: 6.896000000000001, 4.262051915945612\n",
      "Figure 9: 7.383000000000001, 4.563040791100124\n"
     ]
    }
   ],
   "source": [
    "for i, PLT_FIG_WIDTH in enumerate(np.arange(3, 7.487, 0.487)):\n",
    "    plt.figure()\n",
    "    \n",
    "    PLT_FIG_HEIGHT = PLT_FIG_WIDTH / 1.618\n",
    "    \n",
    "    print (f'Figure {i}: {PLT_FIG_WIDTH}, {PLT_FIG_HEIGHT}')\n",
    "    \n",
    "    out = pd.cut(mmsis_no_of_records['no_of_records'], [0, 2, 4, 8, 17, 35, 71, 142, 285, 570, 1141, 2282, 4565, 9130, 18260, 36520, 1168640]) \n",
    "\n",
    "    ax = out.value_counts(sort=False).plot.bar(figsize=(PLT_FIG_WIDTH,PLT_FIG_HEIGHT), fontsize=8, width=0.7, cmap='tab20', rot=35)\n",
    "    ax.set_xticklabels([str(c).split(' ')[1].split(']')[0] for c in out.cat.categories])\n",
    "    plt.title(r'\\textbf{Number of AIS signals per vessel at the entire period of study}', fontsize=8)\n",
    "    plt.xlabel(r'\\textbf{Number of AIS signals}', fontsize=8)\n",
    "    plt.ylabel(r'\\textbf{Number of MMSIs}', fontsize=8)\n",
    "    plt.savefig(os.path.join('.', 'experimental_figures', 'figs', f'tmp_fig_{i}.pdf'), dpi=300, bbox_inches='tight')\n",
    "    \n",
    "    plt.close('all')"
   ]
  }
 ],
 "metadata": {
  "kernelspec": {
   "display_name": "Python 3 (GIS)",
   "language": "python",
   "name": "gis"
  },
  "language_info": {
   "codemirror_mode": {
    "name": "ipython",
    "version": 3
   },
   "file_extension": ".py",
   "mimetype": "text/x-python",
   "name": "python",
   "nbconvert_exporter": "python",
   "pygments_lexer": "ipython3",
   "version": "3.7.1"
  }
 },
 "nbformat": 4,
 "nbformat_minor": 2
}
