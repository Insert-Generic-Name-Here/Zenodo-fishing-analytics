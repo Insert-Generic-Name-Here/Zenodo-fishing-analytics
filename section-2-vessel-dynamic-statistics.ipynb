{
 "cells": [
  {
   "cell_type": "code",
   "execution_count": null,
   "metadata": {},
   "outputs": [],
   "source": [
    "import pandas as pd\n",
    "import geopandas as gpd\n",
    "import numpy as np\n",
    "from shapely.geometry import Point\n",
    "from matplotlib import pyplot as plt\n",
    "import matplotlib.gridspec as gridspec\n",
    "from random import choice\n",
    "pd.options.mode.chained_assignment = None \n",
    "import pickle"
   ]
  },
  {
   "cell_type": "code",
   "execution_count": null,
   "metadata": {},
   "outputs": [],
   "source": [
    "import os, sys\n",
    "sys.path.append(os.path.join(os.path.expanduser('~'), 'Documents/Insert-Generic-Name-Here/'))\n",
    "# sys.path\n",
    "\n",
    "from lonelyboy.geospatial import plots as gsplt\n",
    "from lonelyboy.geospatial import preprocessing as gspp\n",
    "from lonelyboy.timeseries import lbtimeseries as tspp\n",
    "# from lonelyboy.geospatial import group_patterns as gsgp\n",
    "\n",
    "\n",
    "# from IPython.core.interactiveshell import InteractiveShell\n",
    "# InteractiveShell.ast_node_interactivity = \"all\"\n",
    "import PyQt5\n",
    "import matplotlib.pyplot as plt\n",
    "from matplotlib import style;  style.use('ggplot')\n",
    "get_ipython().magic('matplotlib qt')\n",
    "# get_ipython().magic('matplotlib inline')"
   ]
  },
  {
   "cell_type": "code",
   "execution_count": null,
   "metadata": {},
   "outputs": [],
   "source": [
    "PLT_FIG_WIDTH = 4.487\n",
    "PLT_FIG_HEIGHT = PLT_FIG_WIDTH / 1.618"
   ]
  },
  {
   "cell_type": "markdown",
   "metadata": {},
   "source": [
    "* ### Vessel-Dynamic Statistics I"
   ]
  },
  {
   "cell_type": "code",
   "execution_count": null,
   "metadata": {},
   "outputs": [],
   "source": [
    "mean_records_per_day = pd.read_csv('./data/csv/stats/mean_records_per_day.csv')\n",
    "mmsis_no_of_records = pd.read_csv('./data/csv/stats/mmsis_no_of_records.csv')\n",
    "no_of_records_per_day = pd.read_csv('./data/csv/stats/no_of_records_per_day.csv')\n",
    "records_per_dayname = pd.read_csv('./data/csv/stats/records_per_dayname.csv')\n",
    "records_per_week = pd.read_csv('./data/csv/stats/records_per_week.csv')"
   ]
  },
  {
   "cell_type": "code",
   "execution_count": null,
   "metadata": {},
   "outputs": [],
   "source": [
    "out = pd.cut(mmsis_no_of_records['no_of_records'], [0, 2, 4, 8, 17, 35, 71, 142, 285, 570, 1141, 2282, 4565, 9130, 18260, 36520, 1168640]) \n",
    "\n",
    "ax = out.value_counts(sort=False).plot.bar(figsize=(PLT_FIG_WIDTH,PLT_FIG_HEIGHT), fontsize=7, width=0.95, cmap='tab20', rot=0)\n",
    "ax.set_xticklabels([str(c).split(' ')[1].split(']')[0] for c in out.cat.categories])\n",
    "plt.title('Number of AIS signals per vessel at the entire period of study', fontsize=7)\n",
    "plt.xlabel('Number of AIS signals', fontsize=7)\n",
    "plt.ylabel('Number of MMSIs', fontsize=7)\n",
    "# plt.savefig('Number of AIS signals at the entire period of study')"
   ]
  },
  {
   "cell_type": "code",
   "execution_count": null,
   "metadata": {},
   "outputs": [],
   "source": [
    "out = pd.cut(mean_records_per_day['records_per_day'], [0, 2, 5, 10, 20, 40, 80, 160, 320, 640, 1280, 11000])\n",
    "\n",
    "ax = out.value_counts(sort=False).plot.bar(figsize=(PLT_FIG_WIDTH,PLT_FIG_HEIGHT), fontsize=12, width=0.95, cmap='tab20', title='Number of AIS signals per vessel at a daily basis', rot=0)\n",
    "ax.set_xticklabels([str(c).split(' ')[1].split(']')[0] for c in out.cat.categories])\n",
    "plt.xlabel('Number of AIS records per day', fontsize=12)\n",
    "plt.ylabel('Number of MMSIs', fontsize=12)\n",
    "# plt.savefig('Mean daily records per mmsi')"
   ]
  },
  {
   "cell_type": "code",
   "execution_count": null,
   "metadata": {},
   "outputs": [],
   "source": [
    "records_per_week.plot.bar(cmap='tab20', figsize=(PLT_FIG_WIDTH,PLT_FIG_HEIGHT), fontsize=12, width=0.95, title='Number of Records per Week', rot=0, legend=False)\n",
    "plt.xlabel('Week Number (Start:01-10-2015, Finish:31-03-2016)', fontsize=12)\n",
    "plt.ylabel('#Records', fontsize=12)"
   ]
  },
  {
   "cell_type": "code",
   "execution_count": null,
   "metadata": {
    "scrolled": true
   },
   "outputs": [],
   "source": [
    "cats = ['Monday', 'Tuesday', 'Wednesday', 'Thursday', 'Friday', 'Saturday', 'Sunday']\n",
    "no_of_records_per_day['day_name'] = pd.to_datetime(no_of_records_per_day.date).dt.weekday_name \n",
    "no_of_records_per_day['day_name'] = pd.Categorical(no_of_records_per_day['day_name'], categories=cats, ordered=True) \n",
    "no_of_records_per_day = no_of_records_per_day.sort_values('day_name')\n",
    "\n",
    "no_of_records_per_day.reset_index(inplace=True, drop=True)\n",
    "no_of_records_per_day.groupby('day_name').apply(sum).plot.bar(cmap='tab20', figsize=(PLT_FIG_WIDTH,PLT_FIG_HEIGHT), fontsize=12, width=0.95, legend=False, title='Number of Records per Weekday', rot=0)\n",
    "plt.xlabel('')\n",
    "plt.ylabel('#Records', fontsize=12)"
   ]
  },
  {
   "cell_type": "markdown",
   "metadata": {},
   "source": [
    "* ### Vessel-Dynamic Statistics II (Velocity, Acceleration, Bearing)"
   ]
  },
  {
   "cell_type": "code",
   "execution_count": null,
   "metadata": {},
   "outputs": [],
   "source": [
    "%%time\n",
    "ves_feat = []\n",
    "for i in range(6):\n",
    "    df = pd.read_csv(f'data/csv/nari_dynamic_vanilla_features/nari_dynamic_vanilla_features_{i}_no_smoothing.csv')\n",
    "    ves_feat.append(df[['mmsi', 'velocity', 'acceleration', 'bearing']])\n",
    "    \n",
    "ves_feat = pd.concat(ves_feat, ignore_index=True)"
   ]
  },
  {
   "cell_type": "code",
   "execution_count": null,
   "metadata": {},
   "outputs": [],
   "source": [
    "out = pd.cut(ves_feat.velocity, [0, 10, 20, 30, 40, 50, 60, np.round(ves_feat.velocity.max())+1, np.round(ves_feat.velocity.max())+2])\n",
    "ax = out.value_counts(sort=False).plot.area(figsize=(PLT_FIG_WIDTH,PLT_FIG_HEIGHT), fontsize=14, cmap='tab20', title='Vessel Velocity Distribution', rot=0)\n",
    "ax.set_xticklabels([c.left for c in out.cat.categories])\n",
    "plt.xlabel('Velocity (knots; nautical miles per hour)', fontsize=14)\n",
    "plt.ylabel('#Occurrences', fontsize=14)"
   ]
  },
  {
   "cell_type": "code",
   "execution_count": null,
   "metadata": {},
   "outputs": [],
   "source": [
    "window=150\n",
    "no_of_bins=[-94082, -3000, -1000, -10, -2, -0.5, -0.25, -0.1, -0.04, 0, 0.1, 0.25, 0.5, 2, 10, 1000, 3000, 94082] \n",
    "\n",
    "out = pd.cut(ves_feat.acceleration, no_of_bins)\n",
    "ax = out.value_counts(sort=False).plot.area(figsize=(PLT_FIG_WIDTH,PLT_FIG_HEIGHT), fontsize=14, cmap='tab20', title='Vessel Acceleration Distribution', rot=10)\n",
    "ax.set_xticklabels([-3000, -10, -0.5, -0.1, 0, 0.5, 10, 3000])\n",
    "plt.xlabel('Acceleration', fontsize=14)\n",
    "plt.ylabel('#Occurrences', fontsize=14)"
   ]
  },
  {
   "cell_type": "code",
   "execution_count": null,
   "metadata": {},
   "outputs": [],
   "source": [
    "# pd.cut(ves_feat.bearing, [0, 30, 60, 90, 120, 150, 180, 210, 240, 270, 300, 330, 360]).value_counts(sort=False).plot.area(figsize=(12,10), fontsize=14, cmap='tab20', title='Vessel Course Distribution', rot=15)\n",
    "out = pd.cut(ves_feat.bearing, [0, 30, 60, 90, 120, 150, 180, 210, 240, 270, 300, 330, 360])\n",
    "ax = out.value_counts(sort=False).plot.bar(figsize=(PLT_FIG_WIDTH,PLT_FIG_HEIGHT), fontsize=11, width=0.95, cmap='tab20', title='Vessel Course Distribution', rot=0)\n",
    "# ax.set_xticklabels([c.left for c in out.cat.categories])\n",
    "plt.xlabel('Course', fontsize=11)\n",
    "plt.ylabel('#Occurrences', fontsize=11)"
   ]
  },
  {
   "cell_type": "code",
   "execution_count": null,
   "metadata": {},
   "outputs": [],
   "source": []
  }
 ],
 "metadata": {
  "kernelspec": {
   "display_name": "Python 3 (GIS)",
   "language": "python",
   "name": "gis"
  },
  "language_info": {
   "codemirror_mode": {
    "name": "ipython",
    "version": 3
   },
   "file_extension": ".py",
   "mimetype": "text/x-python",
   "name": "python",
   "nbconvert_exporter": "python",
   "pygments_lexer": "ipython3",
   "version": "3.7.2"
  }
 },
 "nbformat": 4,
 "nbformat_minor": 2
}
