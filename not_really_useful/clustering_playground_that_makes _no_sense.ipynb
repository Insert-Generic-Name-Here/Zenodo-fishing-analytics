{
 "cells": [
  {
   "cell_type": "code",
   "execution_count": 33,
   "metadata": {
    "ExecuteTime": {
     "end_time": "2018-12-07T12:03:02.307688Z",
     "start_time": "2018-12-07T12:03:01.915170Z"
    }
   },
   "outputs": [],
   "source": [
    "import pandas as pd\n",
    "import numpy as np\n",
    "from haversine import haversine\n",
    "import networkx as nx\n",
    "\n",
    "df = pd.read_csv('4h_timeFrame.csv')"
   ]
  },
  {
   "cell_type": "code",
   "execution_count": 2,
   "metadata": {
    "ExecuteTime": {
     "end_time": "2018-12-07T11:30:30.368593Z",
     "start_time": "2018-12-07T11:30:30.338303Z"
    }
   },
   "outputs": [
    {
     "data": {
      "text/html": [
       "<div>\n",
       "<style scoped>\n",
       "    .dataframe tbody tr th:only-of-type {\n",
       "        vertical-align: middle;\n",
       "    }\n",
       "\n",
       "    .dataframe tbody tr th {\n",
       "        vertical-align: top;\n",
       "    }\n",
       "\n",
       "    .dataframe thead th {\n",
       "        text-align: right;\n",
       "    }\n",
       "</style>\n",
       "<table border=\"1\" class=\"dataframe\">\n",
       "  <thead>\n",
       "    <tr style=\"text-align: right;\">\n",
       "      <th></th>\n",
       "      <th>id</th>\n",
       "      <th>mmsi</th>\n",
       "      <th>status</th>\n",
       "      <th>turn</th>\n",
       "      <th>speed</th>\n",
       "      <th>course</th>\n",
       "      <th>heading</th>\n",
       "      <th>lon</th>\n",
       "      <th>lat</th>\n",
       "      <th>ts</th>\n",
       "      <th>geom</th>\n",
       "      <th>velocity</th>\n",
       "      <th>datetime</th>\n",
       "    </tr>\n",
       "  </thead>\n",
       "  <tbody>\n",
       "    <tr>\n",
       "      <th>0</th>\n",
       "      <td>1.257696e+07</td>\n",
       "      <td>227006750.0</td>\n",
       "      <td>0.0</td>\n",
       "      <td>0.0</td>\n",
       "      <td>0.000000</td>\n",
       "      <td>268.5</td>\n",
       "      <td>268.000000</td>\n",
       "      <td>-4.484462</td>\n",
       "      <td>48.381145</td>\n",
       "      <td>1.456803e+09</td>\n",
       "      <td>POINT (-4.484462 48.381145)</td>\n",
       "      <td>0.307191</td>\n",
       "      <td>2016-03-01 03:26:00</td>\n",
       "    </tr>\n",
       "    <tr>\n",
       "      <th>1</th>\n",
       "      <td>1.751510e+07</td>\n",
       "      <td>227300000.0</td>\n",
       "      <td>7.0</td>\n",
       "      <td>-126.0</td>\n",
       "      <td>1.500000</td>\n",
       "      <td>21.2</td>\n",
       "      <td>322.000000</td>\n",
       "      <td>-4.631639</td>\n",
       "      <td>48.111740</td>\n",
       "      <td>1.456803e+09</td>\n",
       "      <td>POINT (-4.6316385 48.11174)</td>\n",
       "      <td>1.395733</td>\n",
       "      <td>2016-03-01 03:26:00</td>\n",
       "    </tr>\n",
       "    <tr>\n",
       "      <th>2</th>\n",
       "      <td>1.754235e+07</td>\n",
       "      <td>256494000.0</td>\n",
       "      <td>5.0</td>\n",
       "      <td>0.0</td>\n",
       "      <td>0.000000</td>\n",
       "      <td>344.0</td>\n",
       "      <td>217.000000</td>\n",
       "      <td>-4.451143</td>\n",
       "      <td>48.383625</td>\n",
       "      <td>1.456803e+09</td>\n",
       "      <td>POINT (-4.451143 48.383625)</td>\n",
       "      <td>0.019396</td>\n",
       "      <td>2016-03-01 03:26:00</td>\n",
       "    </tr>\n",
       "    <tr>\n",
       "      <th>3</th>\n",
       "      <td>1.257696e+07</td>\n",
       "      <td>227705102.0</td>\n",
       "      <td>15.0</td>\n",
       "      <td>-127.0</td>\n",
       "      <td>0.000000</td>\n",
       "      <td>282.6</td>\n",
       "      <td>511.000000</td>\n",
       "      <td>-4.496595</td>\n",
       "      <td>48.382440</td>\n",
       "      <td>1.456803e+09</td>\n",
       "      <td>POINT (-4.496595 48.38244)</td>\n",
       "      <td>0.056881</td>\n",
       "      <td>2016-03-01 03:26:00</td>\n",
       "    </tr>\n",
       "    <tr>\n",
       "      <th>4</th>\n",
       "      <td>1.754237e+07</td>\n",
       "      <td>220417000.0</td>\n",
       "      <td>1.0</td>\n",
       "      <td>0.0</td>\n",
       "      <td>0.066667</td>\n",
       "      <td>170.4</td>\n",
       "      <td>242.333333</td>\n",
       "      <td>-4.484998</td>\n",
       "      <td>48.352693</td>\n",
       "      <td>1.456803e+09</td>\n",
       "      <td>POINT (-4.484997766666667 48.35269333333333)</td>\n",
       "      <td>0.072627</td>\n",
       "      <td>2016-03-01 03:26:00</td>\n",
       "    </tr>\n",
       "  </tbody>\n",
       "</table>\n",
       "</div>"
      ],
      "text/plain": [
       "             id         mmsi  status   turn     speed  course     heading  \\\n",
       "0  1.257696e+07  227006750.0     0.0    0.0  0.000000   268.5  268.000000   \n",
       "1  1.751510e+07  227300000.0     7.0 -126.0  1.500000    21.2  322.000000   \n",
       "2  1.754235e+07  256494000.0     5.0    0.0  0.000000   344.0  217.000000   \n",
       "3  1.257696e+07  227705102.0    15.0 -127.0  0.000000   282.6  511.000000   \n",
       "4  1.754237e+07  220417000.0     1.0    0.0  0.066667   170.4  242.333333   \n",
       "\n",
       "        lon        lat            ts  \\\n",
       "0 -4.484462  48.381145  1.456803e+09   \n",
       "1 -4.631639  48.111740  1.456803e+09   \n",
       "2 -4.451143  48.383625  1.456803e+09   \n",
       "3 -4.496595  48.382440  1.456803e+09   \n",
       "4 -4.484998  48.352693  1.456803e+09   \n",
       "\n",
       "                                           geom  velocity             datetime  \n",
       "0                   POINT (-4.484462 48.381145)  0.307191  2016-03-01 03:26:00  \n",
       "1                   POINT (-4.6316385 48.11174)  1.395733  2016-03-01 03:26:00  \n",
       "2                   POINT (-4.451143 48.383625)  0.019396  2016-03-01 03:26:00  \n",
       "3                    POINT (-4.496595 48.38244)  0.056881  2016-03-01 03:26:00  \n",
       "4  POINT (-4.484997766666667 48.35269333333333)  0.072627  2016-03-01 03:26:00  "
      ]
     },
     "execution_count": 2,
     "metadata": {},
     "output_type": "execute_result"
    }
   ],
   "source": [
    "df.head()"
   ]
  },
  {
   "cell_type": "code",
   "execution_count": 83,
   "metadata": {
    "ExecuteTime": {
     "end_time": "2018-12-07T12:46:25.564662Z",
     "start_time": "2018-12-07T12:46:25.561024Z"
    }
   },
   "outputs": [],
   "source": [
    "def pairs_in_radius(df, diam=500):\n",
    "    res = []\n",
    "    for ind_i, ind_j, val_i, val_j in nparray_combinations(df):\n",
    "        dist = haversine(val_i, val_j)*1000\n",
    "        if (dist<diam):\n",
    "            res.append((ind_i,ind_j))   \n",
    "    return res\n",
    "            "
   ]
  },
  {
   "cell_type": "code",
   "execution_count": 84,
   "metadata": {
    "ExecuteTime": {
     "end_time": "2018-12-07T12:46:27.052958Z",
     "start_time": "2018-12-07T12:46:27.049645Z"
    }
   },
   "outputs": [],
   "source": [
    "def connected_edges(data):\n",
    "    G = nx.Graph()\n",
    "    G.add_edges_from(data)\n",
    "    return [sorted(list(cluster)) for cluster in nx.connected_components(G)]"
   ]
  },
  {
   "cell_type": "code",
   "execution_count": 101,
   "metadata": {
    "ExecuteTime": {
     "end_time": "2018-12-07T12:52:02.677839Z",
     "start_time": "2018-12-07T12:52:02.673515Z"
    }
   },
   "outputs": [],
   "source": [
    "def nparray_combinations(arr):\n",
    "    for i in range(arr.shape[0]):\n",
    "        for j in range(i+1, arr.shape[0]):\n",
    "            yield i, j, arr[i,:], arr[j,:]"
   ]
  },
  {
   "cell_type": "code",
   "execution_count": 170,
   "metadata": {
    "ExecuteTime": {
     "end_time": "2018-12-07T15:20:21.336535Z",
     "start_time": "2018-12-07T15:20:21.333717Z"
    }
   },
   "outputs": [],
   "source": [
    "def eval_candidate(candidate, pairs):\n",
    "    for pair in itertools.combinations(candidate,2):\n",
    "        if pair not in pairs:\n",
    "            return False\n",
    "    return True"
   ]
  },
  {
   "cell_type": "code",
   "execution_count": 176,
   "metadata": {
    "ExecuteTime": {
     "end_time": "2018-12-07T15:36:13.214802Z",
     "start_time": "2018-12-07T15:36:13.210575Z"
    }
   },
   "outputs": [],
   "source": [
    "def circle_cluster(timeframe, min_cardinality = 2):\n",
    "    pairs = pairs_in_radius(timeframe[['lon', 'lat']].values)\n",
    "    full_sets = connected_edges(pairs)\n",
    "    clusters = []\n",
    "    for individual_sets in full_sets:\n",
    "        # MAYBE FROM BIG TO SMALL INSTEAD OF SMALL TO BIG\n",
    "        for j in range(min_cardinality,len(individual_sets)+1):\n",
    "            for candidate in itertools.combinations(individual_sets,j):\n",
    "                 if eval_candidate(candidate, pairs):\n",
    "                        clusters.append(candidate)\n",
    "    return clusters"
   ]
  },
  {
   "cell_type": "code",
   "execution_count": 177,
   "metadata": {
    "ExecuteTime": {
     "end_time": "2018-12-07T15:37:56.215972Z",
     "start_time": "2018-12-07T15:36:13.477085Z"
    }
   },
   "outputs": [
    {
     "name": "stdout",
     "output_type": "stream",
     "text": [
      "240  /  241241\r"
     ]
    }
   ],
   "source": [
    "for ind, (_, sdf) in enumerate(df.groupby('datetime')):\n",
    "    print (ind,' / ', df.datetime.nunique(), end='\\r')\n",
    "    circle_cluster(sdf)"
   ]
  },
  {
   "cell_type": "code",
   "execution_count": 109,
   "metadata": {
    "ExecuteTime": {
     "end_time": "2018-12-07T13:02:58.787242Z",
     "start_time": "2018-12-07T13:02:58.784818Z"
    }
   },
   "outputs": [],
   "source": [
    "tst = connected_edges(tmp)"
   ]
  },
  {
   "cell_type": "code",
   "execution_count": 91,
   "metadata": {
    "ExecuteTime": {
     "end_time": "2018-12-07T12:49:28.225524Z",
     "start_time": "2018-12-07T12:49:28.222330Z"
    }
   },
   "outputs": [
    {
     "data": {
      "text/plain": [
       "(0, 7)"
      ]
     },
     "execution_count": 91,
     "metadata": {},
     "output_type": "execute_result"
    }
   ],
   "source": [
    "tmp[0]"
   ]
  },
  {
   "cell_type": "code",
   "execution_count": 92,
   "metadata": {
    "ExecuteTime": {
     "end_time": "2018-12-07T12:49:31.996838Z",
     "start_time": "2018-12-07T12:49:31.988494Z"
    }
   },
   "outputs": [
    {
     "ename": "NameError",
     "evalue": "name 'array' is not defined",
     "output_type": "error",
     "traceback": [
      "\u001b[0;31m---------------------------------------------------------------------------\u001b[0m",
      "\u001b[0;31mNameError\u001b[0m                                 Traceback (most recent call last)",
      "\u001b[0;32m<ipython-input-92-3c440975b9c8>\u001b[0m in \u001b[0;36m<module>\u001b[0;34m\u001b[0m\n\u001b[0;32m----> 1\u001b[0;31m \u001b[0;34m(\u001b[0m\u001b[0marray\u001b[0m\u001b[0;34m(\u001b[0m\u001b[0;34m[\u001b[0m\u001b[0;36m0\u001b[0m\u001b[0;34m]\u001b[0m\u001b[0;34m)\u001b[0m\u001b[0;34m,\u001b[0m \u001b[0marray\u001b[0m\u001b[0;34m(\u001b[0m\u001b[0;34m[\u001b[0m\u001b[0;36m7\u001b[0m\u001b[0;34m]\u001b[0m\u001b[0;34m)\u001b[0m\u001b[0;34m)\u001b[0m \u001b[0;32min\u001b[0m \u001b[0mtmp\u001b[0m\u001b[0;34m\u001b[0m\u001b[0m\n\u001b[0m",
      "\u001b[0;31mNameError\u001b[0m: name 'array' is not defined"
     ]
    }
   ],
   "source": [
    "(array([0]), array([7])) in tmp"
   ]
  },
  {
   "cell_type": "code",
   "execution_count": 79,
   "metadata": {
    "ExecuteTime": {
     "end_time": "2018-12-07T12:43:34.812816Z",
     "start_time": "2018-12-07T12:43:34.804945Z"
    }
   },
   "outputs": [
    {
     "name": "stdout",
     "output_type": "stream",
     "text": [
      "0 1 [0] [7]\n",
      "0 2 [0] [11]\n",
      "0 3 [0] [18]\n",
      "1 2 [7] [11]\n",
      "1 3 [7] [18]\n",
      "2 3 [11] [18]\n"
     ]
    },
    {
     "data": {
      "text/plain": [
       "[(0, 1, array([0]), array([7])),\n",
       " (0, 2, array([0]), array([11])),\n",
       " (0, 3, array([0]), array([18])),\n",
       " (1, 2, array([7]), array([11])),\n",
       " (1, 3, array([7]), array([18])),\n",
       " (2, 3, array([11]), array([18]))]"
      ]
     },
     "execution_count": 79,
     "metadata": {},
     "output_type": "execute_result"
    }
   ],
   "source": [
    "list(nparray_combinations(np.expand_dims(np.asarray(tst[0]), axis=1)))"
   ]
  },
  {
   "cell_type": "code",
   "execution_count": 43,
   "metadata": {
    "ExecuteTime": {
     "end_time": "2018-12-07T12:22:35.053268Z",
     "start_time": "2018-12-07T12:22:35.041566Z"
    }
   },
   "outputs": [
    {
     "data": {
      "text/plain": [
       "[(0, 1),\n",
       " (0, 2),\n",
       " (0, 3),\n",
       " (0, 4),\n",
       " (0, 5),\n",
       " (0, 6),\n",
       " (0, 7),\n",
       " (0, 8),\n",
       " (0, 9),\n",
       " (0, 10),\n",
       " (0, 11),\n",
       " (0, 12),\n",
       " (0, 13),\n",
       " (0, 14),\n",
       " (0, 15),\n",
       " (0, 16),\n",
       " (0, 17),\n",
       " (0, 18),\n",
       " (1, 2),\n",
       " (1, 3),\n",
       " (1, 4),\n",
       " (1, 5),\n",
       " (1, 6),\n",
       " (1, 7),\n",
       " (1, 8),\n",
       " (1, 9),\n",
       " (1, 10),\n",
       " (1, 11),\n",
       " (1, 12),\n",
       " (1, 13),\n",
       " (1, 14),\n",
       " (1, 15),\n",
       " (1, 16),\n",
       " (1, 17),\n",
       " (1, 18),\n",
       " (2, 3),\n",
       " (2, 4),\n",
       " (2, 5),\n",
       " (2, 6),\n",
       " (2, 7),\n",
       " (2, 8),\n",
       " (2, 9),\n",
       " (2, 10),\n",
       " (2, 11),\n",
       " (2, 12),\n",
       " (2, 13),\n",
       " (2, 14),\n",
       " (2, 15),\n",
       " (2, 16),\n",
       " (2, 17),\n",
       " (2, 18),\n",
       " (3, 4),\n",
       " (3, 5),\n",
       " (3, 6),\n",
       " (3, 7),\n",
       " (3, 8),\n",
       " (3, 9),\n",
       " (3, 10),\n",
       " (3, 11),\n",
       " (3, 12),\n",
       " (3, 13),\n",
       " (3, 14),\n",
       " (3, 15),\n",
       " (3, 16),\n",
       " (3, 17),\n",
       " (3, 18),\n",
       " (4, 5),\n",
       " (4, 6),\n",
       " (4, 7),\n",
       " (4, 8),\n",
       " (4, 9),\n",
       " (4, 10),\n",
       " (4, 11),\n",
       " (4, 12),\n",
       " (4, 13),\n",
       " (4, 14),\n",
       " (4, 15),\n",
       " (4, 16),\n",
       " (4, 17),\n",
       " (4, 18),\n",
       " (5, 6),\n",
       " (5, 7),\n",
       " (5, 8),\n",
       " (5, 9),\n",
       " (5, 10),\n",
       " (5, 11),\n",
       " (5, 12),\n",
       " (5, 13),\n",
       " (5, 14),\n",
       " (5, 15),\n",
       " (5, 16),\n",
       " (5, 17),\n",
       " (5, 18),\n",
       " (6, 7),\n",
       " (6, 8),\n",
       " (6, 9),\n",
       " (6, 10),\n",
       " (6, 11),\n",
       " (6, 12),\n",
       " (6, 13),\n",
       " (6, 14),\n",
       " (6, 15),\n",
       " (6, 16),\n",
       " (6, 17),\n",
       " (6, 18),\n",
       " (7, 8),\n",
       " (7, 9),\n",
       " (7, 10),\n",
       " (7, 11),\n",
       " (7, 12),\n",
       " (7, 13),\n",
       " (7, 14),\n",
       " (7, 15),\n",
       " (7, 16),\n",
       " (7, 17),\n",
       " (7, 18),\n",
       " (8, 9),\n",
       " (8, 10),\n",
       " (8, 11),\n",
       " (8, 12),\n",
       " (8, 13),\n",
       " (8, 14),\n",
       " (8, 15),\n",
       " (8, 16),\n",
       " (8, 17),\n",
       " (8, 18),\n",
       " (9, 10),\n",
       " (9, 11),\n",
       " (9, 12),\n",
       " (9, 13),\n",
       " (9, 14),\n",
       " (9, 15),\n",
       " (9, 16),\n",
       " (9, 17),\n",
       " (9, 18),\n",
       " (10, 11),\n",
       " (10, 12),\n",
       " (10, 13),\n",
       " (10, 14),\n",
       " (10, 15),\n",
       " (10, 16),\n",
       " (10, 17),\n",
       " (10, 18),\n",
       " (11, 12),\n",
       " (11, 13),\n",
       " (11, 14),\n",
       " (11, 15),\n",
       " (11, 16),\n",
       " (11, 17),\n",
       " (11, 18),\n",
       " (12, 13),\n",
       " (12, 14),\n",
       " (12, 15),\n",
       " (12, 16),\n",
       " (12, 17),\n",
       " (12, 18),\n",
       " (13, 14),\n",
       " (13, 15),\n",
       " (13, 16),\n",
       " (13, 17),\n",
       " (13, 18),\n",
       " (14, 15),\n",
       " (14, 16),\n",
       " (14, 17),\n",
       " (14, 18),\n",
       " (15, 16),\n",
       " (15, 17),\n",
       " (15, 18),\n",
       " (16, 17),\n",
       " (16, 18),\n",
       " (17, 18)]"
      ]
     },
     "execution_count": 43,
     "metadata": {},
     "output_type": "execute_result"
    }
   ],
   "source": [
    "list(nparray_combinations(sdf))"
   ]
  },
  {
   "cell_type": "code",
   "execution_count": 169,
   "metadata": {
    "ExecuteTime": {
     "end_time": "2018-12-07T15:19:12.988149Z",
     "start_time": "2018-12-07T15:19:12.981770Z"
    }
   },
   "outputs": [
    {
     "name": "stdout",
     "output_type": "stream",
     "text": [
      "1 2\n",
      "1 3\n",
      "1 4\n",
      "2 3\n",
      "2 4\n",
      "3 4\n"
     ]
    }
   ],
   "source": [
    "import itertools\n",
    "c = [1,2,3,4]\n",
    "for i in itertools.combinations(c,2):\n",
    "     print (*i)"
   ]
  },
  {
   "cell_type": "code",
   "execution_count": 135,
   "metadata": {
    "ExecuteTime": {
     "end_time": "2018-12-07T14:19:04.368656Z",
     "start_time": "2018-12-07T14:19:04.364087Z"
    }
   },
   "outputs": [],
   "source": [
    "lst = [1,2,3]"
   ]
  },
  {
   "cell_type": "code",
   "execution_count": 139,
   "metadata": {
    "ExecuteTime": {
     "end_time": "2018-12-07T14:20:45.581164Z",
     "start_time": "2018-12-07T14:20:45.575662Z"
    }
   },
   "outputs": [
    {
     "name": "stdout",
     "output_type": "stream",
     "text": [
      "1 2\n",
      "1 3\n",
      "2 1\n",
      "2 3\n",
      "3 1\n",
      "3 2\n"
     ]
    }
   ],
   "source": [
    "for point in lst:\n",
    "    for j in [val for val in lst if val !=point]:\n",
    "        print(point, j)"
   ]
  },
  {
   "cell_type": "code",
   "execution_count": 143,
   "metadata": {
    "ExecuteTime": {
     "end_time": "2018-12-07T14:32:08.041514Z",
     "start_time": "2018-12-07T14:32:08.033473Z"
    }
   },
   "outputs": [
    {
     "data": {
      "text/plain": [
       "(1, 3)"
      ]
     },
     "execution_count": 143,
     "metadata": {},
     "output_type": "execute_result"
    }
   ],
   "source": [
    "tuple(sorted((3,1)))"
   ]
  },
  {
   "cell_type": "code",
   "execution_count": null,
   "metadata": {},
   "outputs": [],
   "source": []
  }
 ],
 "metadata": {
  "kernelspec": {
   "display_name": "Python [conda env:gsa]",
   "language": "python",
   "name": "conda-env-gsa-py"
  },
  "language_info": {
   "codemirror_mode": {
    "name": "ipython",
    "version": 3
   },
   "file_extension": ".py",
   "mimetype": "text/x-python",
   "name": "python",
   "nbconvert_exporter": "python",
   "pygments_lexer": "ipython3",
   "version": "3.6.6"
  }
 },
 "nbformat": 4,
 "nbformat_minor": 2
}
