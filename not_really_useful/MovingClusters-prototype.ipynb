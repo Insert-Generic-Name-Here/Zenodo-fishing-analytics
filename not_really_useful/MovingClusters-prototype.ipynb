{
 "cells": [
  {
   "cell_type": "code",
   "execution_count": 5,
   "metadata": {
    "ExecuteTime": {
     "end_time": "2018-11-20T10:45:54.466491Z",
     "start_time": "2018-11-20T10:45:54.202185Z"
    }
   },
   "outputs": [],
   "source": [
    "import pandas as pd\n",
    "import geopandas as gpd\n",
    "import matplotlib.pyplot as plt\n",
    "from sklearn.cluster import DBSCAN, MeanShift\n",
    "from sklearn.preprocessing import MinMaxScaler\n",
    "import psycopg2\n",
    "from random import choice\n",
    "import contextily as ctx\n",
    "import numpy as np\n",
    "from shapely.geometry import Point, LineString, shape\n",
    "from tqdm import tqdm_notebook\n",
    "import numpy as np\n",
    "from multiprocessing import cpu_count, Pool\n",
    "from functools import partial\n",
    "import datetime\n",
    "from lonelyboy.geospatial import plots as gsplt\n",
    "from lonelyboy.geospatial import preprocessing as gspp\n",
    "from lonelyboy.timeseries import lbtimeseries as tspp\n",
    "import configparser, os\n",
    "from scipy.spatial import distance_matrix\n",
    "import networkx as nx"
   ]
  },
  {
   "cell_type": "code",
   "execution_count": 2,
   "metadata": {
    "ExecuteTime": {
     "end_time": "2018-11-20T10:41:44.184926Z",
     "start_time": "2018-11-20T10:40:57.271772Z"
    }
   },
   "outputs": [],
   "source": [
    "properties = configparser.ConfigParser()\n",
    "# properties.read(os.path.join('.','sql_server.ini'))\n",
    "# properties = properties['SERVER']\n",
    "\n",
    "# host    = properties['host']\n",
    "# db_name = properties['db_name']\n",
    "# uname   = properties['uname']\n",
    "# pw      = properties['pw']\n",
    "# port    = properties['port']\n",
    "\n",
    "host    = '195.251.230.8'\n",
    "db_name = 'doi105281zenodo1167595'\n",
    "uname   = 'students'\n",
    "pw      = 'infol@bdbl@bs2017'\n",
    "port    = '46132'\n",
    "\n",
    "# ts>1456802710 AND ts<1456975510 \n",
    "\n",
    "# traj_sql = 'SELECT * FROM ais_data.dynamic_ships WHERE  mmsi=226179000'\n",
    "traj_sql = 'SELECT * FROM ais_data.dynamic_ships WHERE  ts>1456702710 AND ts<1456975510 '\n",
    "ports_sql = 'SELECT * FROM ports.ports_of_brittany'\n",
    "\n",
    "con = psycopg2.connect(database=db_name, user=uname, password=pw, host=host, port = port)\n",
    "traj = gpd.GeoDataFrame.from_postgis(traj_sql, con, geom_col='geom' )\n",
    "ports = gpd.GeoDataFrame.from_postgis(ports_sql, con, geom_col='geom' )\n",
    "\n",
    "con.close()\n",
    "\n",
    "\n",
    "ports.geom = ports.geom.apply(lambda x: x[0])"
   ]
  },
  {
   "cell_type": "code",
   "execution_count": null,
   "metadata": {},
   "outputs": [],
   "source": []
  },
  {
   "cell_type": "code",
   "execution_count": 174,
   "metadata": {
    "ExecuteTime": {
     "end_time": "2018-11-20T11:50:18.795874Z",
     "start_time": "2018-11-20T11:50:18.779089Z"
    }
   },
   "outputs": [],
   "source": [
    "straj = traj.sample(frac=0.00005)"
   ]
  },
  {
   "cell_type": "code",
   "execution_count": 175,
   "metadata": {
    "ExecuteTime": {
     "end_time": "2018-11-20T11:50:19.219324Z",
     "start_time": "2018-11-20T11:50:19.214957Z"
    }
   },
   "outputs": [
    {
     "data": {
      "text/plain": [
       "31"
      ]
     },
     "execution_count": 175,
     "metadata": {},
     "output_type": "execute_result"
    }
   ],
   "source": [
    "len(straj)"
   ]
  },
  {
   "cell_type": "code",
   "execution_count": 35,
   "metadata": {
    "ExecuteTime": {
     "end_time": "2018-11-20T10:51:19.545264Z",
     "start_time": "2018-11-20T10:51:19.542361Z"
    }
   },
   "outputs": [],
   "source": [
    "data = np.array([[0, 1], [3, 4], [3,7]])"
   ]
  },
  {
   "cell_type": "code",
   "execution_count": 21,
   "metadata": {
    "ExecuteTime": {
     "end_time": "2018-11-20T10:49:38.719396Z",
     "start_time": "2018-11-20T10:49:38.713793Z"
    }
   },
   "outputs": [
    {
     "data": {
      "text/plain": [
       "array([[0, 1, 2],\n",
       "       [3, 4, 5],\n",
       "       [3, 7, 8]])"
      ]
     },
     "execution_count": 21,
     "metadata": {},
     "output_type": "execute_result"
    }
   ],
   "source": [
    "data"
   ]
  },
  {
   "cell_type": "code",
   "execution_count": 24,
   "metadata": {
    "ExecuteTime": {
     "end_time": "2018-11-20T10:50:01.960045Z",
     "start_time": "2018-11-20T10:50:01.951522Z"
    }
   },
   "outputs": [],
   "source": [
    "straj.reset_index(inplace=True)\n",
    "tst = np.triu(distance_matrix(straj[['lat', 'lon']].values, straj[['lat', 'lon']].values),0)\n",
    "tst[tst == 0] = np.inf\n",
    "\n",
    "data1 = np.vstack(np.where(tst<0.3)).T"
   ]
  },
  {
   "cell_type": "code",
   "execution_count": 37,
   "metadata": {
    "ExecuteTime": {
     "end_time": "2018-11-20T10:51:24.711570Z",
     "start_time": "2018-11-20T10:51:24.706889Z"
    }
   },
   "outputs": [
    {
     "data": {
      "text/plain": [
       "array([[0, 1],\n",
       "       [3, 4],\n",
       "       [3, 7]])"
      ]
     },
     "execution_count": 37,
     "metadata": {},
     "output_type": "execute_result"
    }
   ],
   "source": [
    "data"
   ]
  },
  {
   "cell_type": "code",
   "execution_count": 83,
   "metadata": {
    "ExecuteTime": {
     "end_time": "2018-11-20T11:15:22.865308Z",
     "start_time": "2018-11-20T11:15:22.859517Z"
    }
   },
   "outputs": [
    {
     "name": "stdout",
     "output_type": "stream",
     "text": [
      "{0, 1}\n",
      "{3, 4, 7}\n"
     ]
    }
   ],
   "source": [
    "for i in connected_edges(data):\n",
    "    print(i)"
   ]
  },
  {
   "cell_type": "code",
   "execution_count": 163,
   "metadata": {
    "ExecuteTime": {
     "end_time": "2018-11-20T11:45:09.174675Z",
     "start_time": "2018-11-20T11:45:09.170936Z"
    }
   },
   "outputs": [
    {
     "data": {
      "text/plain": [
       "array([[0, 1],\n",
       "       [3, 4],\n",
       "       [3, 5]])"
      ]
     },
     "execution_count": 163,
     "metadata": {},
     "output_type": "execute_result"
    }
   ],
   "source": [
    "data"
   ]
  },
  {
   "cell_type": "code",
   "execution_count": 169,
   "metadata": {
    "ExecuteTime": {
     "end_time": "2018-11-20T11:45:46.922430Z",
     "start_time": "2018-11-20T11:45:46.916777Z"
    }
   },
   "outputs": [
    {
     "data": {
      "text/plain": [
       "[1, 2]"
      ]
     },
     "execution_count": 169,
     "metadata": {},
     "output_type": "execute_result"
    }
   ],
   "source": [
    "index_of_cluster(3, data)"
   ]
  },
  {
   "cell_type": "code",
   "execution_count": 176,
   "metadata": {
    "ExecuteTime": {
     "end_time": "2018-11-20T11:50:37.207261Z",
     "start_time": "2018-11-20T11:50:37.203931Z"
    }
   },
   "outputs": [],
   "source": [
    "def index_of_cluster(item, cluster_list):\n",
    "    position = [ind for ind, subl in enumerate(cluster_list) if item in subl]\n",
    "    if len(position)>1:\n",
    "        raise ValueError\n",
    "    if not position:\n",
    "        return [-1]\n",
    "    else:\n",
    "        return position"
   ]
  },
  {
   "cell_type": "code",
   "execution_count": 177,
   "metadata": {
    "ExecuteTime": {
     "end_time": "2018-11-20T11:50:37.500177Z",
     "start_time": "2018-11-20T11:50:37.497771Z"
    }
   },
   "outputs": [],
   "source": [
    "lst = []"
   ]
  },
  {
   "cell_type": "code",
   "execution_count": 178,
   "metadata": {
    "ExecuteTime": {
     "end_time": "2018-11-20T11:50:37.760483Z",
     "start_time": "2018-11-20T11:50:37.757466Z"
    }
   },
   "outputs": [
    {
     "data": {
      "text/plain": [
       "True"
      ]
     },
     "execution_count": 178,
     "metadata": {},
     "output_type": "execute_result"
    }
   ],
   "source": [
    "not lst"
   ]
  },
  {
   "cell_type": "code",
   "execution_count": 239,
   "metadata": {
    "ExecuteTime": {
     "end_time": "2018-11-20T12:09:12.613508Z",
     "start_time": "2018-11-20T12:09:12.607337Z"
    }
   },
   "outputs": [],
   "source": [
    "def connected_edges(data):\n",
    "    G = nx.Graph()\n",
    "    G.add_edges_from(data)\n",
    "\n",
    "    return [list(cluster) for cluster in nx.connected_components(G)]"
   ]
  },
  {
   "cell_type": "code",
   "execution_count": 240,
   "metadata": {
    "ExecuteTime": {
     "end_time": "2018-11-20T12:09:12.934600Z",
     "start_time": "2018-11-20T12:09:12.929842Z"
    }
   },
   "outputs": [],
   "source": [
    "def pairs_in_radius(df, radius):\n",
    "    df.reset_index(inplace=True)\n",
    "    distances = np.triu(distance_matrix(df[['lat', 'lon']].values, df[['lat', 'lon']].values),0)\n",
    "    distances[distances == 0] = np.inf\n",
    "    print (len(distances))\n",
    "    dst_hist.append(distances)\n",
    "\n",
    "    return np.vstack(np.where(distances<=radius)).T"
   ]
  },
  {
   "cell_type": "code",
   "execution_count": 253,
   "metadata": {
    "ExecuteTime": {
     "end_time": "2018-11-20T12:13:35.041803Z",
     "start_time": "2018-11-20T12:13:35.027668Z"
    },
    "scrolled": true
   },
   "outputs": [
    {
     "name": "stdout",
     "output_type": "stream",
     "text": [
      "he\n",
      "6\n",
      "he\n",
      "6\n"
     ]
    }
   ],
   "source": [
    "dst_hist = []\n",
    "df['flock_label'] = np.nan\n",
    "df =  df.groupby('ts', as_index=False).apply(get_flocks)"
   ]
  },
  {
   "cell_type": "code",
   "execution_count": 252,
   "metadata": {
    "ExecuteTime": {
     "end_time": "2018-11-20T12:13:32.940368Z",
     "start_time": "2018-11-20T12:13:32.935721Z"
    }
   },
   "outputs": [],
   "source": [
    "def get_flocks(timeframe):\n",
    "    print('he')\n",
    "    timeframe.reset_index(drop=True , inplace=True)\n",
    "    data = pairs_in_radius(timeframe, 0.1)\n",
    "    clusters = connected_edges(data)\n",
    "    timeframe['flock_label'] = timeframe.apply( lambda x: index_of_cluster(x.name, clusters)[0], axis=1)\n",
    "    return timeframe"
   ]
  },
  {
   "cell_type": "code",
   "execution_count": 257,
   "metadata": {
    "ExecuteTime": {
     "end_time": "2018-11-20T12:14:25.927011Z",
     "start_time": "2018-11-20T12:14:25.835375Z"
    }
   },
   "outputs": [],
   "source": [
    "straj.drop_duplicates(['mmsi'], inplace=True)"
   ]
  },
  {
   "cell_type": "code",
   "execution_count": 262,
   "metadata": {
    "ExecuteTime": {
     "end_time": "2018-11-20T12:16:50.270826Z",
     "start_time": "2018-11-20T12:16:50.253871Z"
    }
   },
   "outputs": [
    {
     "name": "stdout",
     "output_type": "stream",
     "text": [
      "              id       mmsi  status   turn  speed  course  heading       lon  \\\n",
      "104256  17511366  227318010    15.0  127.0    6.8   127.0      126 -4.487248   \n",
      "222240  18846473  227369960     NaN    NaN    0.0    23.8      511 -4.489065   \n",
      "355061  12277524  227318020    15.0 -127.0    0.0   138.0      511 -4.324250   \n",
      "355062  12277525  227705102    15.0 -127.0    0.0    24.8      511 -4.496638   \n",
      "355063  12277526  228037600    15.0 -127.0   10.2   138.8      511 -4.340718   \n",
      "355064  12277527  227941000     7.0    0.0    0.0   329.3        9 -4.327225   \n",
      "\n",
      "              lat          ts                          geom  flock_label  \n",
      "104256  48.218180  1456787020   POINT (-4.4872484 48.21818)          NaN  \n",
      "222240  48.377968  1456787020   POINT (-4.489065 48.377968)          NaN  \n",
      "355061  48.098050  1456787020     POINT (-4.32425 48.09805)          NaN  \n",
      "355062  48.382320  1456787020   POINT (-4.4966383 48.38232)          NaN  \n",
      "355063  48.116943  1456787020  POINT (-4.3407183 48.116943)          NaN  \n",
      "355064  48.100100  1456787020     POINT (-4.327225 48.1001)          NaN  \n",
      "              id       mmsi  status   turn  speed  course  heading       lon  \\\n",
      "104256  17511366  227318010    15.0  127.0    6.8   127.0      126 -4.487248   \n",
      "222240  18846473  227369960     NaN    NaN    0.0    23.8      511 -4.489065   \n",
      "355061  12277524  227318020    15.0 -127.0    0.0   138.0      511 -4.324250   \n",
      "355062  12277525  227705102    15.0 -127.0    0.0    24.8      511 -4.496638   \n",
      "355063  12277526  228037600    15.0 -127.0   10.2   138.8      511 -4.340718   \n",
      "355064  12277527  227941000     7.0    0.0    0.0   329.3        9 -4.327225   \n",
      "\n",
      "              lat          ts                          geom  flock_label  \n",
      "104256  48.218180  1456787020   POINT (-4.4872484 48.21818)          NaN  \n",
      "222240  48.377968  1456787020   POINT (-4.489065 48.377968)          NaN  \n",
      "355061  48.098050  1456787020     POINT (-4.32425 48.09805)          NaN  \n",
      "355062  48.382320  1456787020   POINT (-4.4966383 48.38232)          NaN  \n",
      "355063  48.116943  1456787020  POINT (-4.3407183 48.116943)          NaN  \n",
      "355064  48.100100  1456787020     POINT (-4.327225 48.1001)          NaN  \n"
     ]
    },
    {
     "data": {
      "text/html": [
       "<div>\n",
       "<style scoped>\n",
       "    .dataframe tbody tr th:only-of-type {\n",
       "        vertical-align: middle;\n",
       "    }\n",
       "\n",
       "    .dataframe tbody tr th {\n",
       "        vertical-align: top;\n",
       "    }\n",
       "\n",
       "    .dataframe thead th {\n",
       "        text-align: right;\n",
       "    }\n",
       "</style>\n",
       "<table border=\"1\" class=\"dataframe\">\n",
       "  <thead>\n",
       "    <tr style=\"text-align: right;\">\n",
       "      <th></th>\n",
       "    </tr>\n",
       "  </thead>\n",
       "  <tbody>\n",
       "  </tbody>\n",
       "</table>\n",
       "</div>"
      ],
      "text/plain": [
       "Empty DataFrame\n",
       "Columns: []\n",
       "Index: []"
      ]
     },
     "execution_count": 262,
     "metadata": {},
     "output_type": "execute_result"
    }
   ],
   "source": [
    "straj.groupby(['ts'], as_index=False).apply(lambda x: print(x))\n",
    "    "
   ]
  },
  {
   "cell_type": "code",
   "execution_count": null,
   "metadata": {},
   "outputs": [],
   "source": []
  },
  {
   "cell_type": "code",
   "execution_count": 258,
   "metadata": {
    "ExecuteTime": {
     "end_time": "2018-11-20T12:14:25.992662Z",
     "start_time": "2018-11-20T12:14:25.978113Z"
    }
   },
   "outputs": [
    {
     "data": {
      "text/html": [
       "<div>\n",
       "<style scoped>\n",
       "    .dataframe tbody tr th:only-of-type {\n",
       "        vertical-align: middle;\n",
       "    }\n",
       "\n",
       "    .dataframe tbody tr th {\n",
       "        vertical-align: top;\n",
       "    }\n",
       "\n",
       "    .dataframe thead th {\n",
       "        text-align: right;\n",
       "    }\n",
       "</style>\n",
       "<table border=\"1\" class=\"dataframe\">\n",
       "  <thead>\n",
       "    <tr style=\"text-align: right;\">\n",
       "      <th></th>\n",
       "      <th>id</th>\n",
       "      <th>mmsi</th>\n",
       "      <th>status</th>\n",
       "      <th>turn</th>\n",
       "      <th>speed</th>\n",
       "      <th>course</th>\n",
       "      <th>heading</th>\n",
       "      <th>lon</th>\n",
       "      <th>lat</th>\n",
       "      <th>ts</th>\n",
       "      <th>geom</th>\n",
       "      <th>flock_label</th>\n",
       "    </tr>\n",
       "  </thead>\n",
       "  <tbody>\n",
       "    <tr>\n",
       "      <th>104256</th>\n",
       "      <td>17511366</td>\n",
       "      <td>227318010</td>\n",
       "      <td>15.0</td>\n",
       "      <td>127.0</td>\n",
       "      <td>6.8</td>\n",
       "      <td>127.0</td>\n",
       "      <td>126</td>\n",
       "      <td>-4.487248</td>\n",
       "      <td>48.218180</td>\n",
       "      <td>1456787020</td>\n",
       "      <td>POINT (-4.4872484 48.21818)</td>\n",
       "      <td>NaN</td>\n",
       "    </tr>\n",
       "    <tr>\n",
       "      <th>222240</th>\n",
       "      <td>18846473</td>\n",
       "      <td>227369960</td>\n",
       "      <td>NaN</td>\n",
       "      <td>NaN</td>\n",
       "      <td>0.0</td>\n",
       "      <td>23.8</td>\n",
       "      <td>511</td>\n",
       "      <td>-4.489065</td>\n",
       "      <td>48.377968</td>\n",
       "      <td>1456787020</td>\n",
       "      <td>POINT (-4.489065 48.377968)</td>\n",
       "      <td>NaN</td>\n",
       "    </tr>\n",
       "    <tr>\n",
       "      <th>355061</th>\n",
       "      <td>12277524</td>\n",
       "      <td>227318020</td>\n",
       "      <td>15.0</td>\n",
       "      <td>-127.0</td>\n",
       "      <td>0.0</td>\n",
       "      <td>138.0</td>\n",
       "      <td>511</td>\n",
       "      <td>-4.324250</td>\n",
       "      <td>48.098050</td>\n",
       "      <td>1456787020</td>\n",
       "      <td>POINT (-4.32425 48.09805)</td>\n",
       "      <td>NaN</td>\n",
       "    </tr>\n",
       "    <tr>\n",
       "      <th>355062</th>\n",
       "      <td>12277525</td>\n",
       "      <td>227705102</td>\n",
       "      <td>15.0</td>\n",
       "      <td>-127.0</td>\n",
       "      <td>0.0</td>\n",
       "      <td>24.8</td>\n",
       "      <td>511</td>\n",
       "      <td>-4.496638</td>\n",
       "      <td>48.382320</td>\n",
       "      <td>1456787020</td>\n",
       "      <td>POINT (-4.4966383 48.38232)</td>\n",
       "      <td>NaN</td>\n",
       "    </tr>\n",
       "    <tr>\n",
       "      <th>355063</th>\n",
       "      <td>12277526</td>\n",
       "      <td>228037600</td>\n",
       "      <td>15.0</td>\n",
       "      <td>-127.0</td>\n",
       "      <td>10.2</td>\n",
       "      <td>138.8</td>\n",
       "      <td>511</td>\n",
       "      <td>-4.340718</td>\n",
       "      <td>48.116943</td>\n",
       "      <td>1456787020</td>\n",
       "      <td>POINT (-4.3407183 48.116943)</td>\n",
       "      <td>NaN</td>\n",
       "    </tr>\n",
       "    <tr>\n",
       "      <th>355064</th>\n",
       "      <td>12277527</td>\n",
       "      <td>227941000</td>\n",
       "      <td>7.0</td>\n",
       "      <td>0.0</td>\n",
       "      <td>0.0</td>\n",
       "      <td>329.3</td>\n",
       "      <td>9</td>\n",
       "      <td>-4.327225</td>\n",
       "      <td>48.100100</td>\n",
       "      <td>1456787020</td>\n",
       "      <td>POINT (-4.327225 48.1001)</td>\n",
       "      <td>NaN</td>\n",
       "    </tr>\n",
       "  </tbody>\n",
       "</table>\n",
       "</div>"
      ],
      "text/plain": [
       "              id       mmsi  status   turn  speed  course  heading       lon  \\\n",
       "104256  17511366  227318010    15.0  127.0    6.8   127.0      126 -4.487248   \n",
       "222240  18846473  227369960     NaN    NaN    0.0    23.8      511 -4.489065   \n",
       "355061  12277524  227318020    15.0 -127.0    0.0   138.0      511 -4.324250   \n",
       "355062  12277525  227705102    15.0 -127.0    0.0    24.8      511 -4.496638   \n",
       "355063  12277526  228037600    15.0 -127.0   10.2   138.8      511 -4.340718   \n",
       "355064  12277527  227941000     7.0    0.0    0.0   329.3        9 -4.327225   \n",
       "\n",
       "              lat          ts                          geom  flock_label  \n",
       "104256  48.218180  1456787020   POINT (-4.4872484 48.21818)          NaN  \n",
       "222240  48.377968  1456787020   POINT (-4.489065 48.377968)          NaN  \n",
       "355061  48.098050  1456787020     POINT (-4.32425 48.09805)          NaN  \n",
       "355062  48.382320  1456787020   POINT (-4.4966383 48.38232)          NaN  \n",
       "355063  48.116943  1456787020  POINT (-4.3407183 48.116943)          NaN  \n",
       "355064  48.100100  1456787020     POINT (-4.327225 48.1001)          NaN  "
      ]
     },
     "execution_count": 258,
     "metadata": {},
     "output_type": "execute_result"
    }
   ],
   "source": [
    "straj"
   ]
  },
  {
   "cell_type": "code",
   "execution_count": 233,
   "metadata": {
    "ExecuteTime": {
     "end_time": "2018-11-20T12:07:45.714572Z",
     "start_time": "2018-11-20T12:07:45.710804Z"
    },
    "scrolled": true
   },
   "outputs": [
    {
     "name": "stdout",
     "output_type": "stream",
     "text": [
      "2\n"
     ]
    }
   ],
   "source": [
    "import pprint\n",
    "pp = pprint.PrettyPrinter(indent=8)\n",
    "pp.pprint(len(dst_hist))"
   ]
  },
  {
   "cell_type": "code",
   "execution_count": 256,
   "metadata": {
    "ExecuteTime": {
     "end_time": "2018-11-20T12:14:25.833506Z",
     "start_time": "2018-11-20T12:14:17.340984Z"
    }
   },
   "outputs": [
    {
     "name": "stdout",
     "output_type": "stream",
     "text": [
      "ok\n"
     ]
    }
   ],
   "source": [
    "for _, df in traj.groupby('ts'):\n",
    "    if len(df)>10:\n",
    "        straj = df\n",
    "        print('ok')\n",
    "        break"
   ]
  },
  {
   "cell_type": "code",
   "execution_count": 156,
   "metadata": {
    "ExecuteTime": {
     "end_time": "2018-11-20T11:41:36.357750Z",
     "start_time": "2018-11-20T11:41:36.353560Z"
    },
    "scrolled": true
   },
   "outputs": [],
   "source": [
    "tmp.reset_index(inplace=True, drop=True)"
   ]
  },
  {
   "cell_type": "code",
   "execution_count": 160,
   "metadata": {
    "ExecuteTime": {
     "end_time": "2018-11-20T11:42:56.753665Z",
     "start_time": "2018-11-20T11:42:56.731105Z"
    }
   },
   "outputs": [
    {
     "ename": "IndexError",
     "evalue": "('list index out of range', 'occurred at index 2')",
     "output_type": "error",
     "traceback": [
      "\u001b[0;31m---------------------------------------------------------------------------\u001b[0m",
      "\u001b[0;31mIndexError\u001b[0m                                Traceback (most recent call last)",
      "\u001b[0;32m<ipython-input-160-d66fc945d4ea>\u001b[0m in \u001b[0;36m<module>\u001b[0;34m\u001b[0m\n\u001b[0;32m----> 1\u001b[0;31m \u001b[0mtmp\u001b[0m\u001b[0;34m[\u001b[0m\u001b[0;34m'flock_label'\u001b[0m\u001b[0;34m]\u001b[0m \u001b[0;34m=\u001b[0m \u001b[0mtmp\u001b[0m\u001b[0;34m.\u001b[0m\u001b[0mapply\u001b[0m\u001b[0;34m(\u001b[0m \u001b[0;32mlambda\u001b[0m \u001b[0mx\u001b[0m\u001b[0;34m:\u001b[0m \u001b[0mindex_of_cluster\u001b[0m\u001b[0;34m(\u001b[0m\u001b[0mx\u001b[0m\u001b[0;34m.\u001b[0m\u001b[0mname\u001b[0m\u001b[0;34m,\u001b[0m \u001b[0mdata\u001b[0m\u001b[0;34m)\u001b[0m\u001b[0;34m[\u001b[0m\u001b[0;36m0\u001b[0m\u001b[0;34m]\u001b[0m\u001b[0;34m,\u001b[0m \u001b[0maxis\u001b[0m\u001b[0;34m=\u001b[0m\u001b[0;36m1\u001b[0m\u001b[0;34m)\u001b[0m\u001b[0;34m\u001b[0m\u001b[0m\n\u001b[0m",
      "\u001b[0;32m~/anaconda3/envs/gsa/lib/python3.6/site-packages/pandas/core/frame.py\u001b[0m in \u001b[0;36mapply\u001b[0;34m(self, func, axis, broadcast, raw, reduce, result_type, args, **kwds)\u001b[0m\n\u001b[1;32m   6012\u001b[0m                          \u001b[0margs\u001b[0m\u001b[0;34m=\u001b[0m\u001b[0margs\u001b[0m\u001b[0;34m,\u001b[0m\u001b[0;34m\u001b[0m\u001b[0m\n\u001b[1;32m   6013\u001b[0m                          kwds=kwds)\n\u001b[0;32m-> 6014\u001b[0;31m         \u001b[0;32mreturn\u001b[0m \u001b[0mop\u001b[0m\u001b[0;34m.\u001b[0m\u001b[0mget_result\u001b[0m\u001b[0;34m(\u001b[0m\u001b[0;34m)\u001b[0m\u001b[0;34m\u001b[0m\u001b[0m\n\u001b[0m\u001b[1;32m   6015\u001b[0m \u001b[0;34m\u001b[0m\u001b[0m\n\u001b[1;32m   6016\u001b[0m     \u001b[0;32mdef\u001b[0m \u001b[0mapplymap\u001b[0m\u001b[0;34m(\u001b[0m\u001b[0mself\u001b[0m\u001b[0;34m,\u001b[0m \u001b[0mfunc\u001b[0m\u001b[0;34m)\u001b[0m\u001b[0;34m:\u001b[0m\u001b[0;34m\u001b[0m\u001b[0m\n",
      "\u001b[0;32m~/anaconda3/envs/gsa/lib/python3.6/site-packages/pandas/core/apply.py\u001b[0m in \u001b[0;36mget_result\u001b[0;34m(self)\u001b[0m\n\u001b[1;32m    140\u001b[0m             \u001b[0;32mreturn\u001b[0m \u001b[0mself\u001b[0m\u001b[0;34m.\u001b[0m\u001b[0mapply_raw\u001b[0m\u001b[0;34m(\u001b[0m\u001b[0;34m)\u001b[0m\u001b[0;34m\u001b[0m\u001b[0m\n\u001b[1;32m    141\u001b[0m \u001b[0;34m\u001b[0m\u001b[0m\n\u001b[0;32m--> 142\u001b[0;31m         \u001b[0;32mreturn\u001b[0m \u001b[0mself\u001b[0m\u001b[0;34m.\u001b[0m\u001b[0mapply_standard\u001b[0m\u001b[0;34m(\u001b[0m\u001b[0;34m)\u001b[0m\u001b[0;34m\u001b[0m\u001b[0m\n\u001b[0m\u001b[1;32m    143\u001b[0m \u001b[0;34m\u001b[0m\u001b[0m\n\u001b[1;32m    144\u001b[0m     \u001b[0;32mdef\u001b[0m \u001b[0mapply_empty_result\u001b[0m\u001b[0;34m(\u001b[0m\u001b[0mself\u001b[0m\u001b[0;34m)\u001b[0m\u001b[0;34m:\u001b[0m\u001b[0;34m\u001b[0m\u001b[0m\n",
      "\u001b[0;32m~/anaconda3/envs/gsa/lib/python3.6/site-packages/pandas/core/apply.py\u001b[0m in \u001b[0;36mapply_standard\u001b[0;34m(self)\u001b[0m\n\u001b[1;32m    246\u001b[0m \u001b[0;34m\u001b[0m\u001b[0m\n\u001b[1;32m    247\u001b[0m         \u001b[0;31m# compute the result using the series generator\u001b[0m\u001b[0;34m\u001b[0m\u001b[0;34m\u001b[0m\u001b[0m\n\u001b[0;32m--> 248\u001b[0;31m         \u001b[0mself\u001b[0m\u001b[0;34m.\u001b[0m\u001b[0mapply_series_generator\u001b[0m\u001b[0;34m(\u001b[0m\u001b[0;34m)\u001b[0m\u001b[0;34m\u001b[0m\u001b[0m\n\u001b[0m\u001b[1;32m    249\u001b[0m \u001b[0;34m\u001b[0m\u001b[0m\n\u001b[1;32m    250\u001b[0m         \u001b[0;31m# wrap results\u001b[0m\u001b[0;34m\u001b[0m\u001b[0;34m\u001b[0m\u001b[0m\n",
      "\u001b[0;32m~/anaconda3/envs/gsa/lib/python3.6/site-packages/pandas/core/apply.py\u001b[0m in \u001b[0;36mapply_series_generator\u001b[0;34m(self)\u001b[0m\n\u001b[1;32m    275\u001b[0m             \u001b[0;32mtry\u001b[0m\u001b[0;34m:\u001b[0m\u001b[0;34m\u001b[0m\u001b[0m\n\u001b[1;32m    276\u001b[0m                 \u001b[0;32mfor\u001b[0m \u001b[0mi\u001b[0m\u001b[0;34m,\u001b[0m \u001b[0mv\u001b[0m \u001b[0;32min\u001b[0m \u001b[0menumerate\u001b[0m\u001b[0;34m(\u001b[0m\u001b[0mseries_gen\u001b[0m\u001b[0;34m)\u001b[0m\u001b[0;34m:\u001b[0m\u001b[0;34m\u001b[0m\u001b[0m\n\u001b[0;32m--> 277\u001b[0;31m                     \u001b[0mresults\u001b[0m\u001b[0;34m[\u001b[0m\u001b[0mi\u001b[0m\u001b[0;34m]\u001b[0m \u001b[0;34m=\u001b[0m \u001b[0mself\u001b[0m\u001b[0;34m.\u001b[0m\u001b[0mf\u001b[0m\u001b[0;34m(\u001b[0m\u001b[0mv\u001b[0m\u001b[0;34m)\u001b[0m\u001b[0;34m\u001b[0m\u001b[0m\n\u001b[0m\u001b[1;32m    278\u001b[0m                     \u001b[0mkeys\u001b[0m\u001b[0;34m.\u001b[0m\u001b[0mappend\u001b[0m\u001b[0;34m(\u001b[0m\u001b[0mv\u001b[0m\u001b[0;34m.\u001b[0m\u001b[0mname\u001b[0m\u001b[0;34m)\u001b[0m\u001b[0;34m\u001b[0m\u001b[0m\n\u001b[1;32m    279\u001b[0m             \u001b[0;32mexcept\u001b[0m \u001b[0mException\u001b[0m \u001b[0;32mas\u001b[0m \u001b[0me\u001b[0m\u001b[0;34m:\u001b[0m\u001b[0;34m\u001b[0m\u001b[0m\n",
      "\u001b[0;32m<ipython-input-160-d66fc945d4ea>\u001b[0m in \u001b[0;36m<lambda>\u001b[0;34m(x)\u001b[0m\n\u001b[0;32m----> 1\u001b[0;31m \u001b[0mtmp\u001b[0m\u001b[0;34m[\u001b[0m\u001b[0;34m'flock_label'\u001b[0m\u001b[0;34m]\u001b[0m \u001b[0;34m=\u001b[0m \u001b[0mtmp\u001b[0m\u001b[0;34m.\u001b[0m\u001b[0mapply\u001b[0m\u001b[0;34m(\u001b[0m \u001b[0;32mlambda\u001b[0m \u001b[0mx\u001b[0m\u001b[0;34m:\u001b[0m \u001b[0mindex_of_cluster\u001b[0m\u001b[0;34m(\u001b[0m\u001b[0mx\u001b[0m\u001b[0;34m.\u001b[0m\u001b[0mname\u001b[0m\u001b[0;34m,\u001b[0m \u001b[0mdata\u001b[0m\u001b[0;34m)\u001b[0m\u001b[0;34m[\u001b[0m\u001b[0;36m0\u001b[0m\u001b[0;34m]\u001b[0m\u001b[0;34m,\u001b[0m \u001b[0maxis\u001b[0m\u001b[0;34m=\u001b[0m\u001b[0;36m1\u001b[0m\u001b[0;34m)\u001b[0m\u001b[0;34m\u001b[0m\u001b[0m\n\u001b[0m",
      "\u001b[0;31mIndexError\u001b[0m: ('list index out of range', 'occurred at index 2')"
     ]
    }
   ],
   "source": [
    "tmp['flock_label'] = tmp.apply( lambda x: index_of_cluster(x.name, data)[0], axis=1)"
   ]
  },
  {
   "cell_type": "code",
   "execution_count": 102,
   "metadata": {
    "ExecuteTime": {
     "end_time": "2018-11-20T11:22:02.821224Z",
     "start_time": "2018-11-20T11:22:02.818309Z"
    }
   },
   "outputs": [],
   "source": [
    "tmp.reset_index(inplace=True, drop=True)"
   ]
  },
  {
   "cell_type": "code",
   "execution_count": 119,
   "metadata": {
    "ExecuteTime": {
     "end_time": "2018-11-20T11:26:27.439797Z",
     "start_time": "2018-11-20T11:26:27.433291Z"
    }
   },
   "outputs": [
    {
     "name": "stdout",
     "output_type": "stream",
     "text": [
      "1\n",
      "2\n",
      "3\n",
      "4\n",
      "5\n",
      "6\n"
     ]
    },
    {
     "data": {
      "text/plain": [
       "0    None\n",
       "1    None\n",
       "2    None\n",
       "3    None\n",
       "4    None\n",
       "5    None\n",
       "dtype: object"
      ]
     },
     "execution_count": 119,
     "metadata": {},
     "output_type": "execute_result"
    }
   ],
   "source": [
    "tmp.apply(lambda x : print(int(x.name)+1), axis=1)"
   ]
  },
  {
   "cell_type": "code",
   "execution_count": 158,
   "metadata": {
    "ExecuteTime": {
     "end_time": "2018-11-20T11:42:07.782479Z",
     "start_time": "2018-11-20T11:42:07.769348Z"
    }
   },
   "outputs": [
    {
     "data": {
      "text/html": [
       "<div>\n",
       "<style scoped>\n",
       "    .dataframe tbody tr th:only-of-type {\n",
       "        vertical-align: middle;\n",
       "    }\n",
       "\n",
       "    .dataframe tbody tr th {\n",
       "        vertical-align: top;\n",
       "    }\n",
       "\n",
       "    .dataframe thead th {\n",
       "        text-align: right;\n",
       "    }\n",
       "</style>\n",
       "<table border=\"1\" class=\"dataframe\">\n",
       "  <thead>\n",
       "    <tr style=\"text-align: right;\">\n",
       "      <th></th>\n",
       "      <th>id</th>\n",
       "      <th>mmsi</th>\n",
       "      <th>status</th>\n",
       "      <th>turn</th>\n",
       "      <th>speed</th>\n",
       "      <th>course</th>\n",
       "      <th>heading</th>\n",
       "      <th>lon</th>\n",
       "      <th>lat</th>\n",
       "      <th>ts</th>\n",
       "      <th>geom</th>\n",
       "      <th>flock_label</th>\n",
       "    </tr>\n",
       "  </thead>\n",
       "  <tbody>\n",
       "    <tr>\n",
       "      <th>0</th>\n",
       "      <td>17491273</td>\n",
       "      <td>210446000</td>\n",
       "      <td>0.0</td>\n",
       "      <td>-126.0</td>\n",
       "      <td>9.2</td>\n",
       "      <td>208.6</td>\n",
       "      <td>203</td>\n",
       "      <td>-6.697908</td>\n",
       "      <td>47.744230</td>\n",
       "      <td>1456713221</td>\n",
       "      <td>POINT (-6.6979084 47.74423)</td>\n",
       "      <td>NaN</td>\n",
       "    </tr>\n",
       "    <tr>\n",
       "      <th>1</th>\n",
       "      <td>17491275</td>\n",
       "      <td>210446000</td>\n",
       "      <td>0.0</td>\n",
       "      <td>0.0</td>\n",
       "      <td>9.2</td>\n",
       "      <td>210.0</td>\n",
       "      <td>203</td>\n",
       "      <td>-6.698130</td>\n",
       "      <td>47.743973</td>\n",
       "      <td>1456713228</td>\n",
       "      <td>POINT (-6.69813 47.743973)</td>\n",
       "      <td>NaN</td>\n",
       "    </tr>\n",
       "    <tr>\n",
       "      <th>2</th>\n",
       "      <td>17491438</td>\n",
       "      <td>210446000</td>\n",
       "      <td>0.0</td>\n",
       "      <td>-126.0</td>\n",
       "      <td>9.4</td>\n",
       "      <td>208.2</td>\n",
       "      <td>204</td>\n",
       "      <td>-6.744282</td>\n",
       "      <td>47.687225</td>\n",
       "      <td>1456714715</td>\n",
       "      <td>POINT (-6.744282 47.687225)</td>\n",
       "      <td>NaN</td>\n",
       "    </tr>\n",
       "    <tr>\n",
       "      <th>3</th>\n",
       "      <td>17491442</td>\n",
       "      <td>210446000</td>\n",
       "      <td>0.0</td>\n",
       "      <td>-126.0</td>\n",
       "      <td>9.4</td>\n",
       "      <td>209.6</td>\n",
       "      <td>203</td>\n",
       "      <td>-6.744630</td>\n",
       "      <td>47.686806</td>\n",
       "      <td>1456714725</td>\n",
       "      <td>POINT (-6.74463 47.686806)</td>\n",
       "      <td>NaN</td>\n",
       "    </tr>\n",
       "    <tr>\n",
       "      <th>4</th>\n",
       "      <td>17491671</td>\n",
       "      <td>210446000</td>\n",
       "      <td>0.0</td>\n",
       "      <td>0.0</td>\n",
       "      <td>9.4</td>\n",
       "      <td>205.5</td>\n",
       "      <td>202</td>\n",
       "      <td>-6.809920</td>\n",
       "      <td>47.605293</td>\n",
       "      <td>1456716828</td>\n",
       "      <td>POINT (-6.80992 47.605293)</td>\n",
       "      <td>NaN</td>\n",
       "    </tr>\n",
       "    <tr>\n",
       "      <th>5</th>\n",
       "      <td>17490658</td>\n",
       "      <td>210446000</td>\n",
       "      <td>0.0</td>\n",
       "      <td>127.0</td>\n",
       "      <td>9.3</td>\n",
       "      <td>206.0</td>\n",
       "      <td>195</td>\n",
       "      <td>-6.517879</td>\n",
       "      <td>47.992603</td>\n",
       "      <td>1456706919</td>\n",
       "      <td>POINT (-6.5178785 47.992603)</td>\n",
       "      <td>NaN</td>\n",
       "    </tr>\n",
       "  </tbody>\n",
       "</table>\n",
       "</div>"
      ],
      "text/plain": [
       "         id       mmsi  status   turn  speed  course  heading       lon  \\\n",
       "0  17491273  210446000     0.0 -126.0    9.2   208.6      203 -6.697908   \n",
       "1  17491275  210446000     0.0    0.0    9.2   210.0      203 -6.698130   \n",
       "2  17491438  210446000     0.0 -126.0    9.4   208.2      204 -6.744282   \n",
       "3  17491442  210446000     0.0 -126.0    9.4   209.6      203 -6.744630   \n",
       "4  17491671  210446000     0.0    0.0    9.4   205.5      202 -6.809920   \n",
       "5  17490658  210446000     0.0  127.0    9.3   206.0      195 -6.517879   \n",
       "\n",
       "         lat          ts                          geom  flock_label  \n",
       "0  47.744230  1456713221   POINT (-6.6979084 47.74423)          NaN  \n",
       "1  47.743973  1456713228    POINT (-6.69813 47.743973)          NaN  \n",
       "2  47.687225  1456714715   POINT (-6.744282 47.687225)          NaN  \n",
       "3  47.686806  1456714725    POINT (-6.74463 47.686806)          NaN  \n",
       "4  47.605293  1456716828    POINT (-6.80992 47.605293)          NaN  \n",
       "5  47.992603  1456706919  POINT (-6.5178785 47.992603)          NaN  "
      ]
     },
     "execution_count": 158,
     "metadata": {},
     "output_type": "execute_result"
    }
   ],
   "source": [
    "tmp"
   ]
  },
  {
   "cell_type": "code",
   "execution_count": 159,
   "metadata": {
    "ExecuteTime": {
     "end_time": "2018-11-20T11:42:51.024402Z",
     "start_time": "2018-11-20T11:42:51.020747Z"
    }
   },
   "outputs": [],
   "source": [
    "data = np.array([[0, 1], [3, 4], [3,5]])"
   ]
  },
  {
   "cell_type": "code",
   "execution_count": null,
   "metadata": {},
   "outputs": [],
   "source": []
  }
 ],
 "metadata": {
  "kernelspec": {
   "display_name": "Python 3",
   "language": "python",
   "name": "python3"
  },
  "language_info": {
   "codemirror_mode": {
    "name": "ipython",
    "version": 3
   },
   "file_extension": ".py",
   "mimetype": "text/x-python",
   "name": "python",
   "nbconvert_exporter": "python",
   "pygments_lexer": "ipython3",
   "version": "3.6.7"
  },
  "varInspector": {
   "cols": {
    "lenName": 16,
    "lenType": 16,
    "lenVar": 40
   },
   "kernels_config": {
    "python": {
     "delete_cmd_postfix": "",
     "delete_cmd_prefix": "del ",
     "library": "var_list.py",
     "varRefreshCmd": "print(var_dic_list())"
    },
    "r": {
     "delete_cmd_postfix": ") ",
     "delete_cmd_prefix": "rm(",
     "library": "var_list.r",
     "varRefreshCmd": "cat(var_dic_list()) "
    }
   },
   "types_to_exclude": [
    "module",
    "function",
    "builtin_function_or_method",
    "instance",
    "_Feature"
   ],
   "window_display": false
  }
 },
 "nbformat": 4,
 "nbformat_minor": 2
}
