{
 "cells": [
  {
   "cell_type": "code",
   "execution_count": 1,
   "metadata": {},
   "outputs": [],
   "source": [
    "import pandas as pd\n",
    "import geopandas as gpd\n",
    "import numpy as np\n",
    "from shapely.geometry import Point\n",
    "from matplotlib import pyplot as plt\n",
    "import matplotlib.gridspec as gridspec\n",
    "from random import choice\n",
    "pd.options.mode.chained_assignment = None \n",
    "import configparser\n",
    "import pickle\n",
    "import psycopg2\n",
    "import psycopg2.extras\n",
    "import contextily as ctx"
   ]
  },
  {
   "cell_type": "code",
   "execution_count": 2,
   "metadata": {},
   "outputs": [],
   "source": [
    "import os, sys\n",
    "sys.path.append(os.path.join(os.path.expanduser('~'), 'Documents/Insert-Generic-Name-Here'))\n",
    "# sys.path\n",
    "\n",
    "from lonelyboy.geospatial import plots as gsplt\n",
    "from lonelyboy.geospatial import preprocessing as gspp\n",
    "from lonelyboy.timeseries import lbtimeseries as tspp\n",
    "# from lonelyboy.geospatial import group_patterns as gsgp\n",
    "\n",
    "\n",
    "# from IPython.core.interactiveshell import InteractiveShell\n",
    "# InteractiveShell.ast_node_interactivity = \"all\"\n",
    "import PyQt5\n",
    "import matplotlib.pyplot as plt\n",
    "from matplotlib import style;  style.use('ggplot')\n",
    "\n",
    "style.use('ggplot')\n",
    "\n",
    "get_ipython().magic('matplotlib qt')\n",
    "# get_ipython().magic('matplotlib inline')"
   ]
  },
  {
   "cell_type": "code",
   "execution_count": 3,
   "metadata": {},
   "outputs": [],
   "source": [
    "PLT_IMAGE_WIDTH = 3.748\n",
    "PLT_IMAGE_HEIGHT = PLT_IMAGE_WIDTH/1.618\n",
    "\n",
    "plt.rc('text', usetex=True)\n",
    "plt.rc('font', family='sans-serif', size=8)\n",
    "plt.rcParams['figure.figsize'] = (PLT_IMAGE_WIDTH, PLT_IMAGE_HEIGHT)"
   ]
  },
  {
   "cell_type": "code",
   "execution_count": 4,
   "metadata": {},
   "outputs": [],
   "source": [
    "def tuple_str_to_tuple(_str_):\n",
    "    return tuple(map(int, _str_[1:-1].split(',')))\n",
    "\n",
    "def tuple_str_to_list(_str_):\n",
    "    return list(map(int, _str_[1:-1].split(',')))"
   ]
  },
  {
   "cell_type": "markdown",
   "metadata": {},
   "source": [
    "# Reading Data (mode: Flocks, card:3, dt:3, dist:2778)"
   ]
  },
  {
   "cell_type": "code",
   "execution_count": 15,
   "metadata": {
    "scrolled": true
   },
   "outputs": [
    {
     "name": "stdout",
     "output_type": "stream",
     "text": [
      "12911\n"
     ]
    },
    {
     "data": {
      "text/html": [
       "<div>\n",
       "<style scoped>\n",
       "    .dataframe tbody tr th:only-of-type {\n",
       "        vertical-align: middle;\n",
       "    }\n",
       "\n",
       "    .dataframe tbody tr th {\n",
       "        vertical-align: top;\n",
       "    }\n",
       "\n",
       "    .dataframe thead th {\n",
       "        text-align: right;\n",
       "    }\n",
       "</style>\n",
       "<table border=\"1\" class=\"dataframe\">\n",
       "  <thead>\n",
       "    <tr style=\"text-align: right;\">\n",
       "      <th></th>\n",
       "      <th>clusters</th>\n",
       "      <th>st</th>\n",
       "      <th>et</th>\n",
       "      <th>dur</th>\n",
       "    </tr>\n",
       "  </thead>\n",
       "  <tbody>\n",
       "    <tr>\n",
       "      <th>0</th>\n",
       "      <td>(227574020, 227592820, 227612860, 227635210, 2...</td>\n",
       "      <td>2015-10-01 06:21:00</td>\n",
       "      <td>2015-10-01 06:43:00</td>\n",
       "      <td>23</td>\n",
       "    </tr>\n",
       "    <tr>\n",
       "      <th>1</th>\n",
       "      <td>(227005550, 227574020, 227612860, 227635210, 2...</td>\n",
       "      <td>2015-10-01 07:41:00</td>\n",
       "      <td>2015-10-01 07:51:00</td>\n",
       "      <td>11</td>\n",
       "    </tr>\n",
       "    <tr>\n",
       "      <th>2</th>\n",
       "      <td>(227574020, 227612860, 227635210, 227705102, 2...</td>\n",
       "      <td>2015-10-01 07:41:00</td>\n",
       "      <td>2015-10-01 07:53:00</td>\n",
       "      <td>13</td>\n",
       "    </tr>\n",
       "    <tr>\n",
       "      <th>3</th>\n",
       "      <td>(227005550, 227574020, 227592820, 227612860, 2...</td>\n",
       "      <td>2015-10-01 07:28:00</td>\n",
       "      <td>2015-10-01 07:57:00</td>\n",
       "      <td>30</td>\n",
       "    </tr>\n",
       "    <tr>\n",
       "      <th>4</th>\n",
       "      <td>(227005550, 227574020, 227612860, 227635210, 2...</td>\n",
       "      <td>2015-10-01 08:08:00</td>\n",
       "      <td>2015-10-01 08:22:00</td>\n",
       "      <td>15</td>\n",
       "    </tr>\n",
       "  </tbody>\n",
       "</table>\n",
       "</div>"
      ],
      "text/plain": [
       "                                            clusters                   st  \\\n",
       "0  (227574020, 227592820, 227612860, 227635210, 2...  2015-10-01 06:21:00   \n",
       "1  (227005550, 227574020, 227612860, 227635210, 2...  2015-10-01 07:41:00   \n",
       "2  (227574020, 227612860, 227635210, 227705102, 2...  2015-10-01 07:41:00   \n",
       "3  (227005550, 227574020, 227592820, 227612860, 2...  2015-10-01 07:28:00   \n",
       "4  (227005550, 227574020, 227612860, 227635210, 2...  2015-10-01 08:08:00   \n",
       "\n",
       "                    et  dur  \n",
       "0  2015-10-01 06:43:00   23  \n",
       "1  2015-10-01 07:51:00   11  \n",
       "2  2015-10-01 07:53:00   13  \n",
       "3  2015-10-01 07:57:00   30  \n",
       "4  2015-10-01 08:22:00   15  "
      ]
     },
     "execution_count": 15,
     "metadata": {},
     "output_type": "execute_result"
    }
   ],
   "source": [
    "df = pd.read_csv('./data/csv/flocks_card_5_dt_10_dist_2778.csv')\n",
    "print(len(df))\n",
    "df.head()"
   ]
  },
  {
   "cell_type": "code",
   "execution_count": null,
   "metadata": {},
   "outputs": [],
   "source": [
    "a = np.array([227142200, 228160000, 228167900])\n",
    "a[[True, False, True]]"
   ]
  },
  {
   "cell_type": "code",
   "execution_count": null,
   "metadata": {},
   "outputs": [],
   "source": [
    "mmsis_fisheries = np.load('./data/pkl/fisheries_mmsis.npy')\n",
    "mmsis_cargos = np.load('./data/pkl/cargos_mmsis.npy')"
   ]
  },
  {
   "cell_type": "code",
   "execution_count": null,
   "metadata": {},
   "outputs": [],
   "source": [
    "ports = pd.read_pickle('./data/pkl/ports_raw.pkl')\n",
    "ports = ports.loc[ports.libelle_po.isin(['Brest', 'Douarnenez'])]"
   ]
  },
  {
   "cell_type": "markdown",
   "metadata": {},
   "source": [
    "# Getting the flocks that have **ONLY** fisheries"
   ]
  },
  {
   "cell_type": "code",
   "execution_count": null,
   "metadata": {},
   "outputs": [],
   "source": [
    "flocks_of_fisheries_indices = df.apply(lambda x: np.isin(tuple_str_to_list(x.clusters), mmsis_fisheries).all(), axis=1)\n",
    "flocks_of_cargos_indices = df.apply(lambda x: np.isin(tuple_str_to_list(x.clusters), mmsis_cargos).all(), axis=1)"
   ]
  },
  {
   "cell_type": "code",
   "execution_count": null,
   "metadata": {},
   "outputs": [],
   "source": [
    "flocks_of_fisheries = df[flocks_of_fisheries_indices]\n",
    "flocks_of_fisheries.loc[:, 'clusters'] = flocks_of_fisheries.apply(lambda x: tuple_str_to_list(x.clusters), axis=1)\n",
    "# flocks_of_fisheries"
   ]
  },
  {
   "cell_type": "code",
   "execution_count": null,
   "metadata": {},
   "outputs": [],
   "source": [
    "len(flocks_of_fisheries) # Before Thorough Filtering"
   ]
  },
  {
   "cell_type": "code",
   "execution_count": null,
   "metadata": {},
   "outputs": [],
   "source": [
    "flocks_of_cargos = df[flocks_of_cargos_indices]\n",
    "flocks_of_cargos.loc[:, 'clusters'] = flocks_of_cargos.apply(lambda x: tuple_str_to_list(x.clusters), axis=1)\n",
    "# flocks_of_cargos"
   ]
  },
  {
   "cell_type": "code",
   "execution_count": null,
   "metadata": {},
   "outputs": [],
   "source": [
    "len(flocks_of_cargos) # Before Thorough Filtering"
   ]
  },
  {
   "cell_type": "code",
   "execution_count": null,
   "metadata": {},
   "outputs": [],
   "source": [
    "flocks_of_cargos.reset_index(drop=True)"
   ]
  },
  {
   "cell_type": "code",
   "execution_count": null,
   "metadata": {},
   "outputs": [],
   "source": [
    "flocks_of_fisheries.reset_index(drop=True)"
   ]
  },
  {
   "cell_type": "markdown",
   "metadata": {},
   "source": [
    "# Now comes the interesting part... finding a good flock to plot"
   ]
  },
  {
   "cell_type": "code",
   "execution_count": 75,
   "metadata": {},
   "outputs": [],
   "source": [
    "properties = configparser.ConfigParser()\n",
    "properties.read(os.path.join('.','sql_server.ini'))\n",
    "properties = properties['SERVER']\n",
    "\n",
    "host    = properties['host']\n",
    "db_name = properties['db_name']\n",
    "uname   = properties['uname']\n",
    "pw      = properties['pw']\n",
    "port    = properties['port']\n",
    "query = \"select * from ais_data.dynamic_ships_min_trip_card_3_segmented_12h_resampled_1min_v2 where mmsi in %s and datetime between '%s' and '%s';\""
   ]
  },
  {
   "cell_type": "code",
   "execution_count": null,
   "metadata": {},
   "outputs": [],
   "source": [
    "gp_idx = 16787 # best for fisheries so far\n",
    "# gp_idx = 26\n",
    "\n",
    "gp_cluster = flocks_of_fisheries.iloc[gp_idx, 0]\n",
    "gp_st = flocks_of_fisheries.iloc[gp_idx, 1]\n",
    "gp_et = flocks_of_fisheries.iloc[gp_idx, 2]\n",
    "\n",
    "traj = pd.read_sql_query(query%(tuple(gp_cluster), gp_st, gp_et), con=con)\n",
    "traj = gspp.gdf_from_df(traj)\n",
    "    \n",
    "df1 = traj.copy()\n",
    "df2 = ports.copy()\n",
    "\n",
    "df1.crs = {'init': 'epsg:4326'}\n",
    "ax = df1.to_crs(epsg=3857).plot(figsize=(PLT_FIG_WIDTH, PLT_FIG_HEIGHT), column='mmsi', cmap='tab20')\n",
    "\n",
    "df2.crs = {'init': 'epsg:4326'}\n",
    "df2.to_crs(epsg=3857).plot(figsize=(PLT_FIG_WIDTH, PLT_FIG_HEIGHT), color='black', ax=ax)\n",
    "\n",
    "ctx.add_basemap(ax, attribution='')\n",
    "ax.margins(0)\n",
    "ax.tick_params(left=False, labelleft=False, bottom=False, labelbottom=False)\n",
    "plt.title(f'Vessels: {gp_cluster},\\nStart: {gp_st}, End:{gp_et}', size=8)"
   ]
  },
  {
   "cell_type": "markdown",
   "metadata": {},
   "source": [
    "# **#1** Average Duration per Group Pattern"
   ]
  },
  {
   "cell_type": "code",
   "execution_count": 6,
   "metadata": {},
   "outputs": [
    {
     "data": {
      "text/html": [
       "<div>\n",
       "<style scoped>\n",
       "    .dataframe tbody tr th:only-of-type {\n",
       "        vertical-align: middle;\n",
       "    }\n",
       "\n",
       "    .dataframe tbody tr th {\n",
       "        vertical-align: top;\n",
       "    }\n",
       "\n",
       "    .dataframe thead th {\n",
       "        text-align: right;\n",
       "    }\n",
       "</style>\n",
       "<table border=\"1\" class=\"dataframe\">\n",
       "  <thead>\n",
       "    <tr style=\"text-align: right;\">\n",
       "      <th></th>\n",
       "      <th>clusters</th>\n",
       "      <th>st</th>\n",
       "      <th>et</th>\n",
       "      <th>dur</th>\n",
       "      <th>duration</th>\n",
       "    </tr>\n",
       "  </thead>\n",
       "  <tbody>\n",
       "    <tr>\n",
       "      <th>0</th>\n",
       "      <td>(227574020, 227592820, 227612860, 227635210, 2...</td>\n",
       "      <td>2015-10-01 06:21:00</td>\n",
       "      <td>2015-10-01 06:43:00</td>\n",
       "      <td>23</td>\n",
       "      <td>22</td>\n",
       "    </tr>\n",
       "    <tr>\n",
       "      <th>1</th>\n",
       "      <td>(227005550, 227574020, 227612860, 227635210, 2...</td>\n",
       "      <td>2015-10-01 07:41:00</td>\n",
       "      <td>2015-10-01 07:51:00</td>\n",
       "      <td>11</td>\n",
       "      <td>10</td>\n",
       "    </tr>\n",
       "    <tr>\n",
       "      <th>2</th>\n",
       "      <td>(227574020, 227612860, 227635210, 227705102, 2...</td>\n",
       "      <td>2015-10-01 07:41:00</td>\n",
       "      <td>2015-10-01 07:53:00</td>\n",
       "      <td>13</td>\n",
       "      <td>12</td>\n",
       "    </tr>\n",
       "    <tr>\n",
       "      <th>3</th>\n",
       "      <td>(227005550, 227574020, 227592820, 227612860, 2...</td>\n",
       "      <td>2015-10-01 07:28:00</td>\n",
       "      <td>2015-10-01 07:57:00</td>\n",
       "      <td>30</td>\n",
       "      <td>29</td>\n",
       "    </tr>\n",
       "    <tr>\n",
       "      <th>4</th>\n",
       "      <td>(227005550, 227574020, 227612860, 227635210, 2...</td>\n",
       "      <td>2015-10-01 08:08:00</td>\n",
       "      <td>2015-10-01 08:22:00</td>\n",
       "      <td>15</td>\n",
       "      <td>14</td>\n",
       "    </tr>\n",
       "  </tbody>\n",
       "</table>\n",
       "</div>"
      ],
      "text/plain": [
       "                                            clusters                   st  \\\n",
       "0  (227574020, 227592820, 227612860, 227635210, 2...  2015-10-01 06:21:00   \n",
       "1  (227005550, 227574020, 227612860, 227635210, 2...  2015-10-01 07:41:00   \n",
       "2  (227574020, 227612860, 227635210, 227705102, 2...  2015-10-01 07:41:00   \n",
       "3  (227005550, 227574020, 227592820, 227612860, 2...  2015-10-01 07:28:00   \n",
       "4  (227005550, 227574020, 227612860, 227635210, 2...  2015-10-01 08:08:00   \n",
       "\n",
       "                    et  dur  duration  \n",
       "0  2015-10-01 06:43:00   23        22  \n",
       "1  2015-10-01 07:51:00   11        10  \n",
       "2  2015-10-01 07:53:00   13        12  \n",
       "3  2015-10-01 07:57:00   30        29  \n",
       "4  2015-10-01 08:22:00   15        14  "
      ]
     },
     "execution_count": 6,
     "metadata": {},
     "output_type": "execute_result"
    }
   ],
   "source": [
    "df.loc[:, 'duration'] = (df.et.apply(pd.to_datetime, 's') - df.st.apply(pd.to_datetime, 's')).apply(lambda x: x.seconds//60)\n",
    "df.head()"
   ]
  },
  {
   "cell_type": "code",
   "execution_count": 7,
   "metadata": {},
   "outputs": [
    {
     "data": {
      "text/plain": [
       "count    12911.000000\n",
       "mean        39.217489\n",
       "std         64.344426\n",
       "min         10.000000\n",
       "25%         13.000000\n",
       "50%         19.000000\n",
       "75%         38.000000\n",
       "max       1432.000000\n",
       "Name: duration, dtype: float64"
      ]
     },
     "execution_count": 7,
     "metadata": {},
     "output_type": "execute_result"
    }
   ],
   "source": [
    "df['duration'].describe()"
   ]
  },
  {
   "cell_type": "code",
   "execution_count": 9,
   "metadata": {},
   "outputs": [],
   "source": [
    "out = pd.cut(df['duration'], [df['duration'].min(), 16, 32, 64, 128, 256, 512, 1024, df['duration'].max()])\n",
    "\n",
    "ax = out.value_counts(sort=False).plot.bar(figsize=(PLT_IMAGE_WIDTH, PLT_IMAGE_HEIGHT), fontsize=8, width=0.75, cmap='tab20', rot=35)\n",
    "\n",
    "# plt.ticklabel_format(style='sci', axis='y', scilimits=(0,0))\n",
    "plt.suptitle(r'\\textbf{Average Duration per Group Pattern (Flocks)}', fontsize=8, y=1)\n",
    "plt.xlabel(r'\\textbf{Duration (minutes)}', fontsize=8)\n",
    "plt.ylabel(r'\\textbf{\\#Patterns}', fontsize=8)\n",
    "\n",
    "plt.savefig(os.path.join('..', 'AvgDurationPerGroupPattern_Flocks_NoSciNotation.pdf'), dpi=300, bbox_inches='tight')\n",
    "# plt.savefig(os.path.join('..', 'AvgDurationPerGroupPattern_Flocks.pdf'), dpi=300, bbox_inches='tight')"
   ]
  },
  {
   "cell_type": "markdown",
   "metadata": {},
   "source": [
    "# **#2** Distribution of Group Patterns Size (Flocks)"
   ]
  },
  {
   "cell_type": "code",
   "execution_count": 67,
   "metadata": {
    "scrolled": true
   },
   "outputs": [],
   "source": [
    "cluster_size = df.clusters.apply(tuple_str_to_list).apply(len)\n",
    "cluster_size = cluster_size.value_counts()\n",
    "cluster_size = cluster_size.to_frame()\n",
    "# cluster_size"
   ]
  },
  {
   "cell_type": "code",
   "execution_count": 68,
   "metadata": {},
   "outputs": [],
   "source": [
    "PLT_IMAGE_WIDTH_PC = 4.748\n",
    "PLT_IMAGE_HEIGHT_PC = PLT_IMAGE_WIDTH_PC/1.618\n",
    "\n",
    "df_piechart = pd.DataFrame({'#Clusters':cluster_size['clusters'].values},\n",
    "                           index=pd.Series(cluster_size.index.values).apply(lambda x: f'{x} Vessels'))\n",
    "percent = 100.*df_piechart['#Clusters']/df_piechart['#Clusters'].sum()\n",
    "\n",
    "ax = df_piechart.plot.pie(y='#Clusters', \n",
    "                   figsize=(PLT_IMAGE_WIDTH_PC, PLT_IMAGE_HEIGHT_PC),\n",
    "                   startangle=0,\n",
    "                   autopct='', \n",
    "                   pctdistance=0.80,\n",
    "                   cmap='tab20',\n",
    "                   legend=False)\n",
    "ax.axis('equal')\n",
    "\n",
    "labels = ['{0}\\t-\\t{1:1.3f}\\%%'.format(i,j) for i,j in zip(df_piechart.index, percent)]\n",
    "\n",
    "plt.legend(ax.patches, labels, loc='center right', \n",
    "           bbox_to_anchor=(0.9,0.5), fontsize=8, bbox_transform=plt.gcf().transFigure)\n",
    "# plt.legend(ax.patches, labels, loc='center right', \n",
    "#            bbox_to_anchor=(1,0.5), fontsize=8, bbox_transform=plt.gcf().transFigure)\n",
    "plt.subplots_adjust(left=0., bottom=0.1, right=0.75)\n",
    "\n",
    "\n",
    "for text in ax.texts:\n",
    "    text.set_fontsize(8)\n",
    "    if ' ' in text.get_text():\n",
    "        text.set_color('white')\n",
    "\n",
    "plt.ylabel('')\n",
    "plt.title(r'\\textbf{Distribution of Group Patterns (Flocks) Size}', fontsize=8)\n",
    "plt.savefig('../DistributionOfGroupPatternsSize_Flocks_V2.pdf', dpi=300, bbox_inches='tight')"
   ]
  },
  {
   "cell_type": "code",
   "execution_count": null,
   "metadata": {},
   "outputs": [],
   "source": [
    "# df_piechart = pd.DataFrame({'#Clusters':cluster_size['clusters'].values},\n",
    "#                  index=pd.Series(cluster_size.index.values).apply(lambda x: f'{x} Vessels'))\n",
    "# # print (df_piechart)\n",
    "\n",
    "# ax = df_piechart.plot.pie(y='#Clusters', \n",
    "#                    figsize=(PLT_FIG_WIDTH, PLT_FIG_HEIGHT),\n",
    "#                    startangle=0,\n",
    "#                    autopct='%1.1f%%', \n",
    "#                    pctdistance=0.80,\n",
    "#                    cmap='tab20',\n",
    "#                    legend=True)\n",
    "# ax.axis('equal')\n",
    "\n",
    "# for text in ax.texts:\n",
    "#     text.set_fontsize(8)\n",
    "#     if ' ' in text.get_text():\n",
    "#         text.set_color('grey')\n",
    "\n",
    "# plt.ylabel('')\n",
    "# plt.savefig('../DistributionOfGroupPatternsSize2.pdf', dpi=300, bbox_inches='tight')"
   ]
  },
  {
   "cell_type": "code",
   "execution_count": 70,
   "metadata": {},
   "outputs": [],
   "source": [
    "df_barchart = pd.DataFrame({r'\\#Clusters':cluster_size['clusters']},\n",
    "                 index=cluster_size.index)\n",
    "\n",
    "df_barchart.plot.bar(rot=0, legend=False, cmap='tab20c')\n",
    "# plt.ticklabel_format(style='sci', axis='y', scilimits=(0,0))\n",
    "plt.xlabel(r'\\textbf{\\#Vessels}')\n",
    "plt.ylabel(r'\\textbf{\\#Group Patterns}')\n",
    "plt.suptitle(r'\\textbf{Group Pattern (Flocks) Size Distribution}', y=1)\n",
    "\n",
    "# plt.savefig('../DistributionOfGroupPatternsSize3.pdf', dpi=300, bbox_inches='tight')\n",
    "plt.savefig('../DistributionOfGroupPatternsSize3_NoSciNotation.pdf', dpi=300, bbox_inches='tight')"
   ]
  },
  {
   "cell_type": "markdown",
   "metadata": {},
   "source": [
    "# **#3** Avg Velocity per Group Pattern (Flocks)"
   ]
  },
  {
   "cell_type": "code",
   "execution_count": 17,
   "metadata": {
    "scrolled": true
   },
   "outputs": [],
   "source": [
    "df.loc[:,'clusters'] = df.clusters.apply(tuple_str_to_list)"
   ]
  },
  {
   "cell_type": "code",
   "execution_count": 19,
   "metadata": {},
   "outputs": [
    {
     "data": {
      "text/html": [
       "<div>\n",
       "<style scoped>\n",
       "    .dataframe tbody tr th:only-of-type {\n",
       "        vertical-align: middle;\n",
       "    }\n",
       "\n",
       "    .dataframe tbody tr th {\n",
       "        vertical-align: top;\n",
       "    }\n",
       "\n",
       "    .dataframe thead th {\n",
       "        text-align: right;\n",
       "    }\n",
       "</style>\n",
       "<table border=\"1\" class=\"dataframe\">\n",
       "  <thead>\n",
       "    <tr style=\"text-align: right;\">\n",
       "      <th></th>\n",
       "      <th>clusters</th>\n",
       "      <th>st</th>\n",
       "      <th>et</th>\n",
       "      <th>dur</th>\n",
       "    </tr>\n",
       "  </thead>\n",
       "  <tbody>\n",
       "    <tr>\n",
       "      <th>0</th>\n",
       "      <td>[227574020, 227592820, 227612860, 227635210, 2...</td>\n",
       "      <td>2015-10-01 06:21:00</td>\n",
       "      <td>2015-10-01 06:43:00</td>\n",
       "      <td>23</td>\n",
       "    </tr>\n",
       "    <tr>\n",
       "      <th>1</th>\n",
       "      <td>[227005550, 227574020, 227612860, 227635210, 2...</td>\n",
       "      <td>2015-10-01 07:41:00</td>\n",
       "      <td>2015-10-01 07:51:00</td>\n",
       "      <td>11</td>\n",
       "    </tr>\n",
       "    <tr>\n",
       "      <th>2</th>\n",
       "      <td>[227574020, 227612860, 227635210, 227705102, 2...</td>\n",
       "      <td>2015-10-01 07:41:00</td>\n",
       "      <td>2015-10-01 07:53:00</td>\n",
       "      <td>13</td>\n",
       "    </tr>\n",
       "    <tr>\n",
       "      <th>3</th>\n",
       "      <td>[227005550, 227574020, 227592820, 227612860, 2...</td>\n",
       "      <td>2015-10-01 07:28:00</td>\n",
       "      <td>2015-10-01 07:57:00</td>\n",
       "      <td>30</td>\n",
       "    </tr>\n",
       "    <tr>\n",
       "      <th>4</th>\n",
       "      <td>[227005550, 227574020, 227612860, 227635210, 2...</td>\n",
       "      <td>2015-10-01 08:08:00</td>\n",
       "      <td>2015-10-01 08:22:00</td>\n",
       "      <td>15</td>\n",
       "    </tr>\n",
       "  </tbody>\n",
       "</table>\n",
       "</div>"
      ],
      "text/plain": [
       "                                            clusters                   st  \\\n",
       "0  [227574020, 227592820, 227612860, 227635210, 2...  2015-10-01 06:21:00   \n",
       "1  [227005550, 227574020, 227612860, 227635210, 2...  2015-10-01 07:41:00   \n",
       "2  [227574020, 227612860, 227635210, 227705102, 2...  2015-10-01 07:41:00   \n",
       "3  [227005550, 227574020, 227592820, 227612860, 2...  2015-10-01 07:28:00   \n",
       "4  [227005550, 227574020, 227612860, 227635210, 2...  2015-10-01 08:08:00   \n",
       "\n",
       "                    et  dur  \n",
       "0  2015-10-01 06:43:00   23  \n",
       "1  2015-10-01 07:51:00   11  \n",
       "2  2015-10-01 07:53:00   13  \n",
       "3  2015-10-01 07:57:00   30  \n",
       "4  2015-10-01 08:22:00   15  "
      ]
     },
     "execution_count": 19,
     "metadata": {},
     "output_type": "execute_result"
    }
   ],
   "source": [
    "df.head()"
   ]
  },
  {
   "cell_type": "code",
   "execution_count": 36,
   "metadata": {},
   "outputs": [],
   "source": [
    "from tqdm import tqdm_notebook\n",
    "import multiprocessing\n",
    "\n",
    "def get_gp_avg_velocity(x, conn):\n",
    "    gp = pd.read_sql_query(query%(tuple(x.clusters), x.st, x.et), con=conn)\n",
    "    return gp.groupby('mmsi', group_keys=False).apply(lambda df: df.velocity.mean()).mean()\n",
    "\n",
    "def get_gp_avg_velocity_parallel(y):\n",
    "    print ('Connecting to Database...')\n",
    "    con = psycopg2.connect(database=db_name, user=uname, password=pw, host=host, port=port)\n",
    "    print ('Connected to Database!')\n",
    "    for row in tqdm_notebook(y.itertuples(), total=len(y)):\n",
    "        y.loc[row.Index, 'Avg. Speed'] = get_gp_avg_velocity(row, con)\n",
    "    con.close()\n",
    "    return y\n",
    "        \n",
    "def parallelize_dataframe(df_par, func):\n",
    "    num_cores = multiprocessing.cpu_count()-1  #leave one free to not freeze machine\n",
    "    num_partitions = num_cores #number of partitions to split dataframe\n",
    "    \n",
    "    df_split = np.array_split(df, num_partitions)\n",
    "    pool = multiprocessing.Pool(num_cores)\n",
    "    \n",
    "    df_res = pd.concat(pool.map(func, df_split))\n",
    "    pool.close()\n",
    "    pool.join()\n",
    "    return df_res"
   ]
  },
  {
   "cell_type": "code",
   "execution_count": 77,
   "metadata": {
    "scrolled": true
   },
   "outputs": [
    {
     "name": "stdout",
     "output_type": "stream",
     "text": [
      "Connecting to Database...\n",
      "Connecting to Database...\n",
      "Connecting to Database...\n",
      "Connecting to Database...\n",
      "Connecting to Database...\n",
      "Connecting to Database...\n",
      "Connecting to Database...\n",
      "Connected to Database!\n",
      "Connected to Database!\n",
      "Connected to Database!\n",
      "Connected to Database!\n",
      "Connected to Database!\n",
      "Connected to Database!\n",
      "Connected to Database!\n"
     ]
    },
    {
     "data": {
      "application/vnd.jupyter.widget-view+json": {
       "model_id": "e370bd0ba86141dabc11114c49a1ac90",
       "version_major": 2,
       "version_minor": 0
      },
      "text/plain": [
       "HBox(children=(IntProgress(value=0, max=1845), HTML(value='')))"
      ]
     },
     "metadata": {},
     "output_type": "display_data"
    },
    {
     "data": {
      "application/vnd.jupyter.widget-view+json": {
       "model_id": "51b582d65d314bcfa39cd654bd9784b0",
       "version_major": 2,
       "version_minor": 0
      },
      "text/plain": [
       "HBox(children=(IntProgress(value=0, max=1844), HTML(value='')))"
      ]
     },
     "metadata": {},
     "output_type": "display_data"
    },
    {
     "data": {
      "application/vnd.jupyter.widget-view+json": {
       "model_id": "68fd8775c96b43ba88ff1541d88f3723",
       "version_major": 2,
       "version_minor": 0
      },
      "text/plain": [
       "HBox(children=(IntProgress(value=0, max=1845), HTML(value='')))"
      ]
     },
     "metadata": {},
     "output_type": "display_data"
    },
    {
     "data": {
      "application/vnd.jupyter.widget-view+json": {
       "model_id": "68d01dc486474ec98ea4d2d4a616de01",
       "version_major": 2,
       "version_minor": 0
      },
      "text/plain": [
       "HBox(children=(IntProgress(value=0, max=1845), HTML(value='')))"
      ]
     },
     "metadata": {},
     "output_type": "display_data"
    },
    {
     "data": {
      "application/vnd.jupyter.widget-view+json": {
       "model_id": "f8c52a339216467caf1a544e5e8d36c6",
       "version_major": 2,
       "version_minor": 0
      },
      "text/plain": [
       "HBox(children=(IntProgress(value=0, max=1844), HTML(value='')))"
      ]
     },
     "metadata": {},
     "output_type": "display_data"
    },
    {
     "data": {
      "application/vnd.jupyter.widget-view+json": {
       "model_id": "2e54e795abc541c893d7648f15f9fca2",
       "version_major": 2,
       "version_minor": 0
      },
      "text/plain": [
       "HBox(children=(IntProgress(value=0, max=1844), HTML(value='')))"
      ]
     },
     "metadata": {},
     "output_type": "display_data"
    },
    {
     "data": {
      "application/vnd.jupyter.widget-view+json": {
       "model_id": "c4cdad0011004124b11d3e3f225d8aa2",
       "version_major": 2,
       "version_minor": 0
      },
      "text/plain": [
       "HBox(children=(IntProgress(value=0, max=1844), HTML(value='')))"
      ]
     },
     "metadata": {},
     "output_type": "display_data"
    },
    {
     "name": "stdout",
     "output_type": "stream",
     "text": [
      "\n",
      "\n",
      "\n",
      "\n",
      "\n",
      "\n",
      "\n"
     ]
    }
   ],
   "source": [
    "df2 = parallelize_dataframe(df, get_gp_avg_velocity_parallel)"
   ]
  },
  {
   "cell_type": "code",
   "execution_count": 79,
   "metadata": {
    "scrolled": true
   },
   "outputs": [
    {
     "data": {
      "text/plain": [
       "count    12911.000000\n",
       "mean         2.203140\n",
       "std          2.053340\n",
       "min          0.000896\n",
       "25%          0.660857\n",
       "50%          1.544365\n",
       "75%          3.297005\n",
       "max         13.363073\n",
       "Name: Avg. Speed, dtype: float64"
      ]
     },
     "execution_count": 79,
     "metadata": {},
     "output_type": "execute_result"
    }
   ],
   "source": [
    "df2['Avg. Speed'].describe()"
   ]
  },
  {
   "cell_type": "code",
   "execution_count": 81,
   "metadata": {},
   "outputs": [],
   "source": [
    "out = pd.cut(df2['Avg. Speed'], [0, 2, 4, 8, df2['Avg. Speed'].max()])\n",
    "\n",
    "ax = out.value_counts(sort=False).plot.bar(figsize=(PLT_IMAGE_WIDTH, PLT_IMAGE_HEIGHT), fontsize=8, width=0.75, cmap='tab20', rot=35)\n",
    "\n",
    "plt.ticklabel_format(style='sci', axis='y', scilimits=(0,0))\n",
    "plt.suptitle(r'\\textbf{Average Group Pattern (Flocks) Speed}', fontsize=8, y=1)\n",
    "plt.xlabel(r'\\textbf{Speed (knots)}', fontsize=8)\n",
    "plt.ylabel(r'\\textbf{\\#Patterns}', fontsize=8)\n",
    "\n",
    "plt.savefig(os.path.join('..', 'AvgGroupPatternVelocity_Flocks.pdf'), dpi=300, bbox_inches='tight')\n",
    "# plt.savefig(os.path.join('..', 'AvgGroupPatternVelocity_Flocks_NoSciNotation.pdf'), dpi=300, bbox_inches='tight')"
   ]
  },
  {
   "cell_type": "markdown",
   "metadata": {},
   "source": [
    "# Saving Results"
   ]
  },
  {
   "cell_type": "code",
   "execution_count": 78,
   "metadata": {},
   "outputs": [],
   "source": [
    "df2.to_csv('./data/csv/stats/flocks_card_5_dt_10_dist_2778_WITH_AVERAGE_SPEED.csv')"
   ]
  },
  {
   "cell_type": "markdown",
   "metadata": {},
   "source": [
    "# **#3** Total Distance Travelled per Group Pattern (Flocks)"
   ]
  },
  {
   "cell_type": "code",
   "execution_count": 37,
   "metadata": {},
   "outputs": [],
   "source": [
    "def get_gp_travelled_distance(x, conn):\n",
    "    gp = pd.read_sql_query(query%(tuple(x.clusters), x.st, x.et), con=conn)\n",
    "    center_point = gp.groupby('datetime', group_keys=False, as_index=False).apply(lambda df: pd.Series({'mean_lon': df.lon.mean(), 'mean_lat': df.lat.mean()}))\n",
    "    \n",
    "    current_loc = center_point[['mean_lon', 'mean_lat']]\n",
    "    next_loc = center_point[['mean_lon', 'mean_lat']].shift(-1)\n",
    "    return np.nansum([gspp.haversine(tuple(curr_loc), tuple(nxt_loc))  for curr_loc, nxt_loc in zip(current_loc.values.tolist(), next_loc.values.tolist())])\n",
    "#     center_point.loc[:, 'distance'] = center_point[['mean_lon', 'mean_lat']].rolling(2, axis=1).apply(lambda x : gspp.haversine(tuple(x[0,:].flatten().tolist()), tuple(x[1,:].flatten().tolist()))*0.539956803).cumsum()\n",
    "                                                                  \n",
    "\n",
    "def get_gp_travelled_distance_parallel(y):\n",
    "    print ('Connecting to Database...')\n",
    "    con = psycopg2.connect(database=db_name, user=uname, password=pw, host=host, port=port)\n",
    "    print ('Connected to Database!')\n",
    "    for row in tqdm_notebook(y.itertuples(), total=len(y)):\n",
    "        y.loc[row.Index, 'distance'] = get_gp_travelled_distance(row, con)\n",
    "    con.close()\n",
    "    return y"
   ]
  },
  {
   "cell_type": "code",
   "execution_count": 87,
   "metadata": {
    "scrolled": true
   },
   "outputs": [
    {
     "name": "stdout",
     "output_type": "stream",
     "text": [
      "Connecting to Database...\n",
      "Connecting to Database...\n",
      "Connecting to Database...\n",
      "Connecting to Database...\n",
      "Connecting to Database...\n",
      "Connecting to Database...\n",
      "Connecting to Database...\n",
      "Connected to Database!\n",
      "Connected to Database!\n",
      "Connected to Database!\n",
      "Connected to Database!\n",
      "Connected to Database!\n",
      "Connected to Database!\n",
      "Connected to Database!\n"
     ]
    },
    {
     "data": {
      "application/vnd.jupyter.widget-view+json": {
       "model_id": "00443a36ee474d1caec654815176c9d0",
       "version_major": 2,
       "version_minor": 0
      },
      "text/plain": [
       "HBox(children=(IntProgress(value=0, max=1), HTML(value='')))"
      ]
     },
     "metadata": {},
     "output_type": "display_data"
    },
    {
     "data": {
      "application/vnd.jupyter.widget-view+json": {
       "model_id": "8d2b7437b1414c3e822e517f688387d1",
       "version_major": 2,
       "version_minor": 0
      },
      "text/plain": [
       "HBox(children=(IntProgress(value=0, max=2), HTML(value='')))"
      ]
     },
     "metadata": {},
     "output_type": "display_data"
    },
    {
     "data": {
      "application/vnd.jupyter.widget-view+json": {
       "model_id": "572b7d6ed4164a7faab44b70f62886f0",
       "version_major": 2,
       "version_minor": 0
      },
      "text/plain": [
       "HBox(children=(IntProgress(value=0, max=1), HTML(value='')))"
      ]
     },
     "metadata": {},
     "output_type": "display_data"
    },
    {
     "data": {
      "application/vnd.jupyter.widget-view+json": {
       "model_id": "7b08c34154804332b0b017cc5a211a61",
       "version_major": 2,
       "version_minor": 0
      },
      "text/plain": [
       "HBox(children=(IntProgress(value=0, max=1), HTML(value='')))"
      ]
     },
     "metadata": {},
     "output_type": "display_data"
    },
    {
     "data": {
      "application/vnd.jupyter.widget-view+json": {
       "model_id": "2715a5c2adf54c66967e0923cb58b077",
       "version_major": 2,
       "version_minor": 0
      },
      "text/plain": [
       "HBox(children=(IntProgress(value=0, max=2), HTML(value='')))"
      ]
     },
     "metadata": {},
     "output_type": "display_data"
    },
    {
     "data": {
      "application/vnd.jupyter.widget-view+json": {
       "model_id": "01dd37525b4f4a6f94c45adbd338fa44",
       "version_major": 2,
       "version_minor": 0
      },
      "text/plain": [
       "HBox(children=(IntProgress(value=0, max=2), HTML(value='')))"
      ]
     },
     "metadata": {},
     "output_type": "display_data"
    },
    {
     "data": {
      "application/vnd.jupyter.widget-view+json": {
       "model_id": "aad67b10df3a415f8ce97fb364df2ee8",
       "version_major": 2,
       "version_minor": 0
      },
      "text/plain": [
       "HBox(children=(IntProgress(value=0, max=1), HTML(value='')))"
      ]
     },
     "metadata": {},
     "output_type": "display_data"
    },
    {
     "name": "stdout",
     "output_type": "stream",
     "text": [
      "\n",
      "\n",
      "\n",
      "\n",
      "\n",
      "\n",
      "\n"
     ]
    }
   ],
   "source": [
    "df2 = parallelize_dataframe(df, get_gp_travelled_distance_parallel)   "
   ]
  },
  {
   "cell_type": "markdown",
   "metadata": {},
   "source": [
    "# TESTING **#4** Trip Contribution per Group Pattern (Flocks)"
   ]
  },
  {
   "cell_type": "code",
   "execution_count": 38,
   "metadata": {},
   "outputs": [],
   "source": [
    "def classify_trips(df):\n",
    "    df2 = pd.Series([0], index=['class'])\n",
    "    \n",
    "    if df['label'].iloc[0] == -1 and df['label'].iloc[-1] == -1:\n",
    "        df2['class'] = 1\n",
    "    elif df['label'].iloc[0] == -1 and df['label'].iloc[-1] == 0:\n",
    "        df2['class'] += 2\n",
    "    elif df['label'].iloc[0] == 0 and df['label'].iloc[-1] == -1:\n",
    "        df2['class'] += 3\n",
    "    elif df['label'].iloc[0] == 0 and df['label'].iloc[-1] == 0:\n",
    "        df2['class'] += 4\n",
    "    \n",
    "    return df2"
   ]
  },
  {
   "cell_type": "code",
   "execution_count": 98,
   "metadata": {
    "scrolled": true
   },
   "outputs": [
    {
     "data": {
      "application/vnd.jupyter.widget-view+json": {
       "model_id": "5efe4a182f1b4f4597fa53044767bcaa",
       "version_major": 2,
       "version_minor": 0
      },
      "text/plain": [
       "HBox(children=(IntProgress(value=0, max=6), HTML(value='')))"
      ]
     },
     "metadata": {},
     "output_type": "display_data"
    }
   ],
   "source": [
    "from tqdm import tqdm_notebook as tqdm\n",
    "csv_dir = 'data/csv/nari_dynamic_min_trip_card_3_no_resampling_correcred_bug_V2'\n",
    "# csv_dir = 'test_data/nari_dynamic_min_trip_card_3_no_resampling_correcred_bug_V2'\n",
    "df_trips = []\n",
    "for file in tqdm(os.listdir(csv_dir)):\n",
    "    df_dynamic_trips = pd.read_csv(os.path.join(csv_dir, file))\n",
    "    df_trip = df_dynamic_trips.groupby(['mmsi', 'trip_id'], group_keys=False).apply(lambda df_dt: classify_trips(df_dt)).reset_index()\n",
    "    df_trips.append(df_trip)"
   ]
  },
  {
   "cell_type": "code",
   "execution_count": 101,
   "metadata": {},
   "outputs": [
    {
     "data": {
      "text/plain": [
       "3279"
      ]
     },
     "execution_count": 101,
     "metadata": {},
     "output_type": "execute_result"
    }
   ],
   "source": [
    "len(CLASSIFIED_TRIPS.mmsi.unique())"
   ]
  },
  {
   "cell_type": "code",
   "execution_count": 99,
   "metadata": {},
   "outputs": [],
   "source": [
    "CLASSIFIED_TRIPS = pd.concat(df_trips)"
   ]
  },
  {
   "cell_type": "code",
   "execution_count": 100,
   "metadata": {
    "scrolled": true
   },
   "outputs": [
    {
     "data": {
      "text/html": [
       "<div>\n",
       "<style scoped>\n",
       "    .dataframe tbody tr th:only-of-type {\n",
       "        vertical-align: middle;\n",
       "    }\n",
       "\n",
       "    .dataframe tbody tr th {\n",
       "        vertical-align: top;\n",
       "    }\n",
       "\n",
       "    .dataframe thead th {\n",
       "        text-align: right;\n",
       "    }\n",
       "</style>\n",
       "<table border=\"1\" class=\"dataframe\">\n",
       "  <thead>\n",
       "    <tr style=\"text-align: right;\">\n",
       "      <th></th>\n",
       "      <th>mmsi</th>\n",
       "      <th>trip_id</th>\n",
       "      <th>class</th>\n",
       "    </tr>\n",
       "  </thead>\n",
       "  <tbody>\n",
       "    <tr>\n",
       "      <th>0</th>\n",
       "      <td>205204000</td>\n",
       "      <td>0</td>\n",
       "      <td>3</td>\n",
       "    </tr>\n",
       "    <tr>\n",
       "      <th>1</th>\n",
       "      <td>205204000</td>\n",
       "      <td>1</td>\n",
       "      <td>2</td>\n",
       "    </tr>\n",
       "    <tr>\n",
       "      <th>2</th>\n",
       "      <td>205204000</td>\n",
       "      <td>2</td>\n",
       "      <td>4</td>\n",
       "    </tr>\n",
       "    <tr>\n",
       "      <th>3</th>\n",
       "      <td>205204000</td>\n",
       "      <td>3</td>\n",
       "      <td>4</td>\n",
       "    </tr>\n",
       "    <tr>\n",
       "      <th>4</th>\n",
       "      <td>205204000</td>\n",
       "      <td>4</td>\n",
       "      <td>3</td>\n",
       "    </tr>\n",
       "    <tr>\n",
       "      <th>5</th>\n",
       "      <td>205204000</td>\n",
       "      <td>5</td>\n",
       "      <td>2</td>\n",
       "    </tr>\n",
       "    <tr>\n",
       "      <th>6</th>\n",
       "      <td>205204000</td>\n",
       "      <td>6</td>\n",
       "      <td>3</td>\n",
       "    </tr>\n",
       "    <tr>\n",
       "      <th>7</th>\n",
       "      <td>205204000</td>\n",
       "      <td>7</td>\n",
       "      <td>2</td>\n",
       "    </tr>\n",
       "    <tr>\n",
       "      <th>8</th>\n",
       "      <td>205204000</td>\n",
       "      <td>8</td>\n",
       "      <td>4</td>\n",
       "    </tr>\n",
       "    <tr>\n",
       "      <th>9</th>\n",
       "      <td>205204000</td>\n",
       "      <td>9</td>\n",
       "      <td>4</td>\n",
       "    </tr>\n",
       "    <tr>\n",
       "      <th>10</th>\n",
       "      <td>205204000</td>\n",
       "      <td>10</td>\n",
       "      <td>4</td>\n",
       "    </tr>\n",
       "    <tr>\n",
       "      <th>11</th>\n",
       "      <td>205204000</td>\n",
       "      <td>11</td>\n",
       "      <td>3</td>\n",
       "    </tr>\n",
       "    <tr>\n",
       "      <th>12</th>\n",
       "      <td>205204000</td>\n",
       "      <td>12</td>\n",
       "      <td>2</td>\n",
       "    </tr>\n",
       "    <tr>\n",
       "      <th>13</th>\n",
       "      <td>205209000</td>\n",
       "      <td>0</td>\n",
       "      <td>4</td>\n",
       "    </tr>\n",
       "    <tr>\n",
       "      <th>14</th>\n",
       "      <td>205309000</td>\n",
       "      <td>0</td>\n",
       "      <td>3</td>\n",
       "    </tr>\n",
       "    <tr>\n",
       "      <th>15</th>\n",
       "      <td>205309000</td>\n",
       "      <td>1</td>\n",
       "      <td>1</td>\n",
       "    </tr>\n",
       "    <tr>\n",
       "      <th>16</th>\n",
       "      <td>205309000</td>\n",
       "      <td>2</td>\n",
       "      <td>2</td>\n",
       "    </tr>\n",
       "    <tr>\n",
       "      <th>17</th>\n",
       "      <td>209394000</td>\n",
       "      <td>0</td>\n",
       "      <td>4</td>\n",
       "    </tr>\n",
       "    <tr>\n",
       "      <th>18</th>\n",
       "      <td>211202460</td>\n",
       "      <td>0</td>\n",
       "      <td>4</td>\n",
       "    </tr>\n",
       "    <tr>\n",
       "      <th>19</th>\n",
       "      <td>211210280</td>\n",
       "      <td>0</td>\n",
       "      <td>4</td>\n",
       "    </tr>\n",
       "    <tr>\n",
       "      <th>20</th>\n",
       "      <td>211210420</td>\n",
       "      <td>0</td>\n",
       "      <td>4</td>\n",
       "    </tr>\n",
       "    <tr>\n",
       "      <th>21</th>\n",
       "      <td>211211760</td>\n",
       "      <td>0</td>\n",
       "      <td>4</td>\n",
       "    </tr>\n",
       "    <tr>\n",
       "      <th>22</th>\n",
       "      <td>211387420</td>\n",
       "      <td>0</td>\n",
       "      <td>3</td>\n",
       "    </tr>\n",
       "    <tr>\n",
       "      <th>23</th>\n",
       "      <td>211387420</td>\n",
       "      <td>1</td>\n",
       "      <td>1</td>\n",
       "    </tr>\n",
       "    <tr>\n",
       "      <th>24</th>\n",
       "      <td>211387420</td>\n",
       "      <td>2</td>\n",
       "      <td>2</td>\n",
       "    </tr>\n",
       "    <tr>\n",
       "      <th>25</th>\n",
       "      <td>211611040</td>\n",
       "      <td>0</td>\n",
       "      <td>4</td>\n",
       "    </tr>\n",
       "    <tr>\n",
       "      <th>26</th>\n",
       "      <td>211611040</td>\n",
       "      <td>1</td>\n",
       "      <td>4</td>\n",
       "    </tr>\n",
       "    <tr>\n",
       "      <th>27</th>\n",
       "      <td>211830000</td>\n",
       "      <td>0</td>\n",
       "      <td>4</td>\n",
       "    </tr>\n",
       "    <tr>\n",
       "      <th>28</th>\n",
       "      <td>212137000</td>\n",
       "      <td>0</td>\n",
       "      <td>4</td>\n",
       "    </tr>\n",
       "    <tr>\n",
       "      <th>29</th>\n",
       "      <td>212137000</td>\n",
       "      <td>1</td>\n",
       "      <td>4</td>\n",
       "    </tr>\n",
       "    <tr>\n",
       "      <th>30</th>\n",
       "      <td>212360000</td>\n",
       "      <td>0</td>\n",
       "      <td>3</td>\n",
       "    </tr>\n",
       "    <tr>\n",
       "      <th>31</th>\n",
       "      <td>212360000</td>\n",
       "      <td>1</td>\n",
       "      <td>2</td>\n",
       "    </tr>\n",
       "    <tr>\n",
       "      <th>32</th>\n",
       "      <td>212360000</td>\n",
       "      <td>2</td>\n",
       "      <td>4</td>\n",
       "    </tr>\n",
       "    <tr>\n",
       "      <th>33</th>\n",
       "      <td>212423000</td>\n",
       "      <td>0</td>\n",
       "      <td>4</td>\n",
       "    </tr>\n",
       "    <tr>\n",
       "      <th>34</th>\n",
       "      <td>212423000</td>\n",
       "      <td>1</td>\n",
       "      <td>4</td>\n",
       "    </tr>\n",
       "    <tr>\n",
       "      <th>35</th>\n",
       "      <td>212423000</td>\n",
       "      <td>2</td>\n",
       "      <td>4</td>\n",
       "    </tr>\n",
       "    <tr>\n",
       "      <th>36</th>\n",
       "      <td>212521000</td>\n",
       "      <td>0</td>\n",
       "      <td>4</td>\n",
       "    </tr>\n",
       "    <tr>\n",
       "      <th>37</th>\n",
       "      <td>212521000</td>\n",
       "      <td>1</td>\n",
       "      <td>4</td>\n",
       "    </tr>\n",
       "    <tr>\n",
       "      <th>38</th>\n",
       "      <td>212521000</td>\n",
       "      <td>2</td>\n",
       "      <td>4</td>\n",
       "    </tr>\n",
       "    <tr>\n",
       "      <th>39</th>\n",
       "      <td>212521000</td>\n",
       "      <td>3</td>\n",
       "      <td>4</td>\n",
       "    </tr>\n",
       "    <tr>\n",
       "      <th>40</th>\n",
       "      <td>212521000</td>\n",
       "      <td>4</td>\n",
       "      <td>4</td>\n",
       "    </tr>\n",
       "    <tr>\n",
       "      <th>41</th>\n",
       "      <td>212571000</td>\n",
       "      <td>0</td>\n",
       "      <td>4</td>\n",
       "    </tr>\n",
       "    <tr>\n",
       "      <th>42</th>\n",
       "      <td>212571000</td>\n",
       "      <td>1</td>\n",
       "      <td>4</td>\n",
       "    </tr>\n",
       "    <tr>\n",
       "      <th>43</th>\n",
       "      <td>212801000</td>\n",
       "      <td>0</td>\n",
       "      <td>4</td>\n",
       "    </tr>\n",
       "    <tr>\n",
       "      <th>44</th>\n",
       "      <td>212852000</td>\n",
       "      <td>0</td>\n",
       "      <td>4</td>\n",
       "    </tr>\n",
       "    <tr>\n",
       "      <th>45</th>\n",
       "      <td>215029000</td>\n",
       "      <td>0</td>\n",
       "      <td>4</td>\n",
       "    </tr>\n",
       "    <tr>\n",
       "      <th>46</th>\n",
       "      <td>215047000</td>\n",
       "      <td>0</td>\n",
       "      <td>4</td>\n",
       "    </tr>\n",
       "    <tr>\n",
       "      <th>47</th>\n",
       "      <td>215535000</td>\n",
       "      <td>0</td>\n",
       "      <td>4</td>\n",
       "    </tr>\n",
       "    <tr>\n",
       "      <th>48</th>\n",
       "      <td>215681000</td>\n",
       "      <td>0</td>\n",
       "      <td>4</td>\n",
       "    </tr>\n",
       "    <tr>\n",
       "      <th>49</th>\n",
       "      <td>215681000</td>\n",
       "      <td>1</td>\n",
       "      <td>4</td>\n",
       "    </tr>\n",
       "    <tr>\n",
       "      <th>50</th>\n",
       "      <td>215872000</td>\n",
       "      <td>0</td>\n",
       "      <td>4</td>\n",
       "    </tr>\n",
       "    <tr>\n",
       "      <th>51</th>\n",
       "      <td>218427000</td>\n",
       "      <td>0</td>\n",
       "      <td>4</td>\n",
       "    </tr>\n",
       "  </tbody>\n",
       "</table>\n",
       "</div>"
      ],
      "text/plain": [
       "         mmsi  trip_id  class\n",
       "0   205204000        0      3\n",
       "1   205204000        1      2\n",
       "2   205204000        2      4\n",
       "3   205204000        3      4\n",
       "4   205204000        4      3\n",
       "5   205204000        5      2\n",
       "6   205204000        6      3\n",
       "7   205204000        7      2\n",
       "8   205204000        8      4\n",
       "9   205204000        9      4\n",
       "10  205204000       10      4\n",
       "11  205204000       11      3\n",
       "12  205204000       12      2\n",
       "13  205209000        0      4\n",
       "14  205309000        0      3\n",
       "15  205309000        1      1\n",
       "16  205309000        2      2\n",
       "17  209394000        0      4\n",
       "18  211202460        0      4\n",
       "19  211210280        0      4\n",
       "20  211210420        0      4\n",
       "21  211211760        0      4\n",
       "22  211387420        0      3\n",
       "23  211387420        1      1\n",
       "24  211387420        2      2\n",
       "25  211611040        0      4\n",
       "26  211611040        1      4\n",
       "27  211830000        0      4\n",
       "28  212137000        0      4\n",
       "29  212137000        1      4\n",
       "30  212360000        0      3\n",
       "31  212360000        1      2\n",
       "32  212360000        2      4\n",
       "33  212423000        0      4\n",
       "34  212423000        1      4\n",
       "35  212423000        2      4\n",
       "36  212521000        0      4\n",
       "37  212521000        1      4\n",
       "38  212521000        2      4\n",
       "39  212521000        3      4\n",
       "40  212521000        4      4\n",
       "41  212571000        0      4\n",
       "42  212571000        1      4\n",
       "43  212801000        0      4\n",
       "44  212852000        0      4\n",
       "45  215029000        0      4\n",
       "46  215047000        0      4\n",
       "47  215535000        0      4\n",
       "48  215681000        0      4\n",
       "49  215681000        1      4\n",
       "50  215872000        0      4\n",
       "51  218427000        0      4"
      ]
     },
     "execution_count": 100,
     "metadata": {},
     "output_type": "execute_result"
    }
   ],
   "source": [
    "CLASSIFIED_TRIPS.head(52)"
   ]
  },
  {
   "cell_type": "code",
   "execution_count": null,
   "metadata": {},
   "outputs": [],
   "source": []
  },
  {
   "cell_type": "code",
   "execution_count": null,
   "metadata": {},
   "outputs": [],
   "source": []
  },
  {
   "cell_type": "code",
   "execution_count": null,
   "metadata": {},
   "outputs": [],
   "source": []
  },
  {
   "cell_type": "code",
   "execution_count": null,
   "metadata": {},
   "outputs": [],
   "source": []
  },
  {
   "cell_type": "markdown",
   "metadata": {},
   "source": [
    "# **TESTING**: Getting the fisheries, then filtering by the cardinality threshold"
   ]
  },
  {
   "cell_type": "code",
   "execution_count": null,
   "metadata": {},
   "outputs": [],
   "source": [
    "min_cardinality = 3\n",
    "\n",
    "flocks_of_fisheries_tst = df.copy()\n",
    "flocks_of_fisheries_tst.loc[:,'clusters'] = flocks_of_fisheries_tst.apply(lambda x: np.array(tuple_str_to_list(x.clusters))[np.isin(tuple_str_to_list(x.clusters), mmsis_fisheries)], axis=1)\n",
    "flocks_of_fisheries_tst = flocks_of_fisheries_tst.loc[flocks_of_fisheries_tst.clusters.apply(len) > min_cardinality]"
   ]
  },
  {
   "cell_type": "code",
   "execution_count": null,
   "metadata": {},
   "outputs": [],
   "source": [
    "len(flocks_of_fisheries_tst)"
   ]
  },
  {
   "cell_type": "markdown",
   "metadata": {},
   "source": [
    "# **TESTING**: Statistics #3"
   ]
  },
  {
   "cell_type": "code",
   "execution_count": null,
   "metadata": {},
   "outputs": [],
   "source": [
    "from tqdm import tqdm_notebook\n",
    "\n",
    "def get_gp_avg_velocity_single(x):\n",
    "    con = psycopg2.connect(database=db_name, user=uname, password=pw, host=host, port=port)\n",
    "    gp = pd.read_sql_query(query%(tuple(x.clusters), x.st, x.et), con=con)\n",
    "    con.close()\n",
    "    return gp.groupby('mmsi', group_keys=False).apply(lambda df: df.velocity.mean()).mean()\n",
    "\n",
    "for i, row in tqdm_notebook(enumerate(df.iloc[0:10].itertuples()), total=len(df)):\n",
    "    df.loc[i, 'Avg. Speed'] = get_gp_avg_velocity_single(row)"
   ]
  }
 ],
 "metadata": {
  "kernelspec": {
   "display_name": "Python 3 (GIS)",
   "language": "python",
   "name": "gis"
  },
  "language_info": {
   "codemirror_mode": {
    "name": "ipython",
    "version": 3
   },
   "file_extension": ".py",
   "mimetype": "text/x-python",
   "name": "python",
   "nbconvert_exporter": "python",
   "pygments_lexer": "ipython3",
   "version": "3.7.2"
  }
 },
 "nbformat": 4,
 "nbformat_minor": 2
}
