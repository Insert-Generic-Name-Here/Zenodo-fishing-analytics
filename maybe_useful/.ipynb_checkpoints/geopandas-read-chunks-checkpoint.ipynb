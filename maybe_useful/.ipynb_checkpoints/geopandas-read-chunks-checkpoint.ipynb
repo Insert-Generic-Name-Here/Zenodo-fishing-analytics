{
 "cells": [
  {
   "cell_type": "markdown",
   "metadata": {},
   "source": [
    "## Importing the LonelyBoy Library (github.com/insert-generic-name-here/lonelyboy)"
   ]
  },
  {
   "cell_type": "code",
   "execution_count": 2,
   "metadata": {},
   "outputs": [],
   "source": [
    "import os, sys\n",
    "sys.path.append(os.path.join(os.path.expanduser('~'), 'Documents/Insert-Generic-Name-Here/'))\n",
    "# sys.path\n",
    "\n",
    "from lonelyboy.geospatial import plots as gsplt\n",
    "from lonelyboy.geospatial import preprocessing as gspp\n",
    "from lonelyboy.timeseries import lbtimeseries as tspp\n",
    "from lonelyboy.geospatial import group_patterns_v2 as gsgp"
   ]
  },
  {
   "cell_type": "markdown",
   "metadata": {},
   "source": [
    "## Importing all other Essential Libraries\n",
    "#### (DO NOT FORGET TO EXECUTE THE FUNCTIONS IN THE BOTTOM CELLS)"
   ]
  },
  {
   "cell_type": "code",
   "execution_count": 3,
   "metadata": {},
   "outputs": [],
   "source": [
    "import psycopg2\n",
    "import psycopg2.extras\n",
    "import numpy as np\n",
    "import configparser\n",
    "import pandas as pd\n",
    "import geopandas as gpd\n",
    "import contextily as ctx\n",
    "from random import choice\n",
    "from tqdm import tqdm\n",
    "import matplotlib.pyplot as plt\n",
    "from sklearn.base import clone\n",
    "from sklearn.cluster import DBSCAN, KMeans, MeanShift\n",
    "from sklearn.preprocessing import MinMaxScaler\n",
    "from sklearn.metrics import silhouette_score\n",
    "from shapely.geometry import Point, LineString, shape\n",
    "from haversine import haversine\n",
    "from datetime import datetime, timedelta"
   ]
  },
  {
   "cell_type": "code",
   "execution_count": 4,
   "metadata": {},
   "outputs": [],
   "source": [
    "from multiprocessing import cpu_count, Pool\n",
    "from functools import partial\n",
    "import datetime"
   ]
  },
  {
   "cell_type": "markdown",
   "metadata": {},
   "source": [
    "## Import Libraries for Visualizations"
   ]
  },
  {
   "cell_type": "code",
   "execution_count": 5,
   "metadata": {},
   "outputs": [],
   "source": [
    "# from IPython.core.interactiveshell import InteractiveShell\n",
    "# InteractiveShell.ast_node_interactivity = \"all\"\n",
    "\n",
    "import PyQt5\n",
    "import matplotlib.pyplot as plt\n",
    "from matplotlib import style;  style.use('ggplot')\n",
    "get_ipython().magic('matplotlib qt')"
   ]
  },
  {
   "cell_type": "markdown",
   "metadata": {},
   "source": [
    "##  Importing the Server Credentials & Connectiing to Server and Fetch 48hrs of Trajectory Data"
   ]
  },
  {
   "cell_type": "code",
   "execution_count": 42,
   "metadata": {},
   "outputs": [],
   "source": [
    "host    = 'snf-863583.vm.okeanos.grnet.gr'\n",
    "db_name = 'zenodo'\n",
    "uname   = 'students'\n",
    "pw      = 'infol@bdbl@bs2017'\n",
    "port    = '46132'\n",
    "\n",
    "traj_sql = 'SELECT * FROM ais_data.dynamic_ships WHERE ts>1456802710 AND ts<1456975510'\n",
    "ports_sql = 'SELECT * FROM ports.ports_of_brittany'\n",
    "\n",
    "con = psycopg2.connect(database=db_name, user=uname, password=pw, host=host, port=port)\n",
    "\n",
    "traj = gpd.GeoDataFrame.from_postgis(traj_sql, con, geom_col='geom')\n",
    "\n",
    "ports = gpd.GeoDataFrame.from_postgis(ports_sql, con, geom_col='geom')\n",
    "ports.geom = ports.geom.apply(lambda x: x[0])\n",
    "\n",
    "con.close()"
   ]
  },
  {
   "cell_type": "code",
   "execution_count": 43,
   "metadata": {},
   "outputs": [
    {
     "data": {
      "text/html": [
       "<div>\n",
       "<style scoped>\n",
       "    .dataframe tbody tr th:only-of-type {\n",
       "        vertical-align: middle;\n",
       "    }\n",
       "\n",
       "    .dataframe tbody tr th {\n",
       "        vertical-align: top;\n",
       "    }\n",
       "\n",
       "    .dataframe thead th {\n",
       "        text-align: right;\n",
       "    }\n",
       "</style>\n",
       "<table border=\"1\" class=\"dataframe\">\n",
       "  <thead>\n",
       "    <tr style=\"text-align: right;\">\n",
       "      <th></th>\n",
       "      <th>gid</th>\n",
       "      <th>gml_id</th>\n",
       "      <th>por_id</th>\n",
       "      <th>libelle_po</th>\n",
       "      <th>insee_comm</th>\n",
       "      <th>por_x</th>\n",
       "      <th>por_y</th>\n",
       "      <th>geom</th>\n",
       "    </tr>\n",
       "  </thead>\n",
       "  <tbody>\n",
       "    <tr>\n",
       "      <th>0</th>\n",
       "      <td>1</td>\n",
       "      <td>port.1</td>\n",
       "      <td>1</td>\n",
       "      <td>Le Vivier-sur-Mer</td>\n",
       "      <td>35361</td>\n",
       "      <td>297025.0</td>\n",
       "      <td>2408370.0</td>\n",
       "      <td>POINT (-1.771798868659233 48.60274269672541)</td>\n",
       "    </tr>\n",
       "    <tr>\n",
       "      <th>1</th>\n",
       "      <td>2</td>\n",
       "      <td>port.10</td>\n",
       "      <td>10</td>\n",
       "      <td>Saint-Samson sur Rance</td>\n",
       "      <td>22327</td>\n",
       "      <td>279335.0</td>\n",
       "      <td>2396060.0</td>\n",
       "      <td>POINT (-2.001990119062326 48.48369993456267)</td>\n",
       "    </tr>\n",
       "    <tr>\n",
       "      <th>2</th>\n",
       "      <td>3</td>\n",
       "      <td>port.100</td>\n",
       "      <td>100</td>\n",
       "      <td>Douarnenez</td>\n",
       "      <td>29046</td>\n",
       "      <td>103135.0</td>\n",
       "      <td>2365330.0</td>\n",
       "      <td>POINT (-4.341204251638414 48.09709590770091)</td>\n",
       "    </tr>\n",
       "    <tr>\n",
       "      <th>3</th>\n",
       "      <td>4</td>\n",
       "      <td>port.101</td>\n",
       "      <td>101</td>\n",
       "      <td>Brézellec</td>\n",
       "      <td>29028</td>\n",
       "      <td>79105.4</td>\n",
       "      <td>2364190.0</td>\n",
       "      <td>POINT (-4.661115947908725 48.06804110561076)</td>\n",
       "    </tr>\n",
       "    <tr>\n",
       "      <th>4</th>\n",
       "      <td>5</td>\n",
       "      <td>port.102</td>\n",
       "      <td>102</td>\n",
       "      <td>Sein</td>\n",
       "      <td>29083</td>\n",
       "      <td>64562.5</td>\n",
       "      <td>2362180.0</td>\n",
       "      <td>POINT (-4.852944548180974 48.03825273921113)</td>\n",
       "    </tr>\n",
       "  </tbody>\n",
       "</table>\n",
       "</div>"
      ],
      "text/plain": [
       "   gid    gml_id por_id              libelle_po insee_comm     por_x  \\\n",
       "0    1    port.1      1       Le Vivier-sur-Mer      35361  297025.0   \n",
       "1    2   port.10     10  Saint-Samson sur Rance      22327  279335.0   \n",
       "2    3  port.100    100              Douarnenez      29046  103135.0   \n",
       "3    4  port.101    101               Brézellec      29028   79105.4   \n",
       "4    5  port.102    102                    Sein      29083   64562.5   \n",
       "\n",
       "       por_y                                          geom  \n",
       "0  2408370.0  POINT (-1.771798868659233 48.60274269672541)  \n",
       "1  2396060.0  POINT (-2.001990119062326 48.48369993456267)  \n",
       "2  2365330.0  POINT (-4.341204251638414 48.09709590770091)  \n",
       "3  2364190.0  POINT (-4.661115947908725 48.06804110561076)  \n",
       "4  2362180.0  POINT (-4.852944548180974 48.03825273921113)  "
      ]
     },
     "execution_count": 43,
     "metadata": {},
     "output_type": "execute_result"
    }
   ],
   "source": [
    "ports.head()"
   ]
  },
  {
   "cell_type": "code",
   "execution_count": 44,
   "metadata": {},
   "outputs": [
    {
     "data": {
      "text/html": [
       "<div>\n",
       "<style scoped>\n",
       "    .dataframe tbody tr th:only-of-type {\n",
       "        vertical-align: middle;\n",
       "    }\n",
       "\n",
       "    .dataframe tbody tr th {\n",
       "        vertical-align: top;\n",
       "    }\n",
       "\n",
       "    .dataframe thead th {\n",
       "        text-align: right;\n",
       "    }\n",
       "</style>\n",
       "<table border=\"1\" class=\"dataframe\">\n",
       "  <thead>\n",
       "    <tr style=\"text-align: right;\">\n",
       "      <th></th>\n",
       "      <th>id</th>\n",
       "      <th>mmsi</th>\n",
       "      <th>status</th>\n",
       "      <th>turn</th>\n",
       "      <th>speed</th>\n",
       "      <th>course</th>\n",
       "      <th>heading</th>\n",
       "      <th>lon</th>\n",
       "      <th>lat</th>\n",
       "      <th>ts</th>\n",
       "      <th>geom</th>\n",
       "      <th>distance_from_nearest_port</th>\n",
       "    </tr>\n",
       "  </thead>\n",
       "  <tbody>\n",
       "    <tr>\n",
       "      <th>0</th>\n",
       "      <td>17515086</td>\n",
       "      <td>227300000</td>\n",
       "      <td>7.0</td>\n",
       "      <td>-126.0</td>\n",
       "      <td>2.8</td>\n",
       "      <td>34.2</td>\n",
       "      <td>346</td>\n",
       "      <td>-4.631805</td>\n",
       "      <td>48.111330</td>\n",
       "      <td>1456802713</td>\n",
       "      <td>POINT (-4.631805 48.11133)</td>\n",
       "      <td>None</td>\n",
       "    </tr>\n",
       "    <tr>\n",
       "      <th>1</th>\n",
       "      <td>17515087</td>\n",
       "      <td>256494000</td>\n",
       "      <td>5.0</td>\n",
       "      <td>0.0</td>\n",
       "      <td>0.0</td>\n",
       "      <td>344.0</td>\n",
       "      <td>217</td>\n",
       "      <td>-4.451149</td>\n",
       "      <td>48.383625</td>\n",
       "      <td>1456802713</td>\n",
       "      <td>POINT (-4.4511485 48.383625)</td>\n",
       "      <td>None</td>\n",
       "    </tr>\n",
       "    <tr>\n",
       "      <th>2</th>\n",
       "      <td>17515088</td>\n",
       "      <td>227300000</td>\n",
       "      <td>7.0</td>\n",
       "      <td>-126.0</td>\n",
       "      <td>2.7</td>\n",
       "      <td>27.1</td>\n",
       "      <td>338</td>\n",
       "      <td>-4.631777</td>\n",
       "      <td>48.111380</td>\n",
       "      <td>1456802717</td>\n",
       "      <td>POINT (-4.631777 48.11138)</td>\n",
       "      <td>None</td>\n",
       "    </tr>\n",
       "    <tr>\n",
       "      <th>3</th>\n",
       "      <td>17515089</td>\n",
       "      <td>227300000</td>\n",
       "      <td>7.0</td>\n",
       "      <td>-126.0</td>\n",
       "      <td>2.6</td>\n",
       "      <td>23.3</td>\n",
       "      <td>335</td>\n",
       "      <td>-4.631757</td>\n",
       "      <td>48.111420</td>\n",
       "      <td>1456802720</td>\n",
       "      <td>POINT (-4.631757 48.11142)</td>\n",
       "      <td>None</td>\n",
       "    </tr>\n",
       "    <tr>\n",
       "      <th>4</th>\n",
       "      <td>17515090</td>\n",
       "      <td>227300000</td>\n",
       "      <td>7.0</td>\n",
       "      <td>-126.0</td>\n",
       "      <td>2.5</td>\n",
       "      <td>21.6</td>\n",
       "      <td>332</td>\n",
       "      <td>-4.631747</td>\n",
       "      <td>48.111443</td>\n",
       "      <td>1456802723</td>\n",
       "      <td>POINT (-4.631747 48.111443)</td>\n",
       "      <td>None</td>\n",
       "    </tr>\n",
       "  </tbody>\n",
       "</table>\n",
       "</div>"
      ],
      "text/plain": [
       "         id       mmsi  status   turn  speed  course  heading       lon  \\\n",
       "0  17515086  227300000     7.0 -126.0    2.8    34.2      346 -4.631805   \n",
       "1  17515087  256494000     5.0    0.0    0.0   344.0      217 -4.451149   \n",
       "2  17515088  227300000     7.0 -126.0    2.7    27.1      338 -4.631777   \n",
       "3  17515089  227300000     7.0 -126.0    2.6    23.3      335 -4.631757   \n",
       "4  17515090  227300000     7.0 -126.0    2.5    21.6      332 -4.631747   \n",
       "\n",
       "         lat          ts                          geom  \\\n",
       "0  48.111330  1456802713    POINT (-4.631805 48.11133)   \n",
       "1  48.383625  1456802713  POINT (-4.4511485 48.383625)   \n",
       "2  48.111380  1456802717    POINT (-4.631777 48.11138)   \n",
       "3  48.111420  1456802720    POINT (-4.631757 48.11142)   \n",
       "4  48.111443  1456802723   POINT (-4.631747 48.111443)   \n",
       "\n",
       "  distance_from_nearest_port  \n",
       "0                       None  \n",
       "1                       None  \n",
       "2                       None  \n",
       "3                       None  \n",
       "4                       None  "
      ]
     },
     "execution_count": 44,
     "metadata": {},
     "output_type": "execute_result"
    }
   ],
   "source": [
    "traj.head()"
   ]
  },
  {
   "cell_type": "markdown",
   "metadata": {},
   "source": [
    "## Trying to get data for selected mmsi using a generator from CSV file (fingers crossed)"
   ]
  },
  {
   "cell_type": "code",
   "execution_count": 83,
   "metadata": {},
   "outputs": [
    {
     "name": "stdout",
     "output_type": "stream",
     "text": [
      "Pandas(Index=0, id=17515086, mmsi=227300000, status=7.0, turn=-126.0, speed=2.8, course=34.2, heading=346, lon=-4.631805, lat=48.11133, ts=1456802713, geom=<shapely.geometry.point.Point object at 0x7f565628d3c8>, distance_from_nearest_port=None)\n"
     ]
    }
   ],
   "source": [
    "for row in traj.itertuples():\n",
    "    print (row)\n",
    "    break"
   ]
  },
  {
   "cell_type": "code",
   "execution_count": 58,
   "metadata": {},
   "outputs": [
    {
     "data": {
      "text/plain": [
       "'mmsi, status, turn, speed, velocity, course, heading, lon, lat, ts) VALUES '"
      ]
     },
     "execution_count": 58,
     "metadata": {},
     "output_type": "execute_result"
    }
   ],
   "source": [
    "query =  \"INSERT INTO ais_data.dynamic_ships_resampled_1min (mmsi, status, turn, speed, velocity, course, heading, lon, lat, ts) VALUES (%s, %s, %s, %s, %s, %s, %s, %s, %s, %s);\"\n",
    "query.split('(')[1]."
   ]
  },
  {
   "cell_type": "code",
   "execution_count": 18,
   "metadata": {},
   "outputs": [
    {
     "name": "stdout",
     "output_type": "stream",
     "text": [
      "CPU times: user 10.7 s, sys: 1.2 s, total: 11.9 s\n",
      "Wall time: 11.9 s\n"
     ]
    }
   ],
   "source": [
    "%%time\n",
    "iter_csv = pd.read_csv('data/csv/nari_dynamic.csv', chunksize=50000)\n",
    "df = pd.concat((chunk[chunk['mmsi'].isin([477967700])] for chunk in iter_csv), ignore_index=True)"
   ]
  },
  {
   "cell_type": "code",
   "execution_count": 6,
   "metadata": {},
   "outputs": [
    {
     "data": {
      "text/html": [
       "<div>\n",
       "<style scoped>\n",
       "    .dataframe tbody tr th:only-of-type {\n",
       "        vertical-align: middle;\n",
       "    }\n",
       "\n",
       "    .dataframe tbody tr th {\n",
       "        vertical-align: top;\n",
       "    }\n",
       "\n",
       "    .dataframe thead th {\n",
       "        text-align: right;\n",
       "    }\n",
       "</style>\n",
       "<table border=\"1\" class=\"dataframe\">\n",
       "  <thead>\n",
       "    <tr style=\"text-align: right;\">\n",
       "      <th></th>\n",
       "      <th>mmsi</th>\n",
       "      <th>status</th>\n",
       "      <th>turn</th>\n",
       "      <th>speed</th>\n",
       "      <th>course</th>\n",
       "      <th>heading</th>\n",
       "      <th>lon</th>\n",
       "      <th>lat</th>\n",
       "      <th>ts</th>\n",
       "    </tr>\n",
       "  </thead>\n",
       "  <tbody>\n",
       "    <tr>\n",
       "      <th>0</th>\n",
       "      <td>538003354</td>\n",
       "      <td>0.0</td>\n",
       "      <td>0.0</td>\n",
       "      <td>12.4</td>\n",
       "      <td>58.0</td>\n",
       "      <td>59</td>\n",
       "      <td>-5.277512</td>\n",
       "      <td>48.946890</td>\n",
       "      <td>1443799994</td>\n",
       "    </tr>\n",
       "    <tr>\n",
       "      <th>1</th>\n",
       "      <td>477967700</td>\n",
       "      <td>0.0</td>\n",
       "      <td>0.0</td>\n",
       "      <td>17.3</td>\n",
       "      <td>37.5</td>\n",
       "      <td>36</td>\n",
       "      <td>-5.756353</td>\n",
       "      <td>48.562070</td>\n",
       "      <td>1444758539</td>\n",
       "    </tr>\n",
       "    <tr>\n",
       "      <th>2</th>\n",
       "      <td>538004252</td>\n",
       "      <td>0.0</td>\n",
       "      <td>0.0</td>\n",
       "      <td>12.3</td>\n",
       "      <td>58.2</td>\n",
       "      <td>58</td>\n",
       "      <td>-5.304182</td>\n",
       "      <td>48.902900</td>\n",
       "      <td>1445427824</td>\n",
       "    </tr>\n",
       "    <tr>\n",
       "      <th>3</th>\n",
       "      <td>538003920</td>\n",
       "      <td>0.0</td>\n",
       "      <td>4.0</td>\n",
       "      <td>12.1</td>\n",
       "      <td>55.6</td>\n",
       "      <td>60</td>\n",
       "      <td>-5.569274</td>\n",
       "      <td>48.793060</td>\n",
       "      <td>1445906007</td>\n",
       "    </tr>\n",
       "    <tr>\n",
       "      <th>4</th>\n",
       "      <td>538002755</td>\n",
       "      <td>0.0</td>\n",
       "      <td>0.0</td>\n",
       "      <td>13.4</td>\n",
       "      <td>27.2</td>\n",
       "      <td>24</td>\n",
       "      <td>-6.158875</td>\n",
       "      <td>48.114143</td>\n",
       "      <td>1446144200</td>\n",
       "    </tr>\n",
       "  </tbody>\n",
       "</table>\n",
       "</div>"
      ],
      "text/plain": [
       "        mmsi  status  turn  speed  course  heading       lon        lat  \\\n",
       "0  538003354     0.0   0.0   12.4    58.0       59 -5.277512  48.946890   \n",
       "1  477967700     0.0   0.0   17.3    37.5       36 -5.756353  48.562070   \n",
       "2  538004252     0.0   0.0   12.3    58.2       58 -5.304182  48.902900   \n",
       "3  538003920     0.0   4.0   12.1    55.6       60 -5.569274  48.793060   \n",
       "4  538002755     0.0   0.0   13.4    27.2       24 -6.158875  48.114143   \n",
       "\n",
       "           ts  \n",
       "0  1443799994  \n",
       "1  1444758539  \n",
       "2  1445427824  \n",
       "3  1445906007  \n",
       "4  1446144200  "
      ]
     },
     "execution_count": 6,
     "metadata": {},
     "output_type": "execute_result"
    }
   ],
   "source": [
    "df.head()"
   ]
  },
  {
   "cell_type": "code",
   "execution_count": 14,
   "metadata": {},
   "outputs": [
    {
     "data": {
      "text/html": [
       "<div>\n",
       "<style scoped>\n",
       "    .dataframe tbody tr th:only-of-type {\n",
       "        vertical-align: middle;\n",
       "    }\n",
       "\n",
       "    .dataframe tbody tr th {\n",
       "        vertical-align: top;\n",
       "    }\n",
       "\n",
       "    .dataframe thead th {\n",
       "        text-align: right;\n",
       "    }\n",
       "</style>\n",
       "<table border=\"1\" class=\"dataframe\">\n",
       "  <thead>\n",
       "    <tr style=\"text-align: right;\">\n",
       "      <th></th>\n",
       "      <th>mmsi</th>\n",
       "      <th>status</th>\n",
       "      <th>turn</th>\n",
       "      <th>speed</th>\n",
       "      <th>course</th>\n",
       "      <th>heading</th>\n",
       "      <th>lon</th>\n",
       "      <th>lat</th>\n",
       "      <th>ts</th>\n",
       "      <th>geom</th>\n",
       "    </tr>\n",
       "  </thead>\n",
       "  <tbody>\n",
       "    <tr>\n",
       "      <th>0</th>\n",
       "      <td>538003354</td>\n",
       "      <td>0.0</td>\n",
       "      <td>0.0</td>\n",
       "      <td>12.4</td>\n",
       "      <td>58.0</td>\n",
       "      <td>59</td>\n",
       "      <td>-5.277512</td>\n",
       "      <td>48.946890</td>\n",
       "      <td>1443799994</td>\n",
       "      <td>POINT (-5.2775116 48.94689)</td>\n",
       "    </tr>\n",
       "    <tr>\n",
       "      <th>1</th>\n",
       "      <td>477967700</td>\n",
       "      <td>0.0</td>\n",
       "      <td>0.0</td>\n",
       "      <td>17.3</td>\n",
       "      <td>37.5</td>\n",
       "      <td>36</td>\n",
       "      <td>-5.756353</td>\n",
       "      <td>48.562070</td>\n",
       "      <td>1444758539</td>\n",
       "      <td>POINT (-5.756353400000001 48.56207)</td>\n",
       "    </tr>\n",
       "    <tr>\n",
       "      <th>2</th>\n",
       "      <td>538004252</td>\n",
       "      <td>0.0</td>\n",
       "      <td>0.0</td>\n",
       "      <td>12.3</td>\n",
       "      <td>58.2</td>\n",
       "      <td>58</td>\n",
       "      <td>-5.304182</td>\n",
       "      <td>48.902900</td>\n",
       "      <td>1445427824</td>\n",
       "      <td>POINT (-5.3041816 48.9029)</td>\n",
       "    </tr>\n",
       "    <tr>\n",
       "      <th>3</th>\n",
       "      <td>538003920</td>\n",
       "      <td>0.0</td>\n",
       "      <td>4.0</td>\n",
       "      <td>12.1</td>\n",
       "      <td>55.6</td>\n",
       "      <td>60</td>\n",
       "      <td>-5.569274</td>\n",
       "      <td>48.793060</td>\n",
       "      <td>1445906007</td>\n",
       "      <td>POINT (-5.5692735 48.79306)</td>\n",
       "    </tr>\n",
       "    <tr>\n",
       "      <th>4</th>\n",
       "      <td>538002755</td>\n",
       "      <td>0.0</td>\n",
       "      <td>0.0</td>\n",
       "      <td>13.4</td>\n",
       "      <td>27.2</td>\n",
       "      <td>24</td>\n",
       "      <td>-6.158875</td>\n",
       "      <td>48.114143</td>\n",
       "      <td>1446144200</td>\n",
       "      <td>POINT (-6.158875 48.114143)</td>\n",
       "    </tr>\n",
       "    <tr>\n",
       "      <th>5</th>\n",
       "      <td>538002959</td>\n",
       "      <td>0.0</td>\n",
       "      <td>127.0</td>\n",
       "      <td>7.0</td>\n",
       "      <td>218.0</td>\n",
       "      <td>233</td>\n",
       "      <td>-5.673482</td>\n",
       "      <td>48.954450</td>\n",
       "      <td>1449290610</td>\n",
       "      <td>POINT (-5.6734815 48.95445)</td>\n",
       "    </tr>\n",
       "  </tbody>\n",
       "</table>\n",
       "</div>"
      ],
      "text/plain": [
       "        mmsi  status   turn  speed  course  heading       lon        lat  \\\n",
       "0  538003354     0.0    0.0   12.4    58.0       59 -5.277512  48.946890   \n",
       "1  477967700     0.0    0.0   17.3    37.5       36 -5.756353  48.562070   \n",
       "2  538004252     0.0    0.0   12.3    58.2       58 -5.304182  48.902900   \n",
       "3  538003920     0.0    4.0   12.1    55.6       60 -5.569274  48.793060   \n",
       "4  538002755     0.0    0.0   13.4    27.2       24 -6.158875  48.114143   \n",
       "5  538002959     0.0  127.0    7.0   218.0      233 -5.673482  48.954450   \n",
       "\n",
       "           ts                                 geom  \n",
       "0  1443799994          POINT (-5.2775116 48.94689)  \n",
       "1  1444758539  POINT (-5.756353400000001 48.56207)  \n",
       "2  1445427824           POINT (-5.3041816 48.9029)  \n",
       "3  1445906007          POINT (-5.5692735 48.79306)  \n",
       "4  1446144200          POINT (-6.158875 48.114143)  \n",
       "5  1449290610          POINT (-5.6734815 48.95445)  "
      ]
     },
     "execution_count": 14,
     "metadata": {},
     "output_type": "execute_result"
    }
   ],
   "source": [
    "gspp.gdf_from_df(df, crs={'init':'epsg:4326'})"
   ]
  },
  {
   "cell_type": "markdown",
   "metadata": {},
   "source": [
    "* #### Packaging to a Function"
   ]
  },
  {
   "cell_type": "code",
   "execution_count": 20,
   "metadata": {},
   "outputs": [
    {
     "name": "stdout",
     "output_type": "stream",
     "text": [
      "        mmsi  status  turn  speed  course  heading       lon        lat  \\\n",
      "0  245257000       0     0    0.1    13.1       36 -4.465718  48.382490   \n",
      "1  227705102      15  -127    0.0   262.7      511 -4.496571  48.382420   \n",
      "2  228131600      15  -127    8.5   263.7      511 -4.644325  48.092247   \n",
      "3  228051000       0  -127    0.0   295.0      511 -4.485108  48.381320   \n",
      "4  227574020      15  -127    0.1   248.6      511 -4.495441  48.383660   \n",
      "\n",
      "           ts  \n",
      "0  1443650402  \n",
      "1  1443650403  \n",
      "2  1443650404  \n",
      "3  1443650405  \n",
      "4  1443650406  \n"
     ]
    }
   ],
   "source": [
    "def read_csv_generator(file_path, chunksize=50000, sep=',', **kwargs):\n",
    "    pd_iter = pd.read_csv(file_path, chunksize=chunksize, sep=sep, **kwargs)\n",
    "    return pd_iter\n",
    "\n",
    "for chunk in read_csv_generator('data/csv/nari_dynamic.csv', chunksize=50000):\n",
    "    if len(chunk) != 0:\n",
    "        print (chunk.head()) \n",
    "        break"
   ]
  },
  {
   "cell_type": "code",
   "execution_count": null,
   "metadata": {},
   "outputs": [],
   "source": []
  },
  {
   "cell_type": "markdown",
   "metadata": {},
   "source": [
    "## Trying to get data for selected mmsi using a generator from PostgreSQL (good luck with that)"
   ]
  },
  {
   "cell_type": "code",
   "execution_count": null,
   "metadata": {},
   "outputs": [],
   "source": [
    "%%time\n",
    "\n",
    "con = psycopg2.connect(database=db_name, user=uname, password=pw, host=host, port=port)\n",
    "query = 'SELECT * FROM ais_data.dynamic_ships'\n",
    "# gdf = pd.read_sql('SELECT * FROM ais_data.dynamic_ships', con=con)\n",
    "size = 50000\n",
    "i = 1\n",
    "gdf = pd.DataFrame()\n",
    "for chunk in pd.read_sql(query, con=con, chunksize=size):\n",
    "    print (size*i)\n",
    "    gdf = gdf.append(chunk.loc[chunk.mmsi == 227941000].drop('geom', axis=1))\n",
    "    i+=1\n",
    "    \n",
    "con.close()\n",
    "\n",
    "## RAM OVERLOAD (AGAIN!!!!)"
   ]
  },
  {
   "cell_type": "markdown",
   "metadata": {},
   "source": [
    "## Sample Code from [PostgreSQL with Chunksize](http://jgardiner.co.uk/blog/read_sql_pandas)"
   ]
  },
  {
   "cell_type": "code",
   "execution_count": null,
   "metadata": {},
   "outputs": [],
   "source": [
    "#Chunked access\n",
    "start = time.time()\n",
    "engine = create_engine(conn_str)\n",
    "size = 10**4\n",
    "df = pd.concat((x for x in pd.read_sql(iso_cmdb_base, engine, coerce_float=False, chunksize=size)),\n",
    "               ignore_index=True)\n",
    "print('time:', (time.time() - start)/60, 'minutes or ', time.time() - start, 'seconds')"
   ]
  }
 ],
 "metadata": {
  "kernelspec": {
   "display_name": "Python 3 (GIS)",
   "language": "python",
   "name": "gis"
  },
  "language_info": {
   "codemirror_mode": {
    "name": "ipython",
    "version": 3
   },
   "file_extension": ".py",
   "mimetype": "text/x-python",
   "name": "python",
   "nbconvert_exporter": "python",
   "pygments_lexer": "ipython3",
   "version": "3.7.2"
  }
 },
 "nbformat": 4,
 "nbformat_minor": 2
}
