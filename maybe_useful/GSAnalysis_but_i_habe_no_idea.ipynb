{
 "cells": [
  {
   "cell_type": "markdown",
   "metadata": {
    "toc": true
   },
   "source": [
    "<h1>Table of Contents<span class=\"tocSkip\"></span></h1>\n",
    "<div class=\"toc\"><ul class=\"toc-item\"></ul></div>"
   ]
  },
  {
   "cell_type": "code",
   "execution_count": null,
   "metadata": {},
   "outputs": [],
   "source": [
    "# line with noise mmsi=371415000"
   ]
  },
  {
   "cell_type": "code",
   "execution_count": 1,
   "metadata": {
    "ExecuteTime": {
     "end_time": "2018-10-04T15:04:46.477697Z",
     "start_time": "2018-10-04T15:04:45.323456Z"
    }
   },
   "outputs": [],
   "source": [
    "import pandas as pd\n",
    "import geopandas as gpd\n",
    "import matplotlib.pyplot as plt\n",
    "from sklearn.cluster import DBSCAN, MeanShift\n",
    "from sklearn.preprocessing import MinMaxScaler\n",
    "import psycopg2\n",
    "from random import choice\n",
    "import contextily as ctx\n",
    "import numpy as np\n",
    "from shapely.geometry import Point, LineString, shape\n",
    "from tqdm import tqdm_notebook"
   ]
  },
  {
   "cell_type": "code",
   "execution_count": 2,
   "metadata": {
    "ExecuteTime": {
     "end_time": "2018-10-04T15:05:10.629369Z",
     "start_time": "2018-10-04T15:04:46.485000Z"
    }
   },
   "outputs": [],
   "source": [
    "host    = \n",
    "db_name = \n",
    "uname   = \n",
    "pw      = \n",
    "port    = \n",
    "\n",
    "con = psycopg2.connect(database=db_name, user=uname, password=pw, host=host, port = port)\n",
    "sql = 'SELECT * FROM ais_data.dynamic_ships WHERE ts>1456889110 AND ts<1456975510  '\n",
    "df = gpd.GeoDataFrame.from_postgis(sql, con, geom_col='geom' )\n",
    "\n",
    "con.close()"
   ]
  },
  {
   "cell_type": "code",
   "execution_count": 101,
   "metadata": {
    "ExecuteTime": {
     "end_time": "2018-10-04T09:37:11.732005Z",
     "start_time": "2018-10-04T09:37:11.728973Z"
    }
   },
   "outputs": [
    {
     "data": {
      "text/plain": [
       "96"
      ]
     },
     "execution_count": 101,
     "metadata": {},
     "output_type": "execute_result"
    }
   ],
   "source": [
    "df.mmsi.nunique()"
   ]
  },
  {
   "cell_type": "code",
   "execution_count": 102,
   "metadata": {
    "ExecuteTime": {
     "end_time": "2018-10-04T09:37:11.807991Z",
     "start_time": "2018-10-04T09:37:11.803115Z"
    }
   },
   "outputs": [
    {
     "data": {
      "text/plain": [
       "1882.0833333333333"
      ]
     },
     "execution_count": 102,
     "metadata": {},
     "output_type": "execute_result"
    }
   ],
   "source": [
    "df.groupby(['mmsi'])['id'].count().mean()"
   ]
  },
  {
   "cell_type": "code",
   "execution_count": 31,
   "metadata": {
    "ExecuteTime": {
     "end_time": "2018-10-04T15:19:21.816652Z",
     "start_time": "2018-10-04T15:19:21.804379Z"
    }
   },
   "outputs": [
    {
     "data": {
      "text/plain": [
       "3.3499999999797581e-05"
      ]
     },
     "execution_count": 31,
     "metadata": {},
     "output_type": "execute_result"
    }
   ],
   "source": [
    "sample_ves.geom.distance(point).replace(0,None).min()"
   ]
  },
  {
   "cell_type": "code",
   "execution_count": 38,
   "metadata": {
    "ExecuteTime": {
     "end_time": "2018-10-04T15:21:34.132667Z",
     "start_time": "2018-10-04T15:21:29.888556Z"
    },
    "cell_style": "center"
   },
   "outputs": [],
   "source": [
    "max_val = 0\n",
    "min_val = 1000\n",
    "for point in sample_ves.geom:\n",
    "    if (sample_ves.geom.distance(point).max()) > max_val:\n",
    "        max_val = (sample_ves.geom.distance(point).max())\n",
    "    if sample_ves.geom.distance(point).replace(0,None).min() < min_val and sample_ves.geom.distance(point).replace(0,None).min() != 0:\n",
    "        min_val = sample_ves.geom.distance(point).replace(0,None).min()\n",
    "        \n"
   ]
  },
  {
   "cell_type": "code",
   "execution_count": 39,
   "metadata": {
    "ExecuteTime": {
     "end_time": "2018-10-04T15:21:35.288874Z",
     "start_time": "2018-10-04T15:21:35.282074Z"
    }
   },
   "outputs": [
    {
     "data": {
      "text/plain": [
       "(1.4000000000180535e-05, 0.25371053217838824)"
      ]
     },
     "execution_count": 39,
     "metadata": {},
     "output_type": "execute_result"
    }
   ],
   "source": [
    "min_val, max_val"
   ]
  },
  {
   "cell_type": "code",
   "execution_count": 59,
   "metadata": {
    "ExecuteTime": {
     "end_time": "2018-10-04T15:29:37.415481Z",
     "start_time": "2018-10-04T15:29:37.410654Z"
    }
   },
   "outputs": [
    {
     "data": {
      "text/plain": [
       "71"
      ]
     },
     "execution_count": 59,
     "metadata": {},
     "output_type": "execute_result"
    }
   ],
   "source": [
    "clstr(max_val, min_val, 0.01)"
   ]
  },
  {
   "cell_type": "code",
   "execution_count": 56,
   "metadata": {
    "ExecuteTime": {
     "end_time": "2018-10-04T15:28:29.956942Z",
     "start_time": "2018-10-04T15:28:29.954323Z"
    }
   },
   "outputs": [],
   "source": [
    "def clstr(max_len, starting_radius, radius_weight):\n",
    "    rad_sum = 0\n",
    "    i = 1\n",
    "    while True:\n",
    "        if i == 1:\n",
    "            cr_rd = starting_radius\n",
    "        else:\n",
    "            cr_rd += (i *radius_weight)/100\n",
    "        if cr_rd >= max_len:\n",
    "            return i\n",
    "        i += 1\n",
    "\n"
   ]
  },
  {
   "cell_type": "code",
   "execution_count": 181,
   "metadata": {
    "ExecuteTime": {
     "end_time": "2018-10-04T11:54:40.975534Z",
     "start_time": "2018-10-04T11:53:01.145402Z"
    }
   },
   "outputs": [
    {
     "data": {
      "application/vnd.jupyter.widget-view+json": {
       "model_id": "170b12d0dec4465cbe32578c7a6f31c7",
       "version_major": 2,
       "version_minor": 0
      },
      "text/plain": [
       "HBox(children=(IntProgress(value=0, max=674), HTML(value='')))"
      ]
     },
     "metadata": {},
     "output_type": "display_data"
    },
    {
     "name": "stdout",
     "output_type": "stream",
     "text": [
      "\n"
     ]
    }
   ],
   "source": [
    "distances = []\n",
    "sample_ves.reset_index(drop=True, inplace=True)\n",
    "for point in tqdm_notebook(sample_ves.geom):\n",
    "    dist = []\n",
    "    for i in range(1,n+1):\n",
    "        thres = interval*1\n",
    "        dist.append(len(sample_ves.geom.distance(point).loc[sample_ves.geom.distance(point)<thres]))\n",
    "    distances.append((sample_ves[sample_ves.geom == point].index[0],dist))\n",
    "            "
   ]
  },
  {
   "cell_type": "code",
   "execution_count": 172,
   "metadata": {
    "ExecuteTime": {
     "end_time": "2018-10-04T11:48:49.297797Z",
     "start_time": "2018-10-04T11:48:49.278439Z"
    }
   },
   "outputs": [
    {
     "data": {
      "text/plain": [
       "141426"
      ]
     },
     "execution_count": 172,
     "metadata": {},
     "output_type": "execute_result"
    }
   ],
   "source": [
    "sample_ves[sample_ves.geom == point].index[0]"
   ]
  },
  {
   "cell_type": "code",
   "execution_count": 3,
   "metadata": {
    "ExecuteTime": {
     "end_time": "2018-10-04T15:05:13.140040Z",
     "start_time": "2018-10-04T15:05:10.692626Z"
    },
    "cell_style": "center",
    "collapsed": true
   },
   "outputs": [
    {
     "data": {
      "text/plain": [
       "<matplotlib.axes._subplots.AxesSubplot at 0x7f33225ed390>"
      ]
     },
     "execution_count": 3,
     "metadata": {},
     "output_type": "execute_result"
    },
    {
     "data": {
      "image/png": "[encoded data removed]",
      "text/plain": [
       "<Figure size 504x504 with 1 Axes>"
      ]
     },
     "metadata": {},
     "output_type": "display_data"
    }
   ],
   "source": [
    "sample_ves = df.loc[df['mmsi'] == 371415000]\n",
    "sample_ves.crs = {'init': 'epsg:4326'}\n",
    "\n",
    "ax = sample_ves.to_crs(epsg=3857).plot(figsize=(7, 7))\n",
    "ctx.add_basemap(ax)"
   ]
  },
  {
   "cell_type": "code",
   "execution_count": null,
   "metadata": {},
   "outputs": [],
   "source": []
  },
  {
   "cell_type": "code",
   "execution_count": 160,
   "metadata": {
    "ExecuteTime": {
     "end_time": "2018-10-04T11:34:01.050895Z",
     "start_time": "2018-10-04T11:34:00.979959Z"
    }
   },
   "outputs": [
    {
     "data": {
      "text/plain": [
       "<matplotlib.axes._subplots.AxesSubplot at 0x7f6b11940128>"
      ]
     },
     "execution_count": 160,
     "metadata": {},
     "output_type": "execute_result"
    },
    {
     "data": {
      "image/png": "[encoded data removed]",
      "text/plain": [
       "<Figure size 432x288 with 1 Axes>"
      ]
     },
     "metadata": {},
     "output_type": "display_data"
    }
   ],
   "source": [
    "def clasify(geom, n=20):\n",
    "    max_val = 0\n",
    "    for point in sample_ves.geom:\n",
    "        if (sample_ves.geom.distance(point).max()) > max_val:\n",
    "            max_val = (sample_ves.geom.distance(point).max())\n",
    "    interval = max_val/n\n",
    "    \n"
   ]
  },
  {
   "cell_type": "code",
   "execution_count": 139,
   "metadata": {
    "ExecuteTime": {
     "end_time": "2018-10-04T11:27:08.590973Z",
     "start_time": "2018-10-04T11:27:08.583649Z"
    }
   },
   "outputs": [
    {
     "data": {
      "text/plain": [
       "[0, 36513]"
      ]
     },
     "execution_count": 139,
     "metadata": {},
     "output_type": "execute_result"
    }
   ],
   "source": [
    "list(tup)[::-1]\n",
    "   21361 [21361, 36513]"
   ]
  },
  {
   "cell_type": "code",
   "execution_count": 86,
   "metadata": {
    "ExecuteTime": {
     "end_time": "2018-10-04T10:58:13.784029Z",
     "start_time": "2018-10-04T10:58:13.765446Z"
    }
   },
   "outputs": [],
   "source": [
    "scaled_x = scaler.fit_transform(sample_ves.geom.x)\n",
    "scaled_y = scaler.fit_transform(sample_ves.geom.y)"
   ]
  },
  {
   "cell_type": "code",
   "execution_count": 108,
   "metadata": {
    "ExecuteTime": {
     "end_time": "2018-10-04T11:05:01.541582Z",
     "start_time": "2018-10-04T11:05:01.527388Z"
    },
    "scrolled": true
   },
   "outputs": [
    {
     "ename": "ValueError",
     "evalue": "Expected n_neighbors > 0. Got 0",
     "output_type": "error",
     "traceback": [
      "\u001b[0;31m---------------------------------------------------------------------------\u001b[0m",
      "\u001b[0;31mValueError\u001b[0m                                Traceback (most recent call last)",
      "\u001b[0;32m<ipython-input-108-478e3248a95a>\u001b[0m in \u001b[0;36m<module>\u001b[0;34m()\u001b[0m\n\u001b[1;32m      1\u001b[0m \u001b[0mclst\u001b[0m \u001b[0;34m=\u001b[0m \u001b[0mMeanShift\u001b[0m\u001b[0;34m(\u001b[0m\u001b[0;34m)\u001b[0m\u001b[0;34m\u001b[0m\u001b[0m\n\u001b[0;32m----> 2\u001b[0;31m \u001b[0mclst\u001b[0m\u001b[0;34m.\u001b[0m\u001b[0mfit_predict\u001b[0m\u001b[0;34m(\u001b[0m\u001b[0mscaled_x\u001b[0m\u001b[0;34m)\u001b[0m\u001b[0;34m\u001b[0m\u001b[0m\n\u001b[0m",
      "\u001b[0;32m~/anaconda3/lib/python3.6/site-packages/sklearn/base.py\u001b[0m in \u001b[0;36mfit_predict\u001b[0;34m(self, X, y)\u001b[0m\n\u001b[1;32m    408\u001b[0m         \u001b[0;31m# non-optimized default implementation; override when a better\u001b[0m\u001b[0;34m\u001b[0m\u001b[0;34m\u001b[0m\u001b[0m\n\u001b[1;32m    409\u001b[0m         \u001b[0;31m# method is possible for a given clustering algorithm\u001b[0m\u001b[0;34m\u001b[0m\u001b[0;34m\u001b[0m\u001b[0m\n\u001b[0;32m--> 410\u001b[0;31m         \u001b[0mself\u001b[0m\u001b[0;34m.\u001b[0m\u001b[0mfit\u001b[0m\u001b[0;34m(\u001b[0m\u001b[0mX\u001b[0m\u001b[0;34m)\u001b[0m\u001b[0;34m\u001b[0m\u001b[0m\n\u001b[0m\u001b[1;32m    411\u001b[0m         \u001b[0;32mreturn\u001b[0m \u001b[0mself\u001b[0m\u001b[0;34m.\u001b[0m\u001b[0mlabels_\u001b[0m\u001b[0;34m\u001b[0m\u001b[0m\n\u001b[1;32m    412\u001b[0m \u001b[0;34m\u001b[0m\u001b[0m\n",
      "\u001b[0;32m~/anaconda3/lib/python3.6/site-packages/sklearn/cluster/mean_shift_.py\u001b[0m in \u001b[0;36mfit\u001b[0;34m(self, X, y)\u001b[0m\n\u001b[1;32m    390\u001b[0m                        \u001b[0mmin_bin_freq\u001b[0m\u001b[0;34m=\u001b[0m\u001b[0mself\u001b[0m\u001b[0;34m.\u001b[0m\u001b[0mmin_bin_freq\u001b[0m\u001b[0;34m,\u001b[0m\u001b[0;34m\u001b[0m\u001b[0m\n\u001b[1;32m    391\u001b[0m                        \u001b[0mbin_seeding\u001b[0m\u001b[0;34m=\u001b[0m\u001b[0mself\u001b[0m\u001b[0;34m.\u001b[0m\u001b[0mbin_seeding\u001b[0m\u001b[0;34m,\u001b[0m\u001b[0;34m\u001b[0m\u001b[0m\n\u001b[0;32m--> 392\u001b[0;31m                        cluster_all=self.cluster_all, n_jobs=self.n_jobs)\n\u001b[0m\u001b[1;32m    393\u001b[0m         \u001b[0;32mreturn\u001b[0m \u001b[0mself\u001b[0m\u001b[0;34m\u001b[0m\u001b[0m\n\u001b[1;32m    394\u001b[0m \u001b[0;34m\u001b[0m\u001b[0m\n",
      "\u001b[0;32m~/anaconda3/lib/python3.6/site-packages/sklearn/cluster/mean_shift_.py\u001b[0m in \u001b[0;36mmean_shift\u001b[0;34m(X, bandwidth, seeds, bin_seeding, min_bin_freq, cluster_all, max_iter, n_jobs)\u001b[0m\n\u001b[1;32m    173\u001b[0m \u001b[0;34m\u001b[0m\u001b[0m\n\u001b[1;32m    174\u001b[0m     \u001b[0;32mif\u001b[0m \u001b[0mbandwidth\u001b[0m \u001b[0;32mis\u001b[0m \u001b[0;32mNone\u001b[0m\u001b[0;34m:\u001b[0m\u001b[0;34m\u001b[0m\u001b[0m\n\u001b[0;32m--> 175\u001b[0;31m         \u001b[0mbandwidth\u001b[0m \u001b[0;34m=\u001b[0m \u001b[0mestimate_bandwidth\u001b[0m\u001b[0;34m(\u001b[0m\u001b[0mX\u001b[0m\u001b[0;34m,\u001b[0m \u001b[0mn_jobs\u001b[0m\u001b[0;34m=\u001b[0m\u001b[0mn_jobs\u001b[0m\u001b[0;34m)\u001b[0m\u001b[0;34m\u001b[0m\u001b[0m\n\u001b[0m\u001b[1;32m    176\u001b[0m     \u001b[0;32melif\u001b[0m \u001b[0mbandwidth\u001b[0m \u001b[0;34m<=\u001b[0m \u001b[0;36m0\u001b[0m\u001b[0;34m:\u001b[0m\u001b[0;34m\u001b[0m\u001b[0m\n\u001b[1;32m    177\u001b[0m         raise ValueError(\"bandwidth needs to be greater than zero or None,\\\n",
      "\u001b[0;32m~/anaconda3/lib/python3.6/site-packages/sklearn/cluster/mean_shift_.py\u001b[0m in \u001b[0;36mestimate_bandwidth\u001b[0;34m(X, quantile, n_samples, random_state, n_jobs)\u001b[0m\n\u001b[1;32m     66\u001b[0m     nbrs = NearestNeighbors(n_neighbors=int(X.shape[0] * quantile),\n\u001b[1;32m     67\u001b[0m                             n_jobs=n_jobs)\n\u001b[0;32m---> 68\u001b[0;31m     \u001b[0mnbrs\u001b[0m\u001b[0;34m.\u001b[0m\u001b[0mfit\u001b[0m\u001b[0;34m(\u001b[0m\u001b[0mX\u001b[0m\u001b[0;34m)\u001b[0m\u001b[0;34m\u001b[0m\u001b[0m\n\u001b[0m\u001b[1;32m     69\u001b[0m \u001b[0;34m\u001b[0m\u001b[0m\n\u001b[1;32m     70\u001b[0m     \u001b[0mbandwidth\u001b[0m \u001b[0;34m=\u001b[0m \u001b[0;36m0.\u001b[0m\u001b[0;34m\u001b[0m\u001b[0m\n",
      "\u001b[0;32m~/anaconda3/lib/python3.6/site-packages/sklearn/neighbors/base.py\u001b[0m in \u001b[0;36mfit\u001b[0;34m(self, X, y)\u001b[0m\n\u001b[1;32m    797\u001b[0m             \u001b[0;32mor\u001b[0m \u001b[0;34m[\u001b[0m\u001b[0mn_samples\u001b[0m\u001b[0;34m,\u001b[0m \u001b[0mn_samples\u001b[0m\u001b[0;34m]\u001b[0m \u001b[0;32mif\u001b[0m \u001b[0mmetric\u001b[0m\u001b[0;34m=\u001b[0m\u001b[0;34m'precomputed'\u001b[0m\u001b[0;34m.\u001b[0m\u001b[0;34m\u001b[0m\u001b[0m\n\u001b[1;32m    798\u001b[0m         \"\"\"\n\u001b[0;32m--> 799\u001b[0;31m         \u001b[0;32mreturn\u001b[0m \u001b[0mself\u001b[0m\u001b[0;34m.\u001b[0m\u001b[0m_fit\u001b[0m\u001b[0;34m(\u001b[0m\u001b[0mX\u001b[0m\u001b[0;34m)\u001b[0m\u001b[0;34m\u001b[0m\u001b[0m\n\u001b[0m",
      "\u001b[0;32m~/anaconda3/lib/python3.6/site-packages/sklearn/neighbors/base.py\u001b[0m in \u001b[0;36m_fit\u001b[0;34m(self, X)\u001b[0m\n\u001b[1;32m    253\u001b[0m                 raise ValueError(\n\u001b[1;32m    254\u001b[0m                     \u001b[0;34m\"Expected n_neighbors > 0. Got %d\"\u001b[0m \u001b[0;34m%\u001b[0m\u001b[0;34m\u001b[0m\u001b[0m\n\u001b[0;32m--> 255\u001b[0;31m                     \u001b[0mself\u001b[0m\u001b[0;34m.\u001b[0m\u001b[0mn_neighbors\u001b[0m\u001b[0;34m\u001b[0m\u001b[0m\n\u001b[0m\u001b[1;32m    256\u001b[0m                 )\n\u001b[1;32m    257\u001b[0m \u001b[0;34m\u001b[0m\u001b[0m\n",
      "\u001b[0;31mValueError\u001b[0m: Expected n_neighbors > 0. Got 0"
     ]
    }
   ],
   "source": [
    "clst = MeanShift()\n",
    "clst.fit_predict(scaled_x)"
   ]
  },
  {
   "cell_type": "code",
   "execution_count": null,
   "metadata": {},
   "outputs": [],
   "source": []
  },
  {
   "cell_type": "code",
   "execution_count": null,
   "metadata": {},
   "outputs": [],
   "source": []
  },
  {
   "cell_type": "code",
   "execution_count": 25,
   "metadata": {
    "ExecuteTime": {
     "end_time": "2018-10-04T10:11:09.233291Z",
     "start_time": "2018-10-04T10:11:09.229827Z"
    }
   },
   "outputs": [],
   "source": [
    "sample_ves_sorted = sample_ves.sort_values('id')"
   ]
  },
  {
   "cell_type": "code",
   "execution_count": 26,
   "metadata": {
    "ExecuteTime": {
     "end_time": "2018-10-04T10:11:17.981623Z",
     "start_time": "2018-10-04T10:11:17.970451Z"
    }
   },
   "outputs": [],
   "source": [
    "tmp_df = sample_ves_sorted.groupby(['mmsi'])['geom'].apply(lambda x: LineString(x.tolist()[:]))"
   ]
  },
  {
   "cell_type": "code",
   "execution_count": 27,
   "metadata": {
    "ExecuteTime": {
     "end_time": "2018-10-04T10:11:18.407823Z",
     "start_time": "2018-10-04T10:11:18.404524Z"
    }
   },
   "outputs": [],
   "source": [
    "tmp_df = gpd.GeoDataFrame(tmp_df, geometry='geom')\n"
   ]
  },
  {
   "cell_type": "code",
   "execution_count": 28,
   "metadata": {
    "ExecuteTime": {
     "end_time": "2018-10-04T10:11:21.504537Z",
     "start_time": "2018-10-04T10:11:18.856035Z"
    }
   },
   "outputs": [
    {
     "data": {
      "text/plain": [
       "<matplotlib.axes._subplots.AxesSubplot at 0x7f6b1478f4a8>"
      ]
     },
     "execution_count": 28,
     "metadata": {},
     "output_type": "execute_result"
    },
    {
     "data": {
      "image/png": "[encoded data removed]",
      "text/plain": [
       "<Figure size 1080x1080 with 1 Axes>"
      ]
     },
     "metadata": {},
     "output_type": "display_data"
    }
   ],
   "source": [
    "tmp_df.crs = {'init': 'epsg:4326'}\n",
    "\n",
    "ax = tmp_df.to_crs(epsg=3857).plot(figsize=(15, 15))\n",
    "ctx.add_basemap(ax)"
   ]
  },
  {
   "cell_type": "code",
   "execution_count": 83,
   "metadata": {
    "ExecuteTime": {
     "end_time": "2018-10-04T09:32:46.573768Z",
     "start_time": "2018-10-04T09:32:46.567286Z"
    }
   },
   "outputs": [
    {
     "data": {
      "text/plain": [
       "shapely.geometry.linestring.LineString"
      ]
     },
     "execution_count": 83,
     "metadata": {},
     "output_type": "execute_result"
    }
   ],
   "source": [
    "type(tmp_df.geom.iloc[0])"
   ]
  },
  {
   "cell_type": "code",
   "execution_count": null,
   "metadata": {},
   "outputs": [],
   "source": []
  },
  {
   "cell_type": "code",
   "execution_count": null,
   "metadata": {},
   "outputs": [],
   "source": []
  },
  {
   "cell_type": "code",
   "execution_count": 31,
   "metadata": {
    "ExecuteTime": {
     "end_time": "2018-10-04T08:56:57.127600Z",
     "start_time": "2018-10-04T08:56:56.981979Z"
    }
   },
   "outputs": [
    {
     "name": "stdout",
     "output_type": "stream",
     "text": [
      "              id       mmsi  status   turn  speed  course  heading       lon  \\\n",
      "136189  17552011  228025700     0.0    0.0    8.9   295.5      300 -4.044165   \n",
      "136285  17552107  228025700     0.0    0.0    8.4   295.5      300 -4.060665   \n",
      "136295  17552117  228025700     0.0    0.0    8.9   294.5      300 -4.061332   \n",
      "136298  17552120  228025700     0.0  127.0    8.9   296.6      300 -4.061688   \n",
      "136416  17552238  228025700     0.0  127.0    8.8   296.6      301 -4.092270   \n",
      "136479  17552301  228025700     0.0 -126.0    9.0   299.9      300 -4.107165   \n",
      "136921  17552743  228025700     0.0    0.0    8.2   300.7      301 -4.207773   \n",
      "136922  17552744  228025700     0.0    0.0    8.2   300.7      301 -4.207933   \n",
      "136925  17552747  228025700     0.0  127.0    8.4   298.1      302 -4.208332   \n",
      "136927  17552749  228025700     0.0 -126.0    8.1   296.8      301 -4.208405   \n",
      "136928  17552750  228025700     0.0    0.0    8.5   302.3      300 -4.208499   \n",
      "136931  17552753  228025700     0.0    0.0    8.3   296.7      301 -4.208909   \n",
      "136935  17552757  228025700     0.0    0.0    8.6   298.9      300 -4.209122   \n",
      "136939  17552761  228025700     0.0    0.0    9.1   299.1      300 -4.209832   \n",
      "136940  17552762  228025700     0.0    0.0    9.1   300.1      301 -4.209985   \n",
      "136943  17552765  228025700     0.0 -126.0    9.1   299.9      300 -4.210102   \n",
      "136945  17552767  228025700     0.0    0.0    9.3   298.3      301 -4.210331   \n",
      "137000  17552822  228025700     0.0    0.0    8.1   300.0      301 -4.222708   \n",
      "137001  17552823  228025700     0.0  127.0    8.5   299.8      301 -4.223232   \n",
      "137004  17552826  228025700     0.0 -126.0    8.7   298.5      301 -4.223331   \n",
      "137013  17552835  228025700     0.0    0.0    9.0   300.8      301 -4.223775   \n",
      "137016  17552838  228025700     0.0    0.0    9.4   297.1      301 -4.224165   \n",
      "137020  17552842  228025700     0.0    0.0    8.9   296.6      300 -4.224662   \n",
      "137021  17552843  228025700     0.0    0.0    8.9   296.0      300 -4.224822   \n",
      "137024  17552846  228025700     0.0    0.0    9.2   298.7      300 -4.225142   \n",
      "137041  17552863  228025700     0.0    0.0    7.8   297.3      299 -4.238065   \n",
      "137044  17552866  228025700     0.0    0.0    7.2   295.1      299 -4.238225   \n",
      "137046  17552868  228025700     0.0    0.0    7.4   299.1      299 -4.238332   \n",
      "137057  17552879  228025700     0.0    0.0    7.9   297.9      300 -4.238712   \n",
      "137065  17552887  228025700     0.0    0.0    8.3   301.1      300 -4.239210   \n",
      "...          ...        ...     ...    ...    ...     ...      ...       ...   \n",
      "170631  17642245  228025700     0.0    0.0    8.8   305.5      309 -5.634938   \n",
      "170639  17642253  228025700     0.0    0.0    9.0   308.5      308 -5.635251   \n",
      "170806  17642420  228025700     0.0    0.0    7.8   304.3      308 -5.647165   \n",
      "170810  17642424  228025700     0.0    0.0    7.9   310.4      308 -5.647237   \n",
      "170816  17642430  228025700     0.0 -126.0    8.1   309.4      307 -5.647420   \n",
      "170824  17642438  228025700     0.0  127.0    8.3   306.8      308 -5.647498   \n",
      "170836  17642450  228025700     0.0    0.0    8.5   309.5      309 -5.647998   \n",
      "170841  17642455  228025700     0.0    0.0    8.3   307.2      309 -5.648113   \n",
      "170854  17642468  228025700     0.0 -126.0    8.3   309.0      308 -5.648498   \n",
      "170865  17642479  228025700     0.0  127.0    8.7   301.3      308 -5.648750   \n",
      "170946  17642560  228025700     0.0    0.0    8.7   306.3      307 -5.659665   \n",
      "170949  17642563  228025700     0.0  127.0    8.7   305.8      308 -5.659761   \n",
      "170952  17642566  228025700     0.0 -126.0    8.7   303.8      308 -5.659950   \n",
      "170953  17642567  228025700     0.0    0.0    8.8   304.7      307 -5.660165   \n",
      "170956  17642570  228025700     0.0    0.0    8.9   305.1      307 -5.660274   \n",
      "170961  17642575  228025700     0.0 -126.0    9.3   302.6      307 -5.660665   \n",
      "170966  17642580  228025700     0.0  127.0    9.3   306.1      308 -5.660777   \n",
      "170969  17642583  228025700     0.0    0.0    9.1   303.5      308 -5.660967   \n",
      "170970  17642584  228025700     0.0  127.0    9.0   300.6      308 -5.661165   \n",
      "170974  17642588  228025700     0.0  127.0    9.1   306.4      309 -5.661482   \n",
      "170977  17642591  228025700     0.0 -126.0    9.0   303.7      308 -5.661665   \n",
      "170983  17642597  228025700     0.0  127.0    9.2   305.5      309 -5.661832   \n",
      "170985  17642599  228025700     0.0    0.0    9.4   308.6      309 -5.661985   \n",
      "171814  17643428  228025700     0.0    0.0    8.2   296.2      301 -5.761892   \n",
      "171830  17643444  228025700     0.0    0.0    8.6   293.9      301 -5.763332   \n",
      "171837  17643451  228025700     0.0    0.0    8.6   294.6      301 -5.763832   \n",
      "171949  17643563  228025700     0.0    0.0    8.6   292.3      302 -5.777844   \n",
      "171951  17643565  228025700     0.0 -126.0    8.7   294.6      301 -5.777998   \n",
      "171965  17643579  228025700     0.0    0.0    8.6   296.1      301 -5.778831   \n",
      "171970  17643584  228025700     0.0    0.0    8.5   294.5      301 -5.779332   \n",
      "\n",
      "              lat          ts                                           geom  \n",
      "136189  47.532000  1456925905  POINT (-151742.1270472225 -667301.1007449439)  \n",
      "136285  47.538334  1456926205  POINT (-151742.1387151184 -667301.0969659447)  \n",
      "136295  47.538500  1456926219  POINT (-151742.1391831261 -667301.0968759357)  \n",
      "136298  47.538654  1456926225  POINT (-151742.1394360196 -667301.0967823446)  \n",
      "136416  47.549700  1456926812  POINT (-151742.1610350875 -667301.0902617302)  \n",
      "136479  47.555668  1456927095  POINT (-151742.1715775954 -667301.0866759692)  \n",
      "136921  47.604380  1456929189  POINT (-151742.2431085409 -667301.0565998631)  \n",
      "136922  47.604454  1456929192  POINT (-151742.2432224427 -667301.0565544663)  \n",
      "136925  47.604668  1456929199  POINT (-151742.2435063687 -667301.0564206501)  \n",
      "136927  47.604670  1456929202  POINT (-151742.2435572708 -667301.0564220842)  \n",
      "136928  47.604668  1456929205  POINT (-151742.2436219388 -667301.0564270837)  \n",
      "136931  47.604877  1456929212  POINT (-151742.2439139146 -667301.0562972112)  \n",
      "136935  47.604960  1456929216  POINT (-151742.2440646525 -667301.0562475711)  \n",
      "136939  47.605335  1456929230  POINT (-151742.2445706492 -667301.0560135487)  \n",
      "136940  47.605310  1456929232   POINT (-151742.244675844 -667301.0560368843)  \n",
      "136943  47.605354  1456929235  POINT (-151742.2447582658 -667301.0560107089)  \n",
      "136945  47.605500  1456929239   POINT (-151742.2449229819 -667301.055917798)  \n",
      "137000  47.610714  1456929492  POINT (-151742.2536927653 -667301.0527605234)  \n",
      "137001  47.610928  1456929502  POINT (-151742.2540638008 -667301.0526315558)  \n",
      "137004  47.611000  1456929505  POINT (-151742.2541354564 -667301.0525852054)  \n",
      "137013  47.611153  1456929512  POINT (-151742.2544484151 -667301.0524956547)  \n",
      "137016  47.611332  1456929519   POINT (-151742.2547253222 -667301.052385918)  \n",
      "137020  47.611515  1456929529  POINT (-151742.2550764767 -667301.0522775177)  \n",
      "137021  47.611588  1456929532  POINT (-151742.2551897865 -667301.0522327876)  \n",
      "137024  47.611694  1456929539  POINT (-151742.2554153581 -667301.0521712332)  \n",
      "137041  47.616974  1456929788  POINT (-151742.2645663653 -667301.0489890365)  \n",
      "137044  47.617060  1456929792  POINT (-151742.2646804512 -667301.0489352579)  \n",
      "137046  47.617170  1456929795  POINT (-151742.2647587546 -667301.0488627083)  \n",
      "137057  47.617250  1456929802  POINT (-151742.2650249465 -667301.0488215947)  \n",
      "137065  47.617455  1456929812  POINT (-151742.2653776333 -667301.0486978987)  \n",
      "...           ...         ...                                            ...  \n",
      "170631  48.211420  1456958932  POINT (-151743.2545883387 -667300.6884828213)  \n",
      "170639  48.211570  1456958939   POINT (-151743.254811024 -667300.6883903419)  \n",
      "170806  48.218000  1456959201    POINT (-151743.26330671 -667300.6843675879)  \n",
      "170810  48.218075  1456959205  POINT (-151743.2633594391 -667300.6843180847)  \n",
      "170816  48.218140  1456959208  POINT (-151743.2634886475 -667300.6842798339)  \n",
      "170824  48.218166  1456959212  POINT (-151743.2635436539 -667300.6842647181)  \n",
      "170836  48.218500  1456959221  POINT (-151743.2639028752 -667300.6840511868)  \n",
      "170841  48.218540  1456959224  POINT (-151743.2639840366 -667300.6840277419)  \n",
      "170854  48.218666  1456959232  POINT (-151743.2642555904 -667300.6839547638)  \n",
      "170865  48.218910  1456959238  POINT (-151743.2644390857 -667300.6837943775)  \n",
      "170946  48.224834  1456959491  POINT (-151743.2722239881 -667300.6800858383)  \n",
      "170949  48.224846  1456959494   POINT (-151743.2722911996 -667300.680081191)  \n",
      "170952  48.224964  1456959498  POINT (-151743.2724263137 -667300.6800062105)  \n",
      "170953  48.225000  1456959502  POINT (-151743.2725765673 -667300.6799894028)  \n",
      "170956  48.225094  1456959504  POINT (-151743.2726553664 -667300.6799280694)  \n",
      "170961  48.225334  1456959511  POINT (-151743.2729355818 -667300.6797758645)  \n",
      "170966  48.225340  1456959515  POINT (-151743.2730130893 -667300.6797759855)  \n",
      "170969  48.225460  1456959518  POINT (-151743.2731495262 -667300.6796996794)  \n",
      "170970  48.225500  1456959521   POINT (-151743.273288161 -667300.6796794321)  \n",
      "170974  48.225720  1456959528   POINT (-151743.273516092 -667300.6795382993)  \n",
      "170977  48.225834  1456959531   POINT (-151743.2736471755 -667300.679465892)  \n",
      "170983  48.226000  1456959535  POINT (-151743.2737691697 -667300.6793566176)  \n",
      "170985  48.226020  1456959538  POINT (-151743.2738758798 -667300.6793485754)  \n",
      "171814  48.266247  1456961594  POINT (-151743.3445964523 -667300.6551599934)  \n",
      "171830  48.266666  1456961621  POINT (-151743.3456096183 -667300.6549234441)  \n",
      "171837  48.266834  1456961631  POINT (-151743.3459619963 -667300.6548256004)  \n",
      "171949  48.271954  1456961894  POINT (-151743.3558605298 -667300.6517968997)  \n",
      "171951  48.272000  1456961898  POINT (-151743.3559695513 -667300.6517708077)  \n",
      "171965  48.272335  1456961912  POINT (-151743.3565592557 -667300.6515694164)  \n",
      "171970  48.272500  1456961922   POINT (-151743.356911934 -667300.6514736853)  \n",
      "\n",
      "[1986 rows x 11 columns]\n"
     ]
    },
    {
     "ename": "RuntimeError",
     "evalue": "b'latitude or longitude exceeded limits'",
     "output_type": "error",
     "traceback": [
      "\u001b[0;31m---------------------------------------------------------------------------\u001b[0m",
      "\u001b[0;31mRuntimeError\u001b[0m                              Traceback (most recent call last)",
      "\u001b[0;32m<ipython-input-31-8d4784c6c59c>\u001b[0m in \u001b[0;36m<module>\u001b[0;34m()\u001b[0m\n\u001b[1;32m      4\u001b[0m \u001b[0;34m\u001b[0m\u001b[0m\n\u001b[1;32m      5\u001b[0m \u001b[0;34m\u001b[0m\u001b[0m\n\u001b[0;32m----> 6\u001b[0;31m \u001b[0max\u001b[0m \u001b[0;34m=\u001b[0m \u001b[0mdf2plt\u001b[0m\u001b[0;34m.\u001b[0m\u001b[0mto_crs\u001b[0m\u001b[0;34m(\u001b[0m\u001b[0mepsg\u001b[0m\u001b[0;34m=\u001b[0m\u001b[0;36m3857\u001b[0m\u001b[0;34m)\u001b[0m\u001b[0;34m.\u001b[0m\u001b[0mplot\u001b[0m\u001b[0;34m(\u001b[0m\u001b[0mfigsize\u001b[0m\u001b[0;34m=\u001b[0m\u001b[0;34m(\u001b[0m\u001b[0;36m9\u001b[0m\u001b[0;34m,\u001b[0m \u001b[0;36m9\u001b[0m\u001b[0;34m)\u001b[0m\u001b[0;34m)\u001b[0m\u001b[0;34m\u001b[0m\u001b[0m\n\u001b[0m\u001b[1;32m      7\u001b[0m \u001b[0mctx\u001b[0m\u001b[0;34m.\u001b[0m\u001b[0madd_basemap\u001b[0m\u001b[0;34m(\u001b[0m\u001b[0max\u001b[0m\u001b[0;34m)\u001b[0m\u001b[0;34m\u001b[0m\u001b[0m\n",
      "\u001b[0;32m~/anaconda3/lib/python3.6/site-packages/geopandas/geodataframe.py\u001b[0m in \u001b[0;36mto_crs\u001b[0;34m(self, crs, epsg, inplace)\u001b[0m\n\u001b[1;32m    384\u001b[0m         \u001b[0;32melse\u001b[0m\u001b[0;34m:\u001b[0m\u001b[0;34m\u001b[0m\u001b[0m\n\u001b[1;32m    385\u001b[0m             \u001b[0mdf\u001b[0m \u001b[0;34m=\u001b[0m \u001b[0mself\u001b[0m\u001b[0;34m.\u001b[0m\u001b[0mcopy\u001b[0m\u001b[0;34m(\u001b[0m\u001b[0;34m)\u001b[0m\u001b[0;34m\u001b[0m\u001b[0m\n\u001b[0;32m--> 386\u001b[0;31m         \u001b[0mgeom\u001b[0m \u001b[0;34m=\u001b[0m \u001b[0mdf\u001b[0m\u001b[0;34m.\u001b[0m\u001b[0mgeometry\u001b[0m\u001b[0;34m.\u001b[0m\u001b[0mto_crs\u001b[0m\u001b[0;34m(\u001b[0m\u001b[0mcrs\u001b[0m\u001b[0;34m=\u001b[0m\u001b[0mcrs\u001b[0m\u001b[0;34m,\u001b[0m \u001b[0mepsg\u001b[0m\u001b[0;34m=\u001b[0m\u001b[0mepsg\u001b[0m\u001b[0;34m)\u001b[0m\u001b[0;34m\u001b[0m\u001b[0m\n\u001b[0m\u001b[1;32m    387\u001b[0m         \u001b[0mdf\u001b[0m\u001b[0;34m.\u001b[0m\u001b[0mgeometry\u001b[0m \u001b[0;34m=\u001b[0m \u001b[0mgeom\u001b[0m\u001b[0;34m\u001b[0m\u001b[0m\n\u001b[1;32m    388\u001b[0m         \u001b[0mdf\u001b[0m\u001b[0;34m.\u001b[0m\u001b[0mcrs\u001b[0m \u001b[0;34m=\u001b[0m \u001b[0mgeom\u001b[0m\u001b[0;34m.\u001b[0m\u001b[0mcrs\u001b[0m\u001b[0;34m\u001b[0m\u001b[0m\n",
      "\u001b[0;32m~/anaconda3/lib/python3.6/site-packages/geopandas/geoseries.py\u001b[0m in \u001b[0;36mto_crs\u001b[0;34m(self, crs, epsg)\u001b[0m\n\u001b[1;32m    286\u001b[0m         \u001b[0mproj_out\u001b[0m \u001b[0;34m=\u001b[0m \u001b[0mpyproj\u001b[0m\u001b[0;34m.\u001b[0m\u001b[0mProj\u001b[0m\u001b[0;34m(\u001b[0m\u001b[0mcrs\u001b[0m\u001b[0;34m,\u001b[0m \u001b[0mpreserve_units\u001b[0m\u001b[0;34m=\u001b[0m\u001b[0;32mTrue\u001b[0m\u001b[0;34m)\u001b[0m\u001b[0;34m\u001b[0m\u001b[0m\n\u001b[1;32m    287\u001b[0m         \u001b[0mproject\u001b[0m \u001b[0;34m=\u001b[0m \u001b[0mpartial\u001b[0m\u001b[0;34m(\u001b[0m\u001b[0mpyproj\u001b[0m\u001b[0;34m.\u001b[0m\u001b[0mtransform\u001b[0m\u001b[0;34m,\u001b[0m \u001b[0mproj_in\u001b[0m\u001b[0;34m,\u001b[0m \u001b[0mproj_out\u001b[0m\u001b[0;34m)\u001b[0m\u001b[0;34m\u001b[0m\u001b[0m\n\u001b[0;32m--> 288\u001b[0;31m         \u001b[0mresult\u001b[0m \u001b[0;34m=\u001b[0m \u001b[0mself\u001b[0m\u001b[0;34m.\u001b[0m\u001b[0mapply\u001b[0m\u001b[0;34m(\u001b[0m\u001b[0;32mlambda\u001b[0m \u001b[0mgeom\u001b[0m\u001b[0;34m:\u001b[0m \u001b[0mtransform\u001b[0m\u001b[0;34m(\u001b[0m\u001b[0mproject\u001b[0m\u001b[0;34m,\u001b[0m \u001b[0mgeom\u001b[0m\u001b[0;34m)\u001b[0m\u001b[0;34m)\u001b[0m\u001b[0;34m\u001b[0m\u001b[0m\n\u001b[0m\u001b[1;32m    289\u001b[0m         \u001b[0mresult\u001b[0m\u001b[0;34m.\u001b[0m\u001b[0m__class__\u001b[0m \u001b[0;34m=\u001b[0m \u001b[0mGeoSeries\u001b[0m\u001b[0;34m\u001b[0m\u001b[0m\n\u001b[1;32m    290\u001b[0m         \u001b[0mresult\u001b[0m\u001b[0;34m.\u001b[0m\u001b[0mcrs\u001b[0m \u001b[0;34m=\u001b[0m \u001b[0mcrs\u001b[0m\u001b[0;34m\u001b[0m\u001b[0m\n",
      "\u001b[0;32m~/anaconda3/lib/python3.6/site-packages/pandas/core/series.py\u001b[0m in \u001b[0;36mapply\u001b[0;34m(self, func, convert_dtype, args, **kwds)\u001b[0m\n\u001b[1;32m   3192\u001b[0m             \u001b[0;32melse\u001b[0m\u001b[0;34m:\u001b[0m\u001b[0;34m\u001b[0m\u001b[0m\n\u001b[1;32m   3193\u001b[0m                 \u001b[0mvalues\u001b[0m \u001b[0;34m=\u001b[0m \u001b[0mself\u001b[0m\u001b[0;34m.\u001b[0m\u001b[0mastype\u001b[0m\u001b[0;34m(\u001b[0m\u001b[0mobject\u001b[0m\u001b[0;34m)\u001b[0m\u001b[0;34m.\u001b[0m\u001b[0mvalues\u001b[0m\u001b[0;34m\u001b[0m\u001b[0m\n\u001b[0;32m-> 3194\u001b[0;31m                 \u001b[0mmapped\u001b[0m \u001b[0;34m=\u001b[0m \u001b[0mlib\u001b[0m\u001b[0;34m.\u001b[0m\u001b[0mmap_infer\u001b[0m\u001b[0;34m(\u001b[0m\u001b[0mvalues\u001b[0m\u001b[0;34m,\u001b[0m \u001b[0mf\u001b[0m\u001b[0;34m,\u001b[0m \u001b[0mconvert\u001b[0m\u001b[0;34m=\u001b[0m\u001b[0mconvert_dtype\u001b[0m\u001b[0;34m)\u001b[0m\u001b[0;34m\u001b[0m\u001b[0m\n\u001b[0m\u001b[1;32m   3195\u001b[0m \u001b[0;34m\u001b[0m\u001b[0m\n\u001b[1;32m   3196\u001b[0m         \u001b[0;32mif\u001b[0m \u001b[0mlen\u001b[0m\u001b[0;34m(\u001b[0m\u001b[0mmapped\u001b[0m\u001b[0;34m)\u001b[0m \u001b[0;32mand\u001b[0m \u001b[0misinstance\u001b[0m\u001b[0;34m(\u001b[0m\u001b[0mmapped\u001b[0m\u001b[0;34m[\u001b[0m\u001b[0;36m0\u001b[0m\u001b[0;34m]\u001b[0m\u001b[0;34m,\u001b[0m \u001b[0mSeries\u001b[0m\u001b[0;34m)\u001b[0m\u001b[0;34m:\u001b[0m\u001b[0;34m\u001b[0m\u001b[0m\n",
      "\u001b[0;32mpandas/_libs/src/inference.pyx\u001b[0m in \u001b[0;36mpandas._libs.lib.map_infer\u001b[0;34m()\u001b[0m\n",
      "\u001b[0;32m~/anaconda3/lib/python3.6/site-packages/geopandas/geoseries.py\u001b[0m in \u001b[0;36m<lambda>\u001b[0;34m(geom)\u001b[0m\n\u001b[1;32m    286\u001b[0m         \u001b[0mproj_out\u001b[0m \u001b[0;34m=\u001b[0m \u001b[0mpyproj\u001b[0m\u001b[0;34m.\u001b[0m\u001b[0mProj\u001b[0m\u001b[0;34m(\u001b[0m\u001b[0mcrs\u001b[0m\u001b[0;34m,\u001b[0m \u001b[0mpreserve_units\u001b[0m\u001b[0;34m=\u001b[0m\u001b[0;32mTrue\u001b[0m\u001b[0;34m)\u001b[0m\u001b[0;34m\u001b[0m\u001b[0m\n\u001b[1;32m    287\u001b[0m         \u001b[0mproject\u001b[0m \u001b[0;34m=\u001b[0m \u001b[0mpartial\u001b[0m\u001b[0;34m(\u001b[0m\u001b[0mpyproj\u001b[0m\u001b[0;34m.\u001b[0m\u001b[0mtransform\u001b[0m\u001b[0;34m,\u001b[0m \u001b[0mproj_in\u001b[0m\u001b[0;34m,\u001b[0m \u001b[0mproj_out\u001b[0m\u001b[0;34m)\u001b[0m\u001b[0;34m\u001b[0m\u001b[0m\n\u001b[0;32m--> 288\u001b[0;31m         \u001b[0mresult\u001b[0m \u001b[0;34m=\u001b[0m \u001b[0mself\u001b[0m\u001b[0;34m.\u001b[0m\u001b[0mapply\u001b[0m\u001b[0;34m(\u001b[0m\u001b[0;32mlambda\u001b[0m \u001b[0mgeom\u001b[0m\u001b[0;34m:\u001b[0m \u001b[0mtransform\u001b[0m\u001b[0;34m(\u001b[0m\u001b[0mproject\u001b[0m\u001b[0;34m,\u001b[0m \u001b[0mgeom\u001b[0m\u001b[0;34m)\u001b[0m\u001b[0;34m)\u001b[0m\u001b[0;34m\u001b[0m\u001b[0m\n\u001b[0m\u001b[1;32m    289\u001b[0m         \u001b[0mresult\u001b[0m\u001b[0;34m.\u001b[0m\u001b[0m__class__\u001b[0m \u001b[0;34m=\u001b[0m \u001b[0mGeoSeries\u001b[0m\u001b[0;34m\u001b[0m\u001b[0m\n\u001b[1;32m    290\u001b[0m         \u001b[0mresult\u001b[0m\u001b[0;34m.\u001b[0m\u001b[0mcrs\u001b[0m \u001b[0;34m=\u001b[0m \u001b[0mcrs\u001b[0m\u001b[0;34m\u001b[0m\u001b[0m\n",
      "\u001b[0;32m~/anaconda3/lib/python3.6/site-packages/shapely/ops.py\u001b[0m in \u001b[0;36mtransform\u001b[0;34m(func, geom)\u001b[0m\n\u001b[1;32m    229\u001b[0m         \u001b[0;32mtry\u001b[0m\u001b[0;34m:\u001b[0m\u001b[0;34m\u001b[0m\u001b[0m\n\u001b[1;32m    230\u001b[0m             \u001b[0;32mif\u001b[0m \u001b[0mgeom\u001b[0m\u001b[0;34m.\u001b[0m\u001b[0mtype\u001b[0m \u001b[0;32min\u001b[0m \u001b[0;34m(\u001b[0m\u001b[0;34m'Point'\u001b[0m\u001b[0;34m,\u001b[0m \u001b[0;34m'LineString'\u001b[0m\u001b[0;34m,\u001b[0m \u001b[0;34m'LinearRing'\u001b[0m\u001b[0;34m)\u001b[0m\u001b[0;34m:\u001b[0m\u001b[0;34m\u001b[0m\u001b[0m\n\u001b[0;32m--> 231\u001b[0;31m                 \u001b[0;32mreturn\u001b[0m \u001b[0mtype\u001b[0m\u001b[0;34m(\u001b[0m\u001b[0mgeom\u001b[0m\u001b[0;34m)\u001b[0m\u001b[0;34m(\u001b[0m\u001b[0mzip\u001b[0m\u001b[0;34m(\u001b[0m\u001b[0;34m*\u001b[0m\u001b[0mfunc\u001b[0m\u001b[0;34m(\u001b[0m\u001b[0;34m*\u001b[0m\u001b[0mizip\u001b[0m\u001b[0;34m(\u001b[0m\u001b[0;34m*\u001b[0m\u001b[0mgeom\u001b[0m\u001b[0;34m.\u001b[0m\u001b[0mcoords\u001b[0m\u001b[0;34m)\u001b[0m\u001b[0;34m)\u001b[0m\u001b[0;34m)\u001b[0m\u001b[0;34m)\u001b[0m\u001b[0;34m\u001b[0m\u001b[0m\n\u001b[0m\u001b[1;32m    232\u001b[0m             \u001b[0;32melif\u001b[0m \u001b[0mgeom\u001b[0m\u001b[0;34m.\u001b[0m\u001b[0mtype\u001b[0m \u001b[0;34m==\u001b[0m \u001b[0;34m'Polygon'\u001b[0m\u001b[0;34m:\u001b[0m\u001b[0;34m\u001b[0m\u001b[0m\n\u001b[1;32m    233\u001b[0m                 shell = type(geom.exterior)(\n",
      "\u001b[0;32m~/anaconda3/lib/python3.6/site-packages/pyproj/__init__.py\u001b[0m in \u001b[0;36mtransform\u001b[0;34m(p1, p2, x, y, z, radians)\u001b[0m\n\u001b[1;32m    502\u001b[0m         \u001b[0minz\u001b[0m \u001b[0;34m=\u001b[0m \u001b[0;32mNone\u001b[0m\u001b[0;34m\u001b[0m\u001b[0m\n\u001b[1;32m    503\u001b[0m     \u001b[0;31m# call pj_transform.  inx,iny,inz buffers modified in place.\u001b[0m\u001b[0;34m\u001b[0m\u001b[0;34m\u001b[0m\u001b[0m\n\u001b[0;32m--> 504\u001b[0;31m     \u001b[0m_proj\u001b[0m\u001b[0;34m.\u001b[0m\u001b[0m_transform\u001b[0m\u001b[0;34m(\u001b[0m\u001b[0mp1\u001b[0m\u001b[0;34m,\u001b[0m\u001b[0mp2\u001b[0m\u001b[0;34m,\u001b[0m\u001b[0minx\u001b[0m\u001b[0;34m,\u001b[0m\u001b[0miny\u001b[0m\u001b[0;34m,\u001b[0m\u001b[0minz\u001b[0m\u001b[0;34m,\u001b[0m\u001b[0mradians\u001b[0m\u001b[0;34m)\u001b[0m\u001b[0;34m\u001b[0m\u001b[0m\n\u001b[0m\u001b[1;32m    505\u001b[0m     \u001b[0;31m# if inputs were lists, tuples or floats, convert back.\u001b[0m\u001b[0;34m\u001b[0m\u001b[0;34m\u001b[0m\u001b[0m\n\u001b[1;32m    506\u001b[0m     \u001b[0moutx\u001b[0m \u001b[0;34m=\u001b[0m \u001b[0m_convertback\u001b[0m\u001b[0;34m(\u001b[0m\u001b[0mxisfloat\u001b[0m\u001b[0;34m,\u001b[0m\u001b[0mxislist\u001b[0m\u001b[0;34m,\u001b[0m\u001b[0mxistuple\u001b[0m\u001b[0;34m,\u001b[0m\u001b[0minx\u001b[0m\u001b[0;34m)\u001b[0m\u001b[0;34m\u001b[0m\u001b[0m\n",
      "\u001b[0;32m_proj.pyx\u001b[0m in \u001b[0;36m_proj._transform (_proj.c:3762)\u001b[0;34m()\u001b[0m\n",
      "\u001b[0;31mRuntimeError\u001b[0m: b'latitude or longitude exceeded limits'"
     ]
    },
    {
     "data": {
      "image/png": "[encoded data removed]",
      "text/plain": [
       "<Figure size 432x288 with 1 Axes>"
      ]
     },
     "metadata": {},
     "output_type": "display_data"
    }
   ],
   "source": [
    "df2plt = df.loc[df['mmsi'] == choice(df.mmsi.unique())]\n",
    "print(df2plt)\n",
    "df2plt.plot()\n",
    "\n",
    "\n",
    "ax = df2plt.to_crs(epsg=3857).plot(figsize=(9, 9))\n",
    "ctx.add_basemap(ax)"
   ]
  },
  {
   "cell_type": "code",
   "execution_count": 280,
   "metadata": {
    "ExecuteTime": {
     "end_time": "2018-10-03T20:48:56.110308Z",
     "start_time": "2018-10-03T20:48:56.042313Z"
    },
    "scrolled": true
   },
   "outputs": [
    {
     "data": {
      "text/plain": [
       "<matplotlib.axes._subplots.AxesSubplot at 0x7f30a4960550>"
      ]
     },
     "execution_count": 280,
     "metadata": {},
     "output_type": "execute_result"
    },
    {
     "data": {
      "image/png": "[encoded data removed]",
      "text/plain": [
       "<Figure size 432x288 with 1 Axes>"
      ]
     },
     "metadata": {},
     "output_type": "display_data"
    }
   ],
   "source": [
    "tmp[1:5].plot()"
   ]
  },
  {
   "cell_type": "code",
   "execution_count": 281,
   "metadata": {
    "ExecuteTime": {
     "end_time": "2018-10-03T20:52:19.271216Z",
     "start_time": "2018-10-03T20:52:19.266284Z"
    }
   },
   "outputs": [],
   "source": [
    "# lb\n",
    "def get_slope(df):\n",
    "    dx = df.geometry.x.diff()\n",
    "    dy = df.geometry.y.diff()\n",
    "    dx.replace([np.inf, -np.inf,0], np.nan, inplace=True)\n",
    "    dy.replace([np.inf, -np.inf,0], np.nan, inplace=True)\n",
    "#     df['Reviewed'] - df['Reviewed'].shift()\n",
    "    max_x_slope = (dx-dx.shift()).abs().idxmax()\n",
    "    max_y_slope = (dy-dy.shift()).abs().idxmax()\n",
    "    return max(max_x_slope, max_y_slope)"
   ]
  },
  {
   "cell_type": "code",
   "execution_count": 282,
   "metadata": {
    "ExecuteTime": {
     "end_time": "2018-10-03T20:52:20.546498Z",
     "start_time": "2018-10-03T20:52:20.486092Z"
    }
   },
   "outputs": [
    {
     "data": {
      "text/plain": [
       "156226"
      ]
     },
     "execution_count": 282,
     "metadata": {},
     "output_type": "execute_result"
    }
   ],
   "source": [
    "get_slope(df2plt)"
   ]
  },
  {
   "cell_type": "code",
   "execution_count": 268,
   "metadata": {
    "ExecuteTime": {
     "end_time": "2018-10-03T20:46:26.222657Z",
     "start_time": "2018-10-03T20:46:26.114905Z"
    }
   },
   "outputs": [],
   "source": [
    "# df2plt.loc[df2plt['id']>= (poi-10) | df2plt['id']<= (poi+10)]\n",
    "tmp = df2plt[(df2plt.index >= (get_slope(df2plt)-18000)) & (df2plt.index <=get_slope(df2plt)+55)]"
   ]
  },
  {
   "cell_type": "code",
   "execution_count": 283,
   "metadata": {
    "ExecuteTime": {
     "end_time": "2018-10-03T20:57:56.405836Z",
     "start_time": "2018-10-03T20:57:54.794374Z"
    },
    "scrolled": true
   },
   "outputs": [
    {
     "data": {
      "text/plain": [
       "0              NaN\n",
       "1        -0.001502\n",
       "2         0.000895\n",
       "3        -0.000356\n",
       "4        -0.100018\n",
       "5         0.100980\n",
       "6        -0.001502\n",
       "7         0.000886\n",
       "8        -0.000337\n",
       "9        -0.099995\n",
       "10        0.100948\n",
       "11        0.149360\n",
       "12       -0.511995\n",
       "13        0.362035\n",
       "14        0.000000\n",
       "15       -0.000338\n",
       "16       -0.099989\n",
       "17        0.100928\n",
       "18       -0.000617\n",
       "19       -0.000338\n",
       "20       -0.099991\n",
       "21        0.100943\n",
       "22        0.000000\n",
       "23       -0.001512\n",
       "24       -0.358913\n",
       "25        0.363954\n",
       "26       -0.004137\n",
       "27       -0.000325\n",
       "28        0.000932\n",
       "29       -0.000621\n",
       "            ...   \n",
       "180650    0.100948\n",
       "180651    0.149360\n",
       "180652   -0.511995\n",
       "180653    0.362035\n",
       "180654    0.000000\n",
       "180655   -0.000338\n",
       "180656   -0.099989\n",
       "180657    0.100928\n",
       "180658   -0.000617\n",
       "180659   -0.000338\n",
       "180660   -0.099991\n",
       "180661    0.100943\n",
       "180662    0.000000\n",
       "180663   -0.001512\n",
       "180664   -0.358913\n",
       "180665    0.363954\n",
       "180666   -0.004137\n",
       "180667   -0.000325\n",
       "180668    0.000932\n",
       "180669   -0.000621\n",
       "180670   -0.000360\n",
       "180671   -0.099962\n",
       "180672   -0.246000\n",
       "180673    0.507957\n",
       "180674   -0.161015\n",
       "180675   -0.001499\n",
       "180676    0.000897\n",
       "180677   -0.000342\n",
       "180678   -0.099988\n",
       "180679    0.100925\n",
       "Length: 180680, dtype: float64"
      ]
     },
     "execution_count": 283,
     "metadata": {},
     "output_type": "execute_result"
    }
   ],
   "source": [
    "df.geometry.x.diff()"
   ]
  },
  {
   "cell_type": "code",
   "execution_count": null,
   "metadata": {},
   "outputs": [],
   "source": []
  }
 ],
 "metadata": {
  "kernelspec": {
   "display_name": "Python 3",
   "language": "python",
   "name": "python3"
  },
  "language_info": {
   "codemirror_mode": {
    "name": "ipython",
    "version": 3
   },
   "file_extension": ".py",
   "mimetype": "text/x-python",
   "name": "python",
   "nbconvert_exporter": "python",
   "pygments_lexer": "ipython3",
   "version": "3.7.0"
  },
  "toc": {
   "base_numbering": 1,
   "nav_menu": {},
   "number_sections": true,
   "sideBar": true,
   "skip_h1_title": false,
   "title_cell": "Table of Contents",
   "title_sidebar": "Contents",
   "toc_cell": true,
   "toc_position": {},
   "toc_section_display": true,
   "toc_window_display": false
  },
  "varInspector": {
   "cols": {
    "lenName": 16,
    "lenType": 16,
    "lenVar": 40
   },
   "kernels_config": {
    "python": {
     "delete_cmd_postfix": "",
     "delete_cmd_prefix": "del ",
     "library": "var_list.py",
     "varRefreshCmd": "print(var_dic_list())"
    },
    "r": {
     "delete_cmd_postfix": ") ",
     "delete_cmd_prefix": "rm(",
     "library": "var_list.r",
     "varRefreshCmd": "cat(var_dic_list()) "
    }
   },
   "types_to_exclude": [
    "module",
    "function",
    "builtin_function_or_method",
    "instance",
    "_Feature"
   ],
   "window_display": false
  }
 },
 "nbformat": 4,
 "nbformat_minor": 2
}
