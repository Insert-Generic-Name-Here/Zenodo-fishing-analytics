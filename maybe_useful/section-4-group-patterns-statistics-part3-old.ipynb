{
 "cells": [
  {
   "cell_type": "code",
   "execution_count": 5,
   "metadata": {},
   "outputs": [],
   "source": [
    "import pandas as pd\n",
    "import geopandas as gpd\n",
    "import numpy as np\n",
    "from shapely.geometry import Point\n",
    "from matplotlib import pyplot as plt\n",
    "import matplotlib.gridspec as gridspec\n",
    "from random import choice\n",
    "pd.options.mode.chained_assignment = None \n",
    "import configparser\n",
    "import pickle\n",
    "import psycopg2\n",
    "import psycopg2.extras\n",
    "import contextily as ctx"
   ]
  },
  {
   "cell_type": "code",
   "execution_count": 6,
   "metadata": {},
   "outputs": [],
   "source": [
    "import os, sys\n",
    "sys.path.append(os.path.join(os.path.expanduser('~'), 'Documents/Insert-Generic-Name-Here'))\n",
    "# sys.path\n",
    "\n",
    "from lonelyboy.geospatial import plots as gsplt\n",
    "from lonelyboy.geospatial import preprocessing as gspp\n",
    "from lonelyboy.timeseries import lbtimeseries as tspp\n",
    "# from lonelyboy.geospatial import group_patterns as gsgp\n",
    "\n",
    "\n",
    "# from IPython.core.interactiveshell import InteractiveShell\n",
    "# InteractiveShell.ast_node_interactivity = \"all\"\n",
    "import PyQt5\n",
    "import matplotlib.pyplot as plt\n",
    "from matplotlib import style;  style.use('ggplot')\n",
    "\n",
    "style.use('ggplot')\n",
    "\n",
    "get_ipython().magic('matplotlib qt')\n",
    "# get_ipython().magic('matplotlib inline')"
   ]
  },
  {
   "cell_type": "code",
   "execution_count": 7,
   "metadata": {},
   "outputs": [],
   "source": [
    "PLT_IMAGE_WIDTH = 3.748\n",
    "PLT_IMAGE_HEIGHT = PLT_IMAGE_WIDTH/1.618\n",
    "\n",
    "plt.rc('text', usetex=True)\n",
    "plt.rc('font', family='sans-serif', size=8)\n",
    "plt.rcParams['figure.figsize'] = (PLT_IMAGE_WIDTH, PLT_IMAGE_HEIGHT)"
   ]
  },
  {
   "cell_type": "code",
   "execution_count": 8,
   "metadata": {},
   "outputs": [],
   "source": [
    "def tuple_str_to_tuple(_str_):\n",
    "    return tuple(map(int, _str_[1:-1].split(',')))\n",
    "\n",
    "def tuple_str_to_list(_str_):\n",
    "    return list(map(int, _str_[1:-1].split(',')))"
   ]
  },
  {
   "cell_type": "markdown",
   "metadata": {},
   "source": [
    "# Reading Data"
   ]
  },
  {
   "cell_type": "code",
   "execution_count": 13,
   "metadata": {
    "scrolled": true
   },
   "outputs": [
    {
     "name": "stdout",
     "output_type": "stream",
     "text": [
      "65\n"
     ]
    },
    {
     "data": {
      "text/html": [
       "<div>\n",
       "<style scoped>\n",
       "    .dataframe tbody tr th:only-of-type {\n",
       "        vertical-align: middle;\n",
       "    }\n",
       "\n",
       "    .dataframe tbody tr th {\n",
       "        vertical-align: top;\n",
       "    }\n",
       "\n",
       "    .dataframe thead th {\n",
       "        text-align: right;\n",
       "    }\n",
       "</style>\n",
       "<table border=\"1\" class=\"dataframe\">\n",
       "  <thead>\n",
       "    <tr style=\"text-align: right;\">\n",
       "      <th></th>\n",
       "      <th>FILENAME</th>\n",
       "      <th>GP.TYPE</th>\n",
       "      <th>#GPs</th>\n",
       "      <th>AVG.DURATION</th>\n",
       "      <th>AVG.SIZE</th>\n",
       "      <th>AVG.VELOCITY</th>\n",
       "      <th>AVG.DISTANCE</th>\n",
       "    </tr>\n",
       "  </thead>\n",
       "  <tbody>\n",
       "    <tr>\n",
       "      <th>0</th>\n",
       "      <td>convoys_card_5_dt_30_dist_926</td>\n",
       "      <td>convoys</td>\n",
       "      <td>1188</td>\n",
       "      <td>86.685185</td>\n",
       "      <td>7.084175</td>\n",
       "      <td>3.339190</td>\n",
       "      <td>2.858000</td>\n",
       "    </tr>\n",
       "    <tr>\n",
       "      <th>1</th>\n",
       "      <td>convoys_card_5_dt_60_dist_1852</td>\n",
       "      <td>convoys</td>\n",
       "      <td>1430</td>\n",
       "      <td>132.352448</td>\n",
       "      <td>7.169231</td>\n",
       "      <td>3.459315</td>\n",
       "      <td>5.865499</td>\n",
       "    </tr>\n",
       "    <tr>\n",
       "      <th>2</th>\n",
       "      <td>convoys_card_5_dt_15_dist_1389</td>\n",
       "      <td>convoys</td>\n",
       "      <td>3606</td>\n",
       "      <td>60.942318</td>\n",
       "      <td>7.549362</td>\n",
       "      <td>3.936768</td>\n",
       "      <td>3.076762</td>\n",
       "    </tr>\n",
       "    <tr>\n",
       "      <th>3</th>\n",
       "      <td>convoys_card_5_dt_60_dist_926</td>\n",
       "      <td>convoys</td>\n",
       "      <td>494</td>\n",
       "      <td>150.844130</td>\n",
       "      <td>6.908907</td>\n",
       "      <td>3.003172</td>\n",
       "      <td>3.890299</td>\n",
       "    </tr>\n",
       "    <tr>\n",
       "      <th>4</th>\n",
       "      <td>convoys_card_5_dt_60_dist_1389</td>\n",
       "      <td>convoys</td>\n",
       "      <td>1052</td>\n",
       "      <td>135.227186</td>\n",
       "      <td>7.049430</td>\n",
       "      <td>3.245116</td>\n",
       "      <td>4.861893</td>\n",
       "    </tr>\n",
       "  </tbody>\n",
       "</table>\n",
       "</div>"
      ],
      "text/plain": [
       "                         FILENAME  GP.TYPE  #GPs  AVG.DURATION  AVG.SIZE  \\\n",
       "0   convoys_card_5_dt_30_dist_926  convoys  1188     86.685185  7.084175   \n",
       "1  convoys_card_5_dt_60_dist_1852  convoys  1430    132.352448  7.169231   \n",
       "2  convoys_card_5_dt_15_dist_1389  convoys  3606     60.942318  7.549362   \n",
       "3   convoys_card_5_dt_60_dist_926  convoys   494    150.844130  6.908907   \n",
       "4  convoys_card_5_dt_60_dist_1389  convoys  1052    135.227186  7.049430   \n",
       "\n",
       "   AVG.VELOCITY  AVG.DISTANCE  \n",
       "0      3.339190      2.858000  \n",
       "1      3.459315      5.865499  \n",
       "2      3.936768      3.076762  \n",
       "3      3.003172      3.890299  \n",
       "4      3.245116      4.861893  "
      ]
     },
     "execution_count": 13,
     "metadata": {},
     "output_type": "execute_result"
    }
   ],
   "source": [
    "# df = pd.read_csv('./data/csv/stats/GP_STATS/GP_STATS1.csv')\n",
    "df = pd.concat([pd.read_csv(f'./data/csv/stats/GP_STATS/GP_STATS{i}.csv') for i in range(1,6)], ignore_index=True)\n",
    "print(len(df))\n",
    "df.head()"
   ]
  },
  {
   "cell_type": "code",
   "execution_count": 14,
   "metadata": {
    "scrolled": true
   },
   "outputs": [
    {
     "data": {
      "text/html": [
       "<div>\n",
       "<style scoped>\n",
       "    .dataframe tbody tr th:only-of-type {\n",
       "        vertical-align: middle;\n",
       "    }\n",
       "\n",
       "    .dataframe tbody tr th {\n",
       "        vertical-align: top;\n",
       "    }\n",
       "\n",
       "    .dataframe thead th {\n",
       "        text-align: right;\n",
       "    }\n",
       "</style>\n",
       "<table border=\"1\" class=\"dataframe\">\n",
       "  <thead>\n",
       "    <tr style=\"text-align: right;\">\n",
       "      <th></th>\n",
       "      <th>FILENAME</th>\n",
       "      <th>GP.TYPE</th>\n",
       "      <th>\\#GPs</th>\n",
       "      <th>AVG.DURATION</th>\n",
       "      <th>AVG.SIZE</th>\n",
       "      <th>AVG.VELOCITY</th>\n",
       "      <th>AVG.DISTANCE</th>\n",
       "      <th>card</th>\n",
       "      <th>dt</th>\n",
       "      <th>dist</th>\n",
       "    </tr>\n",
       "  </thead>\n",
       "  <tbody>\n",
       "    <tr>\n",
       "      <th>0</th>\n",
       "      <td>convoys_card_5_dt_30_dist_926</td>\n",
       "      <td>convoys</td>\n",
       "      <td>1188</td>\n",
       "      <td>86.685185</td>\n",
       "      <td>7.084175</td>\n",
       "      <td>3.339190</td>\n",
       "      <td>2.858000</td>\n",
       "      <td>5</td>\n",
       "      <td>30</td>\n",
       "      <td>926</td>\n",
       "    </tr>\n",
       "    <tr>\n",
       "      <th>1</th>\n",
       "      <td>convoys_card_5_dt_60_dist_1852</td>\n",
       "      <td>convoys</td>\n",
       "      <td>1430</td>\n",
       "      <td>132.352448</td>\n",
       "      <td>7.169231</td>\n",
       "      <td>3.459315</td>\n",
       "      <td>5.865499</td>\n",
       "      <td>5</td>\n",
       "      <td>60</td>\n",
       "      <td>1852</td>\n",
       "    </tr>\n",
       "    <tr>\n",
       "      <th>2</th>\n",
       "      <td>convoys_card_5_dt_15_dist_1389</td>\n",
       "      <td>convoys</td>\n",
       "      <td>3606</td>\n",
       "      <td>60.942318</td>\n",
       "      <td>7.549362</td>\n",
       "      <td>3.936768</td>\n",
       "      <td>3.076762</td>\n",
       "      <td>5</td>\n",
       "      <td>15</td>\n",
       "      <td>1389</td>\n",
       "    </tr>\n",
       "    <tr>\n",
       "      <th>3</th>\n",
       "      <td>convoys_card_5_dt_60_dist_926</td>\n",
       "      <td>convoys</td>\n",
       "      <td>494</td>\n",
       "      <td>150.844130</td>\n",
       "      <td>6.908907</td>\n",
       "      <td>3.003172</td>\n",
       "      <td>3.890299</td>\n",
       "      <td>5</td>\n",
       "      <td>60</td>\n",
       "      <td>926</td>\n",
       "    </tr>\n",
       "    <tr>\n",
       "      <th>4</th>\n",
       "      <td>convoys_card_5_dt_60_dist_1389</td>\n",
       "      <td>convoys</td>\n",
       "      <td>1052</td>\n",
       "      <td>135.227186</td>\n",
       "      <td>7.049430</td>\n",
       "      <td>3.245116</td>\n",
       "      <td>4.861893</td>\n",
       "      <td>5</td>\n",
       "      <td>60</td>\n",
       "      <td>1389</td>\n",
       "    </tr>\n",
       "  </tbody>\n",
       "</table>\n",
       "</div>"
      ],
      "text/plain": [
       "                         FILENAME  GP.TYPE  \\#GPs  AVG.DURATION  AVG.SIZE  \\\n",
       "0   convoys_card_5_dt_30_dist_926  convoys   1188     86.685185  7.084175   \n",
       "1  convoys_card_5_dt_60_dist_1852  convoys   1430    132.352448  7.169231   \n",
       "2  convoys_card_5_dt_15_dist_1389  convoys   3606     60.942318  7.549362   \n",
       "3   convoys_card_5_dt_60_dist_926  convoys    494    150.844130  6.908907   \n",
       "4  convoys_card_5_dt_60_dist_1389  convoys   1052    135.227186  7.049430   \n",
       "\n",
       "   AVG.VELOCITY  AVG.DISTANCE  card  dt  dist  \n",
       "0      3.339190      2.858000     5  30   926  \n",
       "1      3.459315      5.865499     5  60  1852  \n",
       "2      3.936768      3.076762     5  15  1389  \n",
       "3      3.003172      3.890299     5  60   926  \n",
       "4      3.245116      4.861893     5  60  1389  "
      ]
     },
     "execution_count": 14,
     "metadata": {},
     "output_type": "execute_result"
    }
   ],
   "source": [
    "df.rename(columns={\"#GPs\": \"\\#GPs\"}, inplace=True)\n",
    "\n",
    "df.loc[:,'card'] = df['FILENAME'].apply(lambda x: int(x.split('_')[2]))\n",
    "df.loc[:,'dt'] = df['FILENAME'].apply(lambda x: int(x.split('_')[4]))\n",
    "df.loc[:,'dist'] = df['FILENAME'].apply(lambda x: int(x.split('_')[6]))\n",
    "df.head()"
   ]
  },
  {
   "cell_type": "code",
   "execution_count": 15,
   "metadata": {},
   "outputs": [
    {
     "data": {
      "text/plain": [
       "(array([ 5,  3,  8, 12]),\n",
       " array([30, 60, 15, 45, 10]),\n",
       " array([ 926, 1852, 1389]))"
      ]
     },
     "execution_count": 15,
     "metadata": {},
     "output_type": "execute_result"
    }
   ],
   "source": [
    "(df['card'].unique(), df['dt'].unique(), df['dist'].unique())"
   ]
  },
  {
   "cell_type": "code",
   "execution_count": 16,
   "metadata": {},
   "outputs": [
    {
     "data": {
      "text/html": [
       "<div>\n",
       "<style scoped>\n",
       "    .dataframe tbody tr th:only-of-type {\n",
       "        vertical-align: middle;\n",
       "    }\n",
       "\n",
       "    .dataframe tbody tr th {\n",
       "        vertical-align: top;\n",
       "    }\n",
       "\n",
       "    .dataframe thead th {\n",
       "        text-align: right;\n",
       "    }\n",
       "</style>\n",
       "<table border=\"1\" class=\"dataframe\">\n",
       "  <thead>\n",
       "    <tr style=\"text-align: right;\">\n",
       "      <th></th>\n",
       "      <th>FILENAME</th>\n",
       "      <th>GP.TYPE</th>\n",
       "      <th>\\#GPs</th>\n",
       "      <th>AVG.DURATION</th>\n",
       "      <th>AVG.SIZE</th>\n",
       "      <th>AVG.VELOCITY</th>\n",
       "      <th>AVG.DISTANCE</th>\n",
       "      <th>card</th>\n",
       "      <th>dt</th>\n",
       "      <th>dist</th>\n",
       "    </tr>\n",
       "  </thead>\n",
       "  <tbody>\n",
       "    <tr>\n",
       "      <th>58</th>\n",
       "      <td>flocks_card_12_dt_30_dist_926</td>\n",
       "      <td>flocks</td>\n",
       "      <td>0</td>\n",
       "      <td>0.0</td>\n",
       "      <td>0.0</td>\n",
       "      <td>0.0</td>\n",
       "      <td>0.0</td>\n",
       "      <td>12</td>\n",
       "      <td>30</td>\n",
       "      <td>926</td>\n",
       "    </tr>\n",
       "  </tbody>\n",
       "</table>\n",
       "</div>"
      ],
      "text/plain": [
       "                         FILENAME GP.TYPE  \\#GPs  AVG.DURATION  AVG.SIZE  \\\n",
       "58  flocks_card_12_dt_30_dist_926  flocks      0           0.0       0.0   \n",
       "\n",
       "    AVG.VELOCITY  AVG.DISTANCE  card  dt  dist  \n",
       "58           0.0           0.0    12  30   926  "
      ]
     },
     "execution_count": 16,
     "metadata": {},
     "output_type": "execute_result"
    }
   ],
   "source": [
    "tmp = df.loc[(df['GP.TYPE'] == 'flocks') & (df['dt'] == 30) & (df['dist'] == 926)]\n",
    "tmp"
   ]
  },
  {
   "cell_type": "code",
   "execution_count": 50,
   "metadata": {},
   "outputs": [
    {
     "data": {
      "text/plain": [
       "Index(['FILENAME', 'GP.TYPE', '\\#GPs', 'AVG.DURATION', 'AVG.SIZE',\n",
       "       'AVG.VELOCITY', 'AVG.DISTANCE', 'card', 'dt', 'dist'],\n",
       "      dtype='object')"
      ]
     },
     "execution_count": 50,
     "metadata": {},
     "output_type": "execute_result"
    }
   ],
   "source": [
    "tmp.columns"
   ]
  },
  {
   "cell_type": "code",
   "execution_count": 55,
   "metadata": {},
   "outputs": [
    {
     "data": {
      "text/plain": [
       "<matplotlib.axes._subplots.AxesSubplot at 0x7f7e84d94b70>"
      ]
     },
     "execution_count": 55,
     "metadata": {},
     "output_type": "execute_result"
    }
   ],
   "source": [
    "tmp[['card', 'AVG.DURATION', 'AVG.SIZE', 'AVG.VELOCITY', 'AVG.DISTANCE']].plot(x='card', legend=True)"
   ]
  },
  {
   "cell_type": "code",
   "execution_count": 92,
   "metadata": {},
   "outputs": [],
   "source": [
    "fig, ax1 = plt.subplots()\n",
    "\n",
    "color = 'black'\n",
    "ax1.set_xlabel('cardinality threshold')\n",
    "ax1.set_ylabel('', color=color)\n",
    "tmp[['card', 'AVG.SIZE', 'AVG.VELOCITY', 'AVG.DISTANCE']].plot(x='card', legend=False, cmap='tab10', ax=ax1)\n",
    "ax1.tick_params(axis='y', labelcolor=color)\n",
    "# ax1.legend(loc='upper left')\n",
    "\n",
    "ax2 = ax1.twinx()  # instantiate a second axes that shares the same x-axis\n",
    "\n",
    "color = 'black'\n",
    "ax2.set_ylabel('Avg. Duration (minutes)', color=color)  # we already handled the x-label with ax1\n",
    "tmp[['card', 'AVG.DURATION']].plot(x='card', legend=False, ax=ax2, cmap='Pastel1')\n",
    "ax2.tick_params(axis='y', labelcolor=color)\n",
    "# ax2.legend(loc='upper right')\n",
    "\n",
    "h1, l1 = ax1.get_legend_handles_labels()\n",
    "h2, l2 = ax2.get_legend_handles_labels()\n",
    "ax1.legend(h1+h2, l1+l2, loc='lower center', ncol=2, frameon=False, bbox_to_anchor=(0.5, -0.45))\n",
    "\n",
    "plt.show()\n",
    "ax2.grid(False)\n",
    "\n",
    "plt.title(f'flocks, dt=30, dist=926')\n",
    "\n",
    "plt.savefig('TEST_PLOT.pdf', dpi=350, bbox_inches='tight')"
   ]
  },
  {
   "cell_type": "markdown",
   "metadata": {},
   "source": [
    "# Let's Get DANGEROUS"
   ]
  },
  {
   "cell_type": "code",
   "execution_count": 89,
   "metadata": {},
   "outputs": [
    {
     "data": {
      "text/plain": [
       "[('card', 'dt'), ('card', 'dist'), ('dt', 'dist')]"
      ]
     },
     "execution_count": 89,
     "metadata": {},
     "output_type": "execute_result"
    }
   ],
   "source": [
    "from itertools import combinations\n",
    "\n",
    "tmp3000 = [j for j in combinations(['card', 'dt', 'dist'], 2)]\n",
    "tmp3000"
   ]
  },
  {
   "cell_type": "code",
   "execution_count": 90,
   "metadata": {},
   "outputs": [
    {
     "data": {
      "text/plain": [
       "[11, 10, 11]"
      ]
     },
     "execution_count": 90,
     "metadata": {},
     "output_type": "execute_result"
    }
   ],
   "source": [
    "[len(df.groupby(list(i)).groups) for i in tmp3000]"
   ]
  },
  {
   "cell_type": "code",
   "execution_count": 115,
   "metadata": {},
   "outputs": [],
   "source": [
    "for sdf_name, sdf in df.groupby(list(('GP.TYPE', 'dt', 'dist'))):\n",
    "    if len(sdf) <= 2:\n",
    "        continue\n",
    "    \n",
    "    fig, ax1 = plt.subplots()\n",
    "    sdf.sort_values(by=['card'], inplace=True)\n",
    "    \n",
    "    color = 'black'\n",
    "    ax1.set_xlabel('cardinality threshold')\n",
    "    ax1.set_ylabel('', color=color)\n",
    "    sdf[['card', 'AVG.SIZE', 'AVG.VELOCITY', 'AVG.DISTANCE']].plot(x='card', legend=False, cmap='tab10', ax=ax1)\n",
    "    ax1.tick_params(axis='y', labelcolor=color)\n",
    "    # ax1.legend(loc='upper left')\n",
    "\n",
    "    ax2 = ax1.twinx()  # instantiate a second axes that shares the same x-axis\n",
    "\n",
    "    color = 'black'\n",
    "    ax2.set_ylabel('Avg. Duration (minutes)', color=color)  # we already handled the x-label with ax1\n",
    "    sdf[['card', 'AVG.DURATION']].plot(x='card', legend=False, ax=ax2, cmap='Pastel1')\n",
    "    ax2.tick_params(axis='y', labelcolor=color)\n",
    "    # ax2.legend(loc='upper right')\n",
    "\n",
    "    h1, l1 = ax1.get_legend_handles_labels()\n",
    "    h2, l2 = ax2.get_legend_handles_labels()\n",
    "    ax1.legend(h1+h2, l1+l2, loc='lower center', ncol=2, frameon=False, bbox_to_anchor=(0.5, -0.45))\n",
    "\n",
    "    plt.show()\n",
    "    ax2.grid(False)\n",
    "\n",
    "    plt.title(f'{sdf_name[0]}, dt:{sdf_name[1]}, dist:{sdf_name[2]}')\n",
    "\n",
    "    plt.savefig(f'gp_plots/{sdf_name[0]}_dt_{sdf_name[1]}_dist_{sdf_name[2]}.pdf', dpi=350, bbox_inches='tight')"
   ]
  },
  {
   "cell_type": "code",
   "execution_count": 116,
   "metadata": {
    "scrolled": true
   },
   "outputs": [],
   "source": [
    "for sdf_name, sdf in df.groupby(list(('GP.TYPE', 'card', 'dist'))):\n",
    "    if len(sdf) <= 2:\n",
    "        continue\n",
    "    fig, ax1 = plt.subplots()\n",
    "    sdf.sort_values(by=['dt'], inplace=True)\n",
    "    \n",
    "    color = 'black'\n",
    "    ax1.set_xlabel('cardinality threshold')\n",
    "    ax1.set_ylabel('', color=color)\n",
    "    sdf[['dt', 'AVG.SIZE', 'AVG.VELOCITY', 'AVG.DISTANCE']].plot(x='dt', legend=False, cmap='tab10', ax=ax1)\n",
    "    ax1.tick_params(axis='y', labelcolor=color)\n",
    "    # ax1.legend(loc='upper left')\n",
    "\n",
    "    ax2 = ax1.twinx()  # instantiate a second axes that shares the same x-axis\n",
    "\n",
    "    color = 'black'\n",
    "    ax2.set_ylabel('Avg. Duration (minutes)', color=color)  # we already handled the x-label with ax1\n",
    "    sdf[['dt', 'AVG.DURATION']].plot(x='dt', legend=False, ax=ax2, cmap='Pastel1')\n",
    "    ax2.tick_params(axis='y', labelcolor=color)\n",
    "    # ax2.legend(loc='upper right')\n",
    "\n",
    "    h1, l1 = ax1.get_legend_handles_labels()\n",
    "    h2, l2 = ax2.get_legend_handles_labels()\n",
    "    ax1.legend(h1+h2, l1+l2, loc='lower center', ncol=2, frameon=False, bbox_to_anchor=(0.5, -0.45))\n",
    "\n",
    "    plt.show()\n",
    "    ax2.grid(False)\n",
    "\n",
    "    plt.title(f'{sdf_name[0]} card:{sdf_name[1]} dist:{sdf_name[2]}')\n",
    "\n",
    "    plt.savefig(f'gp_plots/{sdf_name[0]}_card_{sdf_name[1]}_dist_{sdf_name[2]}.pdf', dpi=350, bbox_inches='tight')"
   ]
  },
  {
   "cell_type": "code",
   "execution_count": 117,
   "metadata": {
    "scrolled": true
   },
   "outputs": [],
   "source": [
    "for sdf_name, sdf in df.groupby(list(('GP.TYPE', 'card', 'dt'))):\n",
    "    if len(sdf) <= 2:\n",
    "        continue\n",
    "    fig, ax1 = plt.subplots()\n",
    "    sdf.sort_values(by=['dist'], inplace=True)\n",
    "    \n",
    "    color = 'black'\n",
    "    ax1.set_xlabel('cardinality threshold')\n",
    "    ax1.set_ylabel('', color=color)\n",
    "    sdf[['dist', 'AVG.SIZE', 'AVG.VELOCITY', 'AVG.DISTANCE']].plot(x='dist', legend=False, cmap='tab10', ax=ax1)\n",
    "    ax1.tick_params(axis='y', labelcolor=color)\n",
    "    # ax1.legend(loc='upper left')\n",
    "\n",
    "    ax2 = ax1.twinx()  # instantiate a second axes that shares the same x-axis\n",
    "\n",
    "    color = 'black'\n",
    "    ax2.set_ylabel('Avg. Duration (minutes)', color=color)  # we already handled the x-label with ax1\n",
    "    sdf[['dist', 'AVG.DURATION']].plot(x='dist', legend=False, ax=ax2, cmap='Pastel1')\n",
    "    ax2.tick_params(axis='y', labelcolor=color)\n",
    "    # ax2.legend(loc='upper right')\n",
    "\n",
    "    h1, l1 = ax1.get_legend_handles_labels()\n",
    "    h2, l2 = ax2.get_legend_handles_labels()\n",
    "    ax1.legend(h1+h2, l1+l2, loc='lower center', ncol=2, frameon=False, bbox_to_anchor=(0.5, -0.45))\n",
    "\n",
    "    plt.show()\n",
    "    ax2.grid(False)\n",
    "\n",
    "    plt.title(f'{sdf_name[0]} card:{sdf_name[1]} dt:{sdf_name[2]}')\n",
    "\n",
    "    plt.savefig(f'gp_plots/{sdf_name[0]}_card_{sdf_name[1]}_dt_{sdf_name[2]}.pdf', dpi=350, bbox_inches='tight')"
   ]
  }
 ],
 "metadata": {
  "kernelspec": {
   "display_name": "Python 3 (GIS)",
   "language": "python",
   "name": "gis"
  },
  "language_info": {
   "codemirror_mode": {
    "name": "ipython",
    "version": 3
   },
   "file_extension": ".py",
   "mimetype": "text/x-python",
   "name": "python",
   "nbconvert_exporter": "python",
   "pygments_lexer": "ipython3",
   "version": "3.7.2"
  }
 },
 "nbformat": 4,
 "nbformat_minor": 2
}
