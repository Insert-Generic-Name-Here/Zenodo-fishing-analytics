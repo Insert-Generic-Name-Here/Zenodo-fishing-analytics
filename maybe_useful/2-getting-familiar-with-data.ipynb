{
 "cells": [
  {
   "cell_type": "markdown",
   "metadata": {},
   "source": [
    "## Importing the LonelyBoy Library (github.com/insert-generic-name-here/lonelyboy)"
   ]
  },
  {
   "cell_type": "code",
   "execution_count": 1,
   "metadata": {
    "scrolled": true
   },
   "outputs": [],
   "source": [
    "import os, sys\n",
    "sys.path.append(os.path.join(os.path.expanduser('~'), 'Documents/Coding/Python/'))\n",
    "# sys.path\n",
    "\n",
    "from lonelyboy.geospatial import plots as gsplt\n",
    "from lonelyboy.geospatial import preprocessing as gspp\n",
    "from lonelyboy.timeseries import lbtimeseries as tspp\n",
    "from lonelyboy.geospatial import group_patterns_v2 as gsgp"
   ]
  },
  {
   "cell_type": "markdown",
   "metadata": {},
   "source": [
    "## Importing all other Essential Libraries\n",
    "#### (DO NOT FORGET TO EXECUTE THE FUNCTIONS IN THE BOTTOM CELLS)"
   ]
  },
  {
   "cell_type": "code",
   "execution_count": 2,
   "metadata": {},
   "outputs": [],
   "source": [
    "import psycopg2\n",
    "import numpy as np\n",
    "import configparser\n",
    "import pandas as pd\n",
    "import geopandas as gpd\n",
    "import contextily as ctx\n",
    "from random import choice\n",
    "from tqdm import tqdm\n",
    "import matplotlib.pyplot as plt\n",
    "from sklearn.base import clone\n",
    "from sklearn.cluster import DBSCAN, KMeans, MeanShift\n",
    "from sklearn.preprocessing import MinMaxScaler\n",
    "from sklearn.metrics import silhouette_score\n",
    "from shapely.geometry import Point, LineString, shape\n",
    "from haversine import haversine\n",
    "from datetime import datetime, timedelta"
   ]
  },
  {
   "cell_type": "code",
   "execution_count": 3,
   "metadata": {},
   "outputs": [],
   "source": [
    "from multiprocessing import cpu_count, Pool\n",
    "from functools import partial\n",
    "import datetime"
   ]
  },
  {
   "cell_type": "markdown",
   "metadata": {},
   "source": [
    "## Import Libraries for Visualizations"
   ]
  },
  {
   "cell_type": "code",
   "execution_count": 4,
   "metadata": {},
   "outputs": [],
   "source": [
    "# from IPython.core.interactiveshell import InteractiveShell\n",
    "# InteractiveShell.ast_node_interactivity = \"all\"\n",
    "\n",
    "import PyQt5\n",
    "import matplotlib.pyplot as plt\n",
    "from matplotlib import style;  style.use('ggplot')\n",
    "get_ipython().magic('matplotlib qt')"
   ]
  },
  {
   "cell_type": "markdown",
   "metadata": {},
   "source": [
    "##  Importing the Server Credentials & Connectiing to Server and Fetch 48hrs of Trajectory Data\n",
    "## Note: The Data Server is broken; Use the \"subseted.pckl\" file (code below)"
   ]
  },
  {
   "cell_type": "code",
   "execution_count": 5,
   "metadata": {},
   "outputs": [],
   "source": [
    "traj = pd.read_pickle('data/pkl/traj_raw.pkl')\n",
    "ports = pd.read_pickle('data/pkl/ports_raw.pkl')"
   ]
  },
  {
   "cell_type": "code",
   "execution_count": 6,
   "metadata": {},
   "outputs": [
    {
     "ename": "KeyError",
     "evalue": "'SERVER'",
     "output_type": "error",
     "traceback": [
      "\u001b[0;31m---------------------------------------------------------------------------\u001b[0m",
      "\u001b[0;31mKeyError\u001b[0m                                  Traceback (most recent call last)",
      "\u001b[0;32m<timed exec>\u001b[0m in \u001b[0;36m<module>\u001b[0;34m\u001b[0m\n",
      "\u001b[0;32m~/anaconda3/envs/gis/lib/python3.7/configparser.py\u001b[0m in \u001b[0;36m__getitem__\u001b[0;34m(self, key)\u001b[0m\n\u001b[1;32m    956\u001b[0m     \u001b[0;32mdef\u001b[0m \u001b[0m__getitem__\u001b[0m\u001b[0;34m(\u001b[0m\u001b[0mself\u001b[0m\u001b[0;34m,\u001b[0m \u001b[0mkey\u001b[0m\u001b[0;34m)\u001b[0m\u001b[0;34m:\u001b[0m\u001b[0;34m\u001b[0m\u001b[0;34m\u001b[0m\u001b[0m\n\u001b[1;32m    957\u001b[0m         \u001b[0;32mif\u001b[0m \u001b[0mkey\u001b[0m \u001b[0;34m!=\u001b[0m \u001b[0mself\u001b[0m\u001b[0;34m.\u001b[0m\u001b[0mdefault_section\u001b[0m \u001b[0;32mand\u001b[0m \u001b[0;32mnot\u001b[0m \u001b[0mself\u001b[0m\u001b[0;34m.\u001b[0m\u001b[0mhas_section\u001b[0m\u001b[0;34m(\u001b[0m\u001b[0mkey\u001b[0m\u001b[0;34m)\u001b[0m\u001b[0;34m:\u001b[0m\u001b[0;34m\u001b[0m\u001b[0;34m\u001b[0m\u001b[0m\n\u001b[0;32m--> 958\u001b[0;31m             \u001b[0;32mraise\u001b[0m \u001b[0mKeyError\u001b[0m\u001b[0;34m(\u001b[0m\u001b[0mkey\u001b[0m\u001b[0;34m)\u001b[0m\u001b[0;34m\u001b[0m\u001b[0;34m\u001b[0m\u001b[0m\n\u001b[0m\u001b[1;32m    959\u001b[0m         \u001b[0;32mreturn\u001b[0m \u001b[0mself\u001b[0m\u001b[0;34m.\u001b[0m\u001b[0m_proxies\u001b[0m\u001b[0;34m[\u001b[0m\u001b[0mkey\u001b[0m\u001b[0;34m]\u001b[0m\u001b[0;34m\u001b[0m\u001b[0;34m\u001b[0m\u001b[0m\n\u001b[1;32m    960\u001b[0m \u001b[0;34m\u001b[0m\u001b[0m\n",
      "\u001b[0;31mKeyError\u001b[0m: 'SERVER'"
     ]
    }
   ],
   "source": [
    "%%time\n",
    "properties = configparser.ConfigParser()\n",
    "properties.read(os.path.join('.','sql_server.ini'))\n",
    "properties = properties['SERVER']\n",
    "\n",
    "host    = properties['host']\n",
    "db_name = properties['db_name']\n",
    "uname   = properties['uname']\n",
    "pw      = properties['pw']\n",
    "port    = properties['port']\n",
    "\n",
    "traj_sql = 'SELECT * FROM ais_data.dynamic_ships WHERE ts>1456802710 AND ts<1456975510  '\n",
    "ports_sql = 'SELECT * FROM ports.ports_of_brittany'\n",
    "\n",
    "print (f'Connecting with {host}:{port}/{db_name}')\n",
    "con = psycopg2.connect(database=db_name, user=uname, password=pw, host=host, port=port)\n",
    "\n",
    "traj = gpd.GeoDataFrame.from_postgis(traj_sql, con, geom_col='geom' )\n",
    "\n",
    "ports = gpd.GeoDataFrame.from_postgis(ports_sql, con, geom_col='geom' )\n",
    "ports.geom = ports.geom.apply(lambda x: x[0])\n",
    "\n",
    "print(f'Fetched {traj.memory_usage().sum()} bytes')\n",
    "print(f'Fetched {ports.memory_usage().sum()} bytes')\n",
    "\n",
    "con.close()\n",
    "\n",
    "# SAVE IF NOT FETCHED\n",
    "# pd.to_pickle(traj, 'data/traj_raw.pkl')\n",
    "# pd.to_pickle(ports, 'data/ports_raw.pkl')"
   ]
  },
  {
   "cell_type": "code",
   "execution_count": 7,
   "metadata": {
    "scrolled": false
   },
   "outputs": [
    {
     "data": {
      "text/html": [
       "<div>\n",
       "<style scoped>\n",
       "    .dataframe tbody tr th:only-of-type {\n",
       "        vertical-align: middle;\n",
       "    }\n",
       "\n",
       "    .dataframe tbody tr th {\n",
       "        vertical-align: top;\n",
       "    }\n",
       "\n",
       "    .dataframe thead th {\n",
       "        text-align: right;\n",
       "    }\n",
       "</style>\n",
       "<table border=\"1\" class=\"dataframe\">\n",
       "  <thead>\n",
       "    <tr style=\"text-align: right;\">\n",
       "      <th></th>\n",
       "      <th>gid</th>\n",
       "      <th>gml_id</th>\n",
       "      <th>por_id</th>\n",
       "      <th>libelle_po</th>\n",
       "      <th>insee_comm</th>\n",
       "      <th>por_x</th>\n",
       "      <th>por_y</th>\n",
       "      <th>geom</th>\n",
       "    </tr>\n",
       "  </thead>\n",
       "  <tbody>\n",
       "    <tr>\n",
       "      <th>0</th>\n",
       "      <td>1</td>\n",
       "      <td>port.1</td>\n",
       "      <td>1</td>\n",
       "      <td>Le Vivier-sur-Mer</td>\n",
       "      <td>35361</td>\n",
       "      <td>297025.0</td>\n",
       "      <td>2408370.0</td>\n",
       "      <td>POINT (-1.771798868659233 48.60274269672541)</td>\n",
       "    </tr>\n",
       "    <tr>\n",
       "      <th>1</th>\n",
       "      <td>2</td>\n",
       "      <td>port.10</td>\n",
       "      <td>10</td>\n",
       "      <td>Saint-Samson sur Rance</td>\n",
       "      <td>22327</td>\n",
       "      <td>279335.0</td>\n",
       "      <td>2396060.0</td>\n",
       "      <td>POINT (-2.001990119062326 48.48369993456267)</td>\n",
       "    </tr>\n",
       "  </tbody>\n",
       "</table>\n",
       "</div>"
      ],
      "text/plain": [
       "   gid   gml_id por_id              libelle_po insee_comm     por_x  \\\n",
       "0    1   port.1      1       Le Vivier-sur-Mer      35361  297025.0   \n",
       "1    2  port.10     10  Saint-Samson sur Rance      22327  279335.0   \n",
       "\n",
       "       por_y                                          geom  \n",
       "0  2408370.0  POINT (-1.771798868659233 48.60274269672541)  \n",
       "1  2396060.0  POINT (-2.001990119062326 48.48369993456267)  "
      ]
     },
     "execution_count": 7,
     "metadata": {},
     "output_type": "execute_result"
    }
   ],
   "source": [
    "ports.head(2)"
   ]
  },
  {
   "cell_type": "code",
   "execution_count": 8,
   "metadata": {
    "scrolled": true
   },
   "outputs": [
    {
     "data": {
      "text/html": [
       "<div>\n",
       "<style scoped>\n",
       "    .dataframe tbody tr th:only-of-type {\n",
       "        vertical-align: middle;\n",
       "    }\n",
       "\n",
       "    .dataframe tbody tr th {\n",
       "        vertical-align: top;\n",
       "    }\n",
       "\n",
       "    .dataframe thead th {\n",
       "        text-align: right;\n",
       "    }\n",
       "</style>\n",
       "<table border=\"1\" class=\"dataframe\">\n",
       "  <thead>\n",
       "    <tr style=\"text-align: right;\">\n",
       "      <th></th>\n",
       "      <th>id</th>\n",
       "      <th>mmsi</th>\n",
       "      <th>status</th>\n",
       "      <th>turn</th>\n",
       "      <th>speed</th>\n",
       "      <th>course</th>\n",
       "      <th>heading</th>\n",
       "      <th>lon</th>\n",
       "      <th>lat</th>\n",
       "      <th>ts</th>\n",
       "      <th>geom</th>\n",
       "      <th>profile_id</th>\n",
       "    </tr>\n",
       "  </thead>\n",
       "  <tbody>\n",
       "    <tr>\n",
       "      <th>0</th>\n",
       "      <td>12293630</td>\n",
       "      <td>227941000</td>\n",
       "      <td>7.0</td>\n",
       "      <td>0.0</td>\n",
       "      <td>0.0</td>\n",
       "      <td>285.0</td>\n",
       "      <td>8</td>\n",
       "      <td>-4.327213</td>\n",
       "      <td>48.100086</td>\n",
       "      <td>1456802711</td>\n",
       "      <td>POINT (-4.3272133 48.100086)</td>\n",
       "      <td>99990203</td>\n",
       "    </tr>\n",
       "    <tr>\n",
       "      <th>1</th>\n",
       "      <td>12293675</td>\n",
       "      <td>228186700</td>\n",
       "      <td>15.0</td>\n",
       "      <td>-127.0</td>\n",
       "      <td>102.3</td>\n",
       "      <td>360.0</td>\n",
       "      <td>511</td>\n",
       "      <td>-4.512577</td>\n",
       "      <td>48.370872</td>\n",
       "      <td>1456802766</td>\n",
       "      <td>POINT (-4.5125766 48.370872)</td>\n",
       "      <td>99990203</td>\n",
       "    </tr>\n",
       "  </tbody>\n",
       "</table>\n",
       "</div>"
      ],
      "text/plain": [
       "         id       mmsi  status   turn  speed  course  heading       lon  \\\n",
       "0  12293630  227941000     7.0    0.0    0.0   285.0        8 -4.327213   \n",
       "1  12293675  228186700    15.0 -127.0  102.3   360.0      511 -4.512577   \n",
       "\n",
       "         lat          ts                          geom profile_id  \n",
       "0  48.100086  1456802711  POINT (-4.3272133 48.100086)   99990203  \n",
       "1  48.370872  1456802766  POINT (-4.5125766 48.370872)   99990203  "
      ]
     },
     "execution_count": 8,
     "metadata": {},
     "output_type": "execute_result"
    }
   ],
   "source": [
    "traj.head(2)"
   ]
  },
  {
   "cell_type": "markdown",
   "metadata": {},
   "source": [
    "## Some Preprocessing..."
   ]
  },
  {
   "cell_type": "code",
   "execution_count": 9,
   "metadata": {
    "scrolled": true
   },
   "outputs": [
    {
     "data": {
      "text/html": [
       "<div>\n",
       "<style scoped>\n",
       "    .dataframe tbody tr th:only-of-type {\n",
       "        vertical-align: middle;\n",
       "    }\n",
       "\n",
       "    .dataframe tbody tr th {\n",
       "        vertical-align: top;\n",
       "    }\n",
       "\n",
       "    .dataframe thead th {\n",
       "        text-align: right;\n",
       "    }\n",
       "</style>\n",
       "<table border=\"1\" class=\"dataframe\">\n",
       "  <thead>\n",
       "    <tr style=\"text-align: right;\">\n",
       "      <th></th>\n",
       "      <th>id</th>\n",
       "      <th>mmsi</th>\n",
       "      <th>status</th>\n",
       "      <th>turn</th>\n",
       "      <th>speed</th>\n",
       "      <th>course</th>\n",
       "      <th>heading</th>\n",
       "      <th>lon</th>\n",
       "      <th>lat</th>\n",
       "      <th>ts</th>\n",
       "      <th>geom</th>\n",
       "      <th>profile_id</th>\n",
       "      <th>date</th>\n",
       "      <th>month</th>\n",
       "      <th>year</th>\n",
       "    </tr>\n",
       "  </thead>\n",
       "  <tbody>\n",
       "    <tr>\n",
       "      <th>0</th>\n",
       "      <td>12293630</td>\n",
       "      <td>227941000</td>\n",
       "      <td>7.0</td>\n",
       "      <td>0.0</td>\n",
       "      <td>0.0</td>\n",
       "      <td>285.0</td>\n",
       "      <td>8</td>\n",
       "      <td>-4.327213</td>\n",
       "      <td>48.100086</td>\n",
       "      <td>1456802711</td>\n",
       "      <td>POINT (-4.3272133 48.100086)</td>\n",
       "      <td>99990203</td>\n",
       "      <td>2016-03-01</td>\n",
       "      <td>03</td>\n",
       "      <td>2016</td>\n",
       "    </tr>\n",
       "    <tr>\n",
       "      <th>1</th>\n",
       "      <td>12293631</td>\n",
       "      <td>227705102</td>\n",
       "      <td>15.0</td>\n",
       "      <td>-127.0</td>\n",
       "      <td>0.0</td>\n",
       "      <td>261.8</td>\n",
       "      <td>511</td>\n",
       "      <td>-4.496568</td>\n",
       "      <td>48.382435</td>\n",
       "      <td>1456802711</td>\n",
       "      <td>POINT (-4.496568 48.382435)</td>\n",
       "      <td>99990203</td>\n",
       "      <td>2016-03-01</td>\n",
       "      <td>03</td>\n",
       "      <td>2016</td>\n",
       "    </tr>\n",
       "    <tr>\n",
       "      <th>2</th>\n",
       "      <td>17515087</td>\n",
       "      <td>256494000</td>\n",
       "      <td>5.0</td>\n",
       "      <td>0.0</td>\n",
       "      <td>0.0</td>\n",
       "      <td>344.0</td>\n",
       "      <td>217</td>\n",
       "      <td>-4.451149</td>\n",
       "      <td>48.383625</td>\n",
       "      <td>1456802713</td>\n",
       "      <td>POINT (-4.4511485 48.383625)</td>\n",
       "      <td>99990203</td>\n",
       "      <td>2016-03-01</td>\n",
       "      <td>03</td>\n",
       "      <td>2016</td>\n",
       "    </tr>\n",
       "    <tr>\n",
       "      <th>3</th>\n",
       "      <td>12293634</td>\n",
       "      <td>227574020</td>\n",
       "      <td>15.0</td>\n",
       "      <td>-127.0</td>\n",
       "      <td>0.0</td>\n",
       "      <td>241.7</td>\n",
       "      <td>511</td>\n",
       "      <td>-4.496673</td>\n",
       "      <td>48.382454</td>\n",
       "      <td>1456802713</td>\n",
       "      <td>POINT (-4.496673 48.382454)</td>\n",
       "      <td>99990203</td>\n",
       "      <td>2016-03-01</td>\n",
       "      <td>03</td>\n",
       "      <td>2016</td>\n",
       "    </tr>\n",
       "    <tr>\n",
       "      <th>4</th>\n",
       "      <td>17515086</td>\n",
       "      <td>227300000</td>\n",
       "      <td>7.0</td>\n",
       "      <td>-126.0</td>\n",
       "      <td>2.8</td>\n",
       "      <td>34.2</td>\n",
       "      <td>346</td>\n",
       "      <td>-4.631805</td>\n",
       "      <td>48.111330</td>\n",
       "      <td>1456802713</td>\n",
       "      <td>POINT (-4.631805 48.11133)</td>\n",
       "      <td>99990203</td>\n",
       "      <td>2016-03-01</td>\n",
       "      <td>03</td>\n",
       "      <td>2016</td>\n",
       "    </tr>\n",
       "  </tbody>\n",
       "</table>\n",
       "</div>"
      ],
      "text/plain": [
       "         id       mmsi  status   turn  speed  course  heading       lon  \\\n",
       "0  12293630  227941000     7.0    0.0    0.0   285.0        8 -4.327213   \n",
       "1  12293631  227705102    15.0 -127.0    0.0   261.8      511 -4.496568   \n",
       "2  17515087  256494000     5.0    0.0    0.0   344.0      217 -4.451149   \n",
       "3  12293634  227574020    15.0 -127.0    0.0   241.7      511 -4.496673   \n",
       "4  17515086  227300000     7.0 -126.0    2.8    34.2      346 -4.631805   \n",
       "\n",
       "         lat          ts                          geom profile_id        date  \\\n",
       "0  48.100086  1456802711  POINT (-4.3272133 48.100086)   99990203  2016-03-01   \n",
       "1  48.382435  1456802711   POINT (-4.496568 48.382435)   99990203  2016-03-01   \n",
       "2  48.383625  1456802713  POINT (-4.4511485 48.383625)   99990203  2016-03-01   \n",
       "3  48.382454  1456802713   POINT (-4.496673 48.382454)   99990203  2016-03-01   \n",
       "4  48.111330  1456802713    POINT (-4.631805 48.11133)   99990203  2016-03-01   \n",
       "\n",
       "  month  year  \n",
       "0    03  2016  \n",
       "1    03  2016  \n",
       "2    03  2016  \n",
       "3    03  2016  \n",
       "4    03  2016  "
      ]
     },
     "execution_count": 9,
     "metadata": {},
     "output_type": "execute_result"
    }
   ],
   "source": [
    "#### DROP TIMESTAMP DUPLICATES PER MMSI\n",
    "traj = traj.drop_duplicates(subset=['mmsi', 'ts']).sort_values('ts').reset_index(drop=True)\n",
    "traj['date'] = traj.ts.apply(int).apply(lambda x: datetime.datetime.fromtimestamp(x).strftime(\"%Y-%m-%d\"))\n",
    "traj['month'] = traj['date'].apply(lambda x: x.split('-')[1])\n",
    "traj['year'] = traj['date'].apply(lambda x: x.split('-')[0])\n",
    "\n",
    "### CALCULATE VELOCITIES BASED ON THE POINTS\n",
    "# traj['velocity'] = np.nan\n",
    "# traj = traj.groupby(['mmsi'], as_index=False, group_keys=False).apply(gspp.calculate_velocity, smoothing=False, window=15, center=False)\n",
    "\n",
    "### DENOISE SAMPLE_TRAJECTORIES BASED ON A VELOCITY THRESHOLD (POTENTIAL-AREA-OF-ACTIVITY)\n",
    "# traj = gspp.PotentialAreaOfActivity(traj, velocity_threshold = 102.2)\n",
    "traj.head()"
   ]
  },
  {
   "cell_type": "code",
   "execution_count": 17,
   "metadata": {},
   "outputs": [],
   "source": [
    "gsplt.map_plot(traj.loc[traj.date=='2016-03-01'], ports, color=['darkblue', 'crimson'], markersize=25, figsize=(20,15))"
   ]
  },
  {
   "cell_type": "markdown",
   "metadata": {},
   "source": [
    "## Computing Primitive Statistics\n",
    "### __NOTE: The below code works as a proof of concept due to the fact that the subset dataframe does not statistically represent the distribution of the whole dataset.__"
   ]
  },
  {
   "cell_type": "code",
   "execution_count": 23,
   "metadata": {},
   "outputs": [
    {
     "data": {
      "text/html": [
       "<div>\n",
       "<style scoped>\n",
       "    .dataframe tbody tr th:only-of-type {\n",
       "        vertical-align: middle;\n",
       "    }\n",
       "\n",
       "    .dataframe tbody tr th {\n",
       "        vertical-align: top;\n",
       "    }\n",
       "\n",
       "    .dataframe thead th {\n",
       "        text-align: right;\n",
       "    }\n",
       "</style>\n",
       "<table border=\"1\" class=\"dataframe\">\n",
       "  <thead>\n",
       "    <tr style=\"text-align: right;\">\n",
       "      <th></th>\n",
       "      <th>gid</th>\n",
       "      <th>gml_id</th>\n",
       "      <th>por_id</th>\n",
       "      <th>libelle_po</th>\n",
       "      <th>insee_comm</th>\n",
       "      <th>por_x</th>\n",
       "      <th>por_y</th>\n",
       "      <th>geom</th>\n",
       "    </tr>\n",
       "  </thead>\n",
       "  <tbody>\n",
       "    <tr>\n",
       "      <th>0</th>\n",
       "      <td>1</td>\n",
       "      <td>port.1</td>\n",
       "      <td>1</td>\n",
       "      <td>Le Vivier-sur-Mer</td>\n",
       "      <td>35361</td>\n",
       "      <td>297025.0</td>\n",
       "      <td>2408370.0</td>\n",
       "      <td>POINT (-1.771798868659233 48.60274269672541)</td>\n",
       "    </tr>\n",
       "    <tr>\n",
       "      <th>1</th>\n",
       "      <td>2</td>\n",
       "      <td>port.10</td>\n",
       "      <td>10</td>\n",
       "      <td>Saint-Samson sur Rance</td>\n",
       "      <td>22327</td>\n",
       "      <td>279335.0</td>\n",
       "      <td>2396060.0</td>\n",
       "      <td>POINT (-2.001990119062326 48.48369993456267)</td>\n",
       "    </tr>\n",
       "    <tr>\n",
       "      <th>2</th>\n",
       "      <td>3</td>\n",
       "      <td>port.100</td>\n",
       "      <td>100</td>\n",
       "      <td>Douarnenez</td>\n",
       "      <td>29046</td>\n",
       "      <td>103135.0</td>\n",
       "      <td>2365330.0</td>\n",
       "      <td>POINT (-4.341204251638414 48.09709590770091)</td>\n",
       "    </tr>\n",
       "    <tr>\n",
       "      <th>3</th>\n",
       "      <td>4</td>\n",
       "      <td>port.101</td>\n",
       "      <td>101</td>\n",
       "      <td>Brézellec</td>\n",
       "      <td>29028</td>\n",
       "      <td>79105.4</td>\n",
       "      <td>2364190.0</td>\n",
       "      <td>POINT (-4.661115947908725 48.06804110561076)</td>\n",
       "    </tr>\n",
       "    <tr>\n",
       "      <th>4</th>\n",
       "      <td>5</td>\n",
       "      <td>port.102</td>\n",
       "      <td>102</td>\n",
       "      <td>Sein</td>\n",
       "      <td>29083</td>\n",
       "      <td>64562.5</td>\n",
       "      <td>2362180.0</td>\n",
       "      <td>POINT (-4.852944548180974 48.03825273921113)</td>\n",
       "    </tr>\n",
       "  </tbody>\n",
       "</table>\n",
       "</div>"
      ],
      "text/plain": [
       "   gid    gml_id por_id              libelle_po insee_comm     por_x  \\\n",
       "0    1    port.1      1       Le Vivier-sur-Mer      35361  297025.0   \n",
       "1    2   port.10     10  Saint-Samson sur Rance      22327  279335.0   \n",
       "2    3  port.100    100              Douarnenez      29046  103135.0   \n",
       "3    4  port.101    101               Brézellec      29028   79105.4   \n",
       "4    5  port.102    102                    Sein      29083   64562.5   \n",
       "\n",
       "       por_y                                          geom  \n",
       "0  2408370.0  POINT (-1.771798868659233 48.60274269672541)  \n",
       "1  2396060.0  POINT (-2.001990119062326 48.48369993456267)  \n",
       "2  2365330.0  POINT (-4.341204251638414 48.09709590770091)  \n",
       "3  2364190.0  POINT (-4.661115947908725 48.06804110561076)  \n",
       "4  2362180.0  POINT (-4.852944548180974 48.03825273921113)  "
      ]
     },
     "execution_count": 23,
     "metadata": {},
     "output_type": "execute_result"
    }
   ],
   "source": [
    "ports.head()"
   ]
  },
  {
   "cell_type": "markdown",
   "metadata": {},
   "source": [
    "* #### #Vessels"
   ]
  },
  {
   "cell_type": "code",
   "execution_count": 10,
   "metadata": {},
   "outputs": [
    {
     "data": {
      "text/plain": [
       "197"
      ]
     },
     "execution_count": 10,
     "metadata": {},
     "output_type": "execute_result"
    }
   ],
   "source": [
    "traj.mmsi.unique().size"
   ]
  },
  {
   "cell_type": "markdown",
   "metadata": {},
   "source": [
    "* #### #Records per Day/Month/MMSI"
   ]
  },
  {
   "cell_type": "code",
   "execution_count": 57,
   "metadata": {},
   "outputs": [
    {
     "data": {
      "text/plain": [
       "1136.8324873096446"
      ]
     },
     "execution_count": 57,
     "metadata": {},
     "output_type": "execute_result"
    }
   ],
   "source": [
    "# traj.groupby('date').id.count().plot.bar(figsize=(7,7), cmap='tab20', rot=0)    # PER DATE  \n",
    "# traj.groupby(['year', 'month']).id.count().plot.bar(figsize=(7,7), cmap='tab20', rot=0)    # PER MONTH  \n",
    "# traj.groupby('mmsi').id.count().plot.bar(figsize=(20,10), title='#Records per Vessel', cmap='tab20', fontsize=5.5)    # PER MMSI \n",
    "# plt.xlabel('mmsi')\n",
    "\n",
    "# plt.savefig(os.path.join(os.path.expanduser('~'),'Desktop', 'Figure_3.png'))"
   ]
  },
  {
   "cell_type": "markdown",
   "metadata": {},
   "source": [
    "* #### Average Records per Date/Month/MMSI"
   ]
  },
  {
   "cell_type": "code",
   "execution_count": 88,
   "metadata": {},
   "outputs": [
    {
     "data": {
      "text/plain": [
       "<matplotlib.axes._subplots.AxesSubplot at 0x7f150b2bde48>"
      ]
     },
     "execution_count": 88,
     "metadata": {},
     "output_type": "execute_result"
    }
   ],
   "source": [
    "# The Averages\n",
    "# traj.groupby('date').id.count().mean()             # PER DATE\n",
    "# traj.groupby(['year', 'month']).id.count().mean()  # PER MONTH  \n",
    "# traj.groupby('mmsi').id.count().mean().round()     # PER MMSI \n",
    "traj.groupby(['date', 'mmsi']).id.count().groupby(['date']).mean().round().plot.bar(title='Avg. Records per Vessel per Day', cmap='tab20', fontsize=10, rot=0)     # PER MMSI PER DAY  \n",
    "# plt.savefig(os.path.join(os.path.expanduser('~'),'Desktop', 'Figure_3.png'))"
   ]
  },
  {
   "cell_type": "markdown",
   "metadata": {},
   "source": [
    "* #### Average Vessel Speed (in knots) per Day/Month"
   ]
  },
  {
   "cell_type": "code",
   "execution_count": 92,
   "metadata": {
    "scrolled": true
   },
   "outputs": [
    {
     "data": {
      "text/plain": [
       "Text(0, 0.5, 'Velocity (knots)')"
      ]
     },
     "execution_count": 92,
     "metadata": {},
     "output_type": "execute_result"
    }
   ],
   "source": [
    "# ax = traj.groupby('date').velocity.mean().plot.bar(rot=0, title='Avg. Velocity (knots) per Day', color='steelblue')\n",
    "ax = traj.groupby('date').speed.mean().plot.bar(rot=0, title='Avg. Velocity (knots) per Day', color='steelblue')\n",
    "# traj.groupby(['year','month']).speed.mean().plot.bar(rot=0, title='Avg. Velocity (knots) per Month', color='steelblue')\n",
    "ax.set_ylabel('Velocity (knots)')\n",
    "# plt.savefig(os.path.join(os.path.expanduser('~'),'Desktop', 'Figure_4.png'))"
   ]
  },
  {
   "cell_type": "markdown",
   "metadata": {},
   "source": [
    "* #### Accelation Distribution"
   ]
  },
  {
   "cell_type": "code",
   "execution_count": 93,
   "metadata": {},
   "outputs": [
    {
     "data": {
      "text/plain": [
       "Text(0.5, 0, 'Acceleration')"
      ]
     },
     "execution_count": 93,
     "metadata": {},
     "output_type": "execute_result"
    }
   ],
   "source": [
    "window=150\n",
    "pd.cut(traj.groupby('mmsi').speed.rolling(window).mean().diff().rolling(window).mean(), 200).value_counts(sort=False).plot.area(figsize=(12,10), cmap='tab20', title='Vessel Acceleration Distribution', rot=8)\n",
    "# pd.cut(traj.groupby('mmsi').velocity.rolling(window).mean().diff().rolling(window).mean(), 200).value_counts(sort=False).plot.area(figsize=(12,10), cmap='tab20', title='Vessel Acceleration Distribution', rot=8)\n",
    "# pd.cut(traj.groupby('mmsi').speed.diff().ffill().bfill(), 200).value_counts(sort=False).plot.area(figsize=(12,10), cmap='tab20', title='Vessel Acceleration Distribution', rot=8)\n",
    "plt.xlabel('Acceleration')\n",
    "# plt.savefig(os.path.join(os.path.expanduser('~'),'Desktop', 'Figure_5.png'))"
   ]
  },
  {
   "cell_type": "markdown",
   "metadata": {},
   "source": [
    "* #### Time Spent in/out of Port"
   ]
  },
  {
   "cell_type": "code",
   "execution_count": 94,
   "metadata": {
    "scrolled": false
   },
   "outputs": [
    {
     "name": "stdout",
     "output_type": "stream",
     "text": [
      "CPU times: user 4min, sys: 145 ms, total: 4min\n",
      "Wall time: 4min\n"
     ]
    }
   ],
   "source": [
    "%%time\n",
    "ports_epsg_3310 = ports.to_crs(epsg=3310,inplace=False)\n",
    "pnt_port_dist = traj.to_crs(epsg=3310,inplace=False).apply(lambda row: gspp.distance_to_nearest_port(row.geom, ports_epsg_3310), axis=1)"
   ]
  },
  {
   "cell_type": "code",
   "execution_count": 14,
   "metadata": {},
   "outputs": [
    {
     "data": {
      "text/plain": [
       "<matplotlib.axes._subplots.AxesSubplot at 0x7f82dc0feb70>"
      ]
     },
     "execution_count": 14,
     "metadata": {},
     "output_type": "execute_result"
    }
   ],
   "source": [
    "inside_port = pnt_port_dist.loc[pnt_port_dist/1000 <= 5].index\n",
    "outside_port = pnt_port_dist.loc[pnt_port_dist/1000 > 5].index\n",
    "\n",
    "# traj.loc[inside_port].groupby(['date', 'mmsi']).apply(lambda x: x.ts.diff().sum()/3600).to_frame()\n",
    "hrs_inside_port = traj.loc[inside_port].groupby(['date', 'mmsi']).apply(lambda x: x.ts.diff().sum()/3600).to_frame().reset_index().rename({0:'hrs'}, axis=1).groupby('date').apply(lambda x: x.hrs.sum())\n",
    "hrs_inside_port\n",
    "\n",
    "# traj.loc[outside_port].groupby(['date', 'mmsi']).apply(lambda x: x.ts.diff().sum()/3600).to_frame()\n",
    "hrs_outside_port = traj.loc[outside_port].groupby(['date', 'mmsi']).apply(lambda x: x.ts.diff().sum()/3600).to_frame().reset_index().rename({0:'hrs'}, axis=1).groupby('date').apply(lambda x: x.hrs.sum())\n",
    "hrs_outside_port\n",
    "\n",
    "pd.concat([hrs_inside_port.rename('Inside Port (hrs)'), hrs_outside_port.rename('Outside Port (hrs)')],\n",
    "         axis=1).plot.bar(rot=0, title='Cumulative time per Vessel Inside & Outside of Port', cmap='tab20')\n",
    "# plt.savefig(os.path.join(os.path.expanduser('~'),'Desktop', 'Figure_6.png'))"
   ]
  },
  {
   "cell_type": "markdown",
   "metadata": {},
   "source": [
    "* #### Common Vessel Destinations per Month"
   ]
  },
  {
   "cell_type": "code",
   "execution_count": 18,
   "metadata": {},
   "outputs": [],
   "source": [
    "k=5\n",
    "k_common_heading = traj.groupby(['year', 'month']).apply(lambda x: x.heading.value_counts().to_frame().iloc[0:k]).reset_index()\n",
    "k_common_heading.rename({'level_2': 'heading', 'heading': 'num_visits'}, axis=1, inplace=True)\n",
    "k_common_heading.set_index(['year', 'month', 'heading'], inplace=True)\n",
    "ax = k_common_heading.plot.bar(y='num_visits', color='steelblue', title='Common Vessel Destinations per Month', rot=20)\n",
    "# plt.savefig(os.path.join(os.path.expanduser('~'),'Desktop', 'Figure_7.png'))"
   ]
  },
  {
   "cell_type": "markdown",
   "metadata": {},
   "source": [
    "## Vessel-Oriented Data Exploratory Statistics"
   ]
  },
  {
   "cell_type": "code",
   "execution_count": 25,
   "metadata": {
    "scrolled": true
   },
   "outputs": [
    {
     "name": "stderr",
     "output_type": "stream",
     "text": [
      "/home/andretri7/anaconda3/envs/gis/lib/python3.7/site-packages/IPython/core/interactiveshell.py:3020: DtypeWarning: Columns (29,30,33) have mixed types. Specify dtype option on import or set low_memory=False.\n",
      "  interactivity=interactivity, compiler=compiler, result=result)\n"
     ]
    },
    {
     "data": {
      "text/html": [
       "<div>\n",
       "<style scoped>\n",
       "    .dataframe tbody tr th:only-of-type {\n",
       "        vertical-align: middle;\n",
       "    }\n",
       "\n",
       "    .dataframe tbody tr th {\n",
       "        vertical-align: top;\n",
       "    }\n",
       "\n",
       "    .dataframe thead th {\n",
       "        text-align: right;\n",
       "    }\n",
       "</style>\n",
       "<table border=\"1\" class=\"dataframe\">\n",
       "  <thead>\n",
       "    <tr style=\"text-align: right;\">\n",
       "      <th></th>\n",
       "      <th>countrycode</th>\n",
       "      <th>cfr</th>\n",
       "      <th>eventcode</th>\n",
       "      <th>eventstartdate</th>\n",
       "      <th>eventenddate</th>\n",
       "      <th>licenseind</th>\n",
       "      <th>registrationnbr</th>\n",
       "      <th>extmarking</th>\n",
       "      <th>vesselname</th>\n",
       "      <th>portcode</th>\n",
       "      <th>...</th>\n",
       "      <th>commonth</th>\n",
       "      <th>comday</th>\n",
       "      <th>segment</th>\n",
       "      <th>expcountry</th>\n",
       "      <th>exptype</th>\n",
       "      <th>publicaidcode</th>\n",
       "      <th>decisiondate</th>\n",
       "      <th>decisionsegcode</th>\n",
       "      <th>constructionyear</th>\n",
       "      <th>constructionplace</th>\n",
       "    </tr>\n",
       "  </thead>\n",
       "  <tbody>\n",
       "    <tr>\n",
       "      <th>0</th>\n",
       "      <td>BEL</td>\n",
       "      <td>BEL000021964</td>\n",
       "      <td>CEN</td>\n",
       "      <td>19890101</td>\n",
       "      <td>19910417</td>\n",
       "      <td>N</td>\n",
       "      <td>002</td>\n",
       "      <td>A.2</td>\n",
       "      <td>NANCY</td>\n",
       "      <td>ANTWE</td>\n",
       "      <td>...</td>\n",
       "      <td>3</td>\n",
       "      <td>26</td>\n",
       "      <td>BIN</td>\n",
       "      <td>NaN</td>\n",
       "      <td>NaN</td>\n",
       "      <td>NaN</td>\n",
       "      <td>NaN</td>\n",
       "      <td>NaN</td>\n",
       "      <td>NaN</td>\n",
       "      <td>NaN</td>\n",
       "    </tr>\n",
       "    <tr>\n",
       "      <th>1</th>\n",
       "      <td>BEL</td>\n",
       "      <td>BEL000021964</td>\n",
       "      <td>MOD</td>\n",
       "      <td>19910418</td>\n",
       "      <td>19911231</td>\n",
       "      <td>N</td>\n",
       "      <td>002</td>\n",
       "      <td>A.2</td>\n",
       "      <td>NANCY</td>\n",
       "      <td>ANTWE</td>\n",
       "      <td>...</td>\n",
       "      <td>3</td>\n",
       "      <td>26</td>\n",
       "      <td>BIN</td>\n",
       "      <td>NaN</td>\n",
       "      <td>EX</td>\n",
       "      <td>NaN</td>\n",
       "      <td>NaN</td>\n",
       "      <td>NaN</td>\n",
       "      <td>NaN</td>\n",
       "      <td>NaN</td>\n",
       "    </tr>\n",
       "    <tr>\n",
       "      <th>2</th>\n",
       "      <td>BEL</td>\n",
       "      <td>BEL000021964</td>\n",
       "      <td>MOD</td>\n",
       "      <td>19920101</td>\n",
       "      <td>19940728</td>\n",
       "      <td>Y</td>\n",
       "      <td>002</td>\n",
       "      <td>O.2</td>\n",
       "      <td>NANCY</td>\n",
       "      <td>OOSTE</td>\n",
       "      <td>...</td>\n",
       "      <td>3</td>\n",
       "      <td>26</td>\n",
       "      <td>E10</td>\n",
       "      <td>NaN</td>\n",
       "      <td>EX</td>\n",
       "      <td>NaN</td>\n",
       "      <td>NaN</td>\n",
       "      <td>NaN</td>\n",
       "      <td>NaN</td>\n",
       "      <td>NaN</td>\n",
       "    </tr>\n",
       "    <tr>\n",
       "      <th>3</th>\n",
       "      <td>BEL</td>\n",
       "      <td>BEL000021964</td>\n",
       "      <td>MOD</td>\n",
       "      <td>19940729</td>\n",
       "      <td>19961231</td>\n",
       "      <td>Y</td>\n",
       "      <td>002</td>\n",
       "      <td>O.2</td>\n",
       "      <td>NANCY</td>\n",
       "      <td>OOSTE</td>\n",
       "      <td>...</td>\n",
       "      <td>3</td>\n",
       "      <td>26</td>\n",
       "      <td>C10</td>\n",
       "      <td>NaN</td>\n",
       "      <td>EX</td>\n",
       "      <td>NaN</td>\n",
       "      <td>NaN</td>\n",
       "      <td>NaN</td>\n",
       "      <td>NaN</td>\n",
       "      <td>NaN</td>\n",
       "    </tr>\n",
       "    <tr>\n",
       "      <th>4</th>\n",
       "      <td>BEL</td>\n",
       "      <td>BEL000021964</td>\n",
       "      <td>MOD</td>\n",
       "      <td>19970101</td>\n",
       "      <td>20021231</td>\n",
       "      <td>Y</td>\n",
       "      <td>002</td>\n",
       "      <td>O.2</td>\n",
       "      <td>NANCY</td>\n",
       "      <td>OOSTE</td>\n",
       "      <td>...</td>\n",
       "      <td>3</td>\n",
       "      <td>26</td>\n",
       "      <td>4A1</td>\n",
       "      <td>NaN</td>\n",
       "      <td>EX</td>\n",
       "      <td>NaN</td>\n",
       "      <td>NaN</td>\n",
       "      <td>NaN</td>\n",
       "      <td>1964.0</td>\n",
       "      <td>N.V. Scheepswerf BAREVELD, Wildervank, NL</td>\n",
       "    </tr>\n",
       "  </tbody>\n",
       "</table>\n",
       "<p>5 rows × 36 columns</p>\n",
       "</div>"
      ],
      "text/plain": [
       "  countrycode           cfr eventcode  eventstartdate  eventenddate  \\\n",
       "0         BEL  BEL000021964       CEN        19890101      19910417   \n",
       "1         BEL  BEL000021964       MOD        19910418      19911231   \n",
       "2         BEL  BEL000021964       MOD        19920101      19940728   \n",
       "3         BEL  BEL000021964       MOD        19940729      19961231   \n",
       "4         BEL  BEL000021964       MOD        19970101      20021231   \n",
       "\n",
       "  licenseind registrationnbr extmarking vesselname portcode  ... commonth  \\\n",
       "0          N             002        A.2      NANCY    ANTWE  ...        3   \n",
       "1          N             002        A.2      NANCY    ANTWE  ...        3   \n",
       "2          Y             002        O.2      NANCY    OOSTE  ...        3   \n",
       "3          Y             002        O.2      NANCY    OOSTE  ...        3   \n",
       "4          Y             002        O.2      NANCY    OOSTE  ...        3   \n",
       "\n",
       "  comday segment expcountry exptype publicaidcode  decisiondate  \\\n",
       "0     26     BIN        NaN     NaN           NaN           NaN   \n",
       "1     26     BIN        NaN      EX           NaN           NaN   \n",
       "2     26     E10        NaN      EX           NaN           NaN   \n",
       "3     26     C10        NaN      EX           NaN           NaN   \n",
       "4     26     4A1        NaN      EX           NaN           NaN   \n",
       "\n",
       "   decisionsegcode  constructionyear  \\\n",
       "0              NaN               NaN   \n",
       "1              NaN               NaN   \n",
       "2              NaN               NaN   \n",
       "3              NaN               NaN   \n",
       "4              NaN            1964.0   \n",
       "\n",
       "                           constructionplace  \n",
       "0                                        NaN  \n",
       "1                                        NaN  \n",
       "2                                        NaN  \n",
       "3                                        NaN  \n",
       "4  N.V. Scheepswerf BAREVELD, Wildervank, NL  \n",
       "\n",
       "[5 rows x 36 columns]"
      ]
     },
     "execution_count": 25,
     "metadata": {},
     "output_type": "execute_result"
    }
   ],
   "source": [
    "vessels = pd.read_csv('data/csv/EuropeanVesselRegister.csv', sep=';')\n",
    "vessels.head()"
   ]
  },
  {
   "cell_type": "code",
   "execution_count": 26,
   "metadata": {},
   "outputs": [
    {
     "data": {
      "text/plain": [
       "487126"
      ]
     },
     "execution_count": 26,
     "metadata": {},
     "output_type": "execute_result"
    }
   ],
   "source": [
    "len(vessels)"
   ]
  },
  {
   "cell_type": "code",
   "execution_count": 8,
   "metadata": {
    "scrolled": true
   },
   "outputs": [
    {
     "data": {
      "text/html": [
       "<div>\n",
       "<style scoped>\n",
       "    .dataframe tbody tr th:only-of-type {\n",
       "        vertical-align: middle;\n",
       "    }\n",
       "\n",
       "    .dataframe tbody tr th {\n",
       "        vertical-align: top;\n",
       "    }\n",
       "\n",
       "    .dataframe thead th {\n",
       "        text-align: right;\n",
       "    }\n",
       "</style>\n",
       "<table border=\"1\" class=\"dataframe\">\n",
       "  <thead>\n",
       "    <tr style=\"text-align: right;\">\n",
       "      <th></th>\n",
       "      <th>gearcode</th>\n",
       "      <th>geardesc</th>\n",
       "      <th>gearcat</th>\n",
       "    </tr>\n",
       "  </thead>\n",
       "  <tbody>\n",
       "    <tr>\n",
       "      <th>0</th>\n",
       "      <td>PS</td>\n",
       "      <td>With purse lines (purse seines)</td>\n",
       "      <td>HARVESTING MACHINES</td>\n",
       "    </tr>\n",
       "    <tr>\n",
       "      <th>1</th>\n",
       "      <td>PS1</td>\n",
       "      <td>one boat operated purse seines</td>\n",
       "      <td>HARVESTING MACHINES</td>\n",
       "    </tr>\n",
       "    <tr>\n",
       "      <th>2</th>\n",
       "      <td>PS2</td>\n",
       "      <td>two boats operated purse seines</td>\n",
       "      <td>HARVESTING MACHINES</td>\n",
       "    </tr>\n",
       "    <tr>\n",
       "      <th>3</th>\n",
       "      <td>LA</td>\n",
       "      <td>Without purse lines (lampara)</td>\n",
       "      <td>HARVESTING MACHINES</td>\n",
       "    </tr>\n",
       "    <tr>\n",
       "      <th>4</th>\n",
       "      <td>SB</td>\n",
       "      <td>Beach seines</td>\n",
       "      <td>SEINE NETS</td>\n",
       "    </tr>\n",
       "  </tbody>\n",
       "</table>\n",
       "</div>"
      ],
      "text/plain": [
       "  gearcode                         geardesc              gearcat\n",
       "0       PS  With purse lines (purse seines)  HARVESTING MACHINES\n",
       "1      PS1   one boat operated purse seines  HARVESTING MACHINES\n",
       "2      PS2  two boats operated purse seines  HARVESTING MACHINES\n",
       "3       LA    Without purse lines (lampara)  HARVESTING MACHINES\n",
       "4       SB                     Beach seines           SEINE NETS"
      ]
     },
     "execution_count": 8,
     "metadata": {},
     "output_type": "execute_result"
    }
   ],
   "source": [
    "ves_gear = pd.read_csv('data/table_gear_type_code.csv', sep=',', names=['gearcode', 'geardesc', 'gearcat'])\n",
    "ves_gear.head()"
   ]
  },
  {
   "cell_type": "markdown",
   "metadata": {},
   "source": [
    "* #### Histogram regarding the vessels country of origin"
   ]
  },
  {
   "cell_type": "code",
   "execution_count": 9,
   "metadata": {},
   "outputs": [
    {
     "data": {
      "text/plain": [
       "<matplotlib.axes._subplots.AxesSubplot at 0x7f048d17ce48>"
      ]
     },
     "execution_count": 9,
     "metadata": {},
     "output_type": "execute_result"
    }
   ],
   "source": [
    "plt.figure(1)\n",
    "vessels.countrycode.value_counts(ascending=True).plot('barh', color='steelblue')"
   ]
  },
  {
   "cell_type": "markdown",
   "metadata": {},
   "source": [
    "* #### Histogram regarding the vessels main gear types"
   ]
  },
  {
   "cell_type": "code",
   "execution_count": 10,
   "metadata": {},
   "outputs": [
    {
     "data": {
      "text/plain": [
       "<matplotlib.axes._subplots.AxesSubplot at 0x7f048d2095f8>"
      ]
     },
     "execution_count": 10,
     "metadata": {},
     "output_type": "execute_result"
    }
   ],
   "source": [
    "plt.figure(2)\n",
    "# vessels.gearmaincode.value_counts().plot('bar')\n",
    "ves_gear.merge(vessels.gearmaincode.to_frame(), left_on='gearcode', right_on='gearmaincode').geardesc.value_counts(ascending=True).plot('barh', rot=40, color='steelblue') "
   ]
  },
  {
   "cell_type": "markdown",
   "metadata": {},
   "source": [
    "* #### Histogram regarding the vessels main gear category"
   ]
  },
  {
   "cell_type": "code",
   "execution_count": 11,
   "metadata": {},
   "outputs": [
    {
     "data": {
      "text/plain": [
       "<matplotlib.axes._subplots.AxesSubplot at 0x7f048d218f98>"
      ]
     },
     "execution_count": 11,
     "metadata": {},
     "output_type": "execute_result"
    }
   ],
   "source": [
    "plt.figure(3)\n",
    "# vessels.gearmaincode.value_counts().plot('bar')\n",
    "ves_gear.merge(vessels.gearmaincode.to_frame(), left_on='gearcode', right_on='gearmaincode').gearcat.value_counts(ascending=True).plot('barh', rot=25, color='steelblue') "
   ]
  },
  {
   "cell_type": "code",
   "execution_count": null,
   "metadata": {},
   "outputs": [],
   "source": []
  },
  {
   "cell_type": "markdown",
   "metadata": {},
   "source": [
    "## OLD (and maybe useless) STATISTICS"
   ]
  },
  {
   "cell_type": "markdown",
   "metadata": {},
   "source": [
    "* #### Average Speed (in knots) per MMSI"
   ]
  },
  {
   "cell_type": "code",
   "execution_count": 68,
   "metadata": {
    "scrolled": true
   },
   "outputs": [],
   "source": [
    "ax = traj.groupby('mmsi').velocity.mean().sort_values().plot.barh(rot=0, color='steelblue', fontsize=10)\n",
    "ax = traj.groupby('mmsi').speed.mean().sort_values().plot.barh(rot=0, color='steelblue', fontsize=10)\n",
    "ax.set_xlabel('Velocity (knots)')"
   ]
  },
  {
   "cell_type": "markdown",
   "metadata": {},
   "source": [
    "* #### Vessel Velocity Plot Through Time (Spaghetti Plot)"
   ]
  },
  {
   "cell_type": "code",
   "execution_count": 67,
   "metadata": {},
   "outputs": [],
   "source": [
    "fig, ax = plt.subplots(figsize=(15,7))\n",
    "palette = plt.get_cmap('tab20c')\n",
    "traj.groupby('mmsi').velocity.apply(lambda src: src.plot(rot=0, fontsize=10, color=palette((num)%20), ax=ax))\n",
    "plt.ylabel('Velocity (knots)')\n",
    "\n",
    "# libraries and data\n",
    "import matplotlib.pyplot as plt\n",
    "import numpy as np\n",
    "import pandas as pd\n",
    "# style\n",
    "plt.style.use('seaborn-darkgrid')\n",
    "# create a color palette\n",
    "palette = plt.get_cmap('tab20c')\n",
    "# multiple line plot\n",
    "num=0\n",
    "for mmsi_name in traj.groupby('mmsi').groups:\n",
    "    num+=1\n",
    "#     plt.plot(traj.loc[traj.mmsi == mmsi_name].ts, traj.loc[traj.mmsi == mmsi_name].velocity, marker='', color=palette(num%20), linewidth=1, alpha=0.9)\n",
    "    plt.plot(traj.loc[traj.mmsi == mmsi_name].ts, traj.loc[traj.mmsi == mmsi_name].speed, marker='', color=palette(num%20), linewidth=1, alpha=0.9)\n",
    "# Add titles\n",
    "plt.tight_layout()\n",
    "plt.title(\"Vessel Velocity Plot Through Time\", loc='center', fontsize=12, fontweight=0)\n",
    "plt.savefig(\"Figure_223_cand.png\", bbox_inches = 'tight')"
   ]
  },
  {
   "cell_type": "code",
   "execution_count": null,
   "metadata": {},
   "outputs": [],
   "source": []
  },
  {
   "cell_type": "code",
   "execution_count": null,
   "metadata": {},
   "outputs": [],
   "source": [
    "# PREVIOUS (BIT USELESS CODE) FOR COMMON DESTINATIONS PER MONTH\n",
    "k_common_heading = traj.groupby(['year', 'month']).apply(lambda x: pd.Series(x.heading.value_counts().index[0:3]).to_frame())\n",
    "k_common_heading = k_common_heading.reset_index().drop('level_2', axis=1).set_index(['year', 'month'])\n",
    "k_common_heading.rename({0: 'heading'}, axis=1).plot.bar(rot=0, color='dodgerblue')\n",
    "\n",
    "traj.groupby(['year', 'month']).apply(lambda x: x.heading.value_counts().index[0:3]).reset_index()\n",
    "traj.groupby(['year', 'month']).apply(lambda x: x.heading.value_counts().index[0:3].to_frame()).reset_index(inplace=False).drop(0, axis=1)"
   ]
  },
  {
   "cell_type": "code",
   "execution_count": 12,
   "metadata": {},
   "outputs": [],
   "source": [
    "# TESTING CODE FOR HAVERSINE DISTANCE IN EPSG 3310\n",
    "import geopandas as gpd\n",
    "from shapely.geometry import Point,Polygon\n",
    "geom=[Point(xy) for xy in zip([117.454361,117.459880],[38.8459879,38.846255])]\n",
    "gdf=gpd.GeoDataFrame(geometry=geom,crs={'init':'epsg:4326'})\n",
    "gdf.to_crs(epsg=3310,inplace=True)\n",
    "l=gdf.distance(gdf.shift())\n",
    "print(l)\n",
    "\n",
    "ports.to_crs(epsg=3310,inplace=False).geom.distance(traj.to_crs(epsg=3310,inplace=False).geom[0])/1000"
   ]
  }
 ],
 "metadata": {
  "kernelspec": {
   "display_name": "Python 3 (GIS)",
   "language": "python",
   "name": "gis"
  },
  "language_info": {
   "codemirror_mode": {
    "name": "ipython",
    "version": 3
   },
   "file_extension": ".py",
   "mimetype": "text/x-python",
   "name": "python",
   "nbconvert_exporter": "python",
   "pygments_lexer": "ipython3",
   "version": "3.7.1"
  },
  "varInspector": {
   "cols": {
    "lenName": 16,
    "lenType": 16,
    "lenVar": 40
   },
   "kernels_config": {
    "python": {
     "delete_cmd_postfix": "",
     "delete_cmd_prefix": "del ",
     "library": "var_list.py",
     "varRefreshCmd": "print(var_dic_list())"
    },
    "r": {
     "delete_cmd_postfix": ") ",
     "delete_cmd_prefix": "rm(",
     "library": "var_list.r",
     "varRefreshCmd": "cat(var_dic_list()) "
    }
   },
   "types_to_exclude": [
    "module",
    "function",
    "builtin_function_or_method",
    "instance",
    "_Feature"
   ],
   "window_display": false
  }
 },
 "nbformat": 4,
 "nbformat_minor": 2
}
