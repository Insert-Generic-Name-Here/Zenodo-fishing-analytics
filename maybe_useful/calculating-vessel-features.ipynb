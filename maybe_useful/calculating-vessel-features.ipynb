{
 "cells": [
  {
   "cell_type": "markdown",
   "metadata": {},
   "source": [
    "## Importing the LonelyBoy Library (github.com/insert-generic-name-here/lonelyboy)"
   ]
  },
  {
   "cell_type": "code",
   "execution_count": 2,
   "metadata": {},
   "outputs": [],
   "source": [
    "import os, sys\n",
    "sys.path.append(os.path.join(os.path.expanduser('~'), 'Documents/Coding/Python'))\n",
    "# sys.path\n",
    "\n",
    "from lonelyboy.geospatial import plots as gsplt\n",
    "from lonelyboy.geospatial import preprocessing as gspp\n",
    "from lonelyboy.timeseries import lbtimeseries as tspp\n",
    "from lonelyboy.geospatial import group_patterns_v2 as gsgp## Importing the LonelyBoy Library (github.com/insert-generic-name-here/lonelyboy)"
   ]
  },
  {
   "cell_type": "markdown",
   "metadata": {},
   "source": [
    "## Importing all other Essential Libraries\n",
    "#### (DO NOT FORGET TO EXECUTE THE FUNCTIONS IN THE BOTTOM CELLS)"
   ]
  },
  {
   "cell_type": "code",
   "execution_count": 3,
   "metadata": {},
   "outputs": [],
   "source": [
    "import psycopg2\n",
    "import numpy as np\n",
    "import configparser\n",
    "import pandas as pd\n",
    "import geopandas as gpd\n",
    "import contextily as ctx\n",
    "from random import choice\n",
    "from tqdm import tqdm\n",
    "import matplotlib.pyplot as plt\n",
    "from sklearn.base import clone\n",
    "from sklearn.cluster import DBSCAN, KMeans, MeanShift\n",
    "from sklearn.preprocessing import MinMaxScaler\n",
    "from sklearn.metrics import silhouette_score\n",
    "from shapely.geometry import Point, LineString, shape\n",
    "from haversine import haversine\n",
    "from datetime import datetime, timedelta"
   ]
  },
  {
   "cell_type": "code",
   "execution_count": 4,
   "metadata": {},
   "outputs": [],
   "source": [
    "from multiprocessing import cpu_count, Pool\n",
    "from functools import partial\n",
    "import datetime"
   ]
  },
  {
   "cell_type": "markdown",
   "metadata": {},
   "source": [
    "## Import Libraries for Visualizations"
   ]
  },
  {
   "cell_type": "code",
   "execution_count": 5,
   "metadata": {},
   "outputs": [],
   "source": [
    "# from IPython.core.interactiveshell import InteractiveShell\n",
    "# InteractiveShell.ast_node_interactivity = \"all\"\n",
    "\n",
    "import PyQt5\n",
    "import matplotlib.pyplot as plt\n",
    "from matplotlib import style;  style.use('ggplot')\n",
    "get_ipython().magic('matplotlib qt')\n",
    "# get_ipython().magic('matplotlib inline')"
   ]
  },
  {
   "cell_type": "markdown",
   "metadata": {},
   "source": [
    "## Get & Plot a Random Vessel's Trajectory"
   ]
  },
  {
   "cell_type": "code",
   "execution_count": 5,
   "metadata": {},
   "outputs": [
    {
     "name": "stdout",
     "output_type": "stream",
     "text": [
      "538005408\n",
      "CPU times: user 10.7 s, sys: 1.25 s, total: 11.9 s\n",
      "Wall time: 12 s\n"
     ]
    }
   ],
   "source": [
    "%%time\n",
    "import random\n",
    "\n",
    "mmsis = pd.read_pickle('data/pkl/mmsi_list.pckl')\n",
    "mmsi_selected = random.choice(random.choice(mmsis))\n",
    "\n",
    "csv_iter = gspp.read_csv_generator('data/csv/nari_dynamic.csv')\n",
    "chunk = pd.concat((chunk[chunk['mmsi'] == mmsi_selected] for chunk in csv_iter), ignore_index=True)\n",
    "chunk = gspp.gdf_from_df(chunk, crs={'init':'epsg:4326'})\n",
    "\n",
    "print (mmsi_selected)\n",
    "chunk.head()"
   ]
  },
  {
   "cell_type": "code",
   "execution_count": 73,
   "metadata": {},
   "outputs": [],
   "source": [
    "chunk.sort_values(['ts'], inplace=True)"
   ]
  },
  {
   "cell_type": "code",
   "execution_count": 6,
   "metadata": {},
   "outputs": [],
   "source": [
    "gsplt.map_plot(chunk, column='ts', figsize=(10,10), color=[None], legend=True)"
   ]
  },
  {
   "cell_type": "markdown",
   "metadata": {},
   "source": [
    "## Test Plots"
   ]
  },
  {
   "cell_type": "code",
   "execution_count": 9,
   "metadata": {
    "scrolled": true
   },
   "outputs": [],
   "source": [
    "csv_iter = gspp.read_csv_generator('data/csv/mmsi/205067000.csv')\n",
    "chunk = pd.concat((chunk[chunk['mmsi'] == 205067000] for chunk in csv_iter), ignore_index=True)\n",
    "chunk = gspp.gdf_from_df(chunk, crs={'init':'epsg:4326'})\n",
    "\n",
    "ports = pd.read_pickle('data/pkl/ports_raw.pkl')\n",
    "ports = gspp.create_port_bounds(ports, port_radius=2000)"
   ]
  },
  {
   "cell_type": "code",
   "execution_count": null,
   "metadata": {},
   "outputs": [],
   "source": [
    "gsplt.map_plot(chunk, ports, column='ts', color=[None, 'r'], figsize=(10,10), legend=True)"
   ]
  },
  {
   "cell_type": "code",
   "execution_count": 28,
   "metadata": {},
   "outputs": [
    {
     "data": {
      "text/plain": [
       "<matplotlib.axes._subplots.AxesSubplot at 0x7f3bf56439e8>"
      ]
     },
     "execution_count": 28,
     "metadata": {},
     "output_type": "execute_result"
    }
   ],
   "source": [
    "tmp = chunk.ts.diff()/(60*60*24)\n",
    "plt.title('Trajectory Time Delta Plot')\n",
    "plt.xlabel('Record Index')\n",
    "plt.ylabel('Time Delta (in Days)')\n",
    "tmp.plot()"
   ]
  },
  {
   "cell_type": "markdown",
   "metadata": {},
   "source": [
    "## Test Code"
   ]
  },
  {
   "cell_type": "markdown",
   "metadata": {},
   "source": [
    "  * ## Calculating Velocity"
   ]
  },
  {
   "cell_type": "code",
   "execution_count": 7,
   "metadata": {
    "scrolled": true
   },
   "outputs": [
    {
     "name": "stderr",
     "output_type": "stream",
     "text": [
      "/home/andretri7/anaconda3/envs/gis/lib/python3.7/site-packages/pandas/core/indexing.py:543: SettingWithCopyWarning: \n",
      "A value is trying to be set on a copy of a slice from a DataFrame.\n",
      "Try using .loc[row_indexer,col_indexer] = value instead\n",
      "\n",
      "See the caveats in the documentation: http://pandas.pydata.org/pandas-docs/stable/indexing.html#indexing-view-versus-copy\n",
      "  self.obj[item] = s\n",
      "/home/andretri7/anaconda3/envs/gis/lib/python3.7/site-packages/pandas/core/indexing.py:362: SettingWithCopyWarning: \n",
      "A value is trying to be set on a copy of a slice from a DataFrame.\n",
      "Try using .loc[row_indexer,col_indexer] = value instead\n",
      "\n",
      "See the caveats in the documentation: http://pandas.pydata.org/pandas-docs/stable/indexing.html#indexing-view-versus-copy\n",
      "  self.obj[key] = _infer_fill_value(value)\n",
      "/home/andretri7/anaconda3/envs/gis/lib/python3.7/site-packages/pandas/core/frame.py:3940: SettingWithCopyWarning: \n",
      "A value is trying to be set on a copy of a slice from a DataFrame\n",
      "\n",
      "See the caveats in the documentation: http://pandas.pydata.org/pandas-docs/stable/indexing.html#indexing-view-versus-copy\n",
      "  errors=errors)\n"
     ]
    }
   ],
   "source": [
    "chunk_vel = gspp.calculate_velocity(chunk, smoothing=False).sort_values(['ts'])"
   ]
  },
  {
   "cell_type": "code",
   "execution_count": 8,
   "metadata": {},
   "outputs": [
    {
     "data": {
      "text/plain": [
       "[<matplotlib.lines.Line2D at 0x7f5d3e897278>]"
      ]
     },
     "execution_count": 8,
     "metadata": {},
     "output_type": "execute_result"
    }
   ],
   "source": [
    "plt.figure(1)\n",
    "plt.title('velocity')\n",
    "plt.plot(chunk_vel.velocity.values)"
   ]
  },
  {
   "cell_type": "markdown",
   "metadata": {},
   "source": [
    "  * ## Calculating Acceleration"
   ]
  },
  {
   "cell_type": "code",
   "execution_count": 10,
   "metadata": {},
   "outputs": [
    {
     "data": {
      "text/plain": [
       "[<matplotlib.lines.Line2D at 0x7f5d3e7a6048>]"
      ]
     },
     "execution_count": 10,
     "metadata": {},
     "output_type": "execute_result"
    }
   ],
   "source": [
    "# window = 3\n",
    "# center=False\n",
    "\n",
    "chunk_vel['acceleration'] = chunk_vel.velocity.diff().divide(chunk_vel.ts.diff())\n",
    "# chunk_vel['acceleration'] = chunk_vel.velocity.diff(-1)\n",
    "# chunk_vel['acceleration'] = chunk_vel['acceleration'].rolling(window, center=center).mean().bfill().ffill()\n",
    "chunk_vel.sort_values(['ts'], inplace=True)\n",
    "\n",
    "chunk_vel = chunk_vel.loc[chunk_vel['mmsi'] != 0]\n",
    "chunk_vel.dropna(subset=['mmsi', 'geom'], inplace=True)\n",
    "chunk_vel.fillna(0, inplace=True)\n",
    "\n",
    "plt.figure(2)\n",
    "plt.title('acceleration')\n",
    "plt.plot(chunk_vel.acceleration.values)"
   ]
  },
  {
   "cell_type": "markdown",
   "metadata": {},
   "source": [
    "  * ## Calculating Course"
   ]
  },
  {
   "cell_type": "code",
   "execution_count": 106,
   "metadata": {},
   "outputs": [],
   "source": [
    "def calculate_course(point1, point2):\n",
    "    '''\n",
    "        Calculating initial bearing between two points\n",
    "        (see http://www.movable-type.co.uk/scripts/latlong.html)\n",
    "    '''\n",
    "    lon1, lat1 = point1[0], point1[1]\n",
    "    lon2, lat2 = point2[0], point2[1]\n",
    "\n",
    "    dlat = (lat2 - lat1)\n",
    "    dlon = (lon2 - lon1)\n",
    "    numerator = np.sin(dlon) * np.cos(lat2)\n",
    "    denominator = (\n",
    "        np.cos(lat1) * np.sin(lat2) -\n",
    "        (np.sin(lat1) * np.cos(lat2) * np.cos(dlon))\n",
    "    )\n",
    "\n",
    "    theta = np.arctan2(numerator, denominator)\n",
    "    theta_deg = (np.degrees(theta) + 360) % 360\n",
    "    return theta_deg"
   ]
  },
  {
   "cell_type": "code",
   "execution_count": 112,
   "metadata": {},
   "outputs": [],
   "source": [
    "chunk_vel2 = chunk_vel.copy()\n",
    "chunk_vel2['bearing'] = np.nan\n",
    "chunk_vel2['current_loc'] = chunk_vel2.geom.apply(lambda x: (x.x,x.y))\n",
    "chunk_vel2['next_loc'] = chunk_vel2.geom.shift(-1)\n",
    "chunk_vel2 = chunk_vel2[:-1]\n",
    "chunk_vel2.loc[:,'next_loc'] = chunk_vel2.next_loc.apply(lambda x : (x.x,x.y))\n",
    "\n",
    "chunk_vel['bearing'] = chunk_vel2[['current_loc', 'next_loc']].apply(lambda x: calculate_course(x[0], x[1]), axis=1)"
   ]
  },
  {
   "cell_type": "code",
   "execution_count": 114,
   "metadata": {
    "scrolled": true
   },
   "outputs": [
    {
     "data": {
      "text/html": [
       "<div>\n",
       "<style scoped>\n",
       "    .dataframe tbody tr th:only-of-type {\n",
       "        vertical-align: middle;\n",
       "    }\n",
       "\n",
       "    .dataframe tbody tr th {\n",
       "        vertical-align: top;\n",
       "    }\n",
       "\n",
       "    .dataframe thead th {\n",
       "        text-align: right;\n",
       "    }\n",
       "</style>\n",
       "<table border=\"1\" class=\"dataframe\">\n",
       "  <thead>\n",
       "    <tr style=\"text-align: right;\">\n",
       "      <th></th>\n",
       "      <th>mmsi</th>\n",
       "      <th>status</th>\n",
       "      <th>turn</th>\n",
       "      <th>speed</th>\n",
       "      <th>course</th>\n",
       "      <th>heading</th>\n",
       "      <th>lon</th>\n",
       "      <th>lat</th>\n",
       "      <th>ts</th>\n",
       "      <th>geom</th>\n",
       "      <th>velocity</th>\n",
       "      <th>acceleration</th>\n",
       "      <th>bearing</th>\n",
       "    </tr>\n",
       "  </thead>\n",
       "  <tbody>\n",
       "    <tr>\n",
       "      <th>0</th>\n",
       "      <td>538002700</td>\n",
       "      <td>0.0</td>\n",
       "      <td>-4.0</td>\n",
       "      <td>13.9</td>\n",
       "      <td>27.0</td>\n",
       "      <td>23</td>\n",
       "      <td>-6.285498</td>\n",
       "      <td>47.935833</td>\n",
       "      <td>1458794899</td>\n",
       "      <td>POINT (-6.285498 47.935833)</td>\n",
       "      <td>15.533785</td>\n",
       "      <td>0.000508</td>\n",
       "      <td>332.013944</td>\n",
       "    </tr>\n",
       "    <tr>\n",
       "      <th>1</th>\n",
       "      <td>538002700</td>\n",
       "      <td>0.0</td>\n",
       "      <td>18.0</td>\n",
       "      <td>13.8</td>\n",
       "      <td>27.0</td>\n",
       "      <td>22</td>\n",
       "      <td>-6.272498</td>\n",
       "      <td>47.952330</td>\n",
       "      <td>1458795192</td>\n",
       "      <td>POINT (-6.272498000000001 47.95233)</td>\n",
       "      <td>15.533785</td>\n",
       "      <td>0.000508</td>\n",
       "      <td>333.266589</td>\n",
       "    </tr>\n",
       "    <tr>\n",
       "      <th>2</th>\n",
       "      <td>538002700</td>\n",
       "      <td>0.0</td>\n",
       "      <td>-12.0</td>\n",
       "      <td>13.9</td>\n",
       "      <td>28.0</td>\n",
       "      <td>23</td>\n",
       "      <td>-6.271998</td>\n",
       "      <td>47.953000</td>\n",
       "      <td>1458795204</td>\n",
       "      <td>POINT (-6.2719984 47.953)</td>\n",
       "      <td>15.533785</td>\n",
       "      <td>0.000508</td>\n",
       "      <td>335.796200</td>\n",
       "    </tr>\n",
       "    <tr>\n",
       "      <th>3</th>\n",
       "      <td>538002700</td>\n",
       "      <td>0.0</td>\n",
       "      <td>20.0</td>\n",
       "      <td>13.8</td>\n",
       "      <td>28.0</td>\n",
       "      <td>23</td>\n",
       "      <td>-6.270999</td>\n",
       "      <td>47.954500</td>\n",
       "      <td>1458795228</td>\n",
       "      <td>POINT (-6.2709985 47.9545)</td>\n",
       "      <td>15.570336</td>\n",
       "      <td>0.000508</td>\n",
       "      <td>332.460378</td>\n",
       "    </tr>\n",
       "    <tr>\n",
       "      <th>4</th>\n",
       "      <td>538002700</td>\n",
       "      <td>0.0</td>\n",
       "      <td>11.0</td>\n",
       "      <td>13.8</td>\n",
       "      <td>27.0</td>\n",
       "      <td>23</td>\n",
       "      <td>-6.257165</td>\n",
       "      <td>47.972000</td>\n",
       "      <td>1458795537</td>\n",
       "      <td>POINT (-6.257165000000001 47.972)</td>\n",
       "      <td>15.426698</td>\n",
       "      <td>0.000353</td>\n",
       "      <td>352.448189</td>\n",
       "    </tr>\n",
       "    <tr>\n",
       "      <th>5</th>\n",
       "      <td>538002700</td>\n",
       "      <td>0.0</td>\n",
       "      <td>9.0</td>\n",
       "      <td>12.2</td>\n",
       "      <td>27.0</td>\n",
       "      <td>23</td>\n",
       "      <td>-5.817165</td>\n",
       "      <td>48.526333</td>\n",
       "      <td>1458806004</td>\n",
       "      <td>POINT (-5.817165 48.526333)</td>\n",
       "      <td>14.558153</td>\n",
       "      <td>0.000325</td>\n",
       "      <td>352.435184</td>\n",
       "    </tr>\n",
       "    <tr>\n",
       "      <th>6</th>\n",
       "      <td>538002700</td>\n",
       "      <td>0.0</td>\n",
       "      <td>16.0</td>\n",
       "      <td>12.2</td>\n",
       "      <td>26.0</td>\n",
       "      <td>24</td>\n",
       "      <td>-5.816498</td>\n",
       "      <td>48.527170</td>\n",
       "      <td>1458806021</td>\n",
       "      <td>POINT (-5.8164983 48.52717)</td>\n",
       "      <td>13.246509</td>\n",
       "      <td>-0.025901</td>\n",
       "      <td>0.000000</td>\n",
       "    </tr>\n",
       "    <tr>\n",
       "      <th>7</th>\n",
       "      <td>538002700</td>\n",
       "      <td>0.0</td>\n",
       "      <td>22.0</td>\n",
       "      <td>12.2</td>\n",
       "      <td>26.0</td>\n",
       "      <td>25</td>\n",
       "      <td>-5.816498</td>\n",
       "      <td>48.527332</td>\n",
       "      <td>1458806024</td>\n",
       "      <td>POINT (-5.8164983 48.527332)</td>\n",
       "      <td>12.902234</td>\n",
       "      <td>-0.063999</td>\n",
       "      <td>6.435245</td>\n",
       "    </tr>\n",
       "    <tr>\n",
       "      <th>8</th>\n",
       "      <td>538002700</td>\n",
       "      <td>0.0</td>\n",
       "      <td>18.0</td>\n",
       "      <td>11.7</td>\n",
       "      <td>61.0</td>\n",
       "      <td>57</td>\n",
       "      <td>-5.540665</td>\n",
       "      <td>48.807835</td>\n",
       "      <td>1458812292</td>\n",
       "      <td>POINT (-5.540665 48.807835)</td>\n",
       "      <td>14.701001</td>\n",
       "      <td>-0.063876</td>\n",
       "      <td>18.915057</td>\n",
       "    </tr>\n",
       "    <tr>\n",
       "      <th>9</th>\n",
       "      <td>538002700</td>\n",
       "      <td>0.0</td>\n",
       "      <td>-12.0</td>\n",
       "      <td>11.7</td>\n",
       "      <td>60.0</td>\n",
       "      <td>57</td>\n",
       "      <td>-5.540165</td>\n",
       "      <td>48.808000</td>\n",
       "      <td>1458812298</td>\n",
       "      <td>POINT (-5.540165 48.808)</td>\n",
       "      <td>16.303811</td>\n",
       "      <td>0.050888</td>\n",
       "      <td>17.612297</td>\n",
       "    </tr>\n",
       "    <tr>\n",
       "      <th>10</th>\n",
       "      <td>538002700</td>\n",
       "      <td>0.0</td>\n",
       "      <td>-17.0</td>\n",
       "      <td>11.8</td>\n",
       "      <td>59.0</td>\n",
       "      <td>56</td>\n",
       "      <td>-5.516832</td>\n",
       "      <td>48.817000</td>\n",
       "      <td>1458812627</td>\n",
       "      <td>POINT (-5.516832 48.817)</td>\n",
       "      <td>17.245188</td>\n",
       "      <td>0.090094</td>\n",
       "      <td>20.153865</td>\n",
       "    </tr>\n",
       "    <tr>\n",
       "      <th>11</th>\n",
       "      <td>538002700</td>\n",
       "      <td>0.0</td>\n",
       "      <td>11.0</td>\n",
       "      <td>11.7</td>\n",
       "      <td>57.0</td>\n",
       "      <td>56</td>\n",
       "      <td>-5.455665</td>\n",
       "      <td>48.841667</td>\n",
       "      <td>1458813498</td>\n",
       "      <td>POINT (-5.455665 48.841667)</td>\n",
       "      <td>15.400213</td>\n",
       "      <td>0.089293</td>\n",
       "      <td>16.205584</td>\n",
       "    </tr>\n",
       "    <tr>\n",
       "      <th>12</th>\n",
       "      <td>538002700</td>\n",
       "      <td>0.0</td>\n",
       "      <td>-19.0</td>\n",
       "      <td>11.7</td>\n",
       "      <td>56.0</td>\n",
       "      <td>56</td>\n",
       "      <td>-5.455332</td>\n",
       "      <td>48.841835</td>\n",
       "      <td>1458813504</td>\n",
       "      <td>POINT (-5.455332 48.841835)</td>\n",
       "      <td>15.400213</td>\n",
       "      <td>0.000248</td>\n",
       "      <td>16.205584</td>\n",
       "    </tr>\n",
       "  </tbody>\n",
       "</table>\n",
       "</div>"
      ],
      "text/plain": [
       "         mmsi  status  turn  speed  course  heading       lon        lat  \\\n",
       "0   538002700     0.0  -4.0   13.9    27.0       23 -6.285498  47.935833   \n",
       "1   538002700     0.0  18.0   13.8    27.0       22 -6.272498  47.952330   \n",
       "2   538002700     0.0 -12.0   13.9    28.0       23 -6.271998  47.953000   \n",
       "3   538002700     0.0  20.0   13.8    28.0       23 -6.270999  47.954500   \n",
       "4   538002700     0.0  11.0   13.8    27.0       23 -6.257165  47.972000   \n",
       "5   538002700     0.0   9.0   12.2    27.0       23 -5.817165  48.526333   \n",
       "6   538002700     0.0  16.0   12.2    26.0       24 -5.816498  48.527170   \n",
       "7   538002700     0.0  22.0   12.2    26.0       25 -5.816498  48.527332   \n",
       "8   538002700     0.0  18.0   11.7    61.0       57 -5.540665  48.807835   \n",
       "9   538002700     0.0 -12.0   11.7    60.0       57 -5.540165  48.808000   \n",
       "10  538002700     0.0 -17.0   11.8    59.0       56 -5.516832  48.817000   \n",
       "11  538002700     0.0  11.0   11.7    57.0       56 -5.455665  48.841667   \n",
       "12  538002700     0.0 -19.0   11.7    56.0       56 -5.455332  48.841835   \n",
       "\n",
       "            ts                                 geom   velocity  acceleration  \\\n",
       "0   1458794899          POINT (-6.285498 47.935833)  15.533785      0.000508   \n",
       "1   1458795192  POINT (-6.272498000000001 47.95233)  15.533785      0.000508   \n",
       "2   1458795204            POINT (-6.2719984 47.953)  15.533785      0.000508   \n",
       "3   1458795228           POINT (-6.2709985 47.9545)  15.570336      0.000508   \n",
       "4   1458795537    POINT (-6.257165000000001 47.972)  15.426698      0.000353   \n",
       "5   1458806004          POINT (-5.817165 48.526333)  14.558153      0.000325   \n",
       "6   1458806021          POINT (-5.8164983 48.52717)  13.246509     -0.025901   \n",
       "7   1458806024         POINT (-5.8164983 48.527332)  12.902234     -0.063999   \n",
       "8   1458812292          POINT (-5.540665 48.807835)  14.701001     -0.063876   \n",
       "9   1458812298             POINT (-5.540165 48.808)  16.303811      0.050888   \n",
       "10  1458812627             POINT (-5.516832 48.817)  17.245188      0.090094   \n",
       "11  1458813498          POINT (-5.455665 48.841667)  15.400213      0.089293   \n",
       "12  1458813504          POINT (-5.455332 48.841835)  15.400213      0.000248   \n",
       "\n",
       "       bearing  \n",
       "0   332.013944  \n",
       "1   333.266589  \n",
       "2   335.796200  \n",
       "3   332.460378  \n",
       "4   352.448189  \n",
       "5   352.435184  \n",
       "6     0.000000  \n",
       "7     6.435245  \n",
       "8    18.915057  \n",
       "9    17.612297  \n",
       "10   20.153865  \n",
       "11   16.205584  \n",
       "12   16.205584  "
      ]
     },
     "execution_count": 114,
     "metadata": {},
     "output_type": "execute_result"
    }
   ],
   "source": [
    "chunk_vel = chunk_vel.bfill().ffill()\n",
    "chunk_vel"
   ]
  },
  {
   "cell_type": "code",
   "execution_count": 119,
   "metadata": {
    "scrolled": true
   },
   "outputs": [
    {
     "data": {
      "text/plain": [
       "<matplotlib.axes._subplots.AxesSubplot at 0x7f6a3bb07128>"
      ]
     },
     "execution_count": 119,
     "metadata": {},
     "output_type": "execute_result"
    }
   ],
   "source": [
    "# chunk_vel.bearing.plot.hist()\n",
    "# chunk_vel.course.plot.hist()"
   ]
  },
  {
   "cell_type": "markdown",
   "metadata": {},
   "source": [
    "## Old (and maybe useless) Code"
   ]
  },
  {
   "cell_type": "code",
   "execution_count": 58,
   "metadata": {},
   "outputs": [],
   "source": [
    "import math\n",
    "#                   sin(lat2) - sin(lat1)*cos(d)\n",
    "#    Bearing = acos ----------------------------\n",
    "#                      sin(d) * cos(lat1)\n",
    "\n",
    "chunk_vel2 = chunk_vel.copy()\n",
    "\n",
    "chunk_vel2['bearing'] = np.nan\n",
    "\n",
    "chunk_vel2['current_loc'] = chunk_vel2.geom.apply(lambda x: (x.x,x.y))\n",
    "chunk_vel2['next_loc'] = chunk_vel2.geom.shift(-1)\n",
    "chunk_vel2 = chunk_vel2[:-1]\n",
    "chunk_vel2.loc[:,'next_loc'] = chunk_vel2.next_loc.apply(lambda x : (x.x,x.y))\n",
    "\n",
    "myradians = np.arctan2(chunk_vel2.current_loc.apply(lambda x: x[1]).values-chunk_vel2.next_loc.apply(lambda x: x[1]).values, chunk_vel2.current_loc.apply(lambda x: x[0]).values-chunk_vel2.next_loc.apply(lambda x: x[0]).values)\n",
    "chunk_vel2['bearing'] = np.degrees(myradians)"
   ]
  }
 ],
 "metadata": {
  "kernelspec": {
   "display_name": "Python 3 (GIS)",
   "language": "python",
   "name": "gis"
  }
 },
 "nbformat": 4,
 "nbformat_minor": 2
}
