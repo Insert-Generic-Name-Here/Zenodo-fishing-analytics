{
 "cells": [
  {
   "cell_type": "code",
   "execution_count": 2,
   "metadata": {
    "ExecuteTime": {
     "end_time": "2018-12-09T13:11:48.650357Z",
     "start_time": "2018-12-09T13:11:47.732201Z"
    }
   },
   "outputs": [
    {
     "name": "stderr",
     "output_type": "stream",
     "text": [
      "/home/theo/anaconda3/envs/gsa/lib/python3.6/importlib/_bootstrap.py:219: RuntimeWarning: numpy.dtype size changed, may indicate binary incompatibility. Expected 96, got 88\n",
      "  return f(*args, **kwds)\n",
      "/home/theo/anaconda3/envs/gsa/lib/python3.6/importlib/_bootstrap.py:219: RuntimeWarning: numpy.dtype size changed, may indicate binary incompatibility. Expected 96, got 88\n",
      "  return f(*args, **kwds)\n",
      "/home/theo/anaconda3/envs/gsa/lib/python3.6/importlib/_bootstrap.py:219: RuntimeWarning: numpy.dtype size changed, may indicate binary incompatibility. Expected 96, got 88\n",
      "  return f(*args, **kwds)\n"
     ]
    }
   ],
   "source": [
    "import pandas as pd\n",
    "import numpy as np\n",
    "from haversine import haversine\n",
    "import networkx as nx\n",
    "import itertools\n",
    "import geopandas as gpd\n",
    "from shapely.geometry import Point\n",
    "import contextily as ctx\n",
    "import psycopg2\n",
    "\n",
    "df = pd.read_csv('4h_timeFrame_not_at_3_fing_am.csv')"
   ]
  },
  {
   "cell_type": "code",
   "execution_count": 3,
   "metadata": {
    "ExecuteTime": {
     "end_time": "2018-12-09T13:11:49.511193Z",
     "start_time": "2018-12-09T13:11:48.942619Z"
    }
   },
   "outputs": [],
   "source": [
    "\n",
    "# properties.read(os.path.join('.','sql_server.ini'))\n",
    "# properties = properties['SERVER']\n",
    "\n",
    "# host    = properties['host']\n",
    "# db_name = properties['db_name']\n",
    "# uname   = properties['uname']\n",
    "# pw      = properties['pw']\n",
    "# port    = properties['port']\n",
    "\n",
    "host    = '195.251.230.8'\n",
    "db_name = 'doi105281zenodo1167595'\n",
    "uname   = 'students'\n",
    "pw      = 'infol@bdbl@bs2017'\n",
    "port    = '46132'\n",
    "\n",
    "# ts>1456802710 AND ts<1456975510 \n",
    "\n",
    "# traj_sql = 'SELECT * FROM ais_data.dynamic_ships WHERE  mmsi=226179000'\n",
    "traj_sql = 'SELECT * FROM ais_data.dynamic_ships WHERE  ts>1456702710 AND ts<1456975510 '\n",
    "ports_sql = 'SELECT * FROM ports.ports_of_brittany'\n",
    "\n",
    "con = psycopg2.connect(database=db_name, user=uname, password=pw, host=host, port = port)\n",
    "# traj = gpd.GeoDataFrame.from_postgis(traj_sql, con, geom_col='geom' )\n",
    "ports = gpd.GeoDataFrame.from_postgis(ports_sql, con, geom_col='geom' )\n",
    "\n",
    "con.close()\n",
    "\n",
    "\n",
    "ports.geom = ports.geom.apply(lambda x: x[0])"
   ]
  },
  {
   "cell_type": "code",
   "execution_count": 4,
   "metadata": {
    "ExecuteTime": {
     "end_time": "2018-12-09T13:11:51.861081Z",
     "start_time": "2018-12-09T13:11:51.843232Z"
    }
   },
   "outputs": [
    {
     "data": {
      "text/html": [
       "<div>\n",
       "<style scoped>\n",
       "    .dataframe tbody tr th:only-of-type {\n",
       "        vertical-align: middle;\n",
       "    }\n",
       "\n",
       "    .dataframe tbody tr th {\n",
       "        vertical-align: top;\n",
       "    }\n",
       "\n",
       "    .dataframe thead th {\n",
       "        text-align: right;\n",
       "    }\n",
       "</style>\n",
       "<table border=\"1\" class=\"dataframe\">\n",
       "  <thead>\n",
       "    <tr style=\"text-align: right;\">\n",
       "      <th></th>\n",
       "      <th>id</th>\n",
       "      <th>mmsi</th>\n",
       "      <th>status</th>\n",
       "      <th>turn</th>\n",
       "      <th>speed</th>\n",
       "      <th>course</th>\n",
       "      <th>heading</th>\n",
       "      <th>lon</th>\n",
       "      <th>lat</th>\n",
       "      <th>ts</th>\n",
       "      <th>geom</th>\n",
       "      <th>velocity</th>\n",
       "      <th>datetime</th>\n",
       "    </tr>\n",
       "  </thead>\n",
       "  <tbody>\n",
       "    <tr>\n",
       "      <th>0</th>\n",
       "      <td>1.884809e+07</td>\n",
       "      <td>227408710.0</td>\n",
       "      <td>0.0</td>\n",
       "      <td>0.0</td>\n",
       "      <td>0.000000</td>\n",
       "      <td>258.100000</td>\n",
       "      <td>511.000000</td>\n",
       "      <td>-4.490398</td>\n",
       "      <td>48.379186</td>\n",
       "      <td>1.456818e+09</td>\n",
       "      <td>POINT (-4.4903984 48.3791865)</td>\n",
       "      <td>0.013741</td>\n",
       "      <td>2016-03-01 07:36:00</td>\n",
       "    </tr>\n",
       "    <tr>\n",
       "      <th>1</th>\n",
       "      <td>1.758572e+07</td>\n",
       "      <td>228853000.0</td>\n",
       "      <td>7.0</td>\n",
       "      <td>-127.0</td>\n",
       "      <td>6.169685</td>\n",
       "      <td>200.775984</td>\n",
       "      <td>511.000000</td>\n",
       "      <td>-3.891684</td>\n",
       "      <td>47.732670</td>\n",
       "      <td>1.456818e+09</td>\n",
       "      <td>POINT (-3.891684385826772 47.73266998031496)</td>\n",
       "      <td>0.153449</td>\n",
       "      <td>2016-03-01 07:36:00</td>\n",
       "    </tr>\n",
       "    <tr>\n",
       "      <th>2</th>\n",
       "      <td>1.884808e+07</td>\n",
       "      <td>227686540.0</td>\n",
       "      <td>0.0</td>\n",
       "      <td>0.0</td>\n",
       "      <td>6.400000</td>\n",
       "      <td>199.300000</td>\n",
       "      <td>511.000000</td>\n",
       "      <td>-4.464395</td>\n",
       "      <td>48.327780</td>\n",
       "      <td>1.456818e+09</td>\n",
       "      <td>POINT (-4.464395 48.32778)</td>\n",
       "      <td>6.911790</td>\n",
       "      <td>2016-03-01 07:36:00</td>\n",
       "    </tr>\n",
       "    <tr>\n",
       "      <th>3</th>\n",
       "      <td>1.751793e+07</td>\n",
       "      <td>226216000.0</td>\n",
       "      <td>7.0</td>\n",
       "      <td>0.0</td>\n",
       "      <td>0.000000</td>\n",
       "      <td>196.639167</td>\n",
       "      <td>302.466667</td>\n",
       "      <td>-4.175265</td>\n",
       "      <td>47.835712</td>\n",
       "      <td>1.456818e+09</td>\n",
       "      <td>POINT (-4.175265398333333 47.83571188333333)</td>\n",
       "      <td>0.001396</td>\n",
       "      <td>2016-03-01 07:36:00</td>\n",
       "    </tr>\n",
       "    <tr>\n",
       "      <th>4</th>\n",
       "      <td>1.751790e+07</td>\n",
       "      <td>227270000.0</td>\n",
       "      <td>5.0</td>\n",
       "      <td>-127.0</td>\n",
       "      <td>0.000000</td>\n",
       "      <td>0.000000</td>\n",
       "      <td>511.000000</td>\n",
       "      <td>-4.478274</td>\n",
       "      <td>48.383153</td>\n",
       "      <td>1.456818e+09</td>\n",
       "      <td>POINT (-4.478274466666667 48.38315333333333)</td>\n",
       "      <td>0.003177</td>\n",
       "      <td>2016-03-01 07:36:00</td>\n",
       "    </tr>\n",
       "  </tbody>\n",
       "</table>\n",
       "</div>"
      ],
      "text/plain": [
       "             id         mmsi  status   turn     speed      course     heading  \\\n",
       "0  1.884809e+07  227408710.0     0.0    0.0  0.000000  258.100000  511.000000   \n",
       "1  1.758572e+07  228853000.0     7.0 -127.0  6.169685  200.775984  511.000000   \n",
       "2  1.884808e+07  227686540.0     0.0    0.0  6.400000  199.300000  511.000000   \n",
       "3  1.751793e+07  226216000.0     7.0    0.0  0.000000  196.639167  302.466667   \n",
       "4  1.751790e+07  227270000.0     5.0 -127.0  0.000000    0.000000  511.000000   \n",
       "\n",
       "        lon        lat            ts  \\\n",
       "0 -4.490398  48.379186  1.456818e+09   \n",
       "1 -3.891684  47.732670  1.456818e+09   \n",
       "2 -4.464395  48.327780  1.456818e+09   \n",
       "3 -4.175265  47.835712  1.456818e+09   \n",
       "4 -4.478274  48.383153  1.456818e+09   \n",
       "\n",
       "                                           geom  velocity             datetime  \n",
       "0                 POINT (-4.4903984 48.3791865)  0.013741  2016-03-01 07:36:00  \n",
       "1  POINT (-3.891684385826772 47.73266998031496)  0.153449  2016-03-01 07:36:00  \n",
       "2                    POINT (-4.464395 48.32778)  6.911790  2016-03-01 07:36:00  \n",
       "3  POINT (-4.175265398333333 47.83571188333333)  0.001396  2016-03-01 07:36:00  \n",
       "4  POINT (-4.478274466666667 48.38315333333333)  0.003177  2016-03-01 07:36:00  "
      ]
     },
     "execution_count": 4,
     "metadata": {},
     "output_type": "execute_result"
    }
   ],
   "source": [
    "df.head()"
   ]
  },
  {
   "cell_type": "code",
   "execution_count": 5,
   "metadata": {
    "ExecuteTime": {
     "end_time": "2018-12-09T13:11:52.978418Z",
     "start_time": "2018-12-09T13:11:52.169360Z"
    }
   },
   "outputs": [],
   "source": [
    "df.geom = df[['lon', 'lat']].apply(lambda x: Point(x[0],x[1]), axis=1)"
   ]
  },
  {
   "cell_type": "code",
   "execution_count": 6,
   "metadata": {
    "ExecuteTime": {
     "end_time": "2018-12-09T13:11:55.027308Z",
     "start_time": "2018-12-09T13:11:55.019225Z"
    }
   },
   "outputs": [],
   "source": [
    "df = gpd.GeoDataFrame(df, geometry='geom')"
   ]
  },
  {
   "cell_type": "code",
   "execution_count": 7,
   "metadata": {
    "ExecuteTime": {
     "end_time": "2018-12-09T13:11:55.647217Z",
     "start_time": "2018-12-09T13:11:55.643355Z"
    }
   },
   "outputs": [],
   "source": [
    "def in_radius(df, diam=1500):\n",
    "    res = []\n",
    "    for ind_i, ind_j, val_i, val_j in nparray_combinations(df):\n",
    "        dist = haversine(val_i, val_j)*1000\n",
    "        if (dist<diam):\n",
    "            res.append((ind_i,ind_j))   \n",
    "    return res\n",
    "            "
   ]
  },
  {
   "cell_type": "code",
   "execution_count": 8,
   "metadata": {
    "ExecuteTime": {
     "end_time": "2018-12-09T13:11:55.935335Z",
     "start_time": "2018-12-09T13:11:55.932418Z"
    }
   },
   "outputs": [],
   "source": [
    "def connected_edges(data):\n",
    "    G = nx.Graph()\n",
    "    G.add_edges_from(data)\n",
    "    return [sorted(list(cluster)) for cluster in nx.connected_components(G)]"
   ]
  },
  {
   "cell_type": "code",
   "execution_count": 9,
   "metadata": {
    "ExecuteTime": {
     "end_time": "2018-12-09T13:11:56.170906Z",
     "start_time": "2018-12-09T13:11:56.166309Z"
    }
   },
   "outputs": [],
   "source": [
    "def nparray_combinations(arr):\n",
    "    for i in range(arr.shape[0]):\n",
    "        for j in range(i+1, arr.shape[0]):\n",
    "            yield i, j, arr[i,:], arr[j,:]"
   ]
  },
  {
   "cell_type": "code",
   "execution_count": 10,
   "metadata": {
    "ExecuteTime": {
     "end_time": "2018-12-09T13:11:56.408554Z",
     "start_time": "2018-12-09T13:11:56.402527Z"
    }
   },
   "outputs": [],
   "source": [
    "def eval_candidate(candidate, pairs):\n",
    "    for pair in itertools.combinations(candidate,2):\n",
    "        if pair not in pairs:\n",
    "            return False\n",
    "    return True"
   ]
  },
  {
   "cell_type": "code",
   "execution_count": 11,
   "metadata": {
    "ExecuteTime": {
     "end_time": "2018-12-09T13:11:56.836748Z",
     "start_time": "2018-12-09T13:11:56.831950Z"
    },
    "cell_style": "split"
   },
   "outputs": [],
   "source": [
    "def circle_cluster(timeframe, min_cardinality = 2, diam=500):\n",
    "    pairs = in_radius(timeframe[['lon', 'lat']].values, diam)\n",
    "    full_sets = connected_edges(pairs)\n",
    "    clusters = []\n",
    "    for individual_sets in full_sets:\n",
    "        # MAYBE FROM BIG TO SMALL INSTEAD OF SMALL TO BIG\n",
    "        for j in range(min_cardinality,len(individual_sets)+1):\n",
    "            for candidate in itertools.combinations(individual_sets,j):\n",
    "                 if eval_candidate(candidate, pairs):\n",
    "                        clusters.append(translate(candidate, timeframe))\n",
    "#     print('----')\n",
    "#     print(clusters)\n",
    "#     print('----')\n",
    "    return clusters"
   ]
  },
  {
   "cell_type": "markdown",
   "metadata": {
    "cell_style": "split"
   },
   "source": [
    "For each timeframe:\n",
    "    get pairs of points with distance < diam\n",
    "    model them as a graph and get all the connected edges\n",
    "    for each group of edges:\n",
    "        get all the combinations with lenght r (min_cardinality<r<len(group))[we need all possible combinations to ensure we find all possible groups]\n",
    "        for each combination:\n",
    "            get all combinations with length 2 (pairs)\n",
    "            if all pairs are within distance <diam>, add it to the clusters\n",
    "    if timeframe is 1st:\n",
    "        add clusters to flocks with duration 1 and start_time=finish_time=timestamp\n",
    "    else:\n",
    "        for each cluster in clusters:\n",
    "            if cluster is in previous flock instance add 1 to duration and change endtime\n",
    "                if duration > min_samples:\n",
    "                    if cluster in flocks change it with new instance\n",
    "                    else add it to flocks\n",
    "            else:\n",
    "                add cluster to flocks with duration = 1 and start_time=finish_time=timestamp"
   ]
  },
  {
   "cell_type": "code",
   "execution_count": 12,
   "metadata": {
    "ExecuteTime": {
     "end_time": "2018-12-09T13:11:57.309486Z",
     "start_time": "2018-12-09T13:11:57.302789Z"
    }
   },
   "outputs": [],
   "source": [
    "def translate(candidates, sdf):\n",
    "    return tuple([sdf.iloc[candidate].mmsi for candidate in candidates])"
   ]
  },
  {
   "cell_type": "code",
   "execution_count": 13,
   "metadata": {
    "ExecuteTime": {
     "end_time": "2018-12-09T13:11:57.804617Z",
     "start_time": "2018-12-09T13:11:57.795121Z"
    }
   },
   "outputs": [],
   "source": [
    "def ttt(history, present, flocks, ts, min_samples=3):\n",
    "    fixed = []\n",
    "    for cluster in present:\n",
    "        try:\n",
    "            index = [clst[0] for clst in history].index(cluster)\n",
    "            flock = (cluster, history[index][1]+1, history[index][2], ts)\n",
    "            fixed.append(flock)\n",
    "            if flock[1] >= min_samples:\n",
    "                try: \n",
    "                    flock_index = [clst[0] for clst in flocks].index(cluster)\n",
    "                    flocks.pop(flock_index)\n",
    "                except:\n",
    "                    pass\n",
    "                flocks.append(flock)\n",
    "        except ValueError:\n",
    "            fixed.append((cluster, 1,ts,ts))\n",
    "    return fixed, flocks"
   ]
  },
  {
   "cell_type": "code",
   "execution_count": 27,
   "metadata": {
    "ExecuteTime": {
     "end_time": "2018-12-09T13:15:16.597407Z",
     "start_time": "2018-12-09T13:15:09.071176Z"
    }
   },
   "outputs": [
    {
     "name": "stdout",
     "output_type": "stream",
     "text": [
      "241  /  241\r"
     ]
    }
   ],
   "source": [
    "min_samples = 3\n",
    "min_cardinality = 2\n",
    "diam = 2000\n",
    "\n",
    "flocks = []\n",
    "tdf = df.loc[df.velocity > 2]\n",
    "for ind, (ts, sdf) in enumerate(tdf.groupby('datetime')):\n",
    "    print (ind+1,' / ', df.datetime.nunique(), end='\\r')\n",
    "    if ind == 0:\n",
    "        hist = circle_cluster(sdf, min_cardinality, diam)\n",
    "        hist = [(val, 1,ts,ts) for val in hist]\n",
    "        continue\n",
    "    present = circle_cluster(sdf)\n",
    "    hist, flocks = ttt(hist, present, flocks, ts, min_samples)"
   ]
  },
  {
   "cell_type": "code",
   "execution_count": 30,
   "metadata": {
    "ExecuteTime": {
     "end_time": "2018-12-09T13:15:49.750559Z",
     "start_time": "2018-12-09T13:15:49.735052Z"
    }
   },
   "outputs": [
    {
     "name": "stdout",
     "output_type": "stream",
     "text": [
      "0 4\n",
      "1 3\n",
      "2 3\n",
      "3 3\n",
      "4 5\n",
      "5 3\n",
      "6 3\n",
      "7 3\n",
      "8 3\n",
      "9 3\n",
      "10 3\n",
      "11 4\n",
      "12 4\n",
      "13 4\n",
      "14 4\n",
      "15 3\n",
      "16 3\n",
      "17 3\n",
      "18 3\n",
      "19 3\n",
      "20 3\n",
      "21 4\n",
      "22 3\n",
      "23 3\n",
      "24 3\n",
      "25 3\n",
      "26 3\n",
      "27 3\n",
      "28 5\n",
      "29 3\n",
      "30 3\n",
      "31 3\n",
      "32 3\n",
      "33 3\n",
      "34 3\n",
      "35 3\n",
      "36 6\n",
      "37 4\n",
      "38 3\n",
      "39 4\n",
      "40 5\n",
      "41 3\n",
      "42 3\n",
      "43 3\n",
      "44 3\n",
      "45 4\n",
      "46 4\n",
      "47 5\n",
      "48 3\n",
      "49 3\n",
      "50 3\n",
      "51 3\n",
      "52 5\n",
      "53 3\n",
      "54 4\n",
      "55 4\n",
      "56 3\n",
      "57 5\n",
      "58 3\n",
      "59 3\n",
      "60 4\n",
      "61 3\n",
      "62 3\n",
      "63 3\n",
      "64 3\n",
      "65 3\n",
      "66 4\n",
      "67 4\n",
      "68 3\n",
      "69 3\n",
      "70 3\n",
      "71 5\n",
      "72 3\n",
      "73 6\n",
      "74 4\n",
      "75 6\n",
      "76 3\n",
      "77 3\n",
      "78 3\n",
      "79 3\n",
      "80 3\n",
      "81 3\n",
      "82 3\n",
      "83 3\n",
      "84 3\n",
      "85 3\n",
      "86 3\n",
      "87 4\n",
      "88 3\n",
      "89 3\n",
      "90 3\n",
      "91 3\n",
      "92 3\n",
      "93 3\n",
      "94 4\n",
      "95 3\n",
      "96 3\n",
      "97 3\n",
      "98 4\n",
      "99 4\n",
      "100 3\n",
      "101 6\n",
      "102 3\n",
      "103 3\n",
      "104 3\n",
      "105 3\n",
      "106 3\n",
      "107 3\n",
      "108 3\n",
      "109 3\n",
      "110 3\n",
      "111 5\n",
      "112 4\n",
      "113 4\n",
      "114 3\n",
      "115 5\n",
      "116 6\n",
      "117 3\n",
      "118 3\n",
      "119 3\n",
      "120 3\n",
      "121 3\n",
      "122 3\n",
      "123 3\n",
      "124 3\n",
      "125 3\n",
      "126 6\n",
      "127 5\n",
      "128 6\n",
      "129 3\n",
      "130 3\n",
      "131 6\n",
      "132 3\n",
      "133 3\n",
      "134 3\n",
      "135 3\n",
      "136 3\n",
      "137 3\n",
      "138 3\n",
      "139 5\n",
      "140 3\n",
      "141 5\n",
      "142 7\n",
      "143 3\n",
      "144 6\n",
      "145 4\n",
      "146 4\n",
      "147 3\n",
      "148 4\n",
      "149 3\n",
      "150 3\n",
      "151 5\n",
      "152 4\n",
      "153 3\n",
      "154 3\n",
      "155 5\n",
      "156 3\n",
      "157 4\n",
      "158 3\n",
      "159 7\n",
      "160 3\n",
      "161 3\n",
      "162 4\n",
      "163 7\n",
      "164 4\n",
      "165 4\n",
      "166 3\n",
      "167 3\n",
      "168 9\n",
      "169 4\n",
      "170 3\n",
      "171 3\n",
      "172 3\n",
      "173 3\n",
      "174 5\n",
      "175 3\n",
      "176 3\n",
      "177 3\n",
      "178 3\n",
      "179 7\n",
      "180 3\n",
      "181 3\n",
      "182 3\n",
      "183 3\n",
      "184 5\n",
      "185 6\n",
      "186 3\n",
      "187 4\n",
      "188 4\n",
      "189 3\n",
      "190 5\n",
      "191 3\n",
      "192 3\n",
      "193 3\n",
      "194 3\n",
      "195 3\n",
      "196 3\n",
      "197 3\n",
      "198 3\n",
      "199 3\n",
      "200 3\n",
      "201 3\n",
      "202 5\n",
      "203 3\n",
      "204 4\n",
      "205 3\n",
      "206 3\n",
      "207 3\n",
      "208 5\n",
      "209 4\n",
      "210 3\n",
      "211 3\n",
      "212 3\n",
      "213 4\n",
      "214 4\n",
      "215 3\n",
      "216 3\n",
      "217 3\n",
      "218 3\n",
      "219 4\n",
      "220 3\n",
      "221 4\n",
      "222 4\n",
      "223 3\n",
      "224 3\n",
      "225 3\n",
      "226 3\n",
      "227 3\n",
      "228 3\n",
      "229 5\n",
      "230 3\n",
      "231 3\n",
      "232 4\n",
      "233 4\n",
      "234 3\n"
     ]
    },
    {
     "data": {
      "text/plain": [
       "[None,\n",
       " None,\n",
       " None,\n",
       " None,\n",
       " None,\n",
       " None,\n",
       " None,\n",
       " None,\n",
       " None,\n",
       " None,\n",
       " None,\n",
       " None,\n",
       " None,\n",
       " None,\n",
       " None,\n",
       " None,\n",
       " None,\n",
       " None,\n",
       " None,\n",
       " None,\n",
       " None,\n",
       " None,\n",
       " None,\n",
       " None,\n",
       " None,\n",
       " None,\n",
       " None,\n",
       " None,\n",
       " None,\n",
       " None,\n",
       " None,\n",
       " None,\n",
       " None,\n",
       " None,\n",
       " None,\n",
       " None,\n",
       " None,\n",
       " None,\n",
       " None,\n",
       " None,\n",
       " None,\n",
       " None,\n",
       " None,\n",
       " None,\n",
       " None,\n",
       " None,\n",
       " None,\n",
       " None,\n",
       " None,\n",
       " None,\n",
       " None,\n",
       " None,\n",
       " None,\n",
       " None,\n",
       " None,\n",
       " None,\n",
       " None,\n",
       " None,\n",
       " None,\n",
       " None,\n",
       " None,\n",
       " None,\n",
       " None,\n",
       " None,\n",
       " None,\n",
       " None,\n",
       " None,\n",
       " None,\n",
       " None,\n",
       " None,\n",
       " None,\n",
       " None,\n",
       " None,\n",
       " None,\n",
       " None,\n",
       " None,\n",
       " None,\n",
       " None,\n",
       " None,\n",
       " None,\n",
       " None,\n",
       " None,\n",
       " None,\n",
       " None,\n",
       " None,\n",
       " None,\n",
       " None,\n",
       " None,\n",
       " None,\n",
       " None,\n",
       " None,\n",
       " None,\n",
       " None,\n",
       " None,\n",
       " None,\n",
       " None,\n",
       " None,\n",
       " None,\n",
       " None,\n",
       " None,\n",
       " None,\n",
       " None,\n",
       " None,\n",
       " None,\n",
       " None,\n",
       " None,\n",
       " None,\n",
       " None,\n",
       " None,\n",
       " None,\n",
       " None,\n",
       " None,\n",
       " None,\n",
       " None,\n",
       " None,\n",
       " None,\n",
       " None,\n",
       " None,\n",
       " None,\n",
       " None,\n",
       " None,\n",
       " None,\n",
       " None,\n",
       " None,\n",
       " None,\n",
       " None,\n",
       " None,\n",
       " None,\n",
       " None,\n",
       " None,\n",
       " None,\n",
       " None,\n",
       " None,\n",
       " None,\n",
       " None,\n",
       " None,\n",
       " None,\n",
       " None,\n",
       " None,\n",
       " None,\n",
       " None,\n",
       " None,\n",
       " None,\n",
       " None,\n",
       " None,\n",
       " None,\n",
       " None,\n",
       " None,\n",
       " None,\n",
       " None,\n",
       " None,\n",
       " None,\n",
       " None,\n",
       " None,\n",
       " None,\n",
       " None,\n",
       " None,\n",
       " None,\n",
       " None,\n",
       " None,\n",
       " None,\n",
       " None,\n",
       " None,\n",
       " None,\n",
       " None,\n",
       " None,\n",
       " None,\n",
       " None,\n",
       " None,\n",
       " None,\n",
       " None,\n",
       " None,\n",
       " None,\n",
       " None,\n",
       " None,\n",
       " None,\n",
       " None,\n",
       " None,\n",
       " None,\n",
       " None,\n",
       " None,\n",
       " None,\n",
       " None,\n",
       " None,\n",
       " None,\n",
       " None,\n",
       " None,\n",
       " None,\n",
       " None,\n",
       " None,\n",
       " None,\n",
       " None,\n",
       " None,\n",
       " None,\n",
       " None,\n",
       " None,\n",
       " None,\n",
       " None,\n",
       " None,\n",
       " None,\n",
       " None,\n",
       " None,\n",
       " None,\n",
       " None,\n",
       " None,\n",
       " None,\n",
       " None,\n",
       " None,\n",
       " None,\n",
       " None,\n",
       " None,\n",
       " None,\n",
       " None,\n",
       " None,\n",
       " None,\n",
       " None,\n",
       " None,\n",
       " None,\n",
       " None,\n",
       " None,\n",
       " None,\n",
       " None,\n",
       " None,\n",
       " None,\n",
       " None,\n",
       " None,\n",
       " None,\n",
       " None,\n",
       " None,\n",
       " None,\n",
       " None,\n",
       " None,\n",
       " None,\n",
       " None,\n",
       " None]"
      ]
     },
     "execution_count": 30,
     "metadata": {},
     "output_type": "execute_result"
    }
   ],
   "source": [
    "[print (i, val[1]) for i, val in enumerate(flocks)]"
   ]
  },
  {
   "cell_type": "code",
   "execution_count": 29,
   "metadata": {
    "ExecuteTime": {
     "end_time": "2018-12-09T13:15:19.005607Z",
     "start_time": "2018-12-09T13:15:18.934936Z"
    }
   },
   "outputs": [
    {
     "ename": "TypeError",
     "evalue": "strptime() argument 1 must be str, not Timestamp",
     "output_type": "error",
     "traceback": [
      "\u001b[0;31m---------------------------------------------------------------------------\u001b[0m",
      "\u001b[0;31mTypeError\u001b[0m                                 Traceback (most recent call last)",
      "\u001b[0;32m<ipython-input-29-499f848ea2b6>\u001b[0m in \u001b[0;36m<module>\u001b[0;34m\u001b[0m\n\u001b[1;32m      1\u001b[0m \u001b[0;32mfrom\u001b[0m \u001b[0mdatetime\u001b[0m \u001b[0;32mimport\u001b[0m \u001b[0mdatetime\u001b[0m\u001b[0;34m\u001b[0m\u001b[0m\n\u001b[1;32m      2\u001b[0m \u001b[0;34m\u001b[0m\u001b[0m\n\u001b[0;32m----> 3\u001b[0;31m \u001b[0mdf\u001b[0m\u001b[0;34m.\u001b[0m\u001b[0mdatetime\u001b[0m \u001b[0;34m=\u001b[0m \u001b[0mdf\u001b[0m\u001b[0;34m.\u001b[0m\u001b[0mdatetime\u001b[0m\u001b[0;34m.\u001b[0m\u001b[0mapply\u001b[0m\u001b[0;34m(\u001b[0m\u001b[0;32mlambda\u001b[0m \u001b[0mx\u001b[0m\u001b[0;34m:\u001b[0m \u001b[0mdatetime\u001b[0m\u001b[0;34m.\u001b[0m\u001b[0mstrptime\u001b[0m\u001b[0;34m(\u001b[0m\u001b[0mx\u001b[0m\u001b[0;34m,\u001b[0m \u001b[0;34m'%Y-%m-%d %H:%M:%S'\u001b[0m\u001b[0;34m)\u001b[0m\u001b[0;34m)\u001b[0m\u001b[0;34m\u001b[0m\u001b[0m\n\u001b[0m",
      "\u001b[0;32m~/anaconda3/envs/gsa/lib/python3.6/site-packages/pandas/core/series.py\u001b[0m in \u001b[0;36mapply\u001b[0;34m(self, func, convert_dtype, args, **kwds)\u001b[0m\n\u001b[1;32m   3192\u001b[0m             \u001b[0;32melse\u001b[0m\u001b[0;34m:\u001b[0m\u001b[0;34m\u001b[0m\u001b[0m\n\u001b[1;32m   3193\u001b[0m                 \u001b[0mvalues\u001b[0m \u001b[0;34m=\u001b[0m \u001b[0mself\u001b[0m\u001b[0;34m.\u001b[0m\u001b[0mastype\u001b[0m\u001b[0;34m(\u001b[0m\u001b[0mobject\u001b[0m\u001b[0;34m)\u001b[0m\u001b[0;34m.\u001b[0m\u001b[0mvalues\u001b[0m\u001b[0;34m\u001b[0m\u001b[0m\n\u001b[0;32m-> 3194\u001b[0;31m                 \u001b[0mmapped\u001b[0m \u001b[0;34m=\u001b[0m \u001b[0mlib\u001b[0m\u001b[0;34m.\u001b[0m\u001b[0mmap_infer\u001b[0m\u001b[0;34m(\u001b[0m\u001b[0mvalues\u001b[0m\u001b[0;34m,\u001b[0m \u001b[0mf\u001b[0m\u001b[0;34m,\u001b[0m \u001b[0mconvert\u001b[0m\u001b[0;34m=\u001b[0m\u001b[0mconvert_dtype\u001b[0m\u001b[0;34m)\u001b[0m\u001b[0;34m\u001b[0m\u001b[0m\n\u001b[0m\u001b[1;32m   3195\u001b[0m \u001b[0;34m\u001b[0m\u001b[0m\n\u001b[1;32m   3196\u001b[0m         \u001b[0;32mif\u001b[0m \u001b[0mlen\u001b[0m\u001b[0;34m(\u001b[0m\u001b[0mmapped\u001b[0m\u001b[0;34m)\u001b[0m \u001b[0;32mand\u001b[0m \u001b[0misinstance\u001b[0m\u001b[0;34m(\u001b[0m\u001b[0mmapped\u001b[0m\u001b[0;34m[\u001b[0m\u001b[0;36m0\u001b[0m\u001b[0;34m]\u001b[0m\u001b[0;34m,\u001b[0m \u001b[0mSeries\u001b[0m\u001b[0;34m)\u001b[0m\u001b[0;34m:\u001b[0m\u001b[0;34m\u001b[0m\u001b[0m\n",
      "\u001b[0;32mpandas/_libs/src/inference.pyx\u001b[0m in \u001b[0;36mpandas._libs.lib.map_infer\u001b[0;34m()\u001b[0m\n",
      "\u001b[0;32m<ipython-input-29-499f848ea2b6>\u001b[0m in \u001b[0;36m<lambda>\u001b[0;34m(x)\u001b[0m\n\u001b[1;32m      1\u001b[0m \u001b[0;32mfrom\u001b[0m \u001b[0mdatetime\u001b[0m \u001b[0;32mimport\u001b[0m \u001b[0mdatetime\u001b[0m\u001b[0;34m\u001b[0m\u001b[0m\n\u001b[1;32m      2\u001b[0m \u001b[0;34m\u001b[0m\u001b[0m\n\u001b[0;32m----> 3\u001b[0;31m \u001b[0mdf\u001b[0m\u001b[0;34m.\u001b[0m\u001b[0mdatetime\u001b[0m \u001b[0;34m=\u001b[0m \u001b[0mdf\u001b[0m\u001b[0;34m.\u001b[0m\u001b[0mdatetime\u001b[0m\u001b[0;34m.\u001b[0m\u001b[0mapply\u001b[0m\u001b[0;34m(\u001b[0m\u001b[0;32mlambda\u001b[0m \u001b[0mx\u001b[0m\u001b[0;34m:\u001b[0m \u001b[0mdatetime\u001b[0m\u001b[0;34m.\u001b[0m\u001b[0mstrptime\u001b[0m\u001b[0;34m(\u001b[0m\u001b[0mx\u001b[0m\u001b[0;34m,\u001b[0m \u001b[0;34m'%Y-%m-%d %H:%M:%S'\u001b[0m\u001b[0;34m)\u001b[0m\u001b[0;34m)\u001b[0m\u001b[0;34m\u001b[0m\u001b[0m\n\u001b[0m",
      "\u001b[0;31mTypeError\u001b[0m: strptime() argument 1 must be str, not Timestamp"
     ]
    }
   ],
   "source": [
    "from datetime import datetime\n",
    "\n",
    "df.datetime = df.datetime.apply(lambda x: datetime.strptime(x, '%Y-%m-%d %H:%M:%S'))"
   ]
  },
  {
   "cell_type": "code",
   "execution_count": 41,
   "metadata": {
    "ExecuteTime": {
     "end_time": "2018-12-09T13:26:15.003714Z",
     "start_time": "2018-12-09T13:26:14.998847Z"
    }
   },
   "outputs": [],
   "source": [
    "def map_plot(df1, df2 = None, color=['r', 'g'], figsize = (15,15)):\n",
    "    '''\n",
    "    Plot one or two dataframes on top of eachother.\n",
    "\n",
    "    TODO - Add support for N Dataframes and more parameters, other that figsize.\n",
    "    '''\n",
    "    df1.crs = {'init': 'epsg:4326'}\n",
    "    ax = df1.to_crs(epsg=3857).plot(figsize=figsize,c=color[0], column='datetime')\n",
    "    if df2 is not None:\n",
    "        df2.crs = {'init': 'epsg:4326'}\n",
    "        df2.to_crs(epsg=3857).plot(figsize=figsize,c=color[1], ax=ax)\n",
    "    ctx.add_basemap(ax)"
   ]
  },
  {
   "cell_type": "code",
   "execution_count": 45,
   "metadata": {
    "ExecuteTime": {
     "end_time": "2018-12-09T13:27:09.408709Z",
     "start_time": "2018-12-09T13:27:08.743264Z"
    }
   },
   "outputs": [
    {
     "ename": "HTTPError",
     "evalue": "Tile URL resulted in a 404 error. Double-check your tile url:\nhttp://tile.stamen.com/terrain/18/127844/90789.png",
     "output_type": "error",
     "traceback": [
      "\u001b[0;31m---------------------------------------------------------------------------\u001b[0m",
      "\u001b[0;31mHTTPError\u001b[0m                                 Traceback (most recent call last)",
      "\u001b[0;32m~/anaconda3/envs/gsa/lib/python3.6/site-packages/contextily/tile.py\u001b[0m in \u001b[0;36m_retryer\u001b[0;34m(tile_url, wait, max_retries)\u001b[0m\n\u001b[1;32m    192\u001b[0m         \u001b[0mrequest\u001b[0m \u001b[0;34m=\u001b[0m \u001b[0mrequests\u001b[0m\u001b[0;34m.\u001b[0m\u001b[0mget\u001b[0m\u001b[0;34m(\u001b[0m\u001b[0mtile_url\u001b[0m\u001b[0;34m)\u001b[0m\u001b[0;34m\u001b[0m\u001b[0m\n\u001b[0;32m--> 193\u001b[0;31m         \u001b[0mrequest\u001b[0m\u001b[0;34m.\u001b[0m\u001b[0mraise_for_status\u001b[0m\u001b[0;34m(\u001b[0m\u001b[0;34m)\u001b[0m\u001b[0;34m\u001b[0m\u001b[0m\n\u001b[0m\u001b[1;32m    194\u001b[0m     \u001b[0;32mexcept\u001b[0m \u001b[0mrequests\u001b[0m\u001b[0;34m.\u001b[0m\u001b[0mHTTPError\u001b[0m\u001b[0;34m:\u001b[0m\u001b[0;34m\u001b[0m\u001b[0m\n",
      "\u001b[0;32m~/anaconda3/envs/gsa/lib/python3.6/site-packages/requests/models.py\u001b[0m in \u001b[0;36mraise_for_status\u001b[0;34m(self)\u001b[0m\n\u001b[1;32m    939\u001b[0m         \u001b[0;32mif\u001b[0m \u001b[0mhttp_error_msg\u001b[0m\u001b[0;34m:\u001b[0m\u001b[0;34m\u001b[0m\u001b[0m\n\u001b[0;32m--> 940\u001b[0;31m             \u001b[0;32mraise\u001b[0m \u001b[0mHTTPError\u001b[0m\u001b[0;34m(\u001b[0m\u001b[0mhttp_error_msg\u001b[0m\u001b[0;34m,\u001b[0m \u001b[0mresponse\u001b[0m\u001b[0;34m=\u001b[0m\u001b[0mself\u001b[0m\u001b[0;34m)\u001b[0m\u001b[0;34m\u001b[0m\u001b[0m\n\u001b[0m\u001b[1;32m    941\u001b[0m \u001b[0;34m\u001b[0m\u001b[0m\n",
      "\u001b[0;31mHTTPError\u001b[0m: 404 Client Error: Not Found for url: http://tile.stamen.com/terrain/18/127844/90789.png",
      "\nDuring handling of the above exception, another exception occurred:\n",
      "\u001b[0;31mHTTPError\u001b[0m                                 Traceback (most recent call last)",
      "\u001b[0;32m<ipython-input-45-37a07030a27b>\u001b[0m in \u001b[0;36m<module>\u001b[0;34m\u001b[0m\n\u001b[0;32m----> 1\u001b[0;31m \u001b[0mplot_flock\u001b[0m\u001b[0;34m(\u001b[0m\u001b[0mdf\u001b[0m\u001b[0;34m,\u001b[0m \u001b[0mflocks\u001b[0m\u001b[0;34m,\u001b[0m \u001b[0;36m179\u001b[0m\u001b[0;34m)\u001b[0m\u001b[0;34m\u001b[0m\u001b[0m\n\u001b[0m",
      "\u001b[0;32m<ipython-input-44-c8301e8f1349>\u001b[0m in \u001b[0;36mplot_flock\u001b[0;34m(df, flocks, i)\u001b[0m\n\u001b[1;32m      3\u001b[0m \u001b[0;31m#     stp = datetime.strptime(flocks[i][3], '%Y-%m-%d %H:%M:%S')\u001b[0m\u001b[0;34m\u001b[0m\u001b[0;34m\u001b[0m\u001b[0m\n\u001b[1;32m      4\u001b[0m     \u001b[0mtmp\u001b[0m \u001b[0;34m=\u001b[0m \u001b[0mdf\u001b[0m\u001b[0;34m.\u001b[0m\u001b[0mloc\u001b[0m\u001b[0;34m[\u001b[0m\u001b[0;34m(\u001b[0m\u001b[0mdf\u001b[0m\u001b[0;34m.\u001b[0m\u001b[0mmmsi\u001b[0m\u001b[0;34m.\u001b[0m\u001b[0misin\u001b[0m\u001b[0;34m(\u001b[0m\u001b[0mflocks\u001b[0m\u001b[0;34m[\u001b[0m\u001b[0mi\u001b[0m\u001b[0;34m]\u001b[0m\u001b[0;34m[\u001b[0m\u001b[0;36m0\u001b[0m\u001b[0;34m]\u001b[0m\u001b[0;34m)\u001b[0m\u001b[0;34m)\u001b[0m \u001b[0;34m&\u001b[0m \u001b[0;34m(\u001b[0m\u001b[0mdf\u001b[0m\u001b[0;34m.\u001b[0m\u001b[0mdatetime\u001b[0m\u001b[0;34m>=\u001b[0m\u001b[0mflocks\u001b[0m\u001b[0;34m[\u001b[0m\u001b[0mi\u001b[0m\u001b[0;34m]\u001b[0m\u001b[0;34m[\u001b[0m\u001b[0;36m2\u001b[0m\u001b[0;34m]\u001b[0m\u001b[0;34m)\u001b[0m \u001b[0;34m&\u001b[0m \u001b[0;34m(\u001b[0m\u001b[0mdf\u001b[0m\u001b[0;34m.\u001b[0m\u001b[0mdatetime\u001b[0m\u001b[0;34m<=\u001b[0m\u001b[0mflocks\u001b[0m\u001b[0;34m[\u001b[0m\u001b[0mi\u001b[0m\u001b[0;34m]\u001b[0m\u001b[0;34m[\u001b[0m\u001b[0;36m3\u001b[0m\u001b[0;34m]\u001b[0m\u001b[0;34m)\u001b[0m\u001b[0;34m]\u001b[0m\u001b[0;34m\u001b[0m\u001b[0m\n\u001b[0;32m----> 5\u001b[0;31m     \u001b[0mmap_plot\u001b[0m\u001b[0;34m(\u001b[0m\u001b[0mtmp\u001b[0m\u001b[0;34m)\u001b[0m\u001b[0;34m\u001b[0m\u001b[0m\n\u001b[0m",
      "\u001b[0;32m<ipython-input-41-ed77b0c6d2fd>\u001b[0m in \u001b[0;36mmap_plot\u001b[0;34m(df1, df2, color, figsize)\u001b[0m\n\u001b[1;32m     10\u001b[0m         \u001b[0mdf2\u001b[0m\u001b[0;34m.\u001b[0m\u001b[0mcrs\u001b[0m \u001b[0;34m=\u001b[0m \u001b[0;34m{\u001b[0m\u001b[0;34m'init'\u001b[0m\u001b[0;34m:\u001b[0m \u001b[0;34m'epsg:4326'\u001b[0m\u001b[0;34m}\u001b[0m\u001b[0;34m\u001b[0m\u001b[0m\n\u001b[1;32m     11\u001b[0m         \u001b[0mdf2\u001b[0m\u001b[0;34m.\u001b[0m\u001b[0mto_crs\u001b[0m\u001b[0;34m(\u001b[0m\u001b[0mepsg\u001b[0m\u001b[0;34m=\u001b[0m\u001b[0;36m3857\u001b[0m\u001b[0;34m)\u001b[0m\u001b[0;34m.\u001b[0m\u001b[0mplot\u001b[0m\u001b[0;34m(\u001b[0m\u001b[0mfigsize\u001b[0m\u001b[0;34m=\u001b[0m\u001b[0mfigsize\u001b[0m\u001b[0;34m,\u001b[0m\u001b[0mc\u001b[0m\u001b[0;34m=\u001b[0m\u001b[0mcolor\u001b[0m\u001b[0;34m[\u001b[0m\u001b[0;36m1\u001b[0m\u001b[0;34m]\u001b[0m\u001b[0;34m,\u001b[0m \u001b[0max\u001b[0m\u001b[0;34m=\u001b[0m\u001b[0max\u001b[0m\u001b[0;34m)\u001b[0m\u001b[0;34m\u001b[0m\u001b[0m\n\u001b[0;32m---> 12\u001b[0;31m     \u001b[0mctx\u001b[0m\u001b[0;34m.\u001b[0m\u001b[0madd_basemap\u001b[0m\u001b[0;34m(\u001b[0m\u001b[0max\u001b[0m\u001b[0;34m)\u001b[0m\u001b[0;34m\u001b[0m\u001b[0m\n\u001b[0m",
      "\u001b[0;32m~/anaconda3/envs/gsa/lib/python3.6/site-packages/contextily/plotting.py\u001b[0m in \u001b[0;36madd_basemap\u001b[0;34m(ax, zoom, url, interpolation, attribution, **extra_imshow_args)\u001b[0m\n\u001b[1;32m     80\u001b[0m             \u001b[0mzoom\u001b[0m \u001b[0;34m=\u001b[0m \u001b[0m_calculate_zoom\u001b[0m\u001b[0;34m(\u001b[0m\u001b[0;34m*\u001b[0m\u001b[0mmin_ll\u001b[0m\u001b[0;34m,\u001b[0m \u001b[0;34m*\u001b[0m\u001b[0mmax_ll\u001b[0m\u001b[0;34m)\u001b[0m\u001b[0;34m\u001b[0m\u001b[0m\n\u001b[1;32m     81\u001b[0m         image, extent = bounds2img(left, bottom, right, top,\n\u001b[0;32m---> 82\u001b[0;31m                                    zoom=zoom, url=url, ll=False)\n\u001b[0m\u001b[1;32m     83\u001b[0m     \u001b[0;31m# If local source\u001b[0m\u001b[0;34m\u001b[0m\u001b[0;34m\u001b[0m\u001b[0m\n\u001b[1;32m     84\u001b[0m     \u001b[0;32melse\u001b[0m\u001b[0;34m:\u001b[0m\u001b[0;34m\u001b[0m\u001b[0m\n",
      "\u001b[0;32m~/anaconda3/envs/gsa/lib/python3.6/site-packages/contextily/tile.py\u001b[0m in \u001b[0;36mbounds2img\u001b[0;34m(w, s, e, n, zoom, url, ll, wait, max_retries)\u001b[0m\n\u001b[1;32m    151\u001b[0m         \u001b[0mtile_url\u001b[0m \u001b[0;34m=\u001b[0m \u001b[0murl\u001b[0m\u001b[0;34m.\u001b[0m\u001b[0mreplace\u001b[0m\u001b[0;34m(\u001b[0m\u001b[0;34m'tileX'\u001b[0m\u001b[0;34m,\u001b[0m \u001b[0mstr\u001b[0m\u001b[0;34m(\u001b[0m\u001b[0mx\u001b[0m\u001b[0;34m)\u001b[0m\u001b[0;34m)\u001b[0m\u001b[0;34m.\u001b[0m\u001b[0mreplace\u001b[0m\u001b[0;34m(\u001b[0m\u001b[0;34m'tileY'\u001b[0m\u001b[0;34m,\u001b[0m \u001b[0mstr\u001b[0m\u001b[0;34m(\u001b[0m\u001b[0my\u001b[0m\u001b[0;34m)\u001b[0m\u001b[0;34m)\u001b[0m\u001b[0;34m.\u001b[0m\u001b[0mreplace\u001b[0m\u001b[0;34m(\u001b[0m\u001b[0;34m'tileZ'\u001b[0m\u001b[0;34m,\u001b[0m \u001b[0mstr\u001b[0m\u001b[0;34m(\u001b[0m\u001b[0mz\u001b[0m\u001b[0;34m)\u001b[0m\u001b[0;34m)\u001b[0m\u001b[0;34m\u001b[0m\u001b[0m\n\u001b[1;32m    152\u001b[0m         \u001b[0;31m# ---\u001b[0m\u001b[0;34m\u001b[0m\u001b[0;34m\u001b[0m\u001b[0m\n\u001b[0;32m--> 153\u001b[0;31m         \u001b[0mrequest\u001b[0m \u001b[0;34m=\u001b[0m \u001b[0m_retryer\u001b[0m\u001b[0;34m(\u001b[0m\u001b[0mtile_url\u001b[0m\u001b[0;34m,\u001b[0m \u001b[0mwait\u001b[0m\u001b[0;34m,\u001b[0m \u001b[0mmax_retries\u001b[0m\u001b[0;34m)\u001b[0m\u001b[0;34m\u001b[0m\u001b[0m\n\u001b[0m\u001b[1;32m    154\u001b[0m         \u001b[0;32mwith\u001b[0m \u001b[0mio\u001b[0m\u001b[0;34m.\u001b[0m\u001b[0mBytesIO\u001b[0m\u001b[0;34m(\u001b[0m\u001b[0mrequest\u001b[0m\u001b[0;34m.\u001b[0m\u001b[0mcontent\u001b[0m\u001b[0;34m)\u001b[0m \u001b[0;32mas\u001b[0m \u001b[0mimage_stream\u001b[0m\u001b[0;34m:\u001b[0m\u001b[0;34m\u001b[0m\u001b[0m\n\u001b[1;32m    155\u001b[0m             \u001b[0mimage\u001b[0m \u001b[0;34m=\u001b[0m \u001b[0mImage\u001b[0m\u001b[0;34m.\u001b[0m\u001b[0mopen\u001b[0m\u001b[0;34m(\u001b[0m\u001b[0mimage_stream\u001b[0m\u001b[0;34m)\u001b[0m\u001b[0;34m.\u001b[0m\u001b[0mconvert\u001b[0m\u001b[0;34m(\u001b[0m\u001b[0;34m'RGB'\u001b[0m\u001b[0;34m)\u001b[0m\u001b[0;34m\u001b[0m\u001b[0m\n",
      "\u001b[0;32m~/anaconda3/envs/gsa/lib/python3.6/site-packages/contextily/tile.py\u001b[0m in \u001b[0;36m_retryer\u001b[0;34m(tile_url, wait, max_retries)\u001b[0m\n\u001b[1;32m    195\u001b[0m         \u001b[0;32mif\u001b[0m \u001b[0mrequest\u001b[0m\u001b[0;34m.\u001b[0m\u001b[0mstatus_code\u001b[0m \u001b[0;34m==\u001b[0m \u001b[0;36m404\u001b[0m\u001b[0;34m:\u001b[0m\u001b[0;34m\u001b[0m\u001b[0m\n\u001b[1;32m    196\u001b[0m             raise requests.HTTPError('Tile URL resulted in a 404 error. '\n\u001b[0;32m--> 197\u001b[0;31m                                      'Double-check your tile url:\\n{}'.format(tile_url))\n\u001b[0m\u001b[1;32m    198\u001b[0m         \u001b[0;32melif\u001b[0m \u001b[0mrequest\u001b[0m\u001b[0;34m.\u001b[0m\u001b[0mstatus_code\u001b[0m \u001b[0;34m==\u001b[0m \u001b[0;36m104\u001b[0m\u001b[0;34m:\u001b[0m\u001b[0;34m\u001b[0m\u001b[0m\n\u001b[1;32m    199\u001b[0m             \u001b[0;32mif\u001b[0m \u001b[0mmax_retries\u001b[0m \u001b[0;34m>\u001b[0m \u001b[0;36m0\u001b[0m\u001b[0;34m:\u001b[0m\u001b[0;34m\u001b[0m\u001b[0m\n",
      "\u001b[0;31mHTTPError\u001b[0m: Tile URL resulted in a 404 error. Double-check your tile url:\nhttp://tile.stamen.com/terrain/18/127844/90789.png"
     ]
    },
    {
     "data": {
      "image/png": "[encoded data removed]",
      "text/plain": [
       "<Figure size 1080x1080 with 1 Axes>"
      ]
     },
     "metadata": {
      "needs_background": "light"
     },
     "output_type": "display_data"
    }
   ],
   "source": [
    "plot_flock(df, flocks, 179)"
   ]
  },
  {
   "cell_type": "code",
   "execution_count": 44,
   "metadata": {
    "ExecuteTime": {
     "end_time": "2018-12-09T13:27:05.443251Z",
     "start_time": "2018-12-09T13:27:05.439745Z"
    }
   },
   "outputs": [],
   "source": [
    "def plot_flock(df, flocks, i):\n",
    "#     strt = datetime.strptime(flocks[i][2], '%Y-%m-%d %H:%M:%S')\n",
    "#     stp = datetime.strptime(flocks[i][3], '%Y-%m-%d %H:%M:%S')\n",
    "    tmp = df.loc[(df.mmsi.isin(flocks[i][0])) & (df.datetime>=flocks[i][2]) & (df.datetime<=flocks[i][3])]\n",
    "    map_plot(tmp)"
   ]
  },
  {
   "cell_type": "code",
   "execution_count": 16,
   "metadata": {
    "ExecuteTime": {
     "end_time": "2018-12-09T13:12:56.811606Z",
     "start_time": "2018-12-09T13:12:56.725365Z"
    }
   },
   "outputs": [
    {
     "ename": "NameError",
     "evalue": "name 'flocks' is not defined",
     "output_type": "error",
     "traceback": [
      "\u001b[0;31m---------------------------------------------------------------------------\u001b[0m",
      "\u001b[0;31mNameError\u001b[0m                                 Traceback (most recent call last)",
      "\u001b[0;32m<ipython-input-16-72b5aa3fd279>\u001b[0m in \u001b[0;36m<module>\u001b[0;34m\u001b[0m\n\u001b[0;32m----> 1\u001b[0;31m \u001b[0;34m[\u001b[0m\u001b[0mprint\u001b[0m \u001b[0;34m(\u001b[0m\u001b[0mi\u001b[0m\u001b[0;34m,\u001b[0m \u001b[0mval\u001b[0m\u001b[0;34m)\u001b[0m \u001b[0;32mfor\u001b[0m \u001b[0mi\u001b[0m\u001b[0;34m,\u001b[0m \u001b[0mval\u001b[0m \u001b[0;32min\u001b[0m \u001b[0menumerate\u001b[0m\u001b[0;34m(\u001b[0m\u001b[0mflocks\u001b[0m\u001b[0;34m)\u001b[0m\u001b[0;34m]\u001b[0m\u001b[0;34m\u001b[0m\u001b[0m\n\u001b[0m",
      "\u001b[0;31mNameError\u001b[0m: name 'flocks' is not defined"
     ]
    }
   ],
   "source": []
  },
  {
   "cell_type": "code",
   "execution_count": 91,
   "metadata": {
    "ExecuteTime": {
     "end_time": "2018-12-07T12:49:28.225524Z",
     "start_time": "2018-12-07T12:49:28.222330Z"
    }
   },
   "outputs": [
    {
     "data": {
      "text/plain": [
       "(0, 7)"
      ]
     },
     "execution_count": 91,
     "metadata": {},
     "output_type": "execute_result"
    }
   ],
   "source": [
    "tmp[0]"
   ]
  },
  {
   "cell_type": "code",
   "execution_count": 92,
   "metadata": {
    "ExecuteTime": {
     "end_time": "2018-12-07T12:49:31.996838Z",
     "start_time": "2018-12-07T12:49:31.988494Z"
    }
   },
   "outputs": [
    {
     "ename": "NameError",
     "evalue": "name 'array' is not defined",
     "output_type": "error",
     "traceback": [
      "\u001b[0;31m---------------------------------------------------------------------------\u001b[0m",
      "\u001b[0;31mNameError\u001b[0m                                 Traceback (most recent call last)",
      "\u001b[0;32m<ipython-input-92-3c440975b9c8>\u001b[0m in \u001b[0;36m<module>\u001b[0;34m\u001b[0m\n\u001b[0;32m----> 1\u001b[0;31m \u001b[0;34m(\u001b[0m\u001b[0marray\u001b[0m\u001b[0;34m(\u001b[0m\u001b[0;34m[\u001b[0m\u001b[0;36m0\u001b[0m\u001b[0;34m]\u001b[0m\u001b[0;34m)\u001b[0m\u001b[0;34m,\u001b[0m \u001b[0marray\u001b[0m\u001b[0;34m(\u001b[0m\u001b[0;34m[\u001b[0m\u001b[0;36m7\u001b[0m\u001b[0;34m]\u001b[0m\u001b[0;34m)\u001b[0m\u001b[0;34m)\u001b[0m \u001b[0;32min\u001b[0m \u001b[0mtmp\u001b[0m\u001b[0;34m\u001b[0m\u001b[0m\n\u001b[0m",
      "\u001b[0;31mNameError\u001b[0m: name 'array' is not defined"
     ]
    }
   ],
   "source": [
    "(array([0]), array([7])) in tmp"
   ]
  },
  {
   "cell_type": "code",
   "execution_count": 79,
   "metadata": {
    "ExecuteTime": {
     "end_time": "2018-12-07T12:43:34.812816Z",
     "start_time": "2018-12-07T12:43:34.804945Z"
    }
   },
   "outputs": [
    {
     "name": "stdout",
     "output_type": "stream",
     "text": [
      "0 1 [0] [7]\n",
      "0 2 [0] [11]\n",
      "0 3 [0] [18]\n",
      "1 2 [7] [11]\n",
      "1 3 [7] [18]\n",
      "2 3 [11] [18]\n"
     ]
    },
    {
     "data": {
      "text/plain": [
       "[(0, 1, array([0]), array([7])),\n",
       " (0, 2, array([0]), array([11])),\n",
       " (0, 3, array([0]), array([18])),\n",
       " (1, 2, array([7]), array([11])),\n",
       " (1, 3, array([7]), array([18])),\n",
       " (2, 3, array([11]), array([18]))]"
      ]
     },
     "execution_count": 79,
     "metadata": {},
     "output_type": "execute_result"
    }
   ],
   "source": [
    "list(nparray_combinations(np.expand_dims(np.asarray(tst[0]), axis=1)))"
   ]
  },
  {
   "cell_type": "code",
   "execution_count": 43,
   "metadata": {
    "ExecuteTime": {
     "end_time": "2018-12-07T12:22:35.053268Z",
     "start_time": "2018-12-07T12:22:35.041566Z"
    }
   },
   "outputs": [
    {
     "data": {
      "text/plain": [
       "[(0, 1),\n",
       " (0, 2),\n",
       " (0, 3),\n",
       " (0, 4),\n",
       " (0, 5),\n",
       " (0, 6),\n",
       " (0, 7),\n",
       " (0, 8),\n",
       " (0, 9),\n",
       " (0, 10),\n",
       " (0, 11),\n",
       " (0, 12),\n",
       " (0, 13),\n",
       " (0, 14),\n",
       " (0, 15),\n",
       " (0, 16),\n",
       " (0, 17),\n",
       " (0, 18),\n",
       " (1, 2),\n",
       " (1, 3),\n",
       " (1, 4),\n",
       " (1, 5),\n",
       " (1, 6),\n",
       " (1, 7),\n",
       " (1, 8),\n",
       " (1, 9),\n",
       " (1, 10),\n",
       " (1, 11),\n",
       " (1, 12),\n",
       " (1, 13),\n",
       " (1, 14),\n",
       " (1, 15),\n",
       " (1, 16),\n",
       " (1, 17),\n",
       " (1, 18),\n",
       " (2, 3),\n",
       " (2, 4),\n",
       " (2, 5),\n",
       " (2, 6),\n",
       " (2, 7),\n",
       " (2, 8),\n",
       " (2, 9),\n",
       " (2, 10),\n",
       " (2, 11),\n",
       " (2, 12),\n",
       " (2, 13),\n",
       " (2, 14),\n",
       " (2, 15),\n",
       " (2, 16),\n",
       " (2, 17),\n",
       " (2, 18),\n",
       " (3, 4),\n",
       " (3, 5),\n",
       " (3, 6),\n",
       " (3, 7),\n",
       " (3, 8),\n",
       " (3, 9),\n",
       " (3, 10),\n",
       " (3, 11),\n",
       " (3, 12),\n",
       " (3, 13),\n",
       " (3, 14),\n",
       " (3, 15),\n",
       " (3, 16),\n",
       " (3, 17),\n",
       " (3, 18),\n",
       " (4, 5),\n",
       " (4, 6),\n",
       " (4, 7),\n",
       " (4, 8),\n",
       " (4, 9),\n",
       " (4, 10),\n",
       " (4, 11),\n",
       " (4, 12),\n",
       " (4, 13),\n",
       " (4, 14),\n",
       " (4, 15),\n",
       " (4, 16),\n",
       " (4, 17),\n",
       " (4, 18),\n",
       " (5, 6),\n",
       " (5, 7),\n",
       " (5, 8),\n",
       " (5, 9),\n",
       " (5, 10),\n",
       " (5, 11),\n",
       " (5, 12),\n",
       " (5, 13),\n",
       " (5, 14),\n",
       " (5, 15),\n",
       " (5, 16),\n",
       " (5, 17),\n",
       " (5, 18),\n",
       " (6, 7),\n",
       " (6, 8),\n",
       " (6, 9),\n",
       " (6, 10),\n",
       " (6, 11),\n",
       " (6, 12),\n",
       " (6, 13),\n",
       " (6, 14),\n",
       " (6, 15),\n",
       " (6, 16),\n",
       " (6, 17),\n",
       " (6, 18),\n",
       " (7, 8),\n",
       " (7, 9),\n",
       " (7, 10),\n",
       " (7, 11),\n",
       " (7, 12),\n",
       " (7, 13),\n",
       " (7, 14),\n",
       " (7, 15),\n",
       " (7, 16),\n",
       " (7, 17),\n",
       " (7, 18),\n",
       " (8, 9),\n",
       " (8, 10),\n",
       " (8, 11),\n",
       " (8, 12),\n",
       " (8, 13),\n",
       " (8, 14),\n",
       " (8, 15),\n",
       " (8, 16),\n",
       " (8, 17),\n",
       " (8, 18),\n",
       " (9, 10),\n",
       " (9, 11),\n",
       " (9, 12),\n",
       " (9, 13),\n",
       " (9, 14),\n",
       " (9, 15),\n",
       " (9, 16),\n",
       " (9, 17),\n",
       " (9, 18),\n",
       " (10, 11),\n",
       " (10, 12),\n",
       " (10, 13),\n",
       " (10, 14),\n",
       " (10, 15),\n",
       " (10, 16),\n",
       " (10, 17),\n",
       " (10, 18),\n",
       " (11, 12),\n",
       " (11, 13),\n",
       " (11, 14),\n",
       " (11, 15),\n",
       " (11, 16),\n",
       " (11, 17),\n",
       " (11, 18),\n",
       " (12, 13),\n",
       " (12, 14),\n",
       " (12, 15),\n",
       " (12, 16),\n",
       " (12, 17),\n",
       " (12, 18),\n",
       " (13, 14),\n",
       " (13, 15),\n",
       " (13, 16),\n",
       " (13, 17),\n",
       " (13, 18),\n",
       " (14, 15),\n",
       " (14, 16),\n",
       " (14, 17),\n",
       " (14, 18),\n",
       " (15, 16),\n",
       " (15, 17),\n",
       " (15, 18),\n",
       " (16, 17),\n",
       " (16, 18),\n",
       " (17, 18)]"
      ]
     },
     "execution_count": 43,
     "metadata": {},
     "output_type": "execute_result"
    }
   ],
   "source": [
    "list(nparray_combinations(sdf))"
   ]
  },
  {
   "cell_type": "code",
   "execution_count": 169,
   "metadata": {
    "ExecuteTime": {
     "end_time": "2018-12-07T15:19:12.988149Z",
     "start_time": "2018-12-07T15:19:12.981770Z"
    }
   },
   "outputs": [
    {
     "name": "stdout",
     "output_type": "stream",
     "text": [
      "1 2\n",
      "1 3\n",
      "1 4\n",
      "2 3\n",
      "2 4\n",
      "3 4\n"
     ]
    }
   ],
   "source": [
    "import itertools\n",
    "c = [1,2,3,4]\n",
    "for i in itertools.combinations(c,2):\n",
    "     print (*i)"
   ]
  },
  {
   "cell_type": "code",
   "execution_count": 135,
   "metadata": {
    "ExecuteTime": {
     "end_time": "2018-12-07T14:19:04.368656Z",
     "start_time": "2018-12-07T14:19:04.364087Z"
    }
   },
   "outputs": [],
   "source": [
    "lst = [1,2,3]"
   ]
  },
  {
   "cell_type": "code",
   "execution_count": 139,
   "metadata": {
    "ExecuteTime": {
     "end_time": "2018-12-07T14:20:45.581164Z",
     "start_time": "2018-12-07T14:20:45.575662Z"
    }
   },
   "outputs": [
    {
     "name": "stdout",
     "output_type": "stream",
     "text": [
      "1 2\n",
      "1 3\n",
      "2 1\n",
      "2 3\n",
      "3 1\n",
      "3 2\n"
     ]
    }
   ],
   "source": [
    "for point in lst:\n",
    "    for j in [val for val in lst if val !=point]:\n",
    "        print(point, j)"
   ]
  },
  {
   "cell_type": "code",
   "execution_count": 143,
   "metadata": {
    "ExecuteTime": {
     "end_time": "2018-12-07T14:32:08.041514Z",
     "start_time": "2018-12-07T14:32:08.033473Z"
    }
   },
   "outputs": [
    {
     "data": {
      "text/plain": [
       "(1, 3)"
      ]
     },
     "execution_count": 143,
     "metadata": {},
     "output_type": "execute_result"
    }
   ],
   "source": [
    "tuple(sorted((3,1)))"
   ]
  },
  {
   "cell_type": "code",
   "execution_count": 45,
   "metadata": {
    "ExecuteTime": {
     "end_time": "2018-12-08T11:44:04.322344Z",
     "start_time": "2018-12-08T11:44:04.317946Z"
    }
   },
   "outputs": [],
   "source": [
    "lst = [1,2,3]"
   ]
  },
  {
   "cell_type": "code",
   "execution_count": 46,
   "metadata": {
    "ExecuteTime": {
     "end_time": "2018-12-08T11:44:08.818705Z",
     "start_time": "2018-12-08T11:44:08.810801Z"
    }
   },
   "outputs": [
    {
     "data": {
      "text/plain": [
       "2"
      ]
     },
     "execution_count": 46,
     "metadata": {},
     "output_type": "execute_result"
    }
   ],
   "source": [
    "lst.index(3)"
   ]
  },
  {
   "cell_type": "code",
   "execution_count": null,
   "metadata": {},
   "outputs": [],
   "source": []
  }
 ],
 "metadata": {
  "kernelspec": {
   "display_name": "Python [conda env:gsa]",
   "language": "python",
   "name": "conda-env-gsa-py"
  },
  "language_info": {
   "codemirror_mode": {
    "name": "ipython",
    "version": 3
   },
   "file_extension": ".py",
   "mimetype": "text/x-python",
   "name": "python",
   "nbconvert_exporter": "python",
   "pygments_lexer": "ipython3",
   "version": "3.6.6"
  },
  "toc": {
   "base_numbering": 1,
   "nav_menu": {},
   "number_sections": true,
   "sideBar": true,
   "skip_h1_title": false,
   "title_cell": "Table of Contents",
   "title_sidebar": "Contents",
   "toc_cell": false,
   "toc_position": {},
   "toc_section_display": true,
   "toc_window_display": false
  },
  "varInspector": {
   "cols": {
    "lenName": 16,
    "lenType": 16,
    "lenVar": 40
   },
   "kernels_config": {
    "python": {
     "delete_cmd_postfix": "",
     "delete_cmd_prefix": "del ",
     "library": "var_list.py",
     "varRefreshCmd": "print(var_dic_list())"
    },
    "r": {
     "delete_cmd_postfix": ") ",
     "delete_cmd_prefix": "rm(",
     "library": "var_list.r",
     "varRefreshCmd": "cat(var_dic_list()) "
    }
   },
   "types_to_exclude": [
    "module",
    "function",
    "builtin_function_or_method",
    "instance",
    "_Feature"
   ],
   "window_display": false
  }
 },
 "nbformat": 4,
 "nbformat_minor": 2
}
