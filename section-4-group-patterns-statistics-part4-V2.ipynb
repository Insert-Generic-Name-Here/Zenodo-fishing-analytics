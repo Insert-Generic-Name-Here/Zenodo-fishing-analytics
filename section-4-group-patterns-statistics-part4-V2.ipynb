{
 "cells": [
  {
   "cell_type": "code",
   "execution_count": 1,
   "metadata": {},
   "outputs": [],
   "source": [
    "import pandas as pd\n",
    "import geopandas as gpd\n",
    "import numpy as np\n",
    "from shapely.geometry import Point\n",
    "from matplotlib import pyplot as plt\n",
    "import matplotlib.gridspec as gridspec\n",
    "from random import choice\n",
    "pd.options.mode.chained_assignment = None \n",
    "import configparser\n",
    "import pickle\n",
    "import psycopg2\n",
    "import psycopg2.extras\n",
    "import contextily as ctx"
   ]
  },
  {
   "cell_type": "code",
   "execution_count": 2,
   "metadata": {},
   "outputs": [],
   "source": [
    "import os, sys\n",
    "sys.path.append(os.path.join(os.path.expanduser('~'), 'Documents/Insert-Generic-Name-Here'))\n",
    "# sys.path\n",
    "\n",
    "from lonelyboy.geospatial import plots as gsplt\n",
    "from lonelyboy.geospatial import preprocessing as gspp\n",
    "from lonelyboy.timeseries import lbtimeseries as tspp\n",
    "# from lonelyboy.geospatial import group_patterns as gsgp\n",
    "\n",
    "\n",
    "# from IPython.core.interactiveshell import InteractiveShell\n",
    "# InteractiveShell.ast_node_interactivity = \"all\"\n",
    "import PyQt5\n",
    "import matplotlib.pyplot as plt\n",
    "from matplotlib import style;  style.use('ggplot')\n",
    "\n",
    "style.use('ggplot')\n",
    "\n",
    "get_ipython().magic('matplotlib qt')\n",
    "# get_ipython().magic('matplotlib inline')"
   ]
  },
  {
   "cell_type": "code",
   "execution_count": 3,
   "metadata": {},
   "outputs": [],
   "source": [
    "PLT_IMAGE_WIDTH = 3.748\n",
    "PLT_IMAGE_HEIGHT = PLT_IMAGE_WIDTH/1.618\n",
    "\n",
    "plt.rc('text', usetex=True)\n",
    "plt.rc('font', family='sans-serif', size=8)\n",
    "plt.rcParams['figure.figsize'] = (PLT_IMAGE_WIDTH, PLT_IMAGE_HEIGHT)"
   ]
  },
  {
   "cell_type": "code",
   "execution_count": 4,
   "metadata": {},
   "outputs": [],
   "source": [
    "def tuple_str_to_tuple(_str_):\n",
    "    return tuple(map(int, _str_[1:-1].split(',')))\n",
    "\n",
    "def tuple_str_to_list(_str_):\n",
    "    return list(map(int, _str_[1:-1].split(',')))"
   ]
  },
  {
   "cell_type": "code",
   "execution_count": 5,
   "metadata": {},
   "outputs": [],
   "source": [
    "def filter_patterns_on_vesseltype(df, min_cardinality, vesseltype_mmsis):\n",
    "    filtered_patterns = df.copy()\n",
    "    filtered_patterns.loc[:,'clusters'] = filtered_patterns.apply(lambda x: np.array(tuple_str_to_list(x.clusters))[np.isin(tuple_str_to_list(x.clusters), vesseltype_mmsis)], axis=1)\n",
    "    filtered_patterns = filtered_patterns.loc[filtered_patterns.clusters.apply(len) > min_cardinality]\n",
    "    \n",
    "    return filtered_patterns"
   ]
  },
  {
   "cell_type": "markdown",
   "metadata": {},
   "source": [
    "# Reading Data \n",
    "* ### mode: {Convoys, Flocks}\n",
    "* ### card:5\n",
    "* ### dt:15\n",
    "* ### dist:1852"
   ]
  },
  {
   "cell_type": "code",
   "execution_count": 6,
   "metadata": {
    "scrolled": true
   },
   "outputs": [],
   "source": [
    "mmsi_fisheries = np.load('data/pkl/fisheries_mmsis.npy').flatten()\n",
    "mmsi_cargos = np.load('data/pkl/cargos_mmsis.npy').flatten()\n",
    "mmsi_tankers = np.load('data/pkl/tankers_mmsis.npy').flatten()\n",
    "\n",
    "\n",
    "df_convoys = pd.read_csv('./data/csv/GROUP_PATTERNS/convoys_card_5_dt_15_dist_1852.csv')\n",
    "df_flocks = pd.read_csv('./data/csv/GROUP_PATTERNS/flocks_card_5_dt_15_dist_1852.csv')"
   ]
  },
  {
   "cell_type": "markdown",
   "metadata": {},
   "source": [
    "# **#4** Trip Contribution per Group Pattern (Convoys/Flocks)"
   ]
  },
  {
   "cell_type": "code",
   "execution_count": 7,
   "metadata": {},
   "outputs": [
    {
     "name": "stdout",
     "output_type": "stream",
     "text": [
      "CPU times: user 0 ns, sys: 5.24 ms, total: 5.24 ms\n",
      "Wall time: 161 ms\n"
     ]
    }
   ],
   "source": [
    "%%time\n",
    "host    = 'snf-863583.vm.okeanos.grnet.gr'\n",
    "db_name = 'zenodo'\n",
    "uname   = 'students'\n",
    "pw      = 'infol@bdbl@bs2017'\n",
    "port    = '46132'\n",
    "\n",
    "con = psycopg2.connect(database=db_name, user=uname, password=pw, host=host, port=port)\n",
    "query = 'SELECT * FROM ais_data.dynamic_ships_min_trip_card_3_segmented_12h_resampled_1min_v2 WHERE mmsi IN %s AND datetime BETWEEN \\'%s\\' AND \\'%s\\';'"
   ]
  },
  {
   "cell_type": "markdown",
   "metadata": {},
   "source": [
    "# **#4.1** Trip Contribution per CONVOYS/FLOCKS of FISHERIES"
   ]
  },
  {
   "cell_type": "code",
   "execution_count": 9,
   "metadata": {
    "scrolled": true
   },
   "outputs": [],
   "source": [
    "df_convoys_of_fisheries = filter_patterns_on_vesseltype(df_convoys, 5, mmsi_fisheries)\n",
    "df_flocks_of_fisheries = filter_patterns_on_vesseltype(df_flocks, 5, mmsi_fisheries)"
   ]
  },
  {
   "cell_type": "code",
   "execution_count": 22,
   "metadata": {},
   "outputs": [],
   "source": [
    "import multiprocessing\n",
    "from tqdm import tqdm_notebook\n",
    "\n",
    "def classify_trips_v2(df):        \n",
    "    if df['port_label'].iloc[0] == -1 and df['port_label'].iloc[-1] == -1:\n",
    "        return np.array([1])\n",
    "    elif df['port_label'].iloc[0] == -1 and df['port_label'].iloc[-1] == 0:\n",
    "        return np.array([2])\n",
    "    elif df['port_label'].iloc[0] == 0 and df['port_label'].iloc[-1] == -1:\n",
    "        return np.array([3])\n",
    "    elif df['port_label'].iloc[0] == 0 and df['port_label'].iloc[-1] == 0:\n",
    "        return np.array([4])\n",
    "    else:\n",
    "        print (\"$H1T!!!\")\n",
    "\n",
    "\n",
    "def get_gp_trip_contributions_parallel(y):\n",
    "    print ('Connecting to Database...')\n",
    "    con = psycopg2.connect(database=db_name, user=uname, password=pw, host=host, port=port)\n",
    "    print ('Connected to Database!')\n",
    "    \n",
    "    df_stat4 = []\n",
    "    for row in tqdm_notebook(y.itertuples(), total=len(y)):\n",
    "        df_stat4_row = pd.DataFrame([{'GP':row.clusters, 'C1':0, 'C2':0, 'C3':0, 'C4':0}], columns=['GP', 'C1', 'C2', 'C3', 'C4'])\n",
    "\n",
    "        row_dynamic = pd.read_sql_query(query%(tuple(row.clusters), row.st, row.et), con=con)\n",
    "#         row_dynamic = gspp.gdf_from_df(row_dynamic)\n",
    "#         row_dynamic = points_within_geometry(row_dynamic, ports)\n",
    "        \n",
    "        row_dynamic_trips = row_dynamic.groupby(['mmsi', 'trip_id']).apply(classify_trips_v2).to_frame()\n",
    "        trip_contr = row_dynamic_trips[0].value_counts().dropna().index.values\n",
    "        df_stat4_row.iloc[:, trip_contr[0][0]] = 1\n",
    "\n",
    "        df_stat4.append(df_stat4_row)\n",
    "    con.close()\n",
    "    return pd.concat(df_stat4)\n",
    "\n",
    "\n",
    "def parallelize_dataframe(df_par, func, n_cores=7):\n",
    "#     num_cores = multiprocessing.cpu_count()-1  #leave one free to not freeze machine\n",
    "    num_cores = n_cores #leave one free to not freeze machine\n",
    "    num_partitions = num_cores #number of partitions to split dataframe\n",
    "    \n",
    "    df_split = np.array_split(df_par, num_partitions)\n",
    "    pool = multiprocessing.Pool(num_cores)\n",
    "    \n",
    "    df_res = pd.concat(pool.map(func, df_split))\n",
    "    pool.close()\n",
    "    pool.join()\n",
    "    return df_res"
   ]
  },
  {
   "cell_type": "code",
   "execution_count": 11,
   "metadata": {
    "scrolled": true
   },
   "outputs": [
    {
     "name": "stdout",
     "output_type": "stream",
     "text": [
      "Connecting to Database...\n",
      "Connecting to Database...\n",
      "Connecting to Database...\n",
      "Connecting to Database...\n",
      "Connecting to Database...\n",
      "Connecting to Database...\n",
      "Connecting to Database...\n",
      "Connected to Database!\n",
      "Connected to Database!\n",
      "Connected to Database!\n",
      "Connected to Database!\n"
     ]
    },
    {
     "data": {
      "application/vnd.jupyter.widget-view+json": {
       "model_id": "ea47b84e38154dc7a96b1d48a50993b2",
       "version_major": 2,
       "version_minor": 0
      },
      "text/plain": [
       "HBox(children=(IntProgress(value=0, max=415), HTML(value='')))"
      ]
     },
     "metadata": {},
     "output_type": "display_data"
    },
    {
     "data": {
      "application/vnd.jupyter.widget-view+json": {
       "model_id": "78b03c7217e44c49a8a1c0746f29c950",
       "version_major": 2,
       "version_minor": 0
      },
      "text/plain": [
       "HBox(children=(IntProgress(value=0, max=416), HTML(value='')))"
      ]
     },
     "metadata": {},
     "output_type": "display_data"
    },
    {
     "data": {
      "application/vnd.jupyter.widget-view+json": {
       "model_id": "912667e02edc43189a95bde6206f87ea",
       "version_major": 2,
       "version_minor": 0
      },
      "text/plain": [
       "HBox(children=(IntProgress(value=0, max=416), HTML(value='')))"
      ]
     },
     "metadata": {},
     "output_type": "display_data"
    },
    {
     "name": "stdout",
     "output_type": "stream",
     "text": [
      "Connected to Database!\n",
      "Connected to Database!\n"
     ]
    },
    {
     "data": {
      "application/vnd.jupyter.widget-view+json": {
       "model_id": "9a20aec1a5144ebeacba7a5821060175",
       "version_major": 2,
       "version_minor": 0
      },
      "text/plain": [
       "HBox(children=(IntProgress(value=0, max=416), HTML(value='')))"
      ]
     },
     "metadata": {},
     "output_type": "display_data"
    },
    {
     "name": "stdout",
     "output_type": "stream",
     "text": [
      "Connected to Database!\n"
     ]
    },
    {
     "data": {
      "application/vnd.jupyter.widget-view+json": {
       "model_id": "7341ad1366de4caea18688e627010aa6",
       "version_major": 2,
       "version_minor": 0
      },
      "text/plain": [
       "HBox(children=(IntProgress(value=0, max=416), HTML(value='')))"
      ]
     },
     "metadata": {},
     "output_type": "display_data"
    },
    {
     "data": {
      "application/vnd.jupyter.widget-view+json": {
       "model_id": "dc41814a22c64fc08d10d1e80fea0831",
       "version_major": 2,
       "version_minor": 0
      },
      "text/plain": [
       "HBox(children=(IntProgress(value=0, max=416), HTML(value='')))"
      ]
     },
     "metadata": {},
     "output_type": "display_data"
    },
    {
     "data": {
      "application/vnd.jupyter.widget-view+json": {
       "model_id": "67d5252725fd471087004f21c6f32393",
       "version_major": 2,
       "version_minor": 0
      },
      "text/plain": [
       "HBox(children=(IntProgress(value=0, max=416), HTML(value='')))"
      ]
     },
     "metadata": {},
     "output_type": "display_data"
    },
    {
     "name": "stdout",
     "output_type": "stream",
     "text": [
      "\n",
      "\n",
      "\n",
      "\n",
      "\n",
      "\n",
      "\n"
     ]
    }
   ],
   "source": [
    "df_convoys_of_fisheries_trip_contributions = parallelize_dataframe(df_convoys_of_fisheries, get_gp_trip_contributions_parallel)"
   ]
  },
  {
   "cell_type": "code",
   "execution_count": 12,
   "metadata": {
    "scrolled": true
   },
   "outputs": [
    {
     "name": "stdout",
     "output_type": "stream",
     "text": [
      "Connecting to Database...\n",
      "Connecting to Database...\n",
      "Connecting to Database...\n",
      "Connecting to Database...\n",
      "Connecting to Database...\n",
      "Connecting to Database...\n",
      "Connecting to Database...\n",
      "Connected to Database!\n",
      "Connected to Database!\n"
     ]
    },
    {
     "data": {
      "application/vnd.jupyter.widget-view+json": {
       "model_id": "7e7c7756c0074272a4d63c72828633d4",
       "version_major": 2,
       "version_minor": 0
      },
      "text/plain": [
       "HBox(children=(IntProgress(value=0, max=2985), HTML(value='')))"
      ]
     },
     "metadata": {},
     "output_type": "display_data"
    },
    {
     "data": {
      "application/vnd.jupyter.widget-view+json": {
       "model_id": "33a685ae305144aeb2bacb7beea10448",
       "version_major": 2,
       "version_minor": 0
      },
      "text/plain": [
       "HBox(children=(IntProgress(value=0, max=2985), HTML(value='')))"
      ]
     },
     "metadata": {},
     "output_type": "display_data"
    },
    {
     "name": "stdout",
     "output_type": "stream",
     "text": [
      "Connected to Database!\n",
      "Connected to Database!\n",
      "Connected to Database!\n",
      "Connected to Database!\n"
     ]
    },
    {
     "data": {
      "application/vnd.jupyter.widget-view+json": {
       "model_id": "0b8082e1abf64002a5fdb492826a3234",
       "version_major": 2,
       "version_minor": 0
      },
      "text/plain": [
       "HBox(children=(IntProgress(value=0, max=2985), HTML(value='')))"
      ]
     },
     "metadata": {},
     "output_type": "display_data"
    },
    {
     "name": "stdout",
     "output_type": "stream",
     "text": [
      "Connected to Database!\n"
     ]
    },
    {
     "data": {
      "application/vnd.jupyter.widget-view+json": {
       "model_id": "e610b87bd34d48639d067d5e8f5c5f56",
       "version_major": 2,
       "version_minor": 0
      },
      "text/plain": [
       "HBox(children=(IntProgress(value=0, max=2985), HTML(value='')))"
      ]
     },
     "metadata": {},
     "output_type": "display_data"
    },
    {
     "data": {
      "application/vnd.jupyter.widget-view+json": {
       "model_id": "6490ef023e344fc4a5ee56b49f14f9e6",
       "version_major": 2,
       "version_minor": 0
      },
      "text/plain": [
       "HBox(children=(IntProgress(value=0, max=2984), HTML(value='')))"
      ]
     },
     "metadata": {},
     "output_type": "display_data"
    },
    {
     "data": {
      "application/vnd.jupyter.widget-view+json": {
       "model_id": "b507e41972ec4d2bbac3018532bd9a39",
       "version_major": 2,
       "version_minor": 0
      },
      "text/plain": [
       "HBox(children=(IntProgress(value=0, max=2984), HTML(value='')))"
      ]
     },
     "metadata": {},
     "output_type": "display_data"
    },
    {
     "data": {
      "application/vnd.jupyter.widget-view+json": {
       "model_id": "7cf4ae6d3d9c422f94d791bdaeec3f16",
       "version_major": 2,
       "version_minor": 0
      },
      "text/plain": [
       "HBox(children=(IntProgress(value=0, max=2984), HTML(value='')))"
      ]
     },
     "metadata": {},
     "output_type": "display_data"
    },
    {
     "name": "stdout",
     "output_type": "stream",
     "text": [
      "\n",
      "\n",
      "\n",
      "\n",
      "\n",
      "\n",
      "\n"
     ]
    }
   ],
   "source": [
    "df_flocks_of_fisheries_trip_contributions = parallelize_dataframe(df_flocks_of_fisheries, get_gp_trip_contributions_parallel)"
   ]
  },
  {
   "cell_type": "code",
   "execution_count": 13,
   "metadata": {},
   "outputs": [],
   "source": [
    "df_convoys_of_fisheries_trip_contributions.to_csv('./data/csv/stats/GP_STATS/convoys_of_fisheries_trip_contributions_V2.csv', index=False, header=True)\n",
    "df_flocks_of_fisheries_trip_contributions.to_csv('./data/csv/stats/GP_STATS/flocks_of_fisheries_trip_contributions_V2.csv', index=False, header=True)"
   ]
  },
  {
   "cell_type": "code",
   "execution_count": 38,
   "metadata": {},
   "outputs": [
    {
     "data": {
      "text/plain": [
       "C1        0\n",
       "C2        6\n",
       "C3        2\n",
       "C4    20884\n",
       "dtype: int64"
      ]
     },
     "execution_count": 38,
     "metadata": {},
     "output_type": "execute_result"
    }
   ],
   "source": [
    "df_flocks_of_fisheries_trip_contributions.iloc[:,[1,2,3,4]].sum()"
   ]
  },
  {
   "cell_type": "markdown",
   "metadata": {},
   "source": [
    "# **#4.2** Trip Contribution per CONVOYS/FLOCKS of CARGOS"
   ]
  },
  {
   "cell_type": "code",
   "execution_count": 20,
   "metadata": {
    "scrolled": true
   },
   "outputs": [],
   "source": [
    "df_convoys_of_cargos = filter_patterns_on_vesseltype(df_convoys, 5, mmsi_cargos)\n",
    "df_flocks_of_cargos = filter_patterns_on_vesseltype(df_flocks, 5, mmsi_cargos)"
   ]
  },
  {
   "cell_type": "code",
   "execution_count": 23,
   "metadata": {
    "scrolled": true
   },
   "outputs": [
    {
     "name": "stdout",
     "output_type": "stream",
     "text": [
      "Connecting to Database...\n",
      "Connected to Database!\n"
     ]
    },
    {
     "data": {
      "application/vnd.jupyter.widget-view+json": {
       "model_id": "18f30183beb14441b85201ec75148ab4",
       "version_major": 2,
       "version_minor": 0
      },
      "text/plain": [
       "HBox(children=(IntProgress(value=0, max=3), HTML(value='')))"
      ]
     },
     "metadata": {},
     "output_type": "display_data"
    },
    {
     "name": "stdout",
     "output_type": "stream",
     "text": [
      "\n"
     ]
    }
   ],
   "source": [
    "df_convoys_of_cargos_trip_contributions = parallelize_dataframe(df_convoys_of_cargos, get_gp_trip_contributions_parallel, n_cores=1)"
   ]
  },
  {
   "cell_type": "code",
   "execution_count": 26,
   "metadata": {
    "scrolled": true
   },
   "outputs": [
    {
     "name": "stdout",
     "output_type": "stream",
     "text": [
      "Connecting to Database...\n",
      "Connected to Database!\n"
     ]
    },
    {
     "data": {
      "application/vnd.jupyter.widget-view+json": {
       "model_id": "96c7abfb57164ca7826327c010b8ab82",
       "version_major": 2,
       "version_minor": 0
      },
      "text/plain": [
       "HBox(children=(IntProgress(value=1, bar_style='info', max=1), HTML(value='')))"
      ]
     },
     "metadata": {},
     "output_type": "display_data"
    },
    {
     "name": "stdout",
     "output_type": "stream",
     "text": [
      "\n"
     ]
    }
   ],
   "source": [
    "try: \n",
    "    df_flocks_of_cargos_trip_contributions = parallelize_dataframe(df_flocks_of_cargos, get_gp_trip_contributions_parallel, n_cores=1)\n",
    "except ValueError:\n",
    "    df_flocks_of_cargos_trip_contributions = pd.DataFrame()"
   ]
  },
  {
   "cell_type": "code",
   "execution_count": 27,
   "metadata": {},
   "outputs": [],
   "source": [
    "df_convoys_of_cargos_trip_contributions.to_csv('./data/csv/stats/GP_STATS/convoys_of_cargos_trip_contributions_V2.csv', index=False, header=True)\n",
    "df_flocks_of_cargos_trip_contributions.to_csv('./data/csv/stats/GP_STATS/flocks_of_cargos_trip_contributions_V2.csv', index=False, header=True)"
   ]
  },
  {
   "cell_type": "code",
   "execution_count": 39,
   "metadata": {},
   "outputs": [
    {
     "data": {
      "text/plain": [
       "C1    0\n",
       "C2    0\n",
       "C3    0\n",
       "C4    3\n",
       "dtype: int64"
      ]
     },
     "execution_count": 39,
     "metadata": {},
     "output_type": "execute_result"
    }
   ],
   "source": [
    "df_convoys_of_cargos_trip_contributions.iloc[:,[1,2,3,4]].sum()"
   ]
  },
  {
   "cell_type": "markdown",
   "metadata": {},
   "source": [
    "# **#4.3** Trip Contribution per CONVOYS/FLOCKS of TANKERS"
   ]
  },
  {
   "cell_type": "code",
   "execution_count": 28,
   "metadata": {
    "scrolled": true
   },
   "outputs": [],
   "source": [
    "df_convoys_of_tankers = filter_patterns_on_vesseltype(df_convoys, 5, mmsi_tankers)\n",
    "df_flocks_of_tankers = filter_patterns_on_vesseltype(df_flocks, 5, mmsi_tankers)"
   ]
  },
  {
   "cell_type": "code",
   "execution_count": 29,
   "metadata": {
    "scrolled": true
   },
   "outputs": [
    {
     "name": "stdout",
     "output_type": "stream",
     "text": [
      "Connecting to Database...\n",
      "Connected to Database!\n"
     ]
    },
    {
     "data": {
      "application/vnd.jupyter.widget-view+json": {
       "model_id": "8a5c5e09d86e457eacf796ba08aeb564",
       "version_major": 2,
       "version_minor": 0
      },
      "text/plain": [
       "HBox(children=(IntProgress(value=1, bar_style='info', max=1), HTML(value='')))"
      ]
     },
     "metadata": {},
     "output_type": "display_data"
    },
    {
     "name": "stdout",
     "output_type": "stream",
     "text": [
      "\n"
     ]
    }
   ],
   "source": [
    "try:\n",
    "    df_convoys_of_tankers_trip_contributions = parallelize_dataframe(df_convoys_of_tankers, get_gp_trip_contributions_parallel, n_cores=1)\n",
    "except ValueError:\n",
    "    df_convoys_of_tankers_trip_contributions = pd.DataFrame()"
   ]
  },
  {
   "cell_type": "code",
   "execution_count": 31,
   "metadata": {
    "scrolled": true
   },
   "outputs": [
    {
     "name": "stdout",
     "output_type": "stream",
     "text": [
      "Connecting to Database...\n",
      "Connected to Database!\n"
     ]
    },
    {
     "data": {
      "application/vnd.jupyter.widget-view+json": {
       "model_id": "adf972f54c7d4b5b9c2865ec9a548d33",
       "version_major": 2,
       "version_minor": 0
      },
      "text/plain": [
       "HBox(children=(IntProgress(value=1, bar_style='info', max=1), HTML(value='')))"
      ]
     },
     "metadata": {},
     "output_type": "display_data"
    },
    {
     "name": "stdout",
     "output_type": "stream",
     "text": [
      "\n"
     ]
    }
   ],
   "source": [
    "try:\n",
    "    df_flocks_of_tankers_trip_contributions = parallelize_dataframe(df_flocks_of_tankers, get_gp_trip_contributions_parallel, n_cores=1)\n",
    "except ValueError:\n",
    "    df_flocks_of_tankers_trip_contributions = pd.DataFrame()"
   ]
  },
  {
   "cell_type": "code",
   "execution_count": 32,
   "metadata": {},
   "outputs": [],
   "source": [
    "df_convoys_of_tankers_trip_contributions.to_csv('./data/csv/stats/GP_STATS/convoys_of_tankers_trip_contributions_V2.csv', index=False, header=True)\n",
    "df_convoys_of_tankers_trip_contributions.to_csv('./data/csv/stats/GP_STATS/flocks_of_tankers_trip_contributions_V2.csv', index=False, header=True)"
   ]
  },
  {
   "cell_type": "markdown",
   "metadata": {},
   "source": [
    "# **#4.3** Pie Charts"
   ]
  },
  {
   "cell_type": "code",
   "execution_count": 54,
   "metadata": {},
   "outputs": [
    {
     "data": {
      "text/plain": [
       "C1       3\n",
       "C2      32\n",
       "C3      11\n",
       "C4    2865\n",
       "dtype: int64"
      ]
     },
     "execution_count": 54,
     "metadata": {},
     "output_type": "execute_result"
    }
   ],
   "source": [
    "tmp = df_convoys_of_fisheries_trip_contributions[[f'C{i}' for i in range(1,5)]].sum(axis=0).sum()\n",
    "\n",
    "df_convoys_of_fisheries_trip_contributions[[f'C{i}' for i in range(1,5)]].sum(axis=0)"
   ]
  },
  {
   "cell_type": "code",
   "execution_count": 83,
   "metadata": {},
   "outputs": [
    {
     "name": "stdout",
     "output_type": "stream",
     "text": [
      "cargos have 0 patterns\n",
      "tankers have 0 patterns\n"
     ]
    }
   ],
   "source": [
    "explode = (0.04, 0, 0, 0)  \n",
    "cmap=plt.cm.tab20c\n",
    "colors = [cmap(i) for i in range(4)]\n",
    "\n",
    "for ves_type, df_F in zip(['fisheries', 'cargos', 'tankers'], [df_flocks_of_fisheries_trip_contributions, df_flocks_of_cargos_trip_contributions, df_flocks_of_tankers_trip_contributions]):\n",
    "    if (len(df_F) == 0):\n",
    "        print (f'{ves_type} have 0 patterns')\n",
    "        continue\n",
    "    \n",
    "    plt.figure()\n",
    "    ax = df_F[[f'C{i}' for i in range(1,5)]].sum(axis=0).plot.pie(y='', \n",
    "                       figsize=(PLT_IMAGE_WIDTH, PLT_IMAGE_HEIGHT), \n",
    "                       explode=explode,\n",
    "                       startangle=0,\n",
    "#                        autopct='%1.2f\\%%', \n",
    "                       autopct='',\n",
    "                       pctdistance=0.67,\n",
    "                       colors=colors,\n",
    "                       legend=False)\n",
    "    ax.axis('equal')\n",
    "\n",
    "    for text in ax.texts:\n",
    "        text.set_fontsize(8)\n",
    "        if ' ' in text.get_text():\n",
    "            text.set_color('grey')\n",
    "#         if '0.0\\%' == text.get_text():\n",
    "        text.set_text('')\n",
    "            \n",
    "    tmp = df_F[[f'C{i}' for i in range(1,5)]].sum(axis=0)\n",
    "            \n",
    "    plt.ylabel('')\n",
    "    plt.legend([f'C1 - {np.around(tmp[0]/tmp.sum()*100, 2)}\\%', f'C2 - {np.around(tmp[1]/tmp.sum()*100, 2)}\\%', f'C3 - {np.around(tmp[2]/tmp.sum()*100, 2)}\\%', f'C4 - {np.around(tmp[3]/tmp.sum()*100, 2)}\\%'],\n",
    "              frameon=False, loc='upper center', bbox_to_anchor=(0.5, 0), fancybox=False, ncol=2, borderaxespad=0.7)\n",
    "    plt.title(f'Cliques of {ves_type} trip contribution')\n",
    "    plt.savefig(f'./gp_plots_V5/Flocks_of_{ves_type}_Trip_Contribution_V2.pdf', dpi=350, bbox_inches='tight')"
   ]
  },
  {
   "cell_type": "code",
   "execution_count": 82,
   "metadata": {},
   "outputs": [
    {
     "name": "stdout",
     "output_type": "stream",
     "text": [
      "tankers have 0 patterns\n"
     ]
    }
   ],
   "source": [
    "explode = (0.04, 0, 0, 0)  \n",
    "\n",
    "for ves_type, df_C in zip(['fisheries', 'cargos', 'tankers'], [df_convoys_of_fisheries_trip_contributions, df_convoys_of_cargos_trip_contributions, df_convoys_of_tankers_trip_contributions]):\n",
    "    if (len(df_C) == 0):\n",
    "        print (f'{ves_type} have 0 patterns')\n",
    "        continue\n",
    "        \n",
    "    plt.figure()\n",
    "    ax = df_C[[f'C{i}' for i in range(1,5)]].sum(axis=0).plot.pie(y='', \n",
    "                       figsize=(PLT_IMAGE_WIDTH, PLT_IMAGE_HEIGHT), \n",
    "                       explode=explode,\n",
    "                       startangle=0,\n",
    "#                        autopct='%1.2f\\%%', \n",
    "                       autopct='', \n",
    "                       pctdistance=0.67,\n",
    "                       colors=colors,\n",
    "                       legend=False)\n",
    "    ax.axis('equal')\n",
    "\n",
    "    for text in ax.texts:\n",
    "        text.set_fontsize(8)\n",
    "        if ' ' in text.get_text():\n",
    "            text.set_color('grey')\n",
    "#         if '0.0\\%' == text.get_text():\n",
    "        text.set_text('')\n",
    "            \n",
    "    tmp = df_C[[f'C{i}' for i in range(1,5)]].sum(axis=0)\n",
    "    \n",
    "    plt.ylabel('')\n",
    "    plt.legend([f'C1 - {np.around(tmp[0]/tmp.sum()*100, 2)}\\%', f'C2 - {np.around(tmp[1]/tmp.sum()*100, 2)}\\%', f'C3 - {np.around(tmp[2]/tmp.sum()*100, 2)}\\%', f'C4 - {np.around(tmp[3]/tmp.sum()*100, 2)}\\%'],\n",
    "               frameon=False, loc='upper center', bbox_to_anchor=(0.5, 0), fancybox=False, ncol=2, borderaxespad=0.7)\n",
    "    \n",
    "    plt.title(f'MCS of {ves_type} trip contribution')\n",
    "    plt.savefig(f'./gp_plots_V5/Convoys_of_{ves_type}_Trip_Contribution_V2.pdf', dpi=350, bbox_inches='tight')"
   ]
  },
  {
   "cell_type": "code",
   "execution_count": null,
   "metadata": {},
   "outputs": [],
   "source": []
  },
  {
   "cell_type": "code",
   "execution_count": null,
   "metadata": {},
   "outputs": [],
   "source": []
  },
  {
   "cell_type": "code",
   "execution_count": 32,
   "metadata": {},
   "outputs": [],
   "source": [
    "df_convoys_of_fisheries_trip_contributions = pd.read_csv('./data/csv/stats/GP_STATS/convoys_of_fisheries_trip_contributions_V2.csv')\n",
    "df_flocks_of_fisheries_trip_contributions = pd.read_csv('./data/csv/stats/GP_STATS/flocks_of_fisheries_trip_contributions_V2.csv')\n",
    "\n",
    "df_convoys_of_cargos_trip_contributions = pd.read_csv('./data/csv/stats/GP_STATS/convoys_of_cargos_trip_contributions_V2.csv')\n",
    "try:\n",
    "    df_flocks_of_cargos_trip_contributions = pd.read_csv('./data/csv/stats/GP_STATS/flocks_of_cargos_trip_contributions_V2.csv')\n",
    "except:\n",
    "    df_flocks_of_cargos_trip_contributions = pd.DataFrame()\n",
    "\n",
    "try:\n",
    "    df_convoys_of_tankers_trip_contributions = pd.read_csv('./data/csv/stats/GP_STATS/convoys_of_tankers_trip_contributions_V2.csv')\n",
    "except:\n",
    "    df_convoys_of_tankers_trip_contributions = pd.DataFrame()\n",
    "\n",
    "try:\n",
    "    df_flocks_of_tankers_trip_contributions = pd.read_csv('./data/csv/stats/GP_STATS/flocks_of_tankers_trip_contributions_V2.csv')\n",
    "except:\n",
    "    df_flocks_of_tankers_trip_contributions = pd.DataFrame()"
   ]
  },
  {
   "cell_type": "code",
   "execution_count": 44,
   "metadata": {},
   "outputs": [
    {
     "data": {
      "text/plain": [
       "0    0\n",
       "dtype: int64"
      ]
     },
     "execution_count": 44,
     "metadata": {},
     "output_type": "execute_result"
    }
   ],
   "source": [
    "# df_convoys_of_fisheries_trip_contributions.sum(axis=0)\n",
    "# len(df_convoys_of_fisheries_trip_contributions)\n",
    "\n",
    "# df_flocks_of_fisheries_trip_contributions.sum(axis=0)\n",
    "# len(df_flocks_of_fisheries_trip_contributions)\n",
    "\n",
    "\n",
    "# df_convoys_of_cargos_trip_contributions.sum(axis=0)\n",
    "# len(df_convoys_of_cargos_trip_contributions)\n",
    "\n",
    "# df_flocks_of_cargos_trip_contributions.sum(axis=0)\n",
    "# len(df_flocks_of_cargos_trip_contributions)\n",
    "\n",
    "\n",
    "# df_convoys_of_tankers_trip_contributions.sum(axis=0)\n",
    "# len(df_convoys_of_tankers_trip_contributions)\n",
    "\n",
    "# df_flocks_of_tankers_trip_contributions.sum(axis=0)\n",
    "# len(df_flocks_of_tankers_trip_contributions)"
   ]
  }
 ],
 "metadata": {
  "kernelspec": {
   "display_name": "Python 3 (GIS)",
   "language": "python",
   "name": "gis"
  },
  "language_info": {
   "codemirror_mode": {
    "name": "ipython",
    "version": 3
   },
   "file_extension": ".py",
   "mimetype": "text/x-python",
   "name": "python",
   "nbconvert_exporter": "python",
   "pygments_lexer": "ipython3",
   "version": "3.7.2"
  }
 },
 "nbformat": 4,
 "nbformat_minor": 2
}
