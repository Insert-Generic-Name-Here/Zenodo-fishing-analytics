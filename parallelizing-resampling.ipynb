{
 "cells": [
  {
   "cell_type": "code",
   "execution_count": 4,
   "metadata": {},
   "outputs": [],
   "source": [
    "import pandas as pd\n",
    "import geopandas as gpd\n",
    "import numpy as np\n",
    "from shapely.geometry import Point\n",
    "from matplotlib import pyplot as plt\n",
    "import matplotlib.gridspec as gridspec\n",
    "from random import choice\n",
    "pd.options.mode.chained_assignment = None \n",
    "import configparser\n",
    "import pickle\n",
    "import psycopg2\n",
    "import psycopg2.extras\n",
    "import contextily as ctx\n",
    "import multiprocessing as mp"
   ]
  },
  {
   "cell_type": "code",
   "execution_count": 5,
   "metadata": {},
   "outputs": [],
   "source": [
    "import os, sys\n",
    "sys.path.append(os.path.join(os.path.expanduser('~'), 'Documents/Coding/Python'))\n",
    "# sys.path\n",
    "\n",
    "from lonelyboy.geospatial import plots as gsplt\n",
    "from lonelyboy.geospatial import preprocessing as gspp\n",
    "from lonelyboy.timeseries import lbtimeseries as tspp\n",
    "# from lonelyboy.geospatial import group_patterns as gsgp\n",
    "\n",
    "\n",
    "# from IPython.core.interactiveshell import InteractiveShell\n",
    "# InteractiveShell.ast_node_interactivity = \"all\"\n",
    "import PyQt5\n",
    "import matplotlib.pyplot as plt\n",
    "from matplotlib import style;  style.use('ggplot')\n",
    "\n",
    "style.use('ggplot')\n",
    "\n",
    "get_ipython().magic('matplotlib qt')\n",
    "# get_ipython().magic('matplotlib inline')"
   ]
  },
  {
   "cell_type": "code",
   "execution_count": 6,
   "metadata": {},
   "outputs": [],
   "source": [
    "PLT_IMAGE_WIDTH = 3.748\n",
    "PLT_IMAGE_HEIGHT = PLT_IMAGE_WIDTH/1.618\n",
    "\n",
    "plt.rc('text', usetex=True)\n",
    "plt.rc('font', family='sans-serif', size=8)\n",
    "plt.rcParams['figure.figsize'] = (PLT_IMAGE_WIDTH, PLT_IMAGE_HEIGHT)"
   ]
  },
  {
   "cell_type": "markdown",
   "metadata": {},
   "source": [
    "# Reading the Vessels' MMSIs"
   ]
  },
  {
   "cell_type": "code",
   "execution_count": 7,
   "metadata": {},
   "outputs": [],
   "source": [
    "CLUSTER_ID = 0\n",
    "\n",
    "mmsi_list = pd.read_pickle(os.path.join('.', 'data/pkl/mmsi_list.pckl'))[CLUSTER_ID]\n",
    "mmsi_list_window_size = mp.cpu_count()-1"
   ]
  },
  {
   "cell_type": "code",
   "execution_count": 8,
   "metadata": {},
   "outputs": [
    {
     "name": "stdout",
     "output_type": "stream",
     "text": [
      "Wall time: 141 ms\n"
     ]
    }
   ],
   "source": [
    "%%time\n",
    "properties = configparser.ConfigParser()\n",
    "\n",
    "properties = configparser.ConfigParser()\n",
    "properties.read(os.path.join('.','sql_server.ini'))\n",
    "properties = properties['SERVER']\n",
    "\n",
    "host    = properties['host']\n",
    "db_name = properties['db_name']\n",
    "uname   = properties['uname']\n",
    "pw      = properties['pw']\n",
    "port    = properties['port']\n",
    "\n",
    "query = \"select * from ais_data.dynamic_ships_min_trip_card_2_segmented_12h where mmsi in %s;\"\n",
    "con = psycopg2.connect(database=db_name, user=uname, password=pw, host=host, port=port)"
   ]
  },
  {
   "cell_type": "code",
   "execution_count": 17,
   "metadata": {},
   "outputs": [],
   "source": [
    "con.close() # close the jupyter connection"
   ]
  },
  {
   "cell_type": "code",
   "execution_count": 9,
   "metadata": {},
   "outputs": [],
   "source": [
    "cmap = plt.cm.tab20"
   ]
  },
  {
   "cell_type": "code",
   "execution_count": 10,
   "metadata": {},
   "outputs": [],
   "source": [
    "from scipy.interpolate import interp1d\n",
    "\n",
    "def resample_geospatial(df, features=['lat', 'lon'], rule='60S', method='linear', crs={'init': 'epsg:4326'}, drop_lon_lat=False):\n",
    "    df['datetime'] = pd.to_datetime(df['ts'], unit='s')\n",
    "    x = df['datetime'].values.astype(np.int64)\n",
    "    y = df[features].values\n",
    "\n",
    "    # scipy interpolate needs at least 2 records \n",
    "    if (len(df) <= 1):\n",
    "        return df.iloc[0:0]\n",
    "\n",
    "    f = interp1d(x, y, kind=method, axis=0)\n",
    "    xnew_V2 = pd.date_range(start=df['datetime'].min().replace(second=0), end=df['datetime'].max().replace(second=0), freq=rule, closed='right')\n",
    "\n",
    "    df_RESAMPLED = pd.DataFrame(f(xnew_V2), columns=features)\n",
    "    df_RESAMPLED.loc[:, 'datetime'] = xnew_V2\n",
    "    df_RESAMPLED.loc[:, 'geom'] = df_RESAMPLED[['lon', 'lat']].apply(lambda x: Point(x[0], x[1]), axis=1)\n",
    "\n",
    "    #drop lat and lon if u like\n",
    "    if drop_lon_lat:\n",
    "        df_RESAMPLED = df_RESAMPLED.drop(['lat', 'lon'], axis=1)\n",
    "    return gpd.GeoDataFrame(df_RESAMPLED, crs=crs, geometry='geom')"
   ]
  },
  {
   "cell_type": "code",
   "execution_count": 12,
   "metadata": {},
   "outputs": [],
   "source": [
    "from tqdm import tqdm_notebook\n",
    "from functools import partial\n",
    "\n",
    "def __parallelize_resampling(x, features=['lat', 'lon'], rule='60S', method='linear', crs={'init': 'epsg:4326'}, drop_lon_lat=False):\n",
    "    print (f'Resampling for mmsi:{x.mmsi.unique()[0]}')\n",
    "    y = x.groupby(['trip_id'], group_keys=False).apply(resample_geospatial, features=features, rule=rule, method=method, crs=crs, drop_lon_lat=drop_lon_lat)\n",
    "    print (f'Resampling for mmsi:{x.mmsi.unique()[0]} Complete')\n",
    "    return y\n",
    "        \n",
    "def parallelize_resampling(df, features=['lat', 'lon'], rule='60S', method='linear', crs={'init': 'epsg:4326'}, drop_lon_lat=False):\n",
    "    num_cores = mp.cpu_count()-1  #leave one free to not freeze machine\n",
    "    df_split = [df.loc[df.mmsi==mmsi] for mmsi in df.mmsi.unique()]\n",
    "    \n",
    "    func = partial(__parallelize_resampling, features=features, rule=rule, method=method, crs=crs, drop_lon_lat=drop_lon_lat)\n",
    "    pool = mp.Pool(num_cores)\n",
    "    \n",
    "    res = pd.concat(pool.map(func, df_split))\n",
    "    print (f'Resampling Complete!')\n",
    "    pool.close()\n",
    "    pool.join()\n",
    "    return res"
   ]
  },
  {
   "cell_type": "code",
   "execution_count": null,
   "metadata": {},
   "outputs": [
    {
     "name": "stdout",
     "output_type": "stream",
     "text": [
      "Fetching Data....\n"
     ]
    }
   ],
   "source": [
    "for i in range(0, len(mmsi_list), mmsi_list_window_size):\n",
    "    print ('Fetching Data....')\n",
    "    mmsis = mmsi_list[i:i+mmsi_list_window_size]\n",
    "    dfTmp = pd.read_sql_query(query%(tuple(mmsis),), con=con)\n",
    "    df2 = parallelize_resampling(dfTmp, features=dfTmp.columns, rule=f'{1*60}S')"
   ]
  },
  {
   "cell_type": "code",
   "execution_count": null,
   "metadata": {},
   "outputs": [],
   "source": []
  },
  {
   "cell_type": "code",
   "execution_count": 15,
   "metadata": {
    "scrolled": true
   },
   "outputs": [],
   "source": [
    "gsplt.map_plot(df2.loc[(df2.mmsi==228037600) & (df2.trip_id == 7)], color=[cmap(0)])"
   ]
  },
  {
   "cell_type": "code",
   "execution_count": 16,
   "metadata": {},
   "outputs": [],
   "source": [
    "tmp = df.loc[(df.mmsi==228037600) & (df.trip_id == 7)]\n",
    "gsplt.map_plot(gspp.gdf_from_df(tmp), color=[cmap(0)])"
   ]
  }
 ],
 "metadata": {
  "kernelspec": {
   "display_name": "Python 3 (GIS)",
   "language": "python",
   "name": "gis"
  },
  "language_info": {
   "codemirror_mode": {
    "name": "ipython",
    "version": 3
   },
   "file_extension": ".py",
   "mimetype": "text/x-python",
   "name": "python",
   "nbconvert_exporter": "python",
   "pygments_lexer": "ipython3",
   "version": "3.7.1"
  }
 },
 "nbformat": 4,
 "nbformat_minor": 2
}
