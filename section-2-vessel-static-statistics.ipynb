{
 "cells": [
  {
   "cell_type": "code",
   "execution_count": null,
   "metadata": {},
   "outputs": [],
   "source": [
    "import pandas as pd\n",
    "import geopandas as gpd\n",
    "import numpy as np\n",
    "from shapely.geometry import Point\n",
    "from matplotlib import pyplot as plt\n",
    "import matplotlib.gridspec as gridspec\n",
    "from random import choice\n",
    "pd.options.mode.chained_assignment = None \n",
    "import pickle"
   ]
  },
  {
   "cell_type": "code",
   "execution_count": null,
   "metadata": {},
   "outputs": [],
   "source": [
    "import os, sys\n",
    "sys.path.append(os.path.join(os.path.expanduser('~'), 'Documents/Insert-Generic-Name-Here/'))\n",
    "# sys.path\n",
    "\n",
    "from lonelyboy.geospatial import plots as gsplt\n",
    "from lonelyboy.geospatial import preprocessing as gspp\n",
    "from lonelyboy.timeseries import lbtimeseries as tspp\n",
    "# from lonelyboy.geospatial import group_patterns as gsgp\n",
    "\n",
    "\n",
    "# from IPython.core.interactiveshell import InteractiveShell\n",
    "# InteractiveShell.ast_node_interactivity = \"all\"\n",
    "import PyQt5\n",
    "import matplotlib.pyplot as plt\n",
    "from matplotlib import style;  style.use('ggplot')\n",
    "get_ipython().magic('matplotlib qt')\n",
    "# get_ipython().magic('matplotlib inline')"
   ]
  },
  {
   "cell_type": "code",
   "execution_count": null,
   "metadata": {},
   "outputs": [],
   "source": [
    "PLT_FIG_WIDTH = 13.487\n",
    "PLT_FIG_HEIGHT = PLT_FIG_WIDTH / 1.618"
   ]
  },
  {
   "cell_type": "markdown",
   "metadata": {},
   "source": [
    "## Vessel-Static Data Statistics"
   ]
  },
  {
   "cell_type": "code",
   "execution_count": null,
   "metadata": {},
   "outputs": [],
   "source": [
    "vessel_static = pd.read_csv('./data/csv/nari_static.csv')\n",
    "vessel_cat_list = pd.read_csv('./data/csv/Ship Types List.csv')\n",
    "vessel_det_cat_list = pd.read_csv('./data/csv/Ship Types Detailed List.csv')"
   ]
  },
  {
   "cell_type": "code",
   "execution_count": null,
   "metadata": {},
   "outputs": [],
   "source": [
    "print (f'Before: {len(vessel_static)}')\n",
    "vessel_static = vessel_static.dropna(subset=['shiptype'])\n",
    "vessel_static = vessel_static.drop_duplicates(subset=['sourcemmsi', 'shiptype'], keep='first')\n",
    "print (f'After: {len(vessel_static)}')"
   ]
  },
  {
   "cell_type": "code",
   "execution_count": null,
   "metadata": {
    "scrolled": true
   },
   "outputs": [],
   "source": [
    "vessel_static.head(10)"
   ]
  },
  {
   "cell_type": "code",
   "execution_count": null,
   "metadata": {},
   "outputs": [],
   "source": [
    "len(vessel_static.sourcemmsi.unique())"
   ]
  },
  {
   "cell_type": "code",
   "execution_count": null,
   "metadata": {
    "scrolled": true
   },
   "outputs": [],
   "source": [
    "for mmsi, mmsi_static in vessel_static.groupby('sourcemmsi'):\n",
    "    ves_types = [vessel_cat_list.loc[(shiptypeID >= vessel_cat_list.shiptype_min) & (shiptypeID <= vessel_cat_list.shiptype_max)][['type_name', 'ais_type_summary']]['type_name'].values.tolist() for shiptypeID in mmsi_static.shiptype.unique()]\n",
    "    if (len(ves_types) > 1):\n",
    "        print (f'Vessel: {mmsi}\\t Shiptype(s): {ves_types}')"
   ]
  },
  {
   "cell_type": "code",
   "execution_count": null,
   "metadata": {
    "scrolled": true
   },
   "outputs": [],
   "source": [
    "vessel_cat_list"
   ]
  },
  {
   "cell_type": "code",
   "execution_count": null,
   "metadata": {},
   "outputs": [],
   "source": []
  },
  {
   "cell_type": "code",
   "execution_count": null,
   "metadata": {
    "scrolled": true
   },
   "outputs": [],
   "source": [
    "vessel_det_cat_list.head()"
   ]
  },
  {
   "cell_type": "code",
   "execution_count": null,
   "metadata": {},
   "outputs": [],
   "source": []
  },
  {
   "cell_type": "code",
   "execution_count": null,
   "metadata": {
    "scrolled": true
   },
   "outputs": [],
   "source": [
    "vessel_categories = vessel_cat_list.merge(vessel_det_cat_list, on='id_shiptype', how='inner')\n",
    "vessel_categories"
   ]
  },
  {
   "cell_type": "code",
   "execution_count": null,
   "metadata": {},
   "outputs": [],
   "source": [
    "vessel_categories.type_name.unique()"
   ]
  },
  {
   "cell_type": "code",
   "execution_count": null,
   "metadata": {
    "scrolled": true
   },
   "outputs": [],
   "source": [
    "tmp = vessel_static.shiptype.value_counts().to_frame().reset_index()\n",
    "tmp.columns = ['shiptype', '#records']\n",
    "\n",
    "tmp['type_name'] = np.nan\n",
    "tmp['ais_type_summary'] = np.nan\n",
    "\n",
    "for row in tmp.itertuples(index=True):\n",
    "    ves_type = vessel_cat_list.loc[(row.shiptype >= vessel_cat_list.shiptype_min) & (row.shiptype <= vessel_cat_list.shiptype_max)][['type_name', 'ais_type_summary']]\n",
    "    if (len(ves_type) > 0):\n",
    "        tmp.loc[row.Index, 'type_name'] = ves_type.type_name.values[0]\n",
    "        tmp.loc[row.Index, 'ais_type_summary'] = ves_type.ais_type_summary.values[0]\n",
    "\n",
    "tmp.fillna('Unknown', inplace=True)"
   ]
  },
  {
   "cell_type": "code",
   "execution_count": null,
   "metadata": {
    "scrolled": true
   },
   "outputs": [],
   "source": [
    "tmp"
   ]
  },
  {
   "cell_type": "code",
   "execution_count": null,
   "metadata": {},
   "outputs": [],
   "source": [
    "tmp['ais_type_summary'] = tmp['ais_type_summary'].replace(to_replace=r'[ \\t$]{1}', value='\\n', regex=True)"
   ]
  },
  {
   "cell_type": "code",
   "execution_count": null,
   "metadata": {},
   "outputs": [],
   "source": [
    "# tmp.groupby('type_name')['#records'].sum().sort_values().to_frame().reset_index().plot.barh(x='type_name', y='#records', cmap='tab20', rot=25, legend=False)\n",
    "tmp.groupby('ais_type_summary')['#records'].sum().sort_values().to_frame().reset_index().plot.bar(x='ais_type_summary', y='#records', figsize=(PLT_FIG_WIDTH, PLT_FIG_HEIGHT), title='Vessel Type Popularity', cmap='tab20', rot=0, width=0.95, legend=False)\n",
    "# plt.ylabel('Vessel Type')\n",
    "plt.xlabel('')\n",
    "plt.ylabel('#Vessel-Types')"
   ]
  },
  {
   "cell_type": "code",
   "execution_count": null,
   "metadata": {},
   "outputs": [],
   "source": [
    "tmp.loc[tmp['ais_type_summary'] == 'Cargo']['type_name']"
   ]
  },
  {
   "cell_type": "code",
   "execution_count": null,
   "metadata": {},
   "outputs": [],
   "source": []
  },
  {
   "cell_type": "code",
   "execution_count": null,
   "metadata": {},
   "outputs": [],
   "source": [
    "vessel_static_on_steroids = vessel_static\n",
    "vessel_static_on_steroids['type_name'] = np.nan\n",
    "vessel_static_on_steroids['ais_type_summary'] = np.nan\n",
    "\n",
    "for row in vessel_static_on_steroids.itertuples(index=True):\n",
    "    ves_type = vessel_cat_list.loc[(row.shiptype >= vessel_cat_list.shiptype_min) & (row.shiptype <= vessel_cat_list.shiptype_max)][['type_name', 'ais_type_summary']]\n",
    "    if (len(ves_type) > 0):\n",
    "        vessel_static_on_steroids.loc[row.Index, 'type_name'] = ves_type.type_name.values[0]\n",
    "        vessel_static_on_steroids.loc[row.Index, 'ais_type_summary'] = ves_type.ais_type_summary.values[0]\n",
    "\n",
    "vessel_static_on_steroids.fillna('Unknown', inplace=True)"
   ]
  },
  {
   "cell_type": "code",
   "execution_count": null,
   "metadata": {},
   "outputs": [],
   "source": [
    "vessel_static_on_steroids"
   ]
  },
  {
   "cell_type": "code",
   "execution_count": null,
   "metadata": {},
   "outputs": [],
   "source": []
  },
  {
   "cell_type": "code",
   "execution_count": null,
   "metadata": {},
   "outputs": [],
   "source": []
  },
  {
   "cell_type": "code",
   "execution_count": null,
   "metadata": {},
   "outputs": [],
   "source": []
  },
  {
   "cell_type": "markdown",
   "metadata": {},
   "source": [
    "# Intersecting with the Dynamic Data"
   ]
  },
  {
   "cell_type": "code",
   "execution_count": null,
   "metadata": {},
   "outputs": [],
   "source": [
    "mean_records_per_day = pd.read_csv('./data/csv/stats/mean_records_per_day.csv')\n",
    "mean_records_per_day.head()"
   ]
  },
  {
   "cell_type": "code",
   "execution_count": null,
   "metadata": {},
   "outputs": [],
   "source": [
    "tmp2 = pd.merge(mean_records_per_day, vessel_static_on_steroids, left_on='mmsi', right_on='sourcemmsi', how='inner', )\n",
    "tmp2.head()"
   ]
  },
  {
   "cell_type": "code",
   "execution_count": null,
   "metadata": {
    "scrolled": true
   },
   "outputs": [],
   "source": [
    "tmp2 = tmp2.groupby(['type_name', 'ais_type_summary']).size().sort_values(0, ascending=True).reset_index()\n",
    "tmp2.columns = ['type_name', 'ais_type_summary', '#vessels']\n",
    "tmp2"
   ]
  },
  {
   "cell_type": "code",
   "execution_count": null,
   "metadata": {},
   "outputs": [],
   "source": [
    "len(tmp2.loc[tmp2.type_name == 'Fishing'])"
   ]
  },
  {
   "cell_type": "code",
   "execution_count": null,
   "metadata": {},
   "outputs": [],
   "source": [
    "tmp2['ais_type_summary'] = tmp2['ais_type_summary'].replace(to_replace=r'[ \\t$]{1}', value='\\n', regex=True)\n",
    "tmp2.groupby('ais_type_summary')['#vessels'].sum().sort_values().to_frame().reset_index().plot.bar(x='ais_type_summary', y='#vessels', figsize=(PLT_FIG_WIDTH, PLT_FIG_HEIGHT), title='Vessel Type Popularity', cmap='tab20', rot=0, width=0.95, legend=False)\n",
    "# plt.ylabel('Vessel Type')\n",
    "plt.xlabel('')\n",
    "plt.ylabel('#Vessel-Types')"
   ]
  },
  {
   "cell_type": "code",
   "execution_count": null,
   "metadata": {},
   "outputs": [],
   "source": [
    "tmp2['#vessels'].sum()"
   ]
  },
  {
   "cell_type": "code",
   "execution_count": null,
   "metadata": {},
   "outputs": [],
   "source": []
  },
  {
   "cell_type": "markdown",
   "metadata": {},
   "source": [
    "## Getting Information about Fishing Vessels"
   ]
  },
  {
   "cell_type": "code",
   "execution_count": null,
   "metadata": {},
   "outputs": [],
   "source": [
    "mmsis = vessel_static.loc[vessel_static.shiptype == 30].sourcemmsi.unique()\n",
    "np.save('fisheries_mmsis.npy', mmsis)"
   ]
  },
  {
   "cell_type": "code",
   "execution_count": null,
   "metadata": {},
   "outputs": [],
   "source": []
  },
  {
   "cell_type": "code",
   "execution_count": null,
   "metadata": {},
   "outputs": [],
   "source": [
    "mmsis = vessel_static.loc[vessel_static.shiptype == 30].sourcemmsi.unique()\n",
    "\n",
    "import configparser\n",
    "import psycopg2\n",
    "\n",
    "properties = configparser.ConfigParser()\n",
    "properties.read(os.path.join('.','sql_server.ini'))\n",
    "properties = properties['SERVER']\n",
    "\n",
    "host    = properties['host']\n",
    "db_name = properties['db_name']\n",
    "uname   = properties['uname']\n",
    "pw      = properties['pw']\n",
    "port    = properties['port']\n",
    "con     = psycopg2.connect(database=db_name, user=uname, password=pw, host=host, port=port)\n",
    "cur     = con.cursor()"
   ]
  },
  {
   "cell_type": "code",
   "execution_count": null,
   "metadata": {},
   "outputs": [],
   "source": [
    "traj_sql = 'SELECT * FROM ais_data.dynamic_ships_segmented_12h_resampled_1min WHERE mmsi IN %s'\n",
    "fishing_vessels_trips = pd.read_sql_query(traj_sql%(tuple(mmsis),), con=con)"
   ]
  },
  {
   "cell_type": "code",
   "execution_count": null,
   "metadata": {},
   "outputs": [],
   "source": [
    "fishing_vessels_trips.columns = ['id', 'mmsi', 'turn', 'speed', 'velocity', 'course', 'heading', 'lon',\n",
    "                                 'lat', 'ts', 'traj_id', 'datetime', 'real_point',\n",
    "                                 'trip_id']"
   ]
  },
  {
   "cell_type": "code",
   "execution_count": null,
   "metadata": {},
   "outputs": [],
   "source": [
    "fishing_vessels_trips.to_csv('fisheries_dynamic.csv', header=True, index=False)"
   ]
  },
  {
   "cell_type": "code",
   "execution_count": null,
   "metadata": {},
   "outputs": [],
   "source": []
  },
  {
   "cell_type": "code",
   "execution_count": null,
   "metadata": {},
   "outputs": [],
   "source": []
  },
  {
   "cell_type": "code",
   "execution_count": null,
   "metadata": {},
   "outputs": [],
   "source": [
    "fishing_vessels_trips = pd.read_csv('data/csv/fisheries_dynamic.csv')"
   ]
  },
  {
   "cell_type": "code",
   "execution_count": null,
   "metadata": {},
   "outputs": [],
   "source": [
    "fishing_vessels_trips.loc[fishing_vessels_trips.real_point == 1].to_csv('fisheries_dynamic_real_points.csv', header=True, index=False) "
   ]
  },
  {
   "cell_type": "code",
   "execution_count": null,
   "metadata": {},
   "outputs": [],
   "source": [
    "# tmp = fishing_vessels_trips.loc[fishing_vessels_trips.mmsi==227650230]\n",
    "# tmp = gspp.gdf_from_df(tmp)\n",
    "# gsplt.map_plot(tmp, column='trip_id', color=[None], cmap='viridis')"
   ]
  }
 ],
 "metadata": {
  "kernelspec": {
   "display_name": "Python 3 (GIS)",
   "language": "python",
   "name": "gis"
  },
  "language_info": {
   "codemirror_mode": {
    "name": "ipython",
    "version": 3
   },
   "file_extension": ".py",
   "mimetype": "text/x-python",
   "name": "python",
   "nbconvert_exporter": "python",
   "pygments_lexer": "ipython3",
   "version": "3.7.2"
  }
 },
 "nbformat": 4,
 "nbformat_minor": 2
}
