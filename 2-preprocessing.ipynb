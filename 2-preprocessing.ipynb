{
 "cells": [
  {
   "cell_type": "markdown",
   "metadata": {
    "toc": true
   },
   "source": [
    "<h1>Table of Contents<span class=\"tocSkip\"></span></h1>\n",
    "<div class=\"toc\"><ul class=\"toc-item\"><li><ul class=\"toc-item\"><li><span><a href=\"#Notes:\" data-toc-modified-id=\"Notes:-0.1\"><span class=\"toc-item-num\">0.1&nbsp;&nbsp;</span>Notes:</a></span><ul class=\"toc-item\"><li><span><a href=\"#Line-with-(Potential)-Noise:-mmsi-=-371415000\" data-toc-modified-id=\"Line-with-(Potential)-Noise:-mmsi-=-371415000-0.1.1\"><span class=\"toc-item-num\">0.1.1&nbsp;&nbsp;</span>Line with <em>(Potential)</em> Noise: <em>mmsi = 371415000</em></a></span></li><li><span><a href=\"#Line-with-(Potentially)-NOT-any-Noise:-mmsi-=-228762000\" data-toc-modified-id=\"Line-with-(Potentially)-NOT-any-Noise:-mmsi-=-228762000-0.1.2\"><span class=\"toc-item-num\">0.1.2&nbsp;&nbsp;</span>Line with <em>(Potentially)</em> NOT any Noise: <em>mmsi = 228762000</em></a></span></li></ul></li><li><span><a href=\"#Note:-First-Execute-the-Functions-in-the-Bottom-Cells\" data-toc-modified-id=\"Note:-First-Execute-the-Functions-in-the-Bottom-Cells-0.2\"><span class=\"toc-item-num\">0.2&nbsp;&nbsp;</span>Note: First Execute the Functions in the Bottom Cells</a></span><ul class=\"toc-item\"><li><span><a href=\"#Plotting-Timestamps-and-Difference-Sequence...\" data-toc-modified-id=\"Plotting-Timestamps-and-Difference-Sequence...-0.2.1\"><span class=\"toc-item-num\">0.2.1&nbsp;&nbsp;</span>Plotting Timestamps and Difference Sequence...</a></span></li><li><span><a href=\"#Something's-going-on-with-the-Timestamps...\" data-toc-modified-id=\"Something's-going-on-with-the-Timestamps...-0.2.2\"><span class=\"toc-item-num\">0.2.2&nbsp;&nbsp;</span>Something's going on with the Timestamps...</a></span></li><li><span><a href=\"#Plotting-the-(Timestamp-Outlier-Free)-Dataset...\" data-toc-modified-id=\"Plotting-the-(Timestamp-Outlier-Free)-Dataset...-0.2.3\"><span class=\"toc-item-num\">0.2.3&nbsp;&nbsp;</span>Plotting the (Timestamp-Outlier-Free) Dataset...</a></span></li><li><span><a href=\"#...vs.The-Original-Trajectory\" data-toc-modified-id=\"...vs.The-Original-Trajectory-0.2.4\"><span class=\"toc-item-num\">0.2.4&nbsp;&nbsp;</span>...vs.The Original Trajectory</a></span></li></ul></li><li><span><a href=\"#Potential-Area-of-Activity-(PAA)-Denoising\" data-toc-modified-id=\"Potential-Area-of-Activity-(PAA)-Denoising-0.3\"><span class=\"toc-item-num\">0.3&nbsp;&nbsp;</span>Potential Area-of-Activity (PAA) Denoising</a></span><ul class=\"toc-item\"><li><span><a href=\"#Approximating-the-Problem-with-Velocity-Outliers-rather-than-using-a-Velocity-Threshold\" data-toc-modified-id=\"Approximating-the-Problem-with-Velocity-Outliers-rather-than-using-a-Velocity-Threshold-0.3.1\"><span class=\"toc-item-num\">0.3.1&nbsp;&nbsp;</span>Approximating the Problem with Velocity Outliers rather than using a Velocity Threshold</a></span></li><li><span><a href=\"#TODO:-Find-the-Velocity-Threshold-for-the-Fishing-Boats\" data-toc-modified-id=\"TODO:-Find-the-Velocity-Threshold-for-the-Fishing-Boats-0.3.2\"><span class=\"toc-item-num\">0.3.2&nbsp;&nbsp;</span><strong>TODO</strong>: Find the Velocity Threshold for the Fishing Boats</a></span></li><li><span><a href=\"#Plotting-the-Outliers-in-the-Original-Trajectory...\" data-toc-modified-id=\"Plotting-the-Outliers-in-the-Original-Trajectory...-0.3.3\"><span class=\"toc-item-num\">0.3.3&nbsp;&nbsp;</span>Plotting the Outliers in the Original Trajectory...</a></span></li><li><span><a href=\"#...vs.-The-Deleted-Points\" data-toc-modified-id=\"...vs.-The-Deleted-Points-0.3.4\"><span class=\"toc-item-num\">0.3.4&nbsp;&nbsp;</span>...vs. The Deleted Points</a></span></li></ul></li><li><span><a href=\"#TESTING:-Detecting-Outliers-\\w-Pandas-vs.-NumPy\" data-toc-modified-id=\"TESTING:-Detecting-Outliers-\\w-Pandas-vs.-NumPy-0.4\"><span class=\"toc-item-num\">0.4&nbsp;&nbsp;</span>TESTING: Detecting Outliers \\w Pandas vs. NumPy</a></span></li><li><span><a href=\"#TESTING:-(Geo)Pandas-Distance-vs.-Other-Mehods\" data-toc-modified-id=\"TESTING:-(Geo)Pandas-Distance-vs.-Other-Mehods-0.5\"><span class=\"toc-item-num\">0.5&nbsp;&nbsp;</span>TESTING: (Geo)Pandas Distance vs. Other Mehods</a></span></li></ul></li><li><span><a href=\"#FUNCTIONS\" data-toc-modified-id=\"FUNCTIONS-1\"><span class=\"toc-item-num\">1&nbsp;&nbsp;</span>FUNCTIONS</a></span></li></ul></div>"
   ]
  },
  {
   "cell_type": "markdown",
   "metadata": {},
   "source": [
    "## Notes:\n",
    "* ### Line with _(Potential)_ Noise: _mmsi = 371415000_\n",
    "* ### Line with _(Potentially)_ NOT any Noise: _mmsi = 228762000_"
   ]
  },
  {
   "cell_type": "code",
   "execution_count": 65,
   "metadata": {},
   "outputs": [],
   "source": [
    "import PyQt5\n",
    "import matplotlib.pyplot as plt\n",
    "from matplotlib import style;  style.use('ggplot')\n",
    "get_ipython().magic('matplotlib qt')"
   ]
  },
  {
   "cell_type": "code",
   "execution_count": 79,
   "metadata": {},
   "outputs": [],
   "source": [
    "from IPython.core.interactiveshell import InteractiveShell\n",
    "InteractiveShell.ast_node_interactivity = \"all\""
   ]
  },
  {
   "cell_type": "code",
   "execution_count": 64,
   "metadata": {
    "ExecuteTime": {
     "end_time": "2018-10-04T15:04:46.477697Z",
     "start_time": "2018-10-04T15:04:45.323456Z"
    }
   },
   "outputs": [],
   "source": [
    "import os\n",
    "import psycopg2\n",
    "import numpy as np\n",
    "import configparser\n",
    "import pandas as pd\n",
    "import geopandas as gpd\n",
    "import contextily as ctx\n",
    "from random import choice\n",
    "from tqdm import tqdm_notebook\n",
    "import matplotlib.pyplot as plt\n",
    "from sklearn.cluster import DBSCAN, MeanShift\n",
    "from sklearn.preprocessing import MinMaxScaler\n",
    "from shapely.geometry import Point, LineString, shape"
   ]
  },
  {
   "cell_type": "code",
   "execution_count": 68,
   "metadata": {},
   "outputs": [],
   "source": [
    "properties = configparser.ConfigParser()\n",
    "properties.read(os.path.join('.','sql_server.ini'))\n",
    "properties = properties['SERVER']"
   ]
  },
  {
   "cell_type": "markdown",
   "metadata": {},
   "source": [
    "## Note: First Execute the Functions in the Bottom Cells"
   ]
  },
  {
   "cell_type": "code",
   "execution_count": 70,
   "metadata": {
    "ExecuteTime": {
     "end_time": "2018-10-04T15:05:10.629369Z",
     "start_time": "2018-10-04T15:04:46.485000Z"
    }
   },
   "outputs": [
    {
     "name": "stdout",
     "output_type": "stream",
     "text": [
      "Fetched 15.2MiB\n"
     ]
    }
   ],
   "source": [
    "host    = properties['host']\n",
    "db_name = properties['db_name']\n",
    "uname   = properties['uname']\n",
    "pw      = properties['pw']\n",
    "port    = properties['port']\n",
    "\n",
    "con = psycopg2.connect(database=db_name, user=uname, password=pw, host=host, port = port)\n",
    "sql = 'SELECT * FROM ais_data.dynamic_ships WHERE ts>1456889110 AND ts<1456975510'\n",
    "df = gpd.GeoDataFrame.from_postgis(sql, con, geom_col='geom' )\n",
    "\n",
    "con.close()\n",
    "\n",
    "print(f'Fetched {sizeof_fmt(df.memory_usage().sum())}')"
   ]
  },
  {
   "cell_type": "code",
   "execution_count": 9,
   "metadata": {},
   "outputs": [],
   "source": []
  },
  {
   "cell_type": "code",
   "execution_count": null,
   "metadata": {},
   "outputs": [],
   "source": []
  },
  {
   "cell_type": "code",
   "execution_count": 77,
   "metadata": {
    "scrolled": true
   },
   "outputs": [],
   "source": [
    "df.mmsi.unique()"
   ]
  },
  {
   "cell_type": "code",
   "execution_count": 84,
   "metadata": {},
   "outputs": [
    {
     "data": {
      "text/html": [
       "<div>\n",
       "<style scoped>\n",
       "    .dataframe tbody tr th:only-of-type {\n",
       "        vertical-align: middle;\n",
       "    }\n",
       "\n",
       "    .dataframe tbody tr th {\n",
       "        vertical-align: top;\n",
       "    }\n",
       "\n",
       "    .dataframe thead th {\n",
       "        text-align: right;\n",
       "    }\n",
       "</style>\n",
       "<table border=\"1\" class=\"dataframe\">\n",
       "  <thead>\n",
       "    <tr style=\"text-align: right;\">\n",
       "      <th></th>\n",
       "      <th>index</th>\n",
       "      <th>id</th>\n",
       "      <th>mmsi</th>\n",
       "      <th>status</th>\n",
       "      <th>turn</th>\n",
       "      <th>speed</th>\n",
       "      <th>course</th>\n",
       "      <th>heading</th>\n",
       "      <th>lon</th>\n",
       "      <th>lat</th>\n",
       "      <th>ts</th>\n",
       "      <th>geom</th>\n",
       "    </tr>\n",
       "  </thead>\n",
       "  <tbody>\n",
       "    <tr>\n",
       "      <th>0</th>\n",
       "      <td>20960</td>\n",
       "      <td>12413781</td>\n",
       "      <td>371415000</td>\n",
       "      <td>0.0</td>\n",
       "      <td>127.0</td>\n",
       "      <td>11.1</td>\n",
       "      <td>71.0</td>\n",
       "      <td>65</td>\n",
       "      <td>-5.378398</td>\n",
       "      <td>48.042583</td>\n",
       "      <td>1456916014</td>\n",
       "      <td>POINT (-5.3783984 48.042583)</td>\n",
       "    </tr>\n",
       "    <tr>\n",
       "      <th>1</th>\n",
       "      <td>21182</td>\n",
       "      <td>12414003</td>\n",
       "      <td>371415000</td>\n",
       "      <td>0.0</td>\n",
       "      <td>0.0</td>\n",
       "      <td>11.5</td>\n",
       "      <td>71.0</td>\n",
       "      <td>65</td>\n",
       "      <td>-5.363332</td>\n",
       "      <td>48.046017</td>\n",
       "      <td>1456916214</td>\n",
       "      <td>POINT (-5.363332 48.046017)</td>\n",
       "    </tr>\n",
       "  </tbody>\n",
       "</table>\n",
       "</div>"
      ],
      "text/plain": [
       "   index        id       mmsi  status   turn  speed  course  heading  \\\n",
       "0  20960  12413781  371415000     0.0  127.0   11.1    71.0       65   \n",
       "1  21182  12414003  371415000     0.0    0.0   11.5    71.0       65   \n",
       "\n",
       "        lon        lat          ts                          geom  \n",
       "0 -5.378398  48.042583  1456916014  POINT (-5.3783984 48.042583)  \n",
       "1 -5.363332  48.046017  1456916214   POINT (-5.363332 48.046017)  "
      ]
     },
     "execution_count": 84,
     "metadata": {},
     "output_type": "execute_result"
    },
    {
     "data": {
      "text/html": [
       "<div>\n",
       "<style scoped>\n",
       "    .dataframe tbody tr th:only-of-type {\n",
       "        vertical-align: middle;\n",
       "    }\n",
       "\n",
       "    .dataframe tbody tr th {\n",
       "        vertical-align: top;\n",
       "    }\n",
       "\n",
       "    .dataframe thead th {\n",
       "        text-align: right;\n",
       "    }\n",
       "</style>\n",
       "<table border=\"1\" class=\"dataframe\">\n",
       "  <thead>\n",
       "    <tr style=\"text-align: right;\">\n",
       "      <th></th>\n",
       "      <th>index</th>\n",
       "      <th>id</th>\n",
       "      <th>mmsi</th>\n",
       "      <th>status</th>\n",
       "      <th>turn</th>\n",
       "      <th>speed</th>\n",
       "      <th>course</th>\n",
       "      <th>heading</th>\n",
       "      <th>lon</th>\n",
       "      <th>lat</th>\n",
       "      <th>ts</th>\n",
       "      <th>geom</th>\n",
       "    </tr>\n",
       "  </thead>\n",
       "  <tbody>\n",
       "    <tr>\n",
       "      <th>0</th>\n",
       "      <td>20960</td>\n",
       "      <td>12413781</td>\n",
       "      <td>371415000</td>\n",
       "      <td>0.0</td>\n",
       "      <td>127.0</td>\n",
       "      <td>11.1</td>\n",
       "      <td>71.0</td>\n",
       "      <td>65</td>\n",
       "      <td>-5.378398</td>\n",
       "      <td>48.042583</td>\n",
       "      <td>1456916014</td>\n",
       "      <td>POINT (-598720.571171356 6113942.054820082)</td>\n",
       "    </tr>\n",
       "    <tr>\n",
       "      <th>1</th>\n",
       "      <td>82395</td>\n",
       "      <td>12697067</td>\n",
       "      <td>371415000</td>\n",
       "      <td>0.0</td>\n",
       "      <td>127.0</td>\n",
       "      <td>11.1</td>\n",
       "      <td>71.0</td>\n",
       "      <td>65</td>\n",
       "      <td>-5.378398</td>\n",
       "      <td>48.042583</td>\n",
       "      <td>1456916014</td>\n",
       "      <td>POINT (-598720.571171356 6113942.054820082)</td>\n",
       "    </tr>\n",
       "  </tbody>\n",
       "</table>\n",
       "</div>"
      ],
      "text/plain": [
       "   index        id       mmsi  status   turn  speed  course  heading  \\\n",
       "0  20960  12413781  371415000     0.0  127.0   11.1    71.0       65   \n",
       "1  82395  12697067  371415000     0.0  127.0   11.1    71.0       65   \n",
       "\n",
       "        lon        lat          ts  \\\n",
       "0 -5.378398  48.042583  1456916014   \n",
       "1 -5.378398  48.042583  1456916014   \n",
       "\n",
       "                                          geom  \n",
       "0  POINT (-598720.571171356 6113942.054820082)  \n",
       "1  POINT (-598720.571171356 6113942.054820082)  "
      ]
     },
     "execution_count": 84,
     "metadata": {},
     "output_type": "execute_result"
    }
   ],
   "source": [
    "sample_ves = df.loc[df['mmsi'] == 371415000].reset_index()\n",
    "# sample_ves = df.loc[df['mmsi'] == 228762000].reset_index()\n",
    "# sample_ves = df.loc[df['mmsi'] == 226216000].reset_index()\n",
    "# sample_ves.crs = {'init': 'epsg:4326'}\n",
    "sample_ves.head(2)\n",
    "\n",
    "# Convert to EPSG:3857 coordinate system and Sort by timestamp\n",
    "sample_ves_espg3857 = sample_ves.to_crs(epsg=3857).sort_values('ts').reset_index().drop(['level_0'], axis=1)\n",
    "sample_ves_espg3857.head(2)"
   ]
  },
  {
   "cell_type": "code",
   "execution_count": null,
   "metadata": {},
   "outputs": [],
   "source": []
  },
  {
   "cell_type": "code",
   "execution_count": null,
   "metadata": {},
   "outputs": [],
   "source": []
  },
  {
   "cell_type": "code",
   "execution_count": 86,
   "metadata": {
    "ExecuteTime": {
     "end_time": "2018-10-04T15:05:13.140040Z",
     "start_time": "2018-10-04T15:05:10.692626Z"
    },
    "cell_style": "center"
   },
   "outputs": [
    {
     "data": {
      "text/plain": [
       "<matplotlib.collections.PathCollection at 0x7f9c680a57b8>"
      ]
     },
     "execution_count": 86,
     "metadata": {},
     "output_type": "execute_result"
    },
    {
     "data": {
      "text/plain": [
       "<matplotlib.collections.PathCollection at 0x7f9c66cffa20>"
      ]
     },
     "execution_count": 86,
     "metadata": {},
     "output_type": "execute_result"
    }
   ],
   "source": [
    "ax = sample_ves_espg3857.plot(figsize=(7, 7))\n",
    "\n",
    "# Starting and Ending Points\n",
    "ax.scatter(sample_ves_espg3857.iloc[0].geom.x, sample_ves_espg3857.iloc[0].geom.y, c='yellow') \n",
    "ax.scatter(sample_ves_espg3857.iloc[-1].geom.x, sample_ves_espg3857.iloc[-1].geom.y, c='yellow')\n",
    "\n",
    "# Points-of-Interest\n",
    "# ax.scatter(sample_ves_espg3857.iloc[list(range(650-15,650+15))].geom.x, sample_ves_espg3857.iloc[list(range(650-15,650+15))].geom.y, c='green')\n",
    "# ax.scatter(sample_ves_espg3857.iloc[667].geom.x, sample_ves_espg3857.iloc[667].geom.y, c='magenta')\n",
    "# ax.scatter(sample_ves_espg3857.iloc[668].geom.x, sample_ves_espg3857.iloc[668].geom.y, c='magenta')\n",
    "# ctx.add_basemap(ax)\n",
    "plt.show()"
   ]
  },
  {
   "cell_type": "code",
   "execution_count": 87,
   "metadata": {
    "cell_style": "center",
    "scrolled": true
   },
   "outputs": [
    {
     "data": {
      "text/html": [
       "<div>\n",
       "<style scoped>\n",
       "    .dataframe tbody tr th:only-of-type {\n",
       "        vertical-align: middle;\n",
       "    }\n",
       "\n",
       "    .dataframe tbody tr th {\n",
       "        vertical-align: top;\n",
       "    }\n",
       "\n",
       "    .dataframe thead th {\n",
       "        text-align: right;\n",
       "    }\n",
       "</style>\n",
       "<table border=\"1\" class=\"dataframe\">\n",
       "  <thead>\n",
       "    <tr style=\"text-align: right;\">\n",
       "      <th></th>\n",
       "      <th>index</th>\n",
       "      <th>id</th>\n",
       "      <th>mmsi</th>\n",
       "      <th>status</th>\n",
       "      <th>turn</th>\n",
       "      <th>speed</th>\n",
       "      <th>course</th>\n",
       "      <th>heading</th>\n",
       "      <th>lon</th>\n",
       "      <th>lat</th>\n",
       "      <th>ts</th>\n",
       "      <th>geom</th>\n",
       "    </tr>\n",
       "  </thead>\n",
       "  <tbody>\n",
       "    <tr>\n",
       "      <th>635</th>\n",
       "      <td>37469</td>\n",
       "      <td>12430290</td>\n",
       "      <td>371415000</td>\n",
       "      <td>0.0</td>\n",
       "      <td>-126.0</td>\n",
       "      <td>4.5</td>\n",
       "      <td>208.0</td>\n",
       "      <td>251</td>\n",
       "      <td>-5.221499</td>\n",
       "      <td>48.208782</td>\n",
       "      <td>1456933934</td>\n",
       "      <td>POINT (-581254.5541978406 6141659.271919995)</td>\n",
       "    </tr>\n",
       "    <tr>\n",
       "      <th>636</th>\n",
       "      <td>98994</td>\n",
       "      <td>12713666</td>\n",
       "      <td>371415000</td>\n",
       "      <td>0.0</td>\n",
       "      <td>0.0</td>\n",
       "      <td>4.6</td>\n",
       "      <td>212.0</td>\n",
       "      <td>250</td>\n",
       "      <td>-5.222848</td>\n",
       "      <td>48.207268</td>\n",
       "      <td>1456934015</td>\n",
       "      <td>POINT (-581404.824378465 6141406.374838321)</td>\n",
       "    </tr>\n",
       "    <tr>\n",
       "      <th>637</th>\n",
       "      <td>37559</td>\n",
       "      <td>12430380</td>\n",
       "      <td>371415000</td>\n",
       "      <td>0.0</td>\n",
       "      <td>0.0</td>\n",
       "      <td>4.6</td>\n",
       "      <td>212.0</td>\n",
       "      <td>250</td>\n",
       "      <td>-5.222848</td>\n",
       "      <td>48.207268</td>\n",
       "      <td>1456934015</td>\n",
       "      <td>POINT (-581404.824378465 6141406.374838321)</td>\n",
       "    </tr>\n",
       "    <tr>\n",
       "      <th>638</th>\n",
       "      <td>99280</td>\n",
       "      <td>12713952</td>\n",
       "      <td>371415000</td>\n",
       "      <td>0.0</td>\n",
       "      <td>0.0</td>\n",
       "      <td>4.6</td>\n",
       "      <td>226.0</td>\n",
       "      <td>264</td>\n",
       "      <td>-5.228165</td>\n",
       "      <td>48.202866</td>\n",
       "      <td>1456934254</td>\n",
       "      <td>POINT (-581996.6655832153 6140671.111522224)</td>\n",
       "    </tr>\n",
       "    <tr>\n",
       "      <th>639</th>\n",
       "      <td>37845</td>\n",
       "      <td>12430666</td>\n",
       "      <td>371415000</td>\n",
       "      <td>0.0</td>\n",
       "      <td>0.0</td>\n",
       "      <td>4.6</td>\n",
       "      <td>226.0</td>\n",
       "      <td>264</td>\n",
       "      <td>-5.228165</td>\n",
       "      <td>48.202866</td>\n",
       "      <td>1456934254</td>\n",
       "      <td>POINT (-581996.6655832153 6140671.111522224)</td>\n",
       "    </tr>\n",
       "    <tr>\n",
       "      <th>640</th>\n",
       "      <td>161332</td>\n",
       "      <td>17636363</td>\n",
       "      <td>371415000</td>\n",
       "      <td>0.0</td>\n",
       "      <td>-126.0</td>\n",
       "      <td>3.0</td>\n",
       "      <td>228.0</td>\n",
       "      <td>258</td>\n",
       "      <td>-5.347515</td>\n",
       "      <td>48.123250</td>\n",
       "      <td>1456939991</td>\n",
       "      <td>POINT (-595282.6468093917 6127383.791367726)</td>\n",
       "    </tr>\n",
       "    <tr>\n",
       "      <th>641</th>\n",
       "      <td>135384</td>\n",
       "      <td>17554622</td>\n",
       "      <td>371415000</td>\n",
       "      <td>0.0</td>\n",
       "      <td>-126.0</td>\n",
       "      <td>3.0</td>\n",
       "      <td>228.0</td>\n",
       "      <td>258</td>\n",
       "      <td>-5.347515</td>\n",
       "      <td>48.123250</td>\n",
       "      <td>1456939991</td>\n",
       "      <td>POINT (-595282.6468093917 6127383.791367726)</td>\n",
       "    </tr>\n",
       "    <tr>\n",
       "      <th>642</th>\n",
       "      <td>135388</td>\n",
       "      <td>17554626</td>\n",
       "      <td>371415000</td>\n",
       "      <td>0.0</td>\n",
       "      <td>127.0</td>\n",
       "      <td>2.5</td>\n",
       "      <td>242.0</td>\n",
       "      <td>258</td>\n",
       "      <td>-5.347582</td>\n",
       "      <td>48.123270</td>\n",
       "      <td>1456939994</td>\n",
       "      <td>POINT (-595290.1052152759 6127387.126631603)</td>\n",
       "    </tr>\n",
       "    <tr>\n",
       "      <th>643</th>\n",
       "      <td>161336</td>\n",
       "      <td>17636367</td>\n",
       "      <td>371415000</td>\n",
       "      <td>0.0</td>\n",
       "      <td>127.0</td>\n",
       "      <td>2.5</td>\n",
       "      <td>242.0</td>\n",
       "      <td>258</td>\n",
       "      <td>-5.347582</td>\n",
       "      <td>48.123270</td>\n",
       "      <td>1456939994</td>\n",
       "      <td>POINT (-595290.1052152759 6127387.126631603)</td>\n",
       "    </tr>\n",
       "    <tr>\n",
       "      <th>644</th>\n",
       "      <td>161342</td>\n",
       "      <td>17636373</td>\n",
       "      <td>371415000</td>\n",
       "      <td>0.0</td>\n",
       "      <td>-126.0</td>\n",
       "      <td>2.9</td>\n",
       "      <td>216.0</td>\n",
       "      <td>258</td>\n",
       "      <td>-5.347599</td>\n",
       "      <td>48.123184</td>\n",
       "      <td>1456939999</td>\n",
       "      <td>POINT (-595291.953118823 6127372.78500617)</td>\n",
       "    </tr>\n",
       "    <tr>\n",
       "      <th>645</th>\n",
       "      <td>135394</td>\n",
       "      <td>17554632</td>\n",
       "      <td>371415000</td>\n",
       "      <td>0.0</td>\n",
       "      <td>-126.0</td>\n",
       "      <td>2.9</td>\n",
       "      <td>216.0</td>\n",
       "      <td>258</td>\n",
       "      <td>-5.347599</td>\n",
       "      <td>48.123184</td>\n",
       "      <td>1456939999</td>\n",
       "      <td>POINT (-595291.953118823 6127372.78500617)</td>\n",
       "    </tr>\n",
       "    <tr>\n",
       "      <th>646</th>\n",
       "      <td>135397</td>\n",
       "      <td>17554635</td>\n",
       "      <td>371415000</td>\n",
       "      <td>0.0</td>\n",
       "      <td>-126.0</td>\n",
       "      <td>3.2</td>\n",
       "      <td>213.0</td>\n",
       "      <td>256</td>\n",
       "      <td>-5.347615</td>\n",
       "      <td>48.123150</td>\n",
       "      <td>1456940002</td>\n",
       "      <td>POINT (-595293.7787584725 6127367.115067854)</td>\n",
       "    </tr>\n",
       "    <tr>\n",
       "      <th>647</th>\n",
       "      <td>161345</td>\n",
       "      <td>17636376</td>\n",
       "      <td>371415000</td>\n",
       "      <td>0.0</td>\n",
       "      <td>-126.0</td>\n",
       "      <td>3.2</td>\n",
       "      <td>213.0</td>\n",
       "      <td>256</td>\n",
       "      <td>-5.347615</td>\n",
       "      <td>48.123150</td>\n",
       "      <td>1456940002</td>\n",
       "      <td>POINT (-595293.7787584725 6127367.115067854)</td>\n",
       "    </tr>\n",
       "    <tr>\n",
       "      <th>648</th>\n",
       "      <td>135402</td>\n",
       "      <td>17554640</td>\n",
       "      <td>371415000</td>\n",
       "      <td>0.0</td>\n",
       "      <td>-126.0</td>\n",
       "      <td>2.9</td>\n",
       "      <td>227.0</td>\n",
       "      <td>255</td>\n",
       "      <td>-5.347715</td>\n",
       "      <td>48.123116</td>\n",
       "      <td>1456940005</td>\n",
       "      <td>POINT (-595304.9107075505 6127361.445133295)</td>\n",
       "    </tr>\n",
       "    <tr>\n",
       "      <th>649</th>\n",
       "      <td>161350</td>\n",
       "      <td>17636381</td>\n",
       "      <td>371415000</td>\n",
       "      <td>0.0</td>\n",
       "      <td>-126.0</td>\n",
       "      <td>2.9</td>\n",
       "      <td>227.0</td>\n",
       "      <td>255</td>\n",
       "      <td>-5.347715</td>\n",
       "      <td>48.123116</td>\n",
       "      <td>1456940005</td>\n",
       "      <td>POINT (-595304.9107075505 6127361.445133295)</td>\n",
       "    </tr>\n",
       "    <tr>\n",
       "      <th>650</th>\n",
       "      <td>161354</td>\n",
       "      <td>17636385</td>\n",
       "      <td>371415000</td>\n",
       "      <td>0.0</td>\n",
       "      <td>0.0</td>\n",
       "      <td>2.8</td>\n",
       "      <td>217.0</td>\n",
       "      <td>255</td>\n",
       "      <td>-5.347732</td>\n",
       "      <td>48.123085</td>\n",
       "      <td>1456940008</td>\n",
       "      <td>POINT (-595306.7586110976 6127356.275490349)</td>\n",
       "    </tr>\n",
       "    <tr>\n",
       "      <th>651</th>\n",
       "      <td>135406</td>\n",
       "      <td>17554644</td>\n",
       "      <td>371415000</td>\n",
       "      <td>0.0</td>\n",
       "      <td>0.0</td>\n",
       "      <td>2.8</td>\n",
       "      <td>217.0</td>\n",
       "      <td>255</td>\n",
       "      <td>-5.347732</td>\n",
       "      <td>48.123085</td>\n",
       "      <td>1456940008</td>\n",
       "      <td>POINT (-595306.7586110976 6127356.275490349)</td>\n",
       "    </tr>\n",
       "    <tr>\n",
       "      <th>652</th>\n",
       "      <td>135412</td>\n",
       "      <td>17554650</td>\n",
       "      <td>371415000</td>\n",
       "      <td>0.0</td>\n",
       "      <td>0.0</td>\n",
       "      <td>3.3</td>\n",
       "      <td>212.0</td>\n",
       "      <td>255</td>\n",
       "      <td>-5.347765</td>\n",
       "      <td>48.123016</td>\n",
       "      <td>1456940012</td>\n",
       "      <td>POINT (-595310.4766820895 6127344.768876921)</td>\n",
       "    </tr>\n",
       "    <tr>\n",
       "      <th>653</th>\n",
       "      <td>161360</td>\n",
       "      <td>17636391</td>\n",
       "      <td>371415000</td>\n",
       "      <td>0.0</td>\n",
       "      <td>0.0</td>\n",
       "      <td>3.3</td>\n",
       "      <td>212.0</td>\n",
       "      <td>255</td>\n",
       "      <td>-5.347765</td>\n",
       "      <td>48.123016</td>\n",
       "      <td>1456940012</td>\n",
       "      <td>POINT (-595310.4766820895 6127344.768876921)</td>\n",
       "    </tr>\n",
       "    <tr>\n",
       "      <th>654</th>\n",
       "      <td>161365</td>\n",
       "      <td>17636396</td>\n",
       "      <td>371415000</td>\n",
       "      <td>0.0</td>\n",
       "      <td>-126.0</td>\n",
       "      <td>2.8</td>\n",
       "      <td>219.0</td>\n",
       "      <td>252</td>\n",
       "      <td>-5.347815</td>\n",
       "      <td>48.123000</td>\n",
       "      <td>1456940016</td>\n",
       "      <td>POINT (-595316.0426566313 6127342.100678917)</td>\n",
       "    </tr>\n",
       "    <tr>\n",
       "      <th>655</th>\n",
       "      <td>135417</td>\n",
       "      <td>17554655</td>\n",
       "      <td>371415000</td>\n",
       "      <td>0.0</td>\n",
       "      <td>-126.0</td>\n",
       "      <td>2.8</td>\n",
       "      <td>219.0</td>\n",
       "      <td>252</td>\n",
       "      <td>-5.347815</td>\n",
       "      <td>48.123000</td>\n",
       "      <td>1456940016</td>\n",
       "      <td>POINT (-595316.0426566313 6127342.100678917)</td>\n",
       "    </tr>\n",
       "    <tr>\n",
       "      <th>656</th>\n",
       "      <td>135420</td>\n",
       "      <td>17554658</td>\n",
       "      <td>371415000</td>\n",
       "      <td>0.0</td>\n",
       "      <td>127.0</td>\n",
       "      <td>2.9</td>\n",
       "      <td>215.0</td>\n",
       "      <td>253</td>\n",
       "      <td>-5.347832</td>\n",
       "      <td>48.122982</td>\n",
       "      <td>1456940019</td>\n",
       "      <td>POINT (-595317.9016921273 6127339.098957149)</td>\n",
       "    </tr>\n",
       "    <tr>\n",
       "      <th>657</th>\n",
       "      <td>161368</td>\n",
       "      <td>17636399</td>\n",
       "      <td>371415000</td>\n",
       "      <td>0.0</td>\n",
       "      <td>127.0</td>\n",
       "      <td>2.9</td>\n",
       "      <td>215.0</td>\n",
       "      <td>253</td>\n",
       "      <td>-5.347832</td>\n",
       "      <td>48.122982</td>\n",
       "      <td>1456940019</td>\n",
       "      <td>POINT (-595317.9016921273 6127339.098957149)</td>\n",
       "    </tr>\n",
       "    <tr>\n",
       "      <th>658</th>\n",
       "      <td>135425</td>\n",
       "      <td>17554663</td>\n",
       "      <td>371415000</td>\n",
       "      <td>0.0</td>\n",
       "      <td>0.0</td>\n",
       "      <td>3.1</td>\n",
       "      <td>211.0</td>\n",
       "      <td>253</td>\n",
       "      <td>-5.347882</td>\n",
       "      <td>48.122917</td>\n",
       "      <td>1456940022</td>\n",
       "      <td>POINT (-595323.5010625129 6127328.259415096)</td>\n",
       "    </tr>\n",
       "    <tr>\n",
       "      <th>659</th>\n",
       "      <td>161373</td>\n",
       "      <td>17636404</td>\n",
       "      <td>371415000</td>\n",
       "      <td>0.0</td>\n",
       "      <td>0.0</td>\n",
       "      <td>3.1</td>\n",
       "      <td>211.0</td>\n",
       "      <td>253</td>\n",
       "      <td>-5.347882</td>\n",
       "      <td>48.122917</td>\n",
       "      <td>1456940022</td>\n",
       "      <td>POINT (-595323.5010625129 6127328.259415096)</td>\n",
       "    </tr>\n",
       "    <tr>\n",
       "      <th>660</th>\n",
       "      <td>135432</td>\n",
       "      <td>17554670</td>\n",
       "      <td>371415000</td>\n",
       "      <td>0.0</td>\n",
       "      <td>-126.0</td>\n",
       "      <td>2.9</td>\n",
       "      <td>220.0</td>\n",
       "      <td>250</td>\n",
       "      <td>-5.347965</td>\n",
       "      <td>48.122850</td>\n",
       "      <td>1456940028</td>\n",
       "      <td>POINT (-595332.7405802484 6127317.086363021)</td>\n",
       "    </tr>\n",
       "    <tr>\n",
       "      <th>661</th>\n",
       "      <td>161380</td>\n",
       "      <td>17636411</td>\n",
       "      <td>371415000</td>\n",
       "      <td>0.0</td>\n",
       "      <td>-126.0</td>\n",
       "      <td>2.9</td>\n",
       "      <td>220.0</td>\n",
       "      <td>250</td>\n",
       "      <td>-5.347965</td>\n",
       "      <td>48.122850</td>\n",
       "      <td>1456940028</td>\n",
       "      <td>POINT (-595332.7405802484 6127317.086363021)</td>\n",
       "    </tr>\n",
       "    <tr>\n",
       "      <th>662</th>\n",
       "      <td>166925</td>\n",
       "      <td>17641956</td>\n",
       "      <td>371415000</td>\n",
       "      <td>0.0</td>\n",
       "      <td>127.0</td>\n",
       "      <td>3.9</td>\n",
       "      <td>268.0</td>\n",
       "      <td>330</td>\n",
       "      <td>-5.428731</td>\n",
       "      <td>48.239900</td>\n",
       "      <td>1456958306</td>\n",
       "      <td>POINT (-604323.6151014557 6146858.849198739)</td>\n",
       "    </tr>\n",
       "    <tr>\n",
       "      <th>663</th>\n",
       "      <td>140977</td>\n",
       "      <td>17560215</td>\n",
       "      <td>371415000</td>\n",
       "      <td>0.0</td>\n",
       "      <td>127.0</td>\n",
       "      <td>3.9</td>\n",
       "      <td>268.0</td>\n",
       "      <td>330</td>\n",
       "      <td>-5.428731</td>\n",
       "      <td>48.239900</td>\n",
       "      <td>1456958306</td>\n",
       "      <td>POINT (-604323.6151014557 6146858.849198739)</td>\n",
       "    </tr>\n",
       "    <tr>\n",
       "      <th>664</th>\n",
       "      <td>140993</td>\n",
       "      <td>17560231</td>\n",
       "      <td>371415000</td>\n",
       "      <td>0.0</td>\n",
       "      <td>127.0</td>\n",
       "      <td>3.7</td>\n",
       "      <td>271.0</td>\n",
       "      <td>334</td>\n",
       "      <td>-5.428998</td>\n",
       "      <td>48.239900</td>\n",
       "      <td>1456958314</td>\n",
       "      <td>POINT (-604353.3485374448 6146858.849198739)</td>\n",
       "    </tr>\n",
       "  </tbody>\n",
       "</table>\n",
       "</div>"
      ],
      "text/plain": [
       "      index        id       mmsi  status   turn  speed  course  heading  \\\n",
       "635   37469  12430290  371415000     0.0 -126.0    4.5   208.0      251   \n",
       "636   98994  12713666  371415000     0.0    0.0    4.6   212.0      250   \n",
       "637   37559  12430380  371415000     0.0    0.0    4.6   212.0      250   \n",
       "638   99280  12713952  371415000     0.0    0.0    4.6   226.0      264   \n",
       "639   37845  12430666  371415000     0.0    0.0    4.6   226.0      264   \n",
       "640  161332  17636363  371415000     0.0 -126.0    3.0   228.0      258   \n",
       "641  135384  17554622  371415000     0.0 -126.0    3.0   228.0      258   \n",
       "642  135388  17554626  371415000     0.0  127.0    2.5   242.0      258   \n",
       "643  161336  17636367  371415000     0.0  127.0    2.5   242.0      258   \n",
       "644  161342  17636373  371415000     0.0 -126.0    2.9   216.0      258   \n",
       "645  135394  17554632  371415000     0.0 -126.0    2.9   216.0      258   \n",
       "646  135397  17554635  371415000     0.0 -126.0    3.2   213.0      256   \n",
       "647  161345  17636376  371415000     0.0 -126.0    3.2   213.0      256   \n",
       "648  135402  17554640  371415000     0.0 -126.0    2.9   227.0      255   \n",
       "649  161350  17636381  371415000     0.0 -126.0    2.9   227.0      255   \n",
       "650  161354  17636385  371415000     0.0    0.0    2.8   217.0      255   \n",
       "651  135406  17554644  371415000     0.0    0.0    2.8   217.0      255   \n",
       "652  135412  17554650  371415000     0.0    0.0    3.3   212.0      255   \n",
       "653  161360  17636391  371415000     0.0    0.0    3.3   212.0      255   \n",
       "654  161365  17636396  371415000     0.0 -126.0    2.8   219.0      252   \n",
       "655  135417  17554655  371415000     0.0 -126.0    2.8   219.0      252   \n",
       "656  135420  17554658  371415000     0.0  127.0    2.9   215.0      253   \n",
       "657  161368  17636399  371415000     0.0  127.0    2.9   215.0      253   \n",
       "658  135425  17554663  371415000     0.0    0.0    3.1   211.0      253   \n",
       "659  161373  17636404  371415000     0.0    0.0    3.1   211.0      253   \n",
       "660  135432  17554670  371415000     0.0 -126.0    2.9   220.0      250   \n",
       "661  161380  17636411  371415000     0.0 -126.0    2.9   220.0      250   \n",
       "662  166925  17641956  371415000     0.0  127.0    3.9   268.0      330   \n",
       "663  140977  17560215  371415000     0.0  127.0    3.9   268.0      330   \n",
       "664  140993  17560231  371415000     0.0  127.0    3.7   271.0      334   \n",
       "\n",
       "          lon        lat          ts  \\\n",
       "635 -5.221499  48.208782  1456933934   \n",
       "636 -5.222848  48.207268  1456934015   \n",
       "637 -5.222848  48.207268  1456934015   \n",
       "638 -5.228165  48.202866  1456934254   \n",
       "639 -5.228165  48.202866  1456934254   \n",
       "640 -5.347515  48.123250  1456939991   \n",
       "641 -5.347515  48.123250  1456939991   \n",
       "642 -5.347582  48.123270  1456939994   \n",
       "643 -5.347582  48.123270  1456939994   \n",
       "644 -5.347599  48.123184  1456939999   \n",
       "645 -5.347599  48.123184  1456939999   \n",
       "646 -5.347615  48.123150  1456940002   \n",
       "647 -5.347615  48.123150  1456940002   \n",
       "648 -5.347715  48.123116  1456940005   \n",
       "649 -5.347715  48.123116  1456940005   \n",
       "650 -5.347732  48.123085  1456940008   \n",
       "651 -5.347732  48.123085  1456940008   \n",
       "652 -5.347765  48.123016  1456940012   \n",
       "653 -5.347765  48.123016  1456940012   \n",
       "654 -5.347815  48.123000  1456940016   \n",
       "655 -5.347815  48.123000  1456940016   \n",
       "656 -5.347832  48.122982  1456940019   \n",
       "657 -5.347832  48.122982  1456940019   \n",
       "658 -5.347882  48.122917  1456940022   \n",
       "659 -5.347882  48.122917  1456940022   \n",
       "660 -5.347965  48.122850  1456940028   \n",
       "661 -5.347965  48.122850  1456940028   \n",
       "662 -5.428731  48.239900  1456958306   \n",
       "663 -5.428731  48.239900  1456958306   \n",
       "664 -5.428998  48.239900  1456958314   \n",
       "\n",
       "                                             geom  \n",
       "635  POINT (-581254.5541978406 6141659.271919995)  \n",
       "636   POINT (-581404.824378465 6141406.374838321)  \n",
       "637   POINT (-581404.824378465 6141406.374838321)  \n",
       "638  POINT (-581996.6655832153 6140671.111522224)  \n",
       "639  POINT (-581996.6655832153 6140671.111522224)  \n",
       "640  POINT (-595282.6468093917 6127383.791367726)  \n",
       "641  POINT (-595282.6468093917 6127383.791367726)  \n",
       "642  POINT (-595290.1052152759 6127387.126631603)  \n",
       "643  POINT (-595290.1052152759 6127387.126631603)  \n",
       "644    POINT (-595291.953118823 6127372.78500617)  \n",
       "645    POINT (-595291.953118823 6127372.78500617)  \n",
       "646  POINT (-595293.7787584725 6127367.115067854)  \n",
       "647  POINT (-595293.7787584725 6127367.115067854)  \n",
       "648  POINT (-595304.9107075505 6127361.445133295)  \n",
       "649  POINT (-595304.9107075505 6127361.445133295)  \n",
       "650  POINT (-595306.7586110976 6127356.275490349)  \n",
       "651  POINT (-595306.7586110976 6127356.275490349)  \n",
       "652  POINT (-595310.4766820895 6127344.768876921)  \n",
       "653  POINT (-595310.4766820895 6127344.768876921)  \n",
       "654  POINT (-595316.0426566313 6127342.100678917)  \n",
       "655  POINT (-595316.0426566313 6127342.100678917)  \n",
       "656  POINT (-595317.9016921273 6127339.098957149)  \n",
       "657  POINT (-595317.9016921273 6127339.098957149)  \n",
       "658  POINT (-595323.5010625129 6127328.259415096)  \n",
       "659  POINT (-595323.5010625129 6127328.259415096)  \n",
       "660  POINT (-595332.7405802484 6127317.086363021)  \n",
       "661  POINT (-595332.7405802484 6127317.086363021)  \n",
       "662  POINT (-604323.6151014557 6146858.849198739)  \n",
       "663  POINT (-604323.6151014557 6146858.849198739)  \n",
       "664  POINT (-604353.3485374448 6146858.849198739)  "
      ]
     },
     "execution_count": 87,
     "metadata": {},
     "output_type": "execute_result"
    }
   ],
   "source": [
    "# Get more Details from the _Points-of-Interest_\n",
    "sample_ves_espg3857.iloc[list(range(650-15,650+15))]"
   ]
  },
  {
   "cell_type": "code",
   "execution_count": null,
   "metadata": {},
   "outputs": [],
   "source": []
  },
  {
   "cell_type": "code",
   "execution_count": null,
   "metadata": {},
   "outputs": [],
   "source": []
  },
  {
   "cell_type": "markdown",
   "metadata": {},
   "source": [
    "### Plotting Timestamps and Difference Sequence..."
   ]
  },
  {
   "cell_type": "code",
   "execution_count": 140,
   "metadata": {},
   "outputs": [
    {
     "data": {
      "text/plain": [
       "<matplotlib.axes._subplots.AxesSubplot at 0x7f74f879d2e8>"
      ]
     },
     "execution_count": 140,
     "metadata": {},
     "output_type": "execute_result"
    }
   ],
   "source": [
    "sample_ves_espg3857.ts.diff().plot(figsize=(15, 15))"
   ]
  },
  {
   "cell_type": "code",
   "execution_count": 145,
   "metadata": {},
   "outputs": [
    {
     "data": {
      "text/plain": [
       "<matplotlib.axes._subplots.AxesSubplot at 0x7f74fa1c2358>"
      ]
     },
     "execution_count": 145,
     "metadata": {},
     "output_type": "execute_result"
    }
   ],
   "source": [
    "sample_ves_espg3857.ts.plot(figsize=(15, 15))"
   ]
  },
  {
   "cell_type": "markdown",
   "metadata": {},
   "source": [
    "### Something's going on with the Timestamps..."
   ]
  },
  {
   "cell_type": "code",
   "execution_count": 90,
   "metadata": {},
   "outputs": [
    {
     "data": {
      "text/html": [
       "<div>\n",
       "<style scoped>\n",
       "    .dataframe tbody tr th:only-of-type {\n",
       "        vertical-align: middle;\n",
       "    }\n",
       "\n",
       "    .dataframe tbody tr th {\n",
       "        vertical-align: top;\n",
       "    }\n",
       "\n",
       "    .dataframe thead th {\n",
       "        text-align: right;\n",
       "    }\n",
       "</style>\n",
       "<table border=\"1\" class=\"dataframe\">\n",
       "  <thead>\n",
       "    <tr style=\"text-align: right;\">\n",
       "      <th></th>\n",
       "      <th>index</th>\n",
       "      <th>id</th>\n",
       "      <th>mmsi</th>\n",
       "      <th>status</th>\n",
       "      <th>turn</th>\n",
       "      <th>speed</th>\n",
       "      <th>course</th>\n",
       "      <th>heading</th>\n",
       "      <th>lon</th>\n",
       "      <th>lat</th>\n",
       "      <th>ts</th>\n",
       "      <th>geom</th>\n",
       "    </tr>\n",
       "  </thead>\n",
       "  <tbody>\n",
       "    <tr>\n",
       "      <th>0</th>\n",
       "      <td>20960</td>\n",
       "      <td>12413781</td>\n",
       "      <td>371415000</td>\n",
       "      <td>0.0</td>\n",
       "      <td>127.0</td>\n",
       "      <td>11.1</td>\n",
       "      <td>71.0</td>\n",
       "      <td>65</td>\n",
       "      <td>-5.378398</td>\n",
       "      <td>48.042583</td>\n",
       "      <td>1456916014</td>\n",
       "      <td>POINT (-598720.571171356 6113942.054820082)</td>\n",
       "    </tr>\n",
       "    <tr>\n",
       "      <th>2</th>\n",
       "      <td>82617</td>\n",
       "      <td>12697289</td>\n",
       "      <td>371415000</td>\n",
       "      <td>0.0</td>\n",
       "      <td>0.0</td>\n",
       "      <td>11.5</td>\n",
       "      <td>71.0</td>\n",
       "      <td>65</td>\n",
       "      <td>-5.363332</td>\n",
       "      <td>48.046017</td>\n",
       "      <td>1456916214</td>\n",
       "      <td>POINT (-597043.3871952686 6114513.841228255)</td>\n",
       "    </tr>\n",
       "  </tbody>\n",
       "</table>\n",
       "</div>"
      ],
      "text/plain": [
       "   index        id       mmsi  status   turn  speed  course  heading  \\\n",
       "0  20960  12413781  371415000     0.0  127.0   11.1    71.0       65   \n",
       "2  82617  12697289  371415000     0.0    0.0   11.5    71.0       65   \n",
       "\n",
       "        lon        lat          ts  \\\n",
       "0 -5.378398  48.042583  1456916014   \n",
       "2 -5.363332  48.046017  1456916214   \n",
       "\n",
       "                                           geom  \n",
       "0   POINT (-598720.571171356 6113942.054820082)  \n",
       "2  POINT (-597043.3871952686 6114513.841228255)  "
      ]
     },
     "execution_count": 90,
     "metadata": {},
     "output_type": "execute_result"
    }
   ],
   "source": [
    "test = sample_ves_espg3857.drop_duplicates(subset=['ts'])\n",
    "test.head(2)"
   ]
  },
  {
   "cell_type": "code",
   "execution_count": 12,
   "metadata": {
    "collapsed": true
   },
   "outputs": [
    {
     "data": {
      "text/plain": [
       "<matplotlib.axes._subplots.AxesSubplot at 0x7f9c66b5bc50>"
      ]
     },
     "execution_count": 12,
     "metadata": {},
     "output_type": "execute_result"
    },
    {
     "data": {
      "image/png": "[encoded data removed]",
      "text/plain": [
       "<Figure size 1080x1080 with 1 Axes>"
      ]
     },
     "metadata": {
      "needs_background": "light"
     },
     "output_type": "display_data"
    }
   ],
   "source": [
    "test.ts.diff().plot(figsize=(15, 15))"
   ]
  },
  {
   "cell_type": "code",
   "execution_count": 13,
   "metadata": {
    "collapsed": true
   },
   "outputs": [
    {
     "data": {
      "text/plain": [
       "<matplotlib.axes._subplots.AxesSubplot at 0x7f9c670b2198>"
      ]
     },
     "execution_count": 13,
     "metadata": {},
     "output_type": "execute_result"
    },
    {
     "data": {
      "image/png": "[encoded data removed]",
      "text/plain": [
       "<Figure size 1080x1080 with 1 Axes>"
      ]
     },
     "metadata": {
      "needs_background": "light"
     },
     "output_type": "display_data"
    }
   ],
   "source": [
    "test.ts.plot(figsize=(15, 15))"
   ]
  },
  {
   "cell_type": "code",
   "execution_count": 91,
   "metadata": {
    "cell_style": "split",
    "scrolled": true
   },
   "outputs": [
    {
     "data": {
      "text/plain": [
       "0          NaN\n",
       "2        200.0\n",
       "4        160.0\n",
       "6         71.0\n",
       "8          9.0\n",
       "10        11.0\n",
       "12        50.0\n",
       "14        69.0\n",
       "16        11.0\n",
       "18        19.0\n",
       "20        50.0\n",
       "22        40.0\n",
       "24        10.0\n",
       "26        40.0\n",
       "28        20.0\n",
       "30        10.0\n",
       "32        11.0\n",
       "34         9.0\n",
       "36        11.0\n",
       "38         9.0\n",
       "40        10.0\n",
       "42        10.0\n",
       "44        30.0\n",
       "46        10.0\n",
       "48        10.0\n",
       "50        20.0\n",
       "52        10.0\n",
       "54        10.0\n",
       "56        10.0\n",
       "58        11.0\n",
       "        ...   \n",
       "614       10.0\n",
       "616        3.0\n",
       "618        4.0\n",
       "620       10.0\n",
       "622       40.0\n",
       "624      200.0\n",
       "626       19.0\n",
       "628      660.0\n",
       "630      178.0\n",
       "632        6.0\n",
       "634      236.0\n",
       "636       81.0\n",
       "638      239.0\n",
       "640     5737.0\n",
       "642        3.0\n",
       "644        5.0\n",
       "646        3.0\n",
       "648        3.0\n",
       "650        3.0\n",
       "652        4.0\n",
       "654        4.0\n",
       "656        3.0\n",
       "658        3.0\n",
       "660        6.0\n",
       "662    18278.0\n",
       "664        8.0\n",
       "666        8.0\n",
       "668        9.0\n",
       "670        4.0\n",
       "672        3.0\n",
       "Name: ts, Length: 335, dtype: float64"
      ]
     },
     "execution_count": 91,
     "metadata": {},
     "output_type": "execute_result"
    }
   ],
   "source": [
    "test.ts.diff()"
   ]
  },
  {
   "cell_type": "code",
   "execution_count": 92,
   "metadata": {
    "cell_style": "split"
   },
   "outputs": [
    {
     "data": {
      "text/plain": [
       "count    3.350000e+02\n",
       "mean     1.456927e+09\n",
       "std      7.124694e+03\n",
       "min      1.456916e+09\n",
       "25%      1.456925e+09\n",
       "50%      1.456928e+09\n",
       "75%      1.456931e+09\n",
       "max      1.456958e+09\n",
       "Name: ts, dtype: float64"
      ]
     },
     "execution_count": 92,
     "metadata": {},
     "output_type": "execute_result"
    }
   ],
   "source": [
    "test.ts.describe()\n"
   ]
  },
  {
   "cell_type": "code",
   "execution_count": 94,
   "metadata": {
    "cell_style": "split"
   },
   "outputs": [
    {
     "data": {
      "text/plain": [
       "126.7185628742515"
      ]
     },
     "execution_count": 94,
     "metadata": {},
     "output_type": "execute_result"
    }
   ],
   "source": [
    "test.ts.diff().mean()\n"
   ]
  },
  {
   "cell_type": "code",
   "execution_count": 109,
   "metadata": {},
   "outputs": [],
   "source": [
    "outlier_indices = detect_outliers(test.ts, alpha=1.25)"
   ]
  },
  {
   "cell_type": "code",
   "execution_count": 110,
   "metadata": {
    "scrolled": true
   },
   "outputs": [
    {
     "data": {
      "text/plain": [
       "[318,\n",
       " 319,\n",
       " 320,\n",
       " 321,\n",
       " 322,\n",
       " 323,\n",
       " 324,\n",
       " 325,\n",
       " 326,\n",
       " 327,\n",
       " 328,\n",
       " 329,\n",
       " 330,\n",
       " 331,\n",
       " 332,\n",
       " 333,\n",
       " 334]"
      ]
     },
     "execution_count": 110,
     "metadata": {},
     "output_type": "execute_result"
    }
   ],
   "source": [
    "outlier_indices"
   ]
  },
  {
   "cell_type": "code",
   "execution_count": 111,
   "metadata": {},
   "outputs": [],
   "source": [
    "clean_test = test.drop(test.index[outlier_indices])"
   ]
  },
  {
   "cell_type": "markdown",
   "metadata": {
    "cell_style": "split"
   },
   "source": [
    "### Plotting the (Timestamp-Outlier-Free) Dataset..."
   ]
  },
  {
   "cell_type": "markdown",
   "metadata": {
    "cell_style": "split"
   },
   "source": [
    "### ...vs.The Original Trajectory"
   ]
  },
  {
   "cell_type": "code",
   "execution_count": 112,
   "metadata": {
    "cell_style": "split",
    "scrolled": false
   },
   "outputs": [
    {
     "data": {
      "text/plain": [
       "<matplotlib.axes._subplots.AxesSubplot at 0x7f74fa995b00>"
      ]
     },
     "execution_count": 112,
     "metadata": {},
     "output_type": "execute_result"
    }
   ],
   "source": [
    "test.ts.plot(figsize=(15, 15))"
   ]
  },
  {
   "cell_type": "code",
   "execution_count": 113,
   "metadata": {
    "cell_style": "split"
   },
   "outputs": [
    {
     "data": {
      "text/plain": [
       "<matplotlib.axes._subplots.AxesSubplot at 0x7f74fa995b00>"
      ]
     },
     "execution_count": 113,
     "metadata": {},
     "output_type": "execute_result"
    }
   ],
   "source": [
    "clean_test.ts.plot(figsize=(15, 15))"
   ]
  },
  {
   "cell_type": "code",
   "execution_count": 116,
   "metadata": {
    "cell_style": "split",
    "scrolled": false
   },
   "outputs": [
    {
     "data": {
      "text/plain": [
       "<matplotlib.axes._subplots.AxesSubplot at 0x7f74fa8e25f8>"
      ]
     },
     "execution_count": 116,
     "metadata": {},
     "output_type": "execute_result"
    }
   ],
   "source": [
    "test.plot(figsize=(15, 15))"
   ]
  },
  {
   "cell_type": "code",
   "execution_count": 117,
   "metadata": {
    "cell_style": "split"
   },
   "outputs": [
    {
     "data": {
      "text/plain": [
       "<matplotlib.axes._subplots.AxesSubplot at 0x7f74fa7a2080>"
      ]
     },
     "execution_count": 117,
     "metadata": {},
     "output_type": "execute_result"
    }
   ],
   "source": [
    "clean_test.plot(figsize=(15, 15))"
   ]
  },
  {
   "cell_type": "code",
   "execution_count": 18,
   "metadata": {
    "cell_style": "center"
   },
   "outputs": [
    {
     "data": {
      "text/plain": [
       "level_0    317\n",
       "index      317\n",
       "id         317\n",
       "mmsi       317\n",
       "status     317\n",
       "turn       317\n",
       "speed      317\n",
       "course     317\n",
       "heading    317\n",
       "lon        317\n",
       "lat        317\n",
       "ts         317\n",
       "geom       317\n",
       "dtype: int64"
      ]
     },
     "execution_count": 18,
     "metadata": {},
     "output_type": "execute_result"
    }
   ],
   "source": [
    "test.count()"
   ]
  },
  {
   "cell_type": "code",
   "execution_count": null,
   "metadata": {},
   "outputs": [],
   "source": []
  },
  {
   "cell_type": "code",
   "execution_count": null,
   "metadata": {},
   "outputs": [],
   "source": []
  },
  {
   "cell_type": "markdown",
   "metadata": {},
   "source": [
    "## Potential Area-of-Activity (PAA) Denoising\n",
    "### Approximating the Problem with Velocity Outliers rather than using a Velocity Threshold\n",
    "* ### __TODO__: Find the Velocity Threshold for the Fishing Boats"
   ]
  },
  {
   "cell_type": "code",
   "execution_count": 47,
   "metadata": {},
   "outputs": [
    {
     "data": {
      "text/html": [
       "<div>\n",
       "<style scoped>\n",
       "    .dataframe tbody tr th:only-of-type {\n",
       "        vertical-align: middle;\n",
       "    }\n",
       "\n",
       "    .dataframe tbody tr th {\n",
       "        vertical-align: top;\n",
       "    }\n",
       "\n",
       "    .dataframe thead th {\n",
       "        text-align: right;\n",
       "    }\n",
       "</style>\n",
       "<table border=\"1\" class=\"dataframe\">\n",
       "  <thead>\n",
       "    <tr style=\"text-align: right;\">\n",
       "      <th></th>\n",
       "      <th>level_0</th>\n",
       "      <th>index</th>\n",
       "      <th>id</th>\n",
       "      <th>mmsi</th>\n",
       "      <th>status</th>\n",
       "      <th>turn</th>\n",
       "      <th>speed</th>\n",
       "      <th>course</th>\n",
       "      <th>heading</th>\n",
       "      <th>lon</th>\n",
       "      <th>lat</th>\n",
       "      <th>ts</th>\n",
       "      <th>geom</th>\n",
       "    </tr>\n",
       "  </thead>\n",
       "  <tbody>\n",
       "    <tr>\n",
       "      <th>0</th>\n",
       "      <td>267</td>\n",
       "      <td>82362</td>\n",
       "      <td>12697067</td>\n",
       "      <td>371415000</td>\n",
       "      <td>0.0</td>\n",
       "      <td>127.0</td>\n",
       "      <td>11.1</td>\n",
       "      <td>71.0</td>\n",
       "      <td>65</td>\n",
       "      <td>-5.378398</td>\n",
       "      <td>48.042583</td>\n",
       "      <td>1456916014</td>\n",
       "      <td>POINT (-598720.571171356 6113942.054820082)</td>\n",
       "    </tr>\n",
       "    <tr>\n",
       "      <th>2</th>\n",
       "      <td>268</td>\n",
       "      <td>82584</td>\n",
       "      <td>12697289</td>\n",
       "      <td>371415000</td>\n",
       "      <td>0.0</td>\n",
       "      <td>0.0</td>\n",
       "      <td>11.5</td>\n",
       "      <td>71.0</td>\n",
       "      <td>65</td>\n",
       "      <td>-5.363332</td>\n",
       "      <td>48.046017</td>\n",
       "      <td>1456916214</td>\n",
       "      <td>POINT (-597043.3871952686 6114513.841228255)</td>\n",
       "    </tr>\n",
       "  </tbody>\n",
       "</table>\n",
       "</div>"
      ],
      "text/plain": [
       "   level_0  index        id       mmsi  status   turn  speed  course  heading  \\\n",
       "0      267  82362  12697067  371415000     0.0  127.0   11.1    71.0       65   \n",
       "2      268  82584  12697289  371415000     0.0    0.0   11.5    71.0       65   \n",
       "\n",
       "        lon        lat          ts  \\\n",
       "0 -5.378398  48.042583  1456916014   \n",
       "2 -5.363332  48.046017  1456916214   \n",
       "\n",
       "                                           geom  \n",
       "0   POINT (-598720.571171356 6113942.054820082)  \n",
       "2  POINT (-597043.3871952686 6114513.841228255)  "
      ]
     },
     "execution_count": 47,
     "metadata": {},
     "output_type": "execute_result"
    }
   ],
   "source": [
    "sample_ves_espg3857_nd = sample_ves_espg3857.drop_duplicates(subset=['ts'])\n",
    "sample_ves_espg3857_nd.head(2)"
   ]
  },
  {
   "cell_type": "code",
   "execution_count": 48,
   "metadata": {
    "cell_style": "split",
    "scrolled": true
   },
   "outputs": [
    {
     "data": {
      "text/plain": [
       "0       POINT (-598720.571171356 6113942.054820082)\n",
       "2      POINT (-597043.3871952686 6114513.841228255)\n",
       "4      POINT (-595701.9428034156 6114932.964563244)\n",
       "6      POINT (-595095.2961063879 6115115.973190749)\n",
       "8       POINT (-595008.0661534017 6115138.28752164)\n",
       "10     POINT (-594922.7174998093 6115162.933268012)\n",
       "12     POINT (-594494.1374602573 6115290.659318012)\n",
       "14     POINT (-593883.7504283399 6115485.166266123)\n",
       "16     POINT (-593796.5316073027 6115510.146073989)\n",
       "18     POINT (-593633.2593101555 6115557.441376179)\n",
       "20     POINT (-593204.6904025495 6115682.009124545)\n",
       "22     POINT (-592874.4166053174 6115779.266485437)\n",
       "24     POINT (-592792.7637588191 6115804.913302059)\n",
       "26      POINT (-592431.031073485 6115909.832896073)\n",
       "28      POINT (-592271.454583435 6115951.468011378)\n",
       "30     POINT (-592180.5399553035 6115987.607455348)\n",
       "32     POINT (-592093.3433981639 6116015.586484314)\n",
       "34     POINT (-592006.1802368737 6116040.234752133)\n",
       "36     POINT (-591918.9502838877 6116065.049633872)\n",
       "38     POINT (-591829.8835593032 6116090.530761657)\n",
       "40     POINT (-591742.6870021665 6116115.345788944)\n",
       "42        POINT (-591659.19738407 6116142.99214552)\n",
       "44     POINT (-591408.7285297862 6116214.939708156)\n",
       "46     POINT (-591325.2389116925 6116242.919478876)\n",
       "48     POINT (-591238.0200906552 6116267.901494166)\n",
       "50      POINT (-591048.788088255 6116320.530511207)\n",
       "52     POINT (-590982.0186576789 6116346.178946711)\n",
       "54     POINT (-590896.6588721375 6116370.661615799)\n",
       "56     POINT (-590792.7977872276 6116403.638382607)\n",
       "58     POINT (-590718.5476868694 6116429.120516548)\n",
       "                           ...                     \n",
       "614    POINT (-578733.1343355272 6143836.934944454)\n",
       "616    POINT (-578733.1343355272 6143839.441205189)\n",
       "618     POINT (-578736.852406519 6143845.289149758)\n",
       "620    POINT (-578744.2885485056 6143855.815460055)\n",
       "622    POINT (-578792.5566797131 6143887.561553692)\n",
       "624    POINT (-579098.6518835461 6143831.254089513)\n",
       "626    POINT (-579132.0477307859 6143839.441205189)\n",
       "628    POINT (-580425.2128594827 6142650.887691745)\n",
       "630    POINT (-580850.0748280457 6142335.983772065)\n",
       "632    POINT (-580859.3588735766 6142319.445372024)\n",
       "634    POINT (-581254.5541978406 6141659.271919995)\n",
       "636     POINT (-581404.824378465 6141406.374838321)\n",
       "638    POINT (-581996.6655832153 6140671.111522224)\n",
       "640    POINT (-595282.6468093917 6127383.791367726)\n",
       "642    POINT (-595290.1052152759 6127387.126631603)\n",
       "644      POINT (-595291.953118823 6127372.78500617)\n",
       "646    POINT (-595293.7787584725 6127367.115067854)\n",
       "648    POINT (-595304.9107075505 6127361.445133295)\n",
       "650    POINT (-595306.7586110976 6127356.275490349)\n",
       "652    POINT (-595310.4766820895 6127344.768876921)\n",
       "654    POINT (-595316.0426566313 6127342.100678917)\n",
       "656    POINT (-595317.9016921273 6127339.098957149)\n",
       "658    POINT (-595323.5010625129 6127328.259415096)\n",
       "660    POINT (-595332.7405802484 6127317.086363021)\n",
       "662    POINT (-604323.6151014557 6146858.849198739)\n",
       "664    POINT (-604353.3485374448 6146858.849198739)\n",
       "666    POINT (-604369.9908013205 6146861.857774663)\n",
       "668    POINT (-604397.8763337627 6146870.047792263)\n",
       "670    POINT (-604403.3866485574 6146878.404961169)\n",
       "672    POINT (-604407.1158514982 6146878.404961169)\n",
       "Name: geom, Length: 335, dtype: object"
      ]
     },
     "execution_count": 48,
     "metadata": {},
     "output_type": "execute_result"
    }
   ],
   "source": [
    "sample_ves_espg3857_nd.geom"
   ]
  },
  {
   "cell_type": "code",
   "execution_count": 18,
   "metadata": {
    "cell_style": "split",
    "scrolled": true
   },
   "outputs": [
    {
     "data": {
      "text/plain": [
       "0                                               NaN\n",
       "2       POINT (-598720.571171356 6113942.054820082)\n",
       "4      POINT (-597043.3871952686 6114513.841228255)\n",
       "6      POINT (-595701.9428034156 6114932.964563244)\n",
       "8      POINT (-595095.2961063879 6115115.973190749)\n",
       "10      POINT (-595008.0661534017 6115138.28752164)\n",
       "12     POINT (-594922.7174998093 6115162.933268012)\n",
       "14     POINT (-594494.1374602573 6115290.659318012)\n",
       "16     POINT (-593883.7504283399 6115485.166266123)\n",
       "18     POINT (-593796.5316073027 6115510.146073989)\n",
       "20     POINT (-593633.2593101555 6115557.441376179)\n",
       "22     POINT (-593204.6904025495 6115682.009124545)\n",
       "24     POINT (-592874.4166053174 6115779.266485437)\n",
       "26     POINT (-592792.7637588191 6115804.913302059)\n",
       "28      POINT (-592431.031073485 6115909.832896073)\n",
       "30      POINT (-592271.454583435 6115951.468011378)\n",
       "32     POINT (-592180.5399553035 6115987.607455348)\n",
       "34     POINT (-592093.3433981639 6116015.586484314)\n",
       "36     POINT (-592006.1802368737 6116040.234752133)\n",
       "38     POINT (-591918.9502838877 6116065.049633872)\n",
       "40     POINT (-591829.8835593032 6116090.530761657)\n",
       "42     POINT (-591742.6870021665 6116115.345788944)\n",
       "44        POINT (-591659.19738407 6116142.99214552)\n",
       "46     POINT (-591408.7285297862 6116214.939708156)\n",
       "48     POINT (-591325.2389116925 6116242.919478876)\n",
       "50     POINT (-591238.0200906552 6116267.901494166)\n",
       "52      POINT (-591048.788088255 6116320.530511207)\n",
       "54     POINT (-590982.0186576789 6116346.178946711)\n",
       "56     POINT (-590896.6588721375 6116370.661615799)\n",
       "58     POINT (-590792.7977872276 6116403.638382607)\n",
       "                           ...                     \n",
       "614    POINT (-578731.2864319801 6143825.740322146)\n",
       "616    POINT (-578733.1343355272 6143836.934944454)\n",
       "618    POINT (-578733.1343355272 6143839.441205189)\n",
       "620     POINT (-578736.852406519 6143845.289149758)\n",
       "622    POINT (-578744.2885485056 6143855.815460055)\n",
       "624    POINT (-578792.5566797131 6143887.561553692)\n",
       "626    POINT (-579098.6518835461 6143831.254089513)\n",
       "628    POINT (-579132.0477307859 6143839.441205189)\n",
       "630    POINT (-580425.2128594827 6142650.887691745)\n",
       "632    POINT (-580850.0748280457 6142335.983772065)\n",
       "634    POINT (-580859.3588735766 6142319.445372024)\n",
       "636    POINT (-581254.5541978406 6141659.271919995)\n",
       "638     POINT (-581404.824378465 6141406.374838321)\n",
       "640    POINT (-581996.6655832153 6140671.111522224)\n",
       "642    POINT (-595282.6468093917 6127383.791367726)\n",
       "644    POINT (-595290.1052152759 6127387.126631603)\n",
       "646      POINT (-595291.953118823 6127372.78500617)\n",
       "648    POINT (-595293.7787584725 6127367.115067854)\n",
       "650    POINT (-595304.9107075505 6127361.445133295)\n",
       "652    POINT (-595306.7586110976 6127356.275490349)\n",
       "654    POINT (-595310.4766820895 6127344.768876921)\n",
       "656    POINT (-595316.0426566313 6127342.100678917)\n",
       "658    POINT (-595317.9016921273 6127339.098957149)\n",
       "660    POINT (-595323.5010625129 6127328.259415096)\n",
       "662    POINT (-595332.7405802484 6127317.086363021)\n",
       "664    POINT (-604323.6151014557 6146858.849198739)\n",
       "666    POINT (-604353.3485374448 6146858.849198739)\n",
       "668    POINT (-604369.9908013205 6146861.857774663)\n",
       "670    POINT (-604397.8763337627 6146870.047792263)\n",
       "672    POINT (-604403.3866485574 6146878.404961169)\n",
       "Name: geom, Length: 335, dtype: object"
      ]
     },
     "execution_count": 18,
     "metadata": {},
     "output_type": "execute_result"
    }
   ],
   "source": [
    "sample_ves_espg3857_nd.geom.shift()"
   ]
  },
  {
   "cell_type": "code",
   "execution_count": 31,
   "metadata": {},
   "outputs": [],
   "source": [
    "velocities = calculate_velocity(sample_ves_espg3857_nd)"
   ]
  },
  {
   "cell_type": "code",
   "execution_count": 32,
   "metadata": {
    "cell_style": "split",
    "scrolled": true
   },
   "outputs": [
    {
     "data": {
      "text/plain": [
       "2       8.859861\n",
       "4       8.783724\n",
       "6       8.924648\n",
       "8      10.004316\n",
       "10      8.075985\n",
       "12      8.944156\n",
       "14      9.284476\n",
       "16      8.247771\n",
       "18      8.946546\n",
       "20      8.926106\n",
       "22      8.607401\n",
       "24      8.558590\n",
       "26      9.416032\n",
       "28      8.245929\n",
       "30      9.783419\n",
       "32      8.325042\n",
       "34     10.064578\n",
       "36      8.244629\n",
       "38     10.293333\n",
       "40      9.065884\n",
       "42      8.794792\n",
       "44      8.686586\n",
       "46      8.805330\n",
       "48      9.072609\n",
       "50      9.820713\n",
       "52      7.152621\n",
       "54      8.880143\n",
       "56     10.897060\n",
       "58      7.136460\n",
       "60      8.922254\n",
       "         ...    \n",
       "614     1.134611\n",
       "616     0.835420\n",
       "618     1.732457\n",
       "620     1.288796\n",
       "622     1.444305\n",
       "624     1.556156\n",
       "626     1.809724\n",
       "628     2.661210\n",
       "630     2.971013\n",
       "632     3.161013\n",
       "634     3.260258\n",
       "636     3.631772\n",
       "638     3.949241\n",
       "640     3.275259\n",
       "642     2.723393\n",
       "644     2.892037\n",
       "646     1.985535\n",
       "648     4.164245\n",
       "650     1.829996\n",
       "652     3.023101\n",
       "654     1.543117\n",
       "656     1.176924\n",
       "658     4.066784\n",
       "660     2.416413\n",
       "662     1.176871\n",
       "664     3.716679\n",
       "666     2.114003\n",
       "668     3.229263\n",
       "670     2.502572\n",
       "672     1.243068\n",
       "Length: 334, dtype: float64"
      ]
     },
     "execution_count": 32,
     "metadata": {},
     "output_type": "execute_result"
    }
   ],
   "source": [
    "velocities"
   ]
  },
  {
   "cell_type": "code",
   "execution_count": 33,
   "metadata": {
    "cell_style": "split",
    "scrolled": true
   },
   "outputs": [
    {
     "data": {
      "text/plain": [
       "0      11.1\n",
       "2      11.5\n",
       "4      11.5\n",
       "6      11.5\n",
       "8      11.6\n",
       "10     11.6\n",
       "12     11.6\n",
       "14     11.5\n",
       "16     11.6\n",
       "18     11.4\n",
       "20     11.8\n",
       "22     11.5\n",
       "24     11.4\n",
       "26     11.6\n",
       "28     11.8\n",
       "30     11.6\n",
       "32     11.7\n",
       "34     11.7\n",
       "36     11.7\n",
       "38     11.8\n",
       "40     11.8\n",
       "42     11.6\n",
       "44     11.6\n",
       "46     11.5\n",
       "48     11.6\n",
       "50     11.5\n",
       "52     11.5\n",
       "54     11.5\n",
       "56     11.6\n",
       "58     11.5\n",
       "       ... \n",
       "614     1.6\n",
       "616     1.7\n",
       "618     1.7\n",
       "620     1.6\n",
       "622     2.0\n",
       "624     2.3\n",
       "626     2.2\n",
       "628     4.4\n",
       "630     3.0\n",
       "632     3.3\n",
       "634     4.5\n",
       "636     4.6\n",
       "638     4.6\n",
       "640     3.0\n",
       "642     2.5\n",
       "644     2.9\n",
       "646     3.2\n",
       "648     2.9\n",
       "650     2.8\n",
       "652     3.3\n",
       "654     2.8\n",
       "656     2.9\n",
       "658     3.1\n",
       "660     2.9\n",
       "662     3.9\n",
       "664     3.7\n",
       "666     3.7\n",
       "668     3.6\n",
       "670     3.2\n",
       "672     3.3\n",
       "Name: speed, Length: 335, dtype: float64"
      ]
     },
     "execution_count": 33,
     "metadata": {},
     "output_type": "execute_result"
    }
   ],
   "source": [
    "sample_ves_espg3857_nd.speed"
   ]
  },
  {
   "cell_type": "code",
   "execution_count": 99,
   "metadata": {
    "cell_style": "center",
    "scrolled": true
   },
   "outputs": [
    {
     "name": "stdout",
     "output_type": "stream",
     "text": [
      "[0, 1, 2, 3, 4, 5, 6, 7, 8, 9, 10, 11, 12, 13, 14, 15, 16, 17, 18, 19, 20, 21, 22, 23, 24, 25, 26, 27, 28, 29, 30, 31, 32, 33, 35, 37, 38, 40, 41, 45, 46, 49]\n"
     ]
    }
   ],
   "source": [
    "# outliers = detect_outliers(velocities, alpha=1.5)\n",
    "outliers = detect_outliers(velocities, alpha=3)\n",
    "print(outliers)"
   ]
  },
  {
   "cell_type": "code",
   "execution_count": null,
   "metadata": {},
   "outputs": [],
   "source": []
  },
  {
   "cell_type": "code",
   "execution_count": null,
   "metadata": {},
   "outputs": [],
   "source": []
  },
  {
   "cell_type": "markdown",
   "metadata": {
    "cell_style": "split"
   },
   "source": [
    "### Plotting the Outliers in the Original Trajectory..."
   ]
  },
  {
   "cell_type": "markdown",
   "metadata": {
    "cell_style": "split"
   },
   "source": [
    "### ...vs. The Deleted Points"
   ]
  },
  {
   "cell_type": "code",
   "execution_count": 54,
   "metadata": {
    "cell_style": "split"
   },
   "outputs": [
    {
     "data": {
      "image/png": "[encoded data removed]",
      "text/plain": [
       "<Figure size 504x504 with 1 Axes>"
      ]
     },
     "metadata": {
      "needs_background": "light"
     },
     "output_type": "display_data"
    }
   ],
   "source": [
    "ax = sample_ves_espg3857.plot(figsize=(7, 7))\n",
    "ax.scatter(sample_ves_espg3857.iloc[0].geom.x, sample_ves_espg3857.iloc[0].geom.y, c='yellow') \n",
    "\n",
    "ax.scatter(sample_ves_espg3857.iloc[-1].geom.x, sample_ves_espg3857.iloc[-1].geom.y, c='yellow')\n",
    "\n",
    "\n",
    "# Points-of-Interest\n",
    "ax.scatter(sample_ves_espg3857.iloc[outliers].geom.x, sample_ves_espg3857.iloc[outliers].geom.y, c='green')\n",
    "# ctx.add_basemap(ax)\n",
    "plt.show()"
   ]
  },
  {
   "cell_type": "code",
   "execution_count": 55,
   "metadata": {
    "cell_style": "split"
   },
   "outputs": [
    {
     "data": {
      "image/png": "[encoded data removed]",
      "text/plain": [
       "<Figure size 504x504 with 1 Axes>"
      ]
     },
     "metadata": {
      "needs_background": "light"
     },
     "output_type": "display_data"
    }
   ],
   "source": [
    "ax = sample_ves_espg3857.drop(outliers).plot(figsize=(7, 7))\n",
    "\n",
    "ax.scatter(sample_ves_espg3857.drop(outliers).iloc[0].geom.x, sample_ves_espg3857.drop(outliers).iloc[0].geom.y, c='yellow') \n",
    "ax.scatter(sample_ves_espg3857.drop(outliers).iloc[-1].geom.x, sample_ves_espg3857.drop(outliers).iloc[-1].geom.y, c='yellow')\n",
    "\n",
    "\n",
    "# Points-of-Interest\n",
    "# ax.scatter(sample_ves_espg3857.iloc[outliers].geom.x, sample_ves_espg3857.iloc[outliers].geom.y, c='green')\n",
    "# ctx.add_basemap(ax)\n",
    "plt.show()"
   ]
  },
  {
   "cell_type": "code",
   "execution_count": 140,
   "metadata": {
    "cell_style": "split",
    "scrolled": false
   },
   "outputs": [
    {
     "data": {
      "image/png": "[encoded data removed]",
      "text/plain": [
       "<Figure size 504x504 with 1 Axes>"
      ]
     },
     "metadata": {
      "needs_background": "light"
     },
     "output_type": "display_data"
    }
   ],
   "source": [
    "ax = sample_ves_espg3857.plot(figsize=(7, 7))\n",
    "ax.scatter(sample_ves_espg3857.iloc[0].geom.x, sample_ves_espg3857.iloc[0].geom.y, c='yellow') \n",
    "\n",
    "ax.scatter(sample_ves_espg3857.iloc[-1].geom.x, sample_ves_espg3857.iloc[-1].geom.y, c='yellow')\n",
    "\n",
    "\n",
    "# Points-of-Interest\n",
    "ax.scatter(sample_ves_espg3857.iloc[outliers].geom.x, sample_ves_espg3857.iloc[outliers].geom.y, c='green')\n",
    "# ctx.add_basemap(ax)\n",
    "plt.show()"
   ]
  },
  {
   "cell_type": "code",
   "execution_count": 141,
   "metadata": {
    "cell_style": "split"
   },
   "outputs": [
    {
     "data": {
      "image/png": "[encoded data removed]",
      "text/plain": [
       "<Figure size 504x504 with 1 Axes>"
      ]
     },
     "metadata": {
      "needs_background": "light"
     },
     "output_type": "display_data"
    }
   ],
   "source": [
    "ax = sample_ves_espg3857.drop(outliers).plot(figsize=(7, 7))\n",
    "\n",
    "ax.scatter(sample_ves_espg3857.iloc[0].geom.x, sample_ves_espg3857.iloc[0].geom.y, c='yellow') \n",
    "ax.scatter(sample_ves_espg3857.iloc[-1].geom.x, sample_ves_espg3857.iloc[-1].geom.y, c='yellow')\n",
    "\n",
    "\n",
    "# Points-of-Interest\n",
    "# ax.scatter(sample_ves_espg3857.iloc[outliers].geom.x, sample_ves_espg3857.iloc[outliers].geom.y, c='green')\n",
    "# ctx.add_basemap(ax)\n",
    "plt.show()"
   ]
  },
  {
   "cell_type": "code",
   "execution_count": null,
   "metadata": {},
   "outputs": [],
   "source": []
  },
  {
   "cell_type": "code",
   "execution_count": null,
   "metadata": {},
   "outputs": [],
   "source": []
  },
  {
   "cell_type": "markdown",
   "metadata": {},
   "source": [
    "## TESTING: Detecting Outliers \\w Pandas vs. NumPy"
   ]
  },
  {
   "cell_type": "code",
   "execution_count": 103,
   "metadata": {},
   "outputs": [
    {
     "name": "stdout",
     "output_type": "stream",
     "text": [
      "327 µs ± 6.78 µs per loop (mean ± std. dev. of 7 runs, 1000 loops each)\n"
     ]
    }
   ],
   "source": [
    "%timeit detect_outliers(velocities, alpha=3)"
   ]
  },
  {
   "cell_type": "code",
   "execution_count": 104,
   "metadata": {},
   "outputs": [
    {
     "name": "stdout",
     "output_type": "stream",
     "text": [
      "933 µs ± 19.8 µs per loop (mean ± std. dev. of 7 runs, 1000 loops each)\n"
     ]
    }
   ],
   "source": [
    "%timeit get_outliers(velocities, alpha=3)"
   ]
  },
  {
   "cell_type": "markdown",
   "metadata": {},
   "source": [
    "## TESTING: (Geo)Pandas Distance vs. Other Mehods"
   ]
  },
  {
   "cell_type": "code",
   "execution_count": 22,
   "metadata": {
    "collapsed": true
   },
   "outputs": [
    {
     "data": {
      "text/plain": [
       "0               NaN\n",
       "2       1771.972287\n",
       "4       1405.395826\n",
       "6        633.650040\n",
       "8         90.038848\n",
       "10        88.835834\n",
       "12       447.207775\n",
       "14       640.628817\n",
       "16        90.725485\n",
       "18       169.984378\n",
       "20       446.305313\n",
       "22       344.296058\n",
       "24        85.585902\n",
       "26       376.641284\n",
       "28       164.918583\n",
       "30        97.834191\n",
       "32        91.575464\n",
       "34        90.581200\n",
       "36        90.690920\n",
       "38        92.639998\n",
       "40        90.658839\n",
       "42        87.947924\n",
       "44       260.597580\n",
       "46        88.053301\n",
       "48        90.726092\n",
       "50       196.414267\n",
       "52        71.526213\n",
       "54        88.801431\n",
       "56       108.970602\n",
       "58        78.501061\n",
       "           ...     \n",
       "614       11.346115\n",
       "616        2.506261\n",
       "618        6.929827\n",
       "620       12.887956\n",
       "622       57.772199\n",
       "624      311.231111\n",
       "626       34.384756\n",
       "628     1756.398447\n",
       "630      528.840402\n",
       "632       18.966080\n",
       "634      769.420776\n",
       "636      294.173522\n",
       "638      943.868717\n",
       "640    18790.161629\n",
       "642        8.170178\n",
       "644       14.460186\n",
       "646        5.956606\n",
       "648       12.492736\n",
       "650        5.489987\n",
       "652       12.092403\n",
       "654        6.172467\n",
       "656        3.530771\n",
       "658       12.200353\n",
       "660       14.498475\n",
       "662    21510.841903\n",
       "664       29.733436\n",
       "666       16.912022\n",
       "668       29.063367\n",
       "670       10.010287\n",
       "672        3.729203\n",
       "Length: 335, dtype: float64"
      ]
     },
     "execution_count": 22,
     "metadata": {},
     "output_type": "execute_result"
    }
   ],
   "source": [
    "sample_ves_espg3857_nd.geom.distance(sample_ves_espg3857_nd.geom.shift())"
   ]
  },
  {
   "cell_type": "code",
   "execution_count": 23,
   "metadata": {
    "cell_style": "split",
    "collapsed": true
   },
   "outputs": [
    {
     "name": "stdout",
     "output_type": "stream",
     "text": [
      "1771.9722870901592\n",
      "1405.395825511904\n",
      "633.6500396559031\n",
      "90.0388475107471\n",
      "88.83583446053939\n",
      "447.2077751459337\n",
      "640.6288173319888\n",
      "90.72548453512772\n",
      "169.9843775908683\n",
      "446.30531309838227\n",
      "344.29605775503995\n",
      "85.58590155008639\n",
      "376.64128404498905\n",
      "164.91858295278936\n",
      "97.8341914602996\n",
      "91.57546417518354\n",
      "90.58119999542001\n",
      "90.6909204585821\n",
      "92.63999838850415\n",
      "90.6588393689038\n",
      "87.94792414738184\n",
      "260.59758006451545\n",
      "88.053301465516\n",
      "90.72609233900735\n",
      "196.4142667096822\n",
      "71.52621270046289\n",
      "88.80143058157222\n",
      "108.97060203461893\n",
      "78.50106084234055\n",
      "178.44507516310006\n",
      "92.64034321414502\n",
      "238.94713788514315\n",
      "154.35517049535508\n",
      "65.20297674540774\n",
      "15.365486432163102\n",
      "25.01874955194932\n",
      "18.545636313059894\n",
      "106.58030035471609\n",
      "166.59880917928575\n",
      "80.1099304285938\n",
      "132.73597520740688\n",
      "64.58323791994496\n",
      "16.708313467402558\n",
      "17.719430767669436\n",
      "24.156350154404922\n",
      "24.643941696311078\n",
      "23.69085465622506\n",
      "58.305429737660745\n",
      "33.81290526883925\n",
      "24.327666177049313\n",
      "408.1655785506352\n",
      "692.8744490087596\n",
      "180.654555224917\n",
      "1296.868776301149\n",
      "552.9632278019723\n",
      "130.5141911040628\n",
      "52.82178283017129\n",
      "125.48451567574116\n",
      "128.47051185986916\n",
      "30.494380143471062\n",
      "1003.3721402925958\n",
      "22.47676460726756\n",
      "1229.6015309381287\n",
      "1490.7773283376994\n",
      "1799.4014984625114\n",
      "1950.6971075679755\n",
      "606.7761848052954\n",
      "48.167408270292036\n",
      "15.868475607005374\n",
      "17.388809753058354\n",
      "42.648455506115916\n",
      "75.6825978572347\n",
      "305.02632821218697\n",
      "669.1193495308969\n",
      "529.9539654294548\n",
      "18.576805264777743\n",
      "17.022177226375124\n",
      "18.512726085981395\n",
      "101.02660224825594\n",
      "142.17023098151796\n",
      "78.62038748456305\n",
      "7.458405884332024\n",
      "13.372024069442473\n",
      "12.235552866229373\n",
      "112.95865956052592\n",
      "57.20003711673224\n",
      "15.15117213493436\n",
      "146.9048703527408\n",
      "83.68261683719682\n",
      "24.353497861873464\n",
      "50.09611278523805\n",
      "401.7088217638527\n",
      "111.20866749536205\n",
      "171.73538169986531\n",
      "22.225192976364234\n",
      "26.825418540920808\n",
      "23.486112956039825\n",
      "23.60428732903604\n",
      "24.49881227389262\n",
      "141.42590900239054\n",
      "147.93276875061045\n",
      "21.54855220220014\n",
      "232.15587122321668\n",
      "47.208896249702306\n",
      "22.34289114163402\n",
      "21.907244045241566\n",
      "47.612254447766475\n",
      "18.388250133993957\n",
      "171.70872457085997\n",
      "19.910508816564164\n",
      "85.95485552262309\n",
      "29.358037844525924\n",
      "40.26908985082536\n",
      "254.64252761490354\n",
      "19.35602970184922\n",
      "23.23705761404925\n",
      "20.427442384484365\n",
      "20.00210850798859\n",
      "46.33819452699819\n",
      "21.629827700827374\n",
      "19.378584508362035\n",
      "363.1953668379136\n",
      "214.63144345352597\n",
      "10.944192927942474\n",
      "9.615504013026431\n",
      "0.0\n",
      "2.8365999488160014\n",
      "17.540108723251528\n",
      "5.980515605396637\n",
      "1.8367715982021764\n",
      "23.127902597877654\n",
      "23.318197277046917\n",
      "48.56902960601475\n",
      "112.77948770085783\n",
      "55.54456033656204\n",
      "55.72477725832017\n",
      "117.45178279864858\n",
      "41.73825391883074\n",
      "31.244529266234196\n",
      "44.91575192868177\n",
      "26.95664447054053\n",
      "140.666964135001\n",
      "31.672596735703404\n",
      "221.60077906758107\n",
      "52.57004058798323\n",
      "166.81597387699273\n",
      "18.974360277182893\n",
      "57.08308190627507\n",
      "87.36145372015507\n",
      "193.07882095544113\n",
      "29.058777683387728\n",
      "141.2864122571217\n",
      "285.356655296834\n",
      "842.387653194024\n",
      "313.14349677360883\n",
      "174.99598611155227\n",
      "186.85461875058317\n",
      "27.82587061749524\n",
      "155.36360757910217\n",
      "57.090394551720564\n",
      "32.97777260996557\n",
      "114.38786949504986\n",
      "28.47639642421325\n",
      "88.12658866615926\n",
      "25.59001742780891\n",
      "115.73129963725204\n",
      "27.826407555430244\n",
      "48.14007891570456\n",
      "14.428660568539753\n",
      "282.8879858863404\n",
      "22.19531033883846\n",
      "23.62647296583773\n",
      "322.7147048116928\n",
      "238.06176802498592\n",
      "52.76605602129079\n",
      "26.766867033624486\n",
      "725.8925369101391\n",
      "153.92055001463154\n",
      "168.1763356765453\n",
      "128.3935076841667\n",
      "81.35658585844489\n",
      "174.06216178346486\n",
      "202.0357519544243\n",
      "44.9578051981344\n",
      "28.22937256034245\n",
      "21.107630219685724\n",
      "182.73523697366076\n",
      "19.99222477857547\n",
      "28.111467654052948\n",
      "19.622005952222732\n",
      "50.949271404136645\n",
      "97.26769937289916\n",
      "20.45921975468715\n",
      "36.047510309301856\n",
      "25.291746531809434\n",
      "22.331093295135176\n",
      "291.85867674027105\n",
      "78.23882774790269\n",
      "36.76917089467455\n",
      "25.879264069826842\n",
      "28.057781177572455\n",
      "24.84274607463537\n",
      "51.58096133116693\n",
      "256.3777785515486\n",
      "103.26228578989108\n",
      "20.429866931515573\n",
      "144.87831346482776\n",
      "16.799069533924843\n",
      "59.23904601899113\n",
      "18.972036228721326\n",
      "43.075501484087184\n",
      "212.4332670742238\n",
      "110.03115597056457\n",
      "58.61516353734865\n",
      "17.411614121393445\n",
      "18.276680056124622\n",
      "23.312776783317016\n",
      "19.127281274708572\n",
      "106.12051961149083\n",
      "18.749088602234504\n",
      "24.284150688955915\n",
      "209.31291315260023\n",
      "25.11543346225291\n",
      "33.52586427769411\n",
      "23.61331406787455\n",
      "51.539331276300516\n",
      "14.193791752251949\n",
      "19.113806989608467\n",
      "33.515565547776895\n",
      "12.948382147398588\n",
      "20.889501838236466\n",
      "180.12415912025855\n",
      "26.877523974564372\n",
      "23.61078028151568\n",
      "33.21126591998331\n",
      "23.617291566457613\n",
      "57.10611462994686\n",
      "18.974089881486826\n",
      "61.126438832748555\n",
      "24.65020124936376\n",
      "22.344938984298583\n",
      "30.108077651709635\n",
      "28.05781153646065\n",
      "192.74782473962972\n",
      "36.79432945825279\n",
      "28.767578035105444\n",
      "117.93561327068541\n",
      "24.96519378618534\n",
      "41.33032406338108\n",
      "79.17224948275857\n",
      "89.35157419899018\n",
      "28.67225304114338\n",
      "40.88447148103919\n",
      "21.334917824239508\n",
      "22.469172854732946\n",
      "69.70736444117269\n",
      "12.83430994560307\n",
      "18.975453849052254\n",
      "42.58583420900971\n",
      "15.405853398611823\n",
      "126.02853004811114\n",
      "19.059188171387635\n",
      "21.335542573094816\n",
      "79.52105664675273\n",
      "19.560984860056667\n",
      "160.90958842639034\n",
      "84.54959865698434\n",
      "199.67567828619832\n",
      "52.50053105277951\n",
      "26.935805203823385\n",
      "25.59427669935632\n",
      "106.05944042919701\n",
      "65.82686178126741\n",
      "28.57996888759562\n",
      "129.80058934790486\n",
      "51.2557752210835\n",
      "24.59595973703383\n",
      "6.7643463309422\n",
      "22.048313580368102\n",
      "13.935074983086986\n",
      "16.701933143246873\n",
      "51.425612235731435\n",
      "124.91845425549455\n",
      "166.22303296434833\n",
      "204.9446047461606\n",
      "84.75365854838006\n",
      "93.88343895053427\n",
      "67.16801236199161\n",
      "35.54340729555733\n",
      "20.195858460665637\n",
      "23.603482534118267\n",
      "107.41193401553397\n",
      "32.194780865920166\n",
      "214.39578850957744\n",
      "114.91675245405395\n",
      "20.488799916942632\n",
      "89.35691461648443\n",
      "189.3158505004361\n",
      "11.6830145461598\n",
      "11.02405426863517\n",
      "5.680834636092186\n",
      "6.289198751448268\n",
      "2.3391699455678463\n",
      "12.357605104152654\n",
      "11.346114583351754\n",
      "2.5062607349827886\n",
      "6.929827385385262\n",
      "12.887956242492033\n",
      "57.77219877612889\n",
      "311.23111080327476\n",
      "34.38475644744506\n",
      "1756.3984469355535\n",
      "528.8404021634923\n",
      "18.966079651991375\n",
      "769.4207763532394\n",
      "294.17352209900304\n",
      "943.8687173743599\n",
      "18790.161628640235\n",
      "8.170177688268659\n",
      "14.460185599261495\n",
      "5.956606470434309\n",
      "12.492735816210992\n",
      "5.48998685845245\n",
      "12.092402758639862\n",
      "6.172467350316499\n",
      "3.5307713811843584\n",
      "12.20035330008389\n",
      "14.49847511438789\n",
      "21510.841903178367\n",
      "29.7334359891247\n",
      "16.91202164133789\n",
      "29.063367111853406\n",
      "10.010286771663711\n",
      "3.7292029408272356\n"
     ]
    }
   ],
   "source": [
    "for idx, i in enumerate(sample_ves_espg3857_nd.geom[:-1]):\n",
    "    print (i.distance(sample_ves_espg3857_nd.geom.iloc[idx+1]))"
   ]
  },
  {
   "cell_type": "code",
   "execution_count": 24,
   "metadata": {
    "cell_style": "split",
    "collapsed": true
   },
   "outputs": [
    {
     "name": "stdout",
     "output_type": "stream",
     "text": [
      "1771.9722870901592\n",
      "1405.395825511904\n",
      "633.6500396559031\n",
      "90.0388475107471\n",
      "88.83583446053939\n",
      "447.2077751459337\n",
      "640.6288173319888\n",
      "90.72548453512772\n",
      "169.9843775908683\n",
      "446.30531309838227\n",
      "344.29605775503995\n",
      "85.58590155008639\n",
      "376.64128404498905\n",
      "164.91858295278936\n",
      "97.8341914602996\n",
      "91.57546417518354\n",
      "90.58119999542001\n",
      "90.6909204585821\n",
      "92.63999838850415\n",
      "90.6588393689038\n",
      "87.94792414738184\n",
      "260.59758006451545\n",
      "88.053301465516\n",
      "90.72609233900735\n",
      "196.4142667096822\n",
      "71.52621270046289\n",
      "88.80143058157222\n",
      "108.97060203461893\n",
      "78.50106084234055\n",
      "178.44507516310006\n",
      "92.64034321414502\n",
      "238.94713788514315\n",
      "154.35517049535508\n",
      "65.20297674540774\n",
      "15.365486432163102\n",
      "25.01874955194932\n",
      "18.545636313059894\n",
      "106.58030035471609\n",
      "166.59880917928575\n",
      "80.1099304285938\n",
      "132.73597520740688\n",
      "64.58323791994496\n",
      "16.708313467402558\n",
      "17.719430767669436\n",
      "24.156350154404922\n",
      "24.643941696311078\n",
      "23.69085465622506\n",
      "58.305429737660745\n",
      "33.81290526883925\n",
      "24.327666177049313\n",
      "408.1655785506352\n",
      "692.8744490087596\n",
      "180.654555224917\n",
      "1296.868776301149\n",
      "552.9632278019723\n",
      "130.5141911040628\n",
      "52.82178283017129\n",
      "125.48451567574116\n",
      "128.47051185986916\n",
      "30.494380143471062\n",
      "1003.3721402925958\n",
      "22.47676460726756\n",
      "1229.6015309381287\n",
      "1490.7773283376994\n",
      "1799.4014984625114\n",
      "1950.6971075679755\n",
      "606.7761848052954\n",
      "48.167408270292036\n",
      "15.868475607005374\n",
      "17.388809753058354\n",
      "42.648455506115916\n",
      "75.6825978572347\n",
      "305.02632821218697\n",
      "669.1193495308969\n",
      "529.9539654294548\n",
      "18.576805264777743\n",
      "17.022177226375124\n",
      "18.512726085981395\n",
      "101.02660224825594\n",
      "142.17023098151796\n",
      "78.62038748456305\n",
      "7.458405884332024\n",
      "13.372024069442473\n",
      "12.235552866229373\n",
      "112.95865956052592\n",
      "57.20003711673224\n",
      "15.15117213493436\n",
      "146.9048703527408\n",
      "83.68261683719682\n",
      "24.353497861873464\n",
      "50.09611278523805\n",
      "401.7088217638527\n",
      "111.20866749536205\n",
      "171.73538169986531\n",
      "22.225192976364234\n",
      "26.825418540920808\n",
      "23.486112956039825\n",
      "23.60428732903604\n",
      "24.49881227389262\n",
      "141.42590900239054\n",
      "147.93276875061045\n",
      "21.54855220220014\n",
      "232.15587122321668\n",
      "47.208896249702306\n",
      "22.34289114163402\n",
      "21.907244045241566\n",
      "47.612254447766475\n",
      "18.388250133993957\n",
      "171.70872457085997\n",
      "19.910508816564164\n",
      "85.95485552262309\n",
      "29.358037844525924\n",
      "40.26908985082536\n",
      "254.64252761490354\n",
      "19.35602970184922\n",
      "23.23705761404925\n",
      "20.427442384484365\n",
      "20.00210850798859\n",
      "46.33819452699819\n",
      "21.629827700827374\n",
      "19.378584508362035\n",
      "363.1953668379136\n",
      "214.63144345352597\n",
      "10.944192927942474\n",
      "9.615504013026431\n",
      "0.0\n",
      "2.8365999488160014\n",
      "17.540108723251528\n",
      "5.980515605396637\n",
      "1.8367715982021764\n",
      "23.127902597877654\n",
      "23.318197277046917\n",
      "48.56902960601475\n",
      "112.77948770085783\n",
      "55.54456033656204\n",
      "55.72477725832017\n",
      "117.45178279864858\n",
      "41.73825391883074\n",
      "31.244529266234196\n",
      "44.91575192868177\n",
      "26.95664447054053\n",
      "140.666964135001\n",
      "31.672596735703404\n",
      "221.60077906758107\n",
      "52.57004058798323\n",
      "166.81597387699273\n",
      "18.974360277182893\n",
      "57.08308190627507\n",
      "87.36145372015507\n",
      "193.07882095544113\n",
      "29.058777683387728\n",
      "141.2864122571217\n",
      "285.356655296834\n",
      "842.387653194024\n",
      "313.14349677360883\n",
      "174.99598611155227\n",
      "186.85461875058317\n",
      "27.82587061749524\n",
      "155.36360757910217\n",
      "57.090394551720564\n",
      "32.97777260996557\n",
      "114.38786949504986\n",
      "28.47639642421325\n",
      "88.12658866615926\n",
      "25.59001742780891\n",
      "115.73129963725204\n",
      "27.826407555430244\n",
      "48.14007891570456\n",
      "14.428660568539753\n",
      "282.8879858863404\n",
      "22.19531033883846\n",
      "23.62647296583773\n",
      "322.7147048116928\n",
      "238.06176802498592\n",
      "52.76605602129079\n",
      "26.766867033624486\n",
      "725.8925369101391\n",
      "153.92055001463154\n",
      "168.1763356765453\n",
      "128.3935076841667\n",
      "81.35658585844489\n",
      "174.06216178346486\n",
      "202.0357519544243\n",
      "44.9578051981344\n",
      "28.22937256034245\n",
      "21.107630219685724\n",
      "182.73523697366076\n",
      "19.99222477857547\n",
      "28.111467654052948\n",
      "19.622005952222732\n",
      "50.949271404136645\n",
      "97.26769937289916\n",
      "20.45921975468715\n",
      "36.047510309301856\n",
      "25.291746531809434\n",
      "22.331093295135176\n",
      "291.85867674027105\n",
      "78.23882774790269\n",
      "36.76917089467455\n",
      "25.879264069826842\n",
      "28.057781177572455\n",
      "24.84274607463537\n",
      "51.58096133116693\n",
      "256.3777785515486\n",
      "103.26228578989108\n",
      "20.429866931515573\n",
      "144.87831346482776\n",
      "16.799069533924843\n",
      "59.23904601899113\n",
      "18.972036228721326\n",
      "43.075501484087184\n",
      "212.4332670742238\n",
      "110.03115597056457\n",
      "58.61516353734865\n",
      "17.411614121393445\n",
      "18.276680056124622\n",
      "23.312776783317016\n",
      "19.127281274708572\n",
      "106.12051961149083\n",
      "18.749088602234504\n",
      "24.284150688955915\n",
      "209.31291315260023\n",
      "25.11543346225291\n",
      "33.52586427769411\n",
      "23.61331406787455\n",
      "51.539331276300516\n",
      "14.193791752251949\n",
      "19.113806989608467\n",
      "33.515565547776895\n",
      "12.948382147398588\n",
      "20.889501838236466\n",
      "180.12415912025855\n",
      "26.877523974564372\n",
      "23.61078028151568\n",
      "33.21126591998331\n",
      "23.617291566457613\n",
      "57.10611462994686\n",
      "18.974089881486826\n",
      "61.126438832748555\n",
      "24.65020124936376\n",
      "22.344938984298583\n",
      "30.108077651709635\n",
      "28.05781153646065\n",
      "192.74782473962972\n",
      "36.79432945825279\n",
      "28.767578035105444\n",
      "117.93561327068541\n",
      "24.96519378618534\n",
      "41.33032406338108\n",
      "79.17224948275857\n",
      "89.35157419899018\n",
      "28.67225304114338\n",
      "40.88447148103919\n",
      "21.334917824239508\n",
      "22.469172854732946\n",
      "69.70736444117269\n",
      "12.83430994560307\n",
      "18.975453849052254\n",
      "42.58583420900971\n",
      "15.405853398611823\n",
      "126.02853004811114\n",
      "19.059188171387635\n",
      "21.335542573094816\n",
      "79.52105664675273\n",
      "19.560984860056667\n",
      "160.90958842639034\n",
      "84.54959865698434\n",
      "199.67567828619832\n",
      "52.50053105277951\n",
      "26.935805203823385\n",
      "25.59427669935632\n",
      "106.05944042919701\n",
      "65.82686178126741\n",
      "28.57996888759562\n",
      "129.80058934790486\n",
      "51.2557752210835\n",
      "24.59595973703383\n",
      "6.7643463309422\n",
      "22.048313580368102\n",
      "13.935074983086986\n",
      "16.701933143246873\n",
      "51.425612235731435\n",
      "124.91845425549455\n",
      "166.22303296434833\n",
      "204.9446047461606\n",
      "84.75365854838006\n",
      "93.88343895053427\n",
      "67.16801236199161\n",
      "35.54340729555733\n",
      "20.195858460665637\n",
      "23.603482534118267\n",
      "107.41193401553397\n",
      "32.194780865920166\n",
      "214.39578850957744\n",
      "114.91675245405395\n",
      "20.488799916942632\n",
      "89.35691461648443\n",
      "189.3158505004361\n",
      "11.6830145461598\n",
      "11.02405426863517\n",
      "5.680834636092186\n",
      "6.289198751448268\n",
      "2.3391699455678463\n",
      "12.357605104152654\n",
      "11.346114583351754\n",
      "2.5062607349827886\n",
      "6.929827385385262\n",
      "12.887956242492033\n",
      "57.77219877612889\n",
      "311.23111080327476\n",
      "34.38475644744506\n",
      "1756.3984469355535\n",
      "528.8404021634923\n",
      "18.966079651991375\n",
      "769.4207763532394\n",
      "294.17352209900304\n",
      "943.8687173743599\n",
      "18790.161628640235\n",
      "8.170177688268659\n",
      "14.460185599261495\n",
      "5.956606470434309\n",
      "12.492735816210992\n",
      "5.48998685845245\n",
      "12.092402758639862\n",
      "6.172467350316499\n",
      "3.5307713811843584\n",
      "12.20035330008389\n",
      "14.49847511438789\n",
      "21510.841903178367\n",
      "29.7334359891247\n",
      "16.91202164133789\n",
      "29.063367111853406\n",
      "10.010286771663711\n",
      "3.7292029408272356\n"
     ]
    }
   ],
   "source": [
    "for idx, i in enumerate(sample_ves_espg3857_nd.geom[:-1]):\n",
    "    j = sample_ves_espg3857_nd.geom.iloc[idx+1]\n",
    "    x1, y1 = i.x, i.y\n",
    "    x2, y2 = j.x, j.y\n",
    "    print (np.sqrt( (x1 - x2)**2 + (y1 - y2)**2 )) "
   ]
  },
  {
   "cell_type": "code",
   "execution_count": null,
   "metadata": {},
   "outputs": [],
   "source": []
  },
  {
   "cell_type": "code",
   "execution_count": null,
   "metadata": {},
   "outputs": [],
   "source": []
  },
  {
   "cell_type": "markdown",
   "metadata": {},
   "source": [
    "# FUNCTIONS"
   ]
  },
  {
   "cell_type": "code",
   "execution_count": 25,
   "metadata": {},
   "outputs": [],
   "source": [
    "def calculate_velocity(df):\n",
    "    dx = df.geom.distance(df.geom.shift()).dropna()\n",
    "    dt = df.ts.diff().dropna()\n",
    "    velocity = dx/dt\n",
    "    return velocity"
   ]
  },
  {
   "cell_type": "code",
   "execution_count": 26,
   "metadata": {},
   "outputs": [],
   "source": [
    "def resample_trajectory(df, alpha=1.25):\n",
    "    '''\n",
    "        Denoise a Trajectory given the \"Outlier\" Timestamp Indices.\n",
    "    '''\n",
    "    df_clean = df.drop_duplicates(subset=['ts'])\n",
    "    outlier_indices = detect_outliers(df_clean.ts, alpha=alpha)\n",
    "    df_clean = df_clean.drop(df_clean.index[outlier_indices])\n",
    "    \n",
    "    return df_clean"
   ]
  },
  {
   "cell_type": "code",
   "execution_count": 27,
   "metadata": {},
   "outputs": [],
   "source": [
    "def detect_outliers(feature_series, alpha=1.25):\n",
    "    values = np.array(feature_series)\n",
    "    Q75 = np.percentile(values, 75)\n",
    "    Q25 = np.percentile(values, 25)\n",
    "    iqr = Q75 - Q25\n",
    "    \n",
    "    outliers_idx = []\n",
    "    for idx, val in enumerate(values):\n",
    "        if val > Q75 + (alpha * iqr):\n",
    "            outliers_idx.append(idx)\n",
    "        elif val < Q25 - (alpha * iqr):\n",
    "            outliers_idx.append(idx)\n",
    "    return outliers_idx"
   ]
  },
  {
   "cell_type": "code",
   "execution_count": 28,
   "metadata": {},
   "outputs": [],
   "source": [
    "def get_outliers(series, alpha = 3):\n",
    "    q25, q75 = series.quantile((0.25, 0.75))\n",
    "    iqr = q75 - q25\n",
    "    q_high = q75 + alpha*iqr\n",
    "    q_low = q25 - alpha*iqr\n",
    "    return series.loc[(series >q_high) | (series<q_low)].index"
   ]
  },
  {
   "cell_type": "code",
   "execution_count": 29,
   "metadata": {},
   "outputs": [],
   "source": [
    "def mean_dist_between_concecutive_points(sample_ves):\n",
    "    mean_dt = sample_ves.geom.distance(sample_ves.geom.shift(-1)).mean()\n",
    "    min_val = 1\n",
    "    for point in tqdm_notebook(sample_ves.geom):\n",
    "        if abs(sample_ves.geom.distance(point) - mean_dt).min() < min_val:\n",
    "            min_val = abs(sample_ves.geom.distance(point) - mean_dt).min()\n",
    "            cords = (abs(sample_ves.geom.distance(point) - mean_dt).idxmin(), (sample_ves.loc[sample_ves.geom == point ].index)[0])\n",
    "    return sample_ves.loc[[i for i in cords]], min_val"
   ]
  },
  {
   "cell_type": "code",
   "execution_count": 30,
   "metadata": {},
   "outputs": [],
   "source": [
    "def get_mean_distance_between_points(sample_ves):\n",
    "    sum_fl = 0.0\n",
    "    for point in tqdm_notebook(sample_ves.geom):\n",
    "        sum_fl += sample_ves.geom.distance(point).mean()\n",
    "        mean_dt = sum_fl/sample_ves.geom.count()\n",
    "    return mean_dt"
   ]
  },
  {
   "cell_type": "code",
   "execution_count": 56,
   "metadata": {},
   "outputs": [],
   "source": [
    "def sizeof_fmt(num, suffix='B'):\n",
    "    for unit in ['','Ki','Mi','Gi','Ti','Pi','Ei','Zi']:\n",
    "        if abs(num) < 1024.0:\n",
    "            return \"%3.1f%s%s\" % (num, unit, suffix)\n",
    "        num /= 1024.0\n",
    "    return \"%.1f%s%s\" % (num, 'Yi', suffix)"
   ]
  }
 ],
 "metadata": {
  "kernelspec": {
   "display_name": "Python 3",
   "language": "python",
   "name": "python3"
  },
  "language_info": {
   "codemirror_mode": {
    "name": "ipython",
    "version": 3
   },
   "file_extension": ".py",
   "mimetype": "text/x-python",
   "name": "python",
   "nbconvert_exporter": "python",
   "pygments_lexer": "ipython3",
   "version": "3.6.6"
  },
  "toc": {
   "base_numbering": 1,
   "nav_menu": {},
   "number_sections": true,
   "sideBar": true,
   "skip_h1_title": false,
   "title_cell": "Table of Contents",
   "title_sidebar": "Contents",
   "toc_cell": true,
   "toc_position": {},
   "toc_section_display": true,
   "toc_window_display": false
  },
  "varInspector": {
   "cols": {
    "lenName": 16,
    "lenType": 16,
    "lenVar": 40
   },
   "kernels_config": {
    "python": {
     "delete_cmd_postfix": "",
     "delete_cmd_prefix": "del ",
     "library": "var_list.py",
     "varRefreshCmd": "print(var_dic_list())"
    },
    "r": {
     "delete_cmd_postfix": ") ",
     "delete_cmd_prefix": "rm(",
     "library": "var_list.r",
     "varRefreshCmd": "cat(var_dic_list()) "
    }
   },
   "types_to_exclude": [
    "module",
    "function",
    "builtin_function_or_method",
    "instance",
    "_Feature"
   ],
   "window_display": false
  }
 },
 "nbformat": 4,
 "nbformat_minor": 2
}
