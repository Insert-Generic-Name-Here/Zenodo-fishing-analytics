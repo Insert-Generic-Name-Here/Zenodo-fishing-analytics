{
 "cells": [
  {
   "cell_type": "code",
   "execution_count": 1,
   "metadata": {},
   "outputs": [],
   "source": [
    "import pandas as pd\n",
    "import geopandas as gpd\n",
    "import numpy as np\n",
    "from shapely.geometry import Point\n",
    "from matplotlib import pyplot as plt\n",
    "import matplotlib.gridspec as gridspec\n",
    "from random import choice\n",
    "pd.options.mode.chained_assignment = None \n",
    "import pickle"
   ]
  },
  {
   "cell_type": "code",
   "execution_count": 2,
   "metadata": {},
   "outputs": [],
   "source": [
    "import os, sys\n",
    "sys.path.append(os.path.join(os.path.expanduser('~'), 'Documents/Insert-Generic-Name-Here'))\n",
    "# sys.path\n",
    "\n",
    "from lonelyboy.geospatial import plots as gsplt\n",
    "from lonelyboy.geospatial import preprocessing as gspp\n",
    "from lonelyboy.timeseries import lbtimeseries as tspp\n",
    "# from lonelyboy.geospatial import group_patterns as gsgp\n",
    "\n",
    "\n",
    "# from IPython.core.interactiveshell import InteractiveShell\n",
    "# InteractiveShell.ast_node_interactivity = \"all\"\n",
    "import PyQt5\n",
    "import matplotlib.pyplot as plt\n",
    "from matplotlib import style;  style.use('ggplot')\n",
    "\n",
    "style.use('ggplot')\n",
    "\n",
    "get_ipython().magic('matplotlib qt')\n",
    "# get_ipython().magic('matplotlib inline')"
   ]
  },
  {
   "cell_type": "code",
   "execution_count": 3,
   "metadata": {},
   "outputs": [],
   "source": [
    "PLT_FIG_WIDTH = 3.787\n",
    "PLT_FIG_HEIGHT = PLT_FIG_WIDTH / 1.618"
   ]
  },
  {
   "cell_type": "markdown",
   "metadata": {},
   "source": [
    "# Reading CSVs"
   ]
  },
  {
   "cell_type": "code",
   "execution_count": 4,
   "metadata": {
    "scrolled": true
   },
   "outputs": [],
   "source": [
    "def count_trips(df):\n",
    "    df2 = pd.Series([0, 0, 0, 0, len(df)], index=['C1', 'C2', 'C3', 'C4', '#records'])\n",
    "    \n",
    "    if df['label'].iloc[0] == -1 and df['label'].iloc[-1] == -1:\n",
    "        df2['C1'] += 1\n",
    "    elif df['label'].iloc[0] == -1 and df['label'].iloc[-1] == 0:\n",
    "        df2['C2'] += 1\n",
    "    elif df['label'].iloc[0] == 0 and df['label'].iloc[-1] == -1:\n",
    "        df2['C3'] += 1\n",
    "    elif df['label'].iloc[0] == 0 and df['label'].iloc[-1] == 0:\n",
    "        df2['C4'] += 1\n",
    "    \n",
    "    return df2"
   ]
  },
  {
   "cell_type": "code",
   "execution_count": 8,
   "metadata": {},
   "outputs": [
    {
     "name": "stdout",
     "output_type": "stream",
     "text": [
      "...creating file...\n",
      "\n",
      "data/csv/nari_dynamic_min_trip_card_3_no_resampling_correcred_bug_V2.csv\n",
      "...done.\n",
      "...done.\n",
      "...done.\n",
      "...done.\n",
      "...done.\n",
      "...done.\n"
     ]
    }
   ],
   "source": [
    "# csv_dir = 'data/csv/nari_dynamic_min_trip_card_3_no_resampling_correcred_bug_V2'\n",
    "csv_dir = 'test_data/nari_dynamic_min_trip_card_3_no_resampling_correcred_bug_V2'\n",
    "df_trips = []\n",
    "for file in os.listdir(csv_dir):\n",
    "    df = pd.read_csv(os.path.join(csv_dir, file))\n",
    "    df_trip = df.groupby(['mmsi', 'trip_id'], group_keys=False).apply(lambda df: count_trips(df)).reset_index()\n",
    "    df_trip = df_trip.groupby('mmsi', group_keys=False).apply(sum).reset_index(drop=True).drop('trip_id', axis=1)\n",
    "    df_trips.append(df_trip)\n",
    "    \n",
    "    if os.path.exists(f'test_data/nari_dynamic_min_trip_card_3_no_resampling_correcred_bug_V2.csv'):\n",
    "        with open(f'test_data/nari_dynamic_min_trip_card_3_no_resampling_correcred_bug_V2.csv', 'a') as f:\n",
    "            df.to_csv(f, header=False, index=False)\n",
    "    else:\n",
    "        print ('...creating file...\\n')\n",
    "        print (f'test_data/nari_dynamic_min_trip_card_3_no_resampling_correcred_bug_V2.csv')\n",
    "        with open(f'test_data/nari_dynamic_min_trip_card_3_no_resampling_correcred_bug_V2.csv', 'w') as f:\n",
    "            df.to_csv(f, header=True, index=False)\n",
    "    print ('...done.')"
   ]
  },
  {
   "cell_type": "code",
   "execution_count": 33,
   "metadata": {
    "scrolled": true
   },
   "outputs": [],
   "source": [
    "df_trips = pd.concat(df_trips)"
   ]
  },
  {
   "cell_type": "code",
   "execution_count": 36,
   "metadata": {},
   "outputs": [
    {
     "data": {
      "text/plain": [
       "mmsi        6042858730017\n",
       "C1                  11690\n",
       "C2                   2580\n",
       "C3                   1849\n",
       "C4                   8040\n",
       "#records          9545789\n",
       "dtype: int64"
      ]
     },
     "execution_count": 36,
     "metadata": {},
     "output_type": "execute_result"
    }
   ],
   "source": [
    "df_trips.sum()"
   ]
  }
 ],
 "metadata": {
  "kernelspec": {
   "display_name": "Python 3 (GIS)",
   "language": "python",
   "name": "gis"
  },
  "language_info": {
   "codemirror_mode": {
    "name": "ipython",
    "version": 3
   },
   "file_extension": ".py",
   "mimetype": "text/x-python",
   "name": "python",
   "nbconvert_exporter": "python",
   "pygments_lexer": "ipython3",
   "version": "3.7.2"
  }
 },
 "nbformat": 4,
 "nbformat_minor": 2
}
