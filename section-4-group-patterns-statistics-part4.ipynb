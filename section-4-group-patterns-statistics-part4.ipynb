{
 "cells": [
  {
   "cell_type": "code",
   "execution_count": 1,
   "metadata": {},
   "outputs": [],
   "source": [
    "import pandas as pd\n",
    "import geopandas as gpd\n",
    "import numpy as np\n",
    "from shapely.geometry import Point\n",
    "from matplotlib import pyplot as plt\n",
    "import matplotlib.gridspec as gridspec\n",
    "from random import choice\n",
    "pd.options.mode.chained_assignment = None \n",
    "import configparser\n",
    "import pickle\n",
    "import psycopg2\n",
    "import psycopg2.extras\n",
    "import contextily as ctx"
   ]
  },
  {
   "cell_type": "code",
   "execution_count": 2,
   "metadata": {},
   "outputs": [],
   "source": [
    "import os, sys\n",
    "sys.path.append(os.path.join(os.path.expanduser('~'), 'Documents/Insert-Generic-Name-Here'))\n",
    "# sys.path\n",
    "\n",
    "from lonelyboy.geospatial import plots as gsplt\n",
    "from lonelyboy.geospatial import preprocessing as gspp\n",
    "from lonelyboy.timeseries import lbtimeseries as tspp\n",
    "# from lonelyboy.geospatial import group_patterns as gsgp\n",
    "\n",
    "\n",
    "# from IPython.core.interactiveshell import InteractiveShell\n",
    "# InteractiveShell.ast_node_interactivity = \"all\"\n",
    "import PyQt5\n",
    "import matplotlib.pyplot as plt\n",
    "from matplotlib import style;  style.use('ggplot')\n",
    "\n",
    "style.use('ggplot')\n",
    "\n",
    "get_ipython().magic('matplotlib qt')\n",
    "# get_ipython().magic('matplotlib inline')"
   ]
  },
  {
   "cell_type": "code",
   "execution_count": 3,
   "metadata": {},
   "outputs": [],
   "source": [
    "PLT_IMAGE_WIDTH = 3.748\n",
    "PLT_IMAGE_HEIGHT = PLT_IMAGE_WIDTH/1.618\n",
    "\n",
    "plt.rc('text', usetex=True)\n",
    "plt.rc('font', family='sans-serif', size=8)\n",
    "plt.rcParams['figure.figsize'] = (PLT_IMAGE_WIDTH, PLT_IMAGE_HEIGHT)"
   ]
  },
  {
   "cell_type": "code",
   "execution_count": 4,
   "metadata": {},
   "outputs": [],
   "source": [
    "def tuple_str_to_tuple(_str_):\n",
    "    return tuple(map(int, _str_[1:-1].split(',')))\n",
    "\n",
    "def tuple_str_to_list(_str_):\n",
    "    return list(map(int, _str_[1:-1].split(',')))"
   ]
  },
  {
   "cell_type": "code",
   "execution_count": 5,
   "metadata": {},
   "outputs": [],
   "source": [
    "def filter_patterns_on_vesseltype(df, min_cardinality, vesseltype_mmsis):\n",
    "    filtered_patterns = df.copy()\n",
    "    filtered_patterns.loc[:,'clusters'] = filtered_patterns.apply(lambda x: np.array(tuple_str_to_list(x.clusters))[np.isin(tuple_str_to_list(x.clusters), vesseltype_mmsis)], axis=1)\n",
    "    filtered_patterns = filtered_patterns.loc[filtered_patterns.clusters.apply(len) > min_cardinality]\n",
    "    \n",
    "    return filtered_patterns"
   ]
  },
  {
   "cell_type": "markdown",
   "metadata": {},
   "source": [
    "# Reading Data \n",
    "* ### mode: {Convoys, Flocks}\n",
    "* ### card:5\n",
    "* ### dt:15\n",
    "* ### dist:1852"
   ]
  },
  {
   "cell_type": "code",
   "execution_count": 6,
   "metadata": {
    "scrolled": true
   },
   "outputs": [],
   "source": [
    "mmsi_fisheries = np.load('data/pkl/fisheries_mmsis.npy').flatten()\n",
    "mmsi_cargos = np.load('data/pkl/cargos_mmsis.npy').flatten()\n",
    "mmsi_tankers = np.load('data/pkl/tankers_mmsis.npy').flatten()\n",
    "\n",
    "\n",
    "df_convoys = pd.read_csv('./data/csv/GROUP_PATTERNS/convoys_card_5_dt_15_dist_1852.csv')\n",
    "df_flocks = pd.read_csv('./data/csv/GROUP_PATTERNS/flocks_card_5_dt_15_dist_1852.csv')"
   ]
  },
  {
   "cell_type": "markdown",
   "metadata": {},
   "source": [
    "# **#4** Trip Contribution per Group Pattern (Convoys/Flocks)"
   ]
  },
  {
   "cell_type": "code",
   "execution_count": 7,
   "metadata": {},
   "outputs": [
    {
     "name": "stdout",
     "output_type": "stream",
     "text": [
      "CPU times: user 0 ns, sys: 5.75 ms, total: 5.75 ms\n",
      "Wall time: 174 ms\n"
     ]
    }
   ],
   "source": [
    "%%time\n",
    "host    = 'snf-863583.vm.okeanos.grnet.gr'\n",
    "db_name = 'zenodo'\n",
    "uname   = 'students'\n",
    "pw      = 'infol@bdbl@bs2017'\n",
    "port    = '46132'\n",
    "\n",
    "con = psycopg2.connect(database=db_name, user=uname, password=pw, host=host, port=port)\n",
    "query = 'SELECT * FROM ais_data.dynamic_ships_min_trip_card_3_segmented_12h_resampled_1min_v2 WHERE mmsi IN %s AND datetime BETWEEN \\'%s\\' AND \\'%s\\';'"
   ]
  },
  {
   "cell_type": "code",
   "execution_count": 8,
   "metadata": {},
   "outputs": [],
   "source": [
    "CLASSIFIED_TRIPS = pd.read_csv('data/csv/CLASSIFIED_TRIPS.csv')"
   ]
  },
  {
   "cell_type": "code",
   "execution_count": 9,
   "metadata": {},
   "outputs": [
    {
     "data": {
      "text/html": [
       "<div>\n",
       "<style scoped>\n",
       "    .dataframe tbody tr th:only-of-type {\n",
       "        vertical-align: middle;\n",
       "    }\n",
       "\n",
       "    .dataframe tbody tr th {\n",
       "        vertical-align: top;\n",
       "    }\n",
       "\n",
       "    .dataframe thead th {\n",
       "        text-align: right;\n",
       "    }\n",
       "</style>\n",
       "<table border=\"1\" class=\"dataframe\">\n",
       "  <thead>\n",
       "    <tr style=\"text-align: right;\">\n",
       "      <th></th>\n",
       "      <th>mmsi</th>\n",
       "      <th>trip_id</th>\n",
       "      <th>class</th>\n",
       "    </tr>\n",
       "  </thead>\n",
       "  <tbody>\n",
       "    <tr>\n",
       "      <th>0</th>\n",
       "      <td>205204000</td>\n",
       "      <td>0</td>\n",
       "      <td>3</td>\n",
       "    </tr>\n",
       "    <tr>\n",
       "      <th>1</th>\n",
       "      <td>205204000</td>\n",
       "      <td>1</td>\n",
       "      <td>2</td>\n",
       "    </tr>\n",
       "    <tr>\n",
       "      <th>2</th>\n",
       "      <td>205204000</td>\n",
       "      <td>2</td>\n",
       "      <td>4</td>\n",
       "    </tr>\n",
       "    <tr>\n",
       "      <th>3</th>\n",
       "      <td>205204000</td>\n",
       "      <td>3</td>\n",
       "      <td>4</td>\n",
       "    </tr>\n",
       "    <tr>\n",
       "      <th>4</th>\n",
       "      <td>205204000</td>\n",
       "      <td>4</td>\n",
       "      <td>3</td>\n",
       "    </tr>\n",
       "  </tbody>\n",
       "</table>\n",
       "</div>"
      ],
      "text/plain": [
       "        mmsi  trip_id  class\n",
       "0  205204000        0      3\n",
       "1  205204000        1      2\n",
       "2  205204000        2      4\n",
       "3  205204000        3      4\n",
       "4  205204000        4      3"
      ]
     },
     "execution_count": 9,
     "metadata": {},
     "output_type": "execute_result"
    }
   ],
   "source": [
    "CLASSIFIED_TRIPS.head()"
   ]
  },
  {
   "cell_type": "markdown",
   "metadata": {},
   "source": [
    "# **#4.1** Trip Contribution per CONVOYS/FLOCKS of FISHERIES"
   ]
  },
  {
   "cell_type": "code",
   "execution_count": 11,
   "metadata": {
    "scrolled": true
   },
   "outputs": [],
   "source": [
    "df_convoys_of_fisheries = filter_patterns_on_vesseltype(df_convoys, 5, mmsi_fisheries)\n",
    "df_flocks_of_fisheries = filter_patterns_on_vesseltype(df_flocks, 5, mmsi_fisheries)"
   ]
  },
  {
   "cell_type": "code",
   "execution_count": 13,
   "metadata": {},
   "outputs": [],
   "source": [
    "import multiprocessing\n",
    "from tqdm import tqdm_notebook\n",
    "\n",
    "\n",
    "def get_gp_trip_contributions_parallel(y):\n",
    "    if len(y) == 0:\n",
    "        return pd.DataFrame([])\n",
    "    \n",
    "    print ('Connecting to Database...')\n",
    "    con = psycopg2.connect(database=db_name, user=uname, password=pw, host=host, port=port)\n",
    "    print ('Connected to Database!')\n",
    "    \n",
    "    df_stat4 = []\n",
    "    for row in tqdm_notebook(y.itertuples(), total=len(y)):\n",
    "        df_stat4_row = pd.DataFrame([{'GP':row.clusters, 'C1':0, 'C2':0, 'C3':0, 'C4':0}], columns=['GP', 'C1', 'C2', 'C3', 'C4'])\n",
    "\n",
    "        row_dynamic = pd.read_sql_query(query%(tuple(row.clusters), row.st, row.et), con=con)\n",
    "        row_dynamic_trips = row_dynamic.groupby(['mmsi', 'trip_id']).apply(lambda x: CLASSIFIED_TRIPS.loc[(CLASSIFIED_TRIPS.mmsi == x.name[0]) & (CLASSIFIED_TRIPS.trip_id == x.name[1])]['class'].values).to_frame()\n",
    "\n",
    "        for trip_contr in row_dynamic_trips[0].value_counts().iteritems():\n",
    "            df_stat4_row.iloc[:, trip_contr[0][0]] = trip_contr[1]\n",
    "\n",
    "        df_stat4.append(df_stat4_row)\n",
    "    con.close()\n",
    "#     print (pd.concat(df_stat4))\n",
    "    return pd.concat(df_stat4)\n",
    "\n",
    "\n",
    "def parallelize_dataframe(df_par, func):\n",
    "    num_cores = multiprocessing.cpu_count()-1  #leave one free to not freeze machine\n",
    "    num_partitions = num_cores #number of partitions to split dataframe\n",
    "    \n",
    "    df_split = np.array_split(df_par, num_partitions)\n",
    "    pool = multiprocessing.Pool(num_cores)\n",
    "    \n",
    "    df_res = pd.concat(pool.map(func, df_split))\n",
    "    pool.close()\n",
    "    pool.join()\n",
    "    return df_res"
   ]
  },
  {
   "cell_type": "code",
   "execution_count": 14,
   "metadata": {
    "scrolled": true
   },
   "outputs": [
    {
     "name": "stdout",
     "output_type": "stream",
     "text": [
      "Connecting to Database...\n",
      "Connecting to Database...\n",
      "Connecting to Database...\n",
      "Connecting to Database...\n",
      "Connecting to Database...\n",
      "Connecting to Database...\n",
      "Connecting to Database...\n",
      "Connected to Database!\n",
      "Connected to Database!\n",
      "Connected to Database!\n"
     ]
    },
    {
     "data": {
      "application/vnd.jupyter.widget-view+json": {
       "model_id": "f960ab0a0df64772b684a2b76b2c97e4",
       "version_major": 2,
       "version_minor": 0
      },
      "text/plain": [
       "HBox(children=(IntProgress(value=0, max=416), HTML(value='')))"
      ]
     },
     "metadata": {},
     "output_type": "display_data"
    },
    {
     "name": "stdout",
     "output_type": "stream",
     "text": [
      "Connected to Database!\n"
     ]
    },
    {
     "data": {
      "application/vnd.jupyter.widget-view+json": {
       "model_id": "c632cf259696468b81f7444a90c7ec00",
       "version_major": 2,
       "version_minor": 0
      },
      "text/plain": [
       "HBox(children=(IntProgress(value=0, max=416), HTML(value='')))"
      ]
     },
     "metadata": {},
     "output_type": "display_data"
    },
    {
     "data": {
      "application/vnd.jupyter.widget-view+json": {
       "model_id": "e114430c6eeb4b5fa91fe039d38c8427",
       "version_major": 2,
       "version_minor": 0
      },
      "text/plain": [
       "HBox(children=(IntProgress(value=0, max=415), HTML(value='')))"
      ]
     },
     "metadata": {},
     "output_type": "display_data"
    },
    {
     "name": "stdout",
     "output_type": "stream",
     "text": [
      "Connected to Database!\n",
      "Connected to Database!\n",
      "Connected to Database!\n"
     ]
    },
    {
     "data": {
      "application/vnd.jupyter.widget-view+json": {
       "model_id": "6d23f3962d2745eaa5ee7c3e95f3a861",
       "version_major": 2,
       "version_minor": 0
      },
      "text/plain": [
       "HBox(children=(IntProgress(value=0, max=416), HTML(value='')))"
      ]
     },
     "metadata": {},
     "output_type": "display_data"
    },
    {
     "data": {
      "application/vnd.jupyter.widget-view+json": {
       "model_id": "15f2a4e73295470e9443b68ee6428104",
       "version_major": 2,
       "version_minor": 0
      },
      "text/plain": [
       "HBox(children=(IntProgress(value=0, max=416), HTML(value='')))"
      ]
     },
     "metadata": {},
     "output_type": "display_data"
    },
    {
     "data": {
      "application/vnd.jupyter.widget-view+json": {
       "model_id": "c4549b6e96744b6f91d52540d5ca975d",
       "version_major": 2,
       "version_minor": 0
      },
      "text/plain": [
       "HBox(children=(IntProgress(value=0, max=416), HTML(value='')))"
      ]
     },
     "metadata": {},
     "output_type": "display_data"
    },
    {
     "data": {
      "application/vnd.jupyter.widget-view+json": {
       "model_id": "06a92718aa014096a67d1bce82665382",
       "version_major": 2,
       "version_minor": 0
      },
      "text/plain": [
       "HBox(children=(IntProgress(value=0, max=416), HTML(value='')))"
      ]
     },
     "metadata": {},
     "output_type": "display_data"
    },
    {
     "name": "stdout",
     "output_type": "stream",
     "text": [
      "\n",
      "\n",
      "\n",
      "\n",
      "\n",
      "\n",
      "\n"
     ]
    }
   ],
   "source": [
    "df_convoys_of_fisheries_trip_contributions = parallelize_dataframe(df_convoys_of_fisheries, get_gp_trip_contributions_parallel)"
   ]
  },
  {
   "cell_type": "code",
   "execution_count": 15,
   "metadata": {
    "scrolled": true
   },
   "outputs": [
    {
     "name": "stdout",
     "output_type": "stream",
     "text": [
      "Connecting to Database...\n",
      "Connecting to Database...\n",
      "Connecting to Database...\n",
      "Connecting to Database...\n",
      "Connecting to Database...\n",
      "Connecting to Database...\n",
      "Connecting to Database...\n",
      "Connected to Database!\n",
      "Connected to Database!\n",
      "Connected to Database!\n",
      "Connected to Database!\n",
      "Connected to Database!\n",
      "Connected to Database!\n",
      "Connected to Database!\n"
     ]
    },
    {
     "data": {
      "application/vnd.jupyter.widget-view+json": {
       "model_id": "4e1b6b5895e24604a8af6cb7e2d43925",
       "version_major": 2,
       "version_minor": 0
      },
      "text/plain": [
       "HBox(children=(IntProgress(value=0, max=2985), HTML(value='')))"
      ]
     },
     "metadata": {},
     "output_type": "display_data"
    },
    {
     "data": {
      "application/vnd.jupyter.widget-view+json": {
       "model_id": "50f287eb236845a59e0be530e9b81aad",
       "version_major": 2,
       "version_minor": 0
      },
      "text/plain": [
       "HBox(children=(IntProgress(value=0, max=2985), HTML(value='')))"
      ]
     },
     "metadata": {},
     "output_type": "display_data"
    },
    {
     "data": {
      "application/vnd.jupyter.widget-view+json": {
       "model_id": "1e155c789ced46c69b09ea348b148c6a",
       "version_major": 2,
       "version_minor": 0
      },
      "text/plain": [
       "HBox(children=(IntProgress(value=0, max=2985), HTML(value='')))"
      ]
     },
     "metadata": {},
     "output_type": "display_data"
    },
    {
     "data": {
      "application/vnd.jupyter.widget-view+json": {
       "model_id": "3f49a8c4e9b94cda99cd9f87db1dd5ea",
       "version_major": 2,
       "version_minor": 0
      },
      "text/plain": [
       "HBox(children=(IntProgress(value=0, max=2984), HTML(value='')))"
      ]
     },
     "metadata": {},
     "output_type": "display_data"
    },
    {
     "data": {
      "application/vnd.jupyter.widget-view+json": {
       "model_id": "9ce287aa64bb450099f34f511ebb4172",
       "version_major": 2,
       "version_minor": 0
      },
      "text/plain": [
       "HBox(children=(IntProgress(value=0, max=2984), HTML(value='')))"
      ]
     },
     "metadata": {},
     "output_type": "display_data"
    },
    {
     "data": {
      "application/vnd.jupyter.widget-view+json": {
       "model_id": "8af434c0e8034467ba2d220f89c8350f",
       "version_major": 2,
       "version_minor": 0
      },
      "text/plain": [
       "HBox(children=(IntProgress(value=0, max=2984), HTML(value='')))"
      ]
     },
     "metadata": {},
     "output_type": "display_data"
    },
    {
     "data": {
      "application/vnd.jupyter.widget-view+json": {
       "model_id": "54e174a9692b4737b95876941870da48",
       "version_major": 2,
       "version_minor": 0
      },
      "text/plain": [
       "HBox(children=(IntProgress(value=0, max=2985), HTML(value='')))"
      ]
     },
     "metadata": {},
     "output_type": "display_data"
    },
    {
     "name": "stdout",
     "output_type": "stream",
     "text": [
      "\n",
      "\n",
      "\n",
      "\n",
      "\n",
      "\n",
      "\n"
     ]
    }
   ],
   "source": [
    "df_flocks_of_fisheries_trip_contributions = parallelize_dataframe(df_flocks_of_fisheries, get_gp_trip_contributions_parallel)"
   ]
  },
  {
   "cell_type": "code",
   "execution_count": 27,
   "metadata": {},
   "outputs": [],
   "source": [
    "df_convoys_of_fisheries_trip_contributions.to_csv('./data/csv/stats/GP_STATS/convoys_of_fisheries_trip_contributions.csv', index=False, header=True)\n",
    "df_flocks_of_fisheries_trip_contributions.to_csv('./data/csv/stats/GP_STATS/flocks_of_fisheries_trip_contributions.csv', index=False, header=True)"
   ]
  },
  {
   "cell_type": "markdown",
   "metadata": {},
   "source": [
    "# **#4.2** Trip Contribution per CONVOYS/FLOCKS of CARGOS"
   ]
  },
  {
   "cell_type": "code",
   "execution_count": 28,
   "metadata": {
    "scrolled": true
   },
   "outputs": [],
   "source": [
    "df_convoys_of_cargos = filter_patterns_on_vesseltype(df_convoys, 5, mmsi_cargos)\n",
    "df_flocks_of_cargos = filter_patterns_on_vesseltype(df_flocks, 5, mmsi_cargos)"
   ]
  },
  {
   "cell_type": "code",
   "execution_count": 36,
   "metadata": {
    "scrolled": true
   },
   "outputs": [
    {
     "name": "stdout",
     "output_type": "stream",
     "text": [
      "Connecting to Database...\n",
      "Connecting to Database...\n",
      "Connecting to Database...\n",
      "Connected to Database!\n",
      "Connected to Database!\n",
      "Connected to Database!\n"
     ]
    },
    {
     "data": {
      "application/vnd.jupyter.widget-view+json": {
       "model_id": "",
       "version_major": 2,
       "version_minor": 0
      },
      "text/plain": [
       "HBox(children=(IntProgress(value=0, max=1), HTML(value='')))"
      ]
     },
     "metadata": {},
     "output_type": "display_data"
    },
    {
     "data": {
      "application/vnd.jupyter.widget-view+json": {
       "model_id": "",
       "version_major": 2,
       "version_minor": 0
      },
      "text/plain": [
       "HBox(children=(IntProgress(value=0, max=1), HTML(value='')))"
      ]
     },
     "metadata": {},
     "output_type": "display_data"
    },
    {
     "data": {
      "application/vnd.jupyter.widget-view+json": {
       "model_id": "",
       "version_major": 2,
       "version_minor": 0
      },
      "text/plain": [
       "HBox(children=(IntProgress(value=0, max=1), HTML(value='')))"
      ]
     },
     "metadata": {},
     "output_type": "display_data"
    },
    {
     "name": "stdout",
     "output_type": "stream",
     "text": [
      "\n",
      "\n",
      "\n"
     ]
    }
   ],
   "source": [
    "df_convoys_of_cargos_trip_contributions = parallelize_dataframe(df_convoys_of_cargos, get_gp_trip_contributions_parallel)"
   ]
  },
  {
   "cell_type": "code",
   "execution_count": 38,
   "metadata": {
    "scrolled": true
   },
   "outputs": [],
   "source": [
    "df_flocks_of_cargos_trip_contributions = parallelize_dataframe(df_flocks_of_cargos, get_gp_trip_contributions_parallel)"
   ]
  },
  {
   "cell_type": "code",
   "execution_count": 43,
   "metadata": {},
   "outputs": [],
   "source": [
    "df_convoys_of_cargos_trip_contributions.to_csv('./data/csv/stats/GP_STATS/convoys_of_cargos_trip_contributions.csv', index=False, header=True)\n",
    "df_flocks_of_cargos_trip_contributions.to_csv('./data/csv/stats/GP_STATS/flocks_of_cargos_trip_contributions.csv', index=False, header=True)"
   ]
  },
  {
   "cell_type": "markdown",
   "metadata": {},
   "source": [
    "# **#4.3** Trip Contribution per CONVOYS/FLOCKS of TANKERS"
   ]
  },
  {
   "cell_type": "code",
   "execution_count": 44,
   "metadata": {
    "scrolled": true
   },
   "outputs": [],
   "source": [
    "df_convoys_of_tankers = filter_patterns_on_vesseltype(df_convoys, 5, mmsi_tankers)\n",
    "df_flocks_of_tankers = filter_patterns_on_vesseltype(df_flocks, 5, mmsi_tankers)"
   ]
  },
  {
   "cell_type": "code",
   "execution_count": 45,
   "metadata": {
    "scrolled": true
   },
   "outputs": [],
   "source": [
    "df_convoys_of_tankers_trip_contributions = parallelize_dataframe(df_convoys_of_tankers, get_gp_trip_contributions_parallel)"
   ]
  },
  {
   "cell_type": "code",
   "execution_count": 46,
   "metadata": {
    "scrolled": true
   },
   "outputs": [],
   "source": [
    "df_flocks_of_tankers_trip_contributions = parallelize_dataframe(df_flocks_of_tankers, get_gp_trip_contributions_parallel)"
   ]
  },
  {
   "cell_type": "code",
   "execution_count": 47,
   "metadata": {},
   "outputs": [],
   "source": [
    "df_convoys_of_tankers_trip_contributions.to_csv('./data/csv/stats/GP_STATS/convoys_of_tankers_trip_contributions.csv', index=False, header=True)\n",
    "df_convoys_of_tankers_trip_contributions.to_csv('./data/csv/stats/GP_STATS/flocks_of_tankers_trip_contributions.csv', index=False, header=True)"
   ]
  },
  {
   "cell_type": "markdown",
   "metadata": {},
   "source": [
    "# **#4.3** Pie Charts"
   ]
  },
  {
   "cell_type": "code",
   "execution_count": 60,
   "metadata": {},
   "outputs": [
    {
     "name": "stdout",
     "output_type": "stream",
     "text": [
      "cargos have 0 patterns\n",
      "tankers have 0 patterns\n"
     ]
    }
   ],
   "source": [
    "explode = (0.04, 0, 0, 0)  \n",
    "cmap=plt.cm.tab20c\n",
    "colors = [cmap(i) for i in range(4)]\n",
    "\n",
    "for ves_type, df_F in zip(['fisheries', 'cargos', 'tankers'], [df_flocks_of_fisheries_trip_contributions, df_flocks_of_cargos_trip_contributions, df_flocks_of_tankers_trip_contributions]):\n",
    "    if (len(df_F) == 0):\n",
    "        print (f'{ves_type} have 0 patterns')\n",
    "        continue\n",
    "    \n",
    "    plt.figure()\n",
    "    ax = df_F[[f'C{i}' for i in range(1,5)]].sum(axis=0).plot.pie(y='', \n",
    "                       figsize=(PLT_IMAGE_WIDTH, PLT_IMAGE_HEIGHT), \n",
    "                       explode=explode,\n",
    "                       startangle=0,\n",
    "                       autopct='%1.1f\\%%', \n",
    "                       pctdistance=0.67,\n",
    "                       colors=colors,\n",
    "                       legend=False)\n",
    "    ax.axis('equal')\n",
    "\n",
    "    for text in ax.texts:\n",
    "        text.set_fontsize(8)\n",
    "        if ' ' in text.get_text():\n",
    "            text.set_color('grey')\n",
    "        if '0.0\\%' == text.get_text():\n",
    "            text.set_text('')\n",
    "\n",
    "    plt.ylabel('')\n",
    "    plt.title(f'Cliques of {ves_type} trip contribution')\n",
    "    plt.savefig(f'./gp_plots_V5/Flocks_of_{ves_type}_Trip_Contribution.pdf', dpi=350, bbox_inches='tight')"
   ]
  },
  {
   "cell_type": "code",
   "execution_count": 61,
   "metadata": {},
   "outputs": [
    {
     "name": "stdout",
     "output_type": "stream",
     "text": [
      "tankers have 0 patterns\n"
     ]
    }
   ],
   "source": [
    "explode = (0.04, 0, 0, 0)  \n",
    "\n",
    "for ves_type, df_C in zip(['fisheries', 'cargos', 'tankers'], [df_convoys_of_fisheries_trip_contributions, df_convoys_of_cargos_trip_contributions, df_convoys_of_tankers_trip_contributions]):\n",
    "    if (len(df_C) == 0):\n",
    "        print (f'{ves_type} have 0 patterns')\n",
    "        continue\n",
    "        \n",
    "    plt.figure()\n",
    "    ax = df_C[[f'C{i}' for i in range(1,5)]].sum(axis=0).plot.pie(y='', \n",
    "                       figsize=(PLT_IMAGE_WIDTH, PLT_IMAGE_HEIGHT), \n",
    "                       explode=explode,\n",
    "                       startangle=0,\n",
    "                       autopct='%1.1f\\%%', \n",
    "                       pctdistance=0.67,\n",
    "                       colors=colors,\n",
    "                       legend=False)\n",
    "    ax.axis('equal')\n",
    "\n",
    "    for text in ax.texts:\n",
    "        text.set_fontsize(8)\n",
    "        if ' ' in text.get_text():\n",
    "            text.set_color('grey')\n",
    "        if '0.0\\%' == text.get_text():\n",
    "            text.set_text('')\n",
    "            \n",
    "    plt.ylabel('')\n",
    "    plt.title(f'MCS of {ves_type} trip contribution')\n",
    "    plt.savefig(f'./gp_plots_V5/Convoys_of_{ves_type}_Trip_Contribution.pdf', dpi=350, bbox_inches='tight')"
   ]
  },
  {
   "cell_type": "code",
   "execution_count": null,
   "metadata": {},
   "outputs": [],
   "source": []
  },
  {
   "cell_type": "code",
   "execution_count": null,
   "metadata": {},
   "outputs": [],
   "source": []
  },
  {
   "cell_type": "code",
   "execution_count": 32,
   "metadata": {},
   "outputs": [],
   "source": [
    "df_convoys_of_fisheries_trip_contributions = pd.read_csv('./data/csv/stats/GP_STATS/convoys_of_fisheries_trip_contributions.csv')\n",
    "df_flocks_of_fisheries_trip_contributions = pd.read_csv('./data/csv/stats/GP_STATS/flocks_of_fisheries_trip_contributions.csv')\n",
    "\n",
    "df_convoys_of_cargos_trip_contributions = pd.read_csv('./data/csv/stats/GP_STATS/convoys_of_cargos_trip_contributions.csv')\n",
    "try:\n",
    "    df_flocks_of_cargos_trip_contributions = pd.read_csv('./data/csv/stats/GP_STATS/flocks_of_cargos_trip_contributions.csv')\n",
    "except:\n",
    "    df_flocks_of_cargos_trip_contributions = pd.DataFrame()\n",
    "\n",
    "try:\n",
    "    df_convoys_of_tankers_trip_contributions = pd.read_csv('./data/csv/stats/GP_STATS/convoys_of_tankers_trip_contributions.csv')\n",
    "except:\n",
    "    df_convoys_of_tankers_trip_contributions = pd.DataFrame()\n",
    "\n",
    "try:\n",
    "    df_flocks_of_tankers_trip_contributions = pd.read_csv('./data/csv/stats/GP_STATS/flocks_of_tankers_trip_contributions.csv')\n",
    "except:\n",
    "    df_flocks_of_tankers_trip_contributions = pd.DataFrame()"
   ]
  },
  {
   "cell_type": "code",
   "execution_count": 44,
   "metadata": {},
   "outputs": [
    {
     "data": {
      "text/plain": [
       "0    0\n",
       "dtype: int64"
      ]
     },
     "execution_count": 44,
     "metadata": {},
     "output_type": "execute_result"
    }
   ],
   "source": [
    "# df_convoys_of_fisheries_trip_contributions.sum(axis=0)\n",
    "# len(df_convoys_of_fisheries_trip_contributions)\n",
    "\n",
    "# df_flocks_of_fisheries_trip_contributions.sum(axis=0)\n",
    "# len(df_flocks_of_fisheries_trip_contributions)\n",
    "\n",
    "\n",
    "# df_convoys_of_cargos_trip_contributions.sum(axis=0)\n",
    "# len(df_convoys_of_cargos_trip_contributions)\n",
    "\n",
    "# df_flocks_of_cargos_trip_contributions.sum(axis=0)\n",
    "# len(df_flocks_of_cargos_trip_contributions)\n",
    "\n",
    "\n",
    "# df_convoys_of_tankers_trip_contributions.sum(axis=0)\n",
    "# len(df_convoys_of_tankers_trip_contributions)\n",
    "\n",
    "# df_flocks_of_tankers_trip_contributions.sum(axis=0)\n",
    "# len(df_flocks_of_tankers_trip_contributions)"
   ]
  }
 ],
 "metadata": {
  "kernelspec": {
   "display_name": "Python 3 (GIS)",
   "language": "python",
   "name": "gis"
  },
  "language_info": {
   "codemirror_mode": {
    "name": "ipython",
    "version": 3
   },
   "file_extension": ".py",
   "mimetype": "text/x-python",
   "name": "python",
   "nbconvert_exporter": "python",
   "pygments_lexer": "ipython3",
   "version": "3.7.2"
  }
 },
 "nbformat": 4,
 "nbformat_minor": 2
}
